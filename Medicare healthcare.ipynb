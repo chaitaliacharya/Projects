{
 "cells": [
  {
   "cell_type": "markdown",
   "metadata": {},
   "source": [
    "### Medicare"
   ]
  },
  {
   "cell_type": "markdown",
   "metadata": {},
   "source": [
    "#### Medicare is the USA federal government program that provides health care coverage (health insurance) \n",
    "\n",
    "* If you are 65+ \n",
    "* Under 65 and receiving Social Security Disability Insurance (SSDI) for a certain amount of time\n",
    "* Under 65 and with End-Stage Renal Disease (ESRD)."
   ]
  },
  {
   "cell_type": "markdown",
   "metadata": {},
   "source": [
    "#### Who funds  Medicare ?\n",
    "* The US Hospital Insurance (HI) Trust Fund\n",
    "* Supplementary Medical Insurance (SMI) Trust Fund"
   ]
  },
  {
   "cell_type": "markdown",
   "metadata": {},
   "source": [
    "#### What does Medicare pay for?\n",
    "* Medicare Part A (Hospital Insurance)   benefits , \n",
    "    * like inpatient hospital care\n",
    "    * skilled nursing facility (snf) care \n",
    "    * home health care \n",
    "    * hospice care\n",
    "* Medicare Part B like benefits cover certain non-hospital medical expenses like doctors’ office visits,\n",
    "  * blood test\n",
    "  * X-rays\n",
    "  * diabetic screenings and supplies\n",
    "  * outpatient hospital care.\n",
    "* Medicare Part D for precription drugs"
   ]
  },
  {
   "cell_type": "markdown",
   "metadata": {},
   "source": [
    "#### Data Source\n",
    "* https://data.medicare.gov/"
   ]
  },
  {
   "cell_type": "markdown",
   "metadata": {},
   "source": [
    "#### Data"
   ]
  },
  {
   "cell_type": "code",
   "execution_count": 100,
   "metadata": {},
   "outputs": [
    {
     "data": {
      "text/html": [
       "        <script type=\"text/javascript\">\n",
       "        window.PlotlyConfig = {MathJaxConfig: 'local'};\n",
       "        if (window.MathJax) {MathJax.Hub.Config({SVG: {font: \"STIX-Web\"}});}\n",
       "        if (typeof require !== 'undefined') {\n",
       "        require.undef(\"plotly\");\n",
       "        requirejs.config({\n",
       "            paths: {\n",
       "                'plotly': ['https://cdn.plot.ly/plotly-latest.min']\n",
       "            }\n",
       "        });\n",
       "        require(['plotly'], function(Plotly) {\n",
       "            window._Plotly = Plotly;\n",
       "        });\n",
       "        }\n",
       "        </script>\n",
       "        "
      ]
     },
     "metadata": {},
     "output_type": "display_data"
    }
   ],
   "source": [
    "import pandas as pd\n",
    "import matplotlib.pyplot as plt\n",
    "import seaborn as sns\n",
    "import numpy as np\n",
    "import plotly.express as px\n",
    "from plotly.offline import init_notebook_mode, iplot\n",
    "init_notebook_mode(connected=True)  "
   ]
  },
  {
   "cell_type": "code",
   "execution_count": 2,
   "metadata": {},
   "outputs": [],
   "source": [
    "medicare = pd.read_csv('Medicare Hospital Spending by Claim.csv')"
   ]
  },
  {
   "cell_type": "code",
   "execution_count": 3,
   "metadata": {},
   "outputs": [
    {
     "data": {
      "text/html": [
       "<div>\n",
       "<style scoped>\n",
       "    .dataframe tbody tr th:only-of-type {\n",
       "        vertical-align: middle;\n",
       "    }\n",
       "\n",
       "    .dataframe tbody tr th {\n",
       "        vertical-align: top;\n",
       "    }\n",
       "\n",
       "    .dataframe thead th {\n",
       "        text-align: right;\n",
       "    }\n",
       "</style>\n",
       "<table border=\"1\" class=\"dataframe\">\n",
       "  <thead>\n",
       "    <tr style=\"text-align: right;\">\n",
       "      <th></th>\n",
       "      <th>Facility Name</th>\n",
       "      <th>Facility ID</th>\n",
       "      <th>State</th>\n",
       "      <th>Period</th>\n",
       "      <th>Claim Type</th>\n",
       "      <th>Avg Spndg Per EP Hospital</th>\n",
       "      <th>Avg Spndg Per EP State</th>\n",
       "      <th>Avg Spndg Per EP National</th>\n",
       "      <th>Percent of Spndg Hospital</th>\n",
       "      <th>Percent of Spndg State</th>\n",
       "      <th>Percent of Spndg National</th>\n",
       "      <th>Start Date</th>\n",
       "      <th>End Date</th>\n",
       "    </tr>\n",
       "  </thead>\n",
       "  <tbody>\n",
       "    <tr>\n",
       "      <th>0</th>\n",
       "      <td>SOUTHEAST ALABAMA MEDICAL CENTER</td>\n",
       "      <td>10001</td>\n",
       "      <td>AL</td>\n",
       "      <td>1 to 3 days Prior to Index Hospital Admission</td>\n",
       "      <td>Home Health Agency</td>\n",
       "      <td>21</td>\n",
       "      <td>16</td>\n",
       "      <td>13</td>\n",
       "      <td>0.09%</td>\n",
       "      <td>0.08%</td>\n",
       "      <td>0.06%</td>\n",
       "      <td>01/01/2018</td>\n",
       "      <td>12/31/2018</td>\n",
       "    </tr>\n",
       "    <tr>\n",
       "      <th>1</th>\n",
       "      <td>SOUTHEAST ALABAMA MEDICAL CENTER</td>\n",
       "      <td>10001</td>\n",
       "      <td>AL</td>\n",
       "      <td>1 to 3 days Prior to Index Hospital Admission</td>\n",
       "      <td>Hospice</td>\n",
       "      <td>2</td>\n",
       "      <td>1</td>\n",
       "      <td>1</td>\n",
       "      <td>0.01%</td>\n",
       "      <td>0.00%</td>\n",
       "      <td>0.00%</td>\n",
       "      <td>01/01/2018</td>\n",
       "      <td>12/31/2018</td>\n",
       "    </tr>\n",
       "    <tr>\n",
       "      <th>2</th>\n",
       "      <td>SOUTHEAST ALABAMA MEDICAL CENTER</td>\n",
       "      <td>10001</td>\n",
       "      <td>AL</td>\n",
       "      <td>1 to 3 days Prior to Index Hospital Admission</td>\n",
       "      <td>Inpatient</td>\n",
       "      <td>6</td>\n",
       "      <td>7</td>\n",
       "      <td>7</td>\n",
       "      <td>0.03%</td>\n",
       "      <td>0.04%</td>\n",
       "      <td>0.03%</td>\n",
       "      <td>01/01/2018</td>\n",
       "      <td>12/31/2018</td>\n",
       "    </tr>\n",
       "    <tr>\n",
       "      <th>3</th>\n",
       "      <td>SOUTHEAST ALABAMA MEDICAL CENTER</td>\n",
       "      <td>10001</td>\n",
       "      <td>AL</td>\n",
       "      <td>1 to 3 days Prior to Index Hospital Admission</td>\n",
       "      <td>Outpatient</td>\n",
       "      <td>219</td>\n",
       "      <td>108</td>\n",
       "      <td>152</td>\n",
       "      <td>0.95%</td>\n",
       "      <td>0.52%</td>\n",
       "      <td>0.70%</td>\n",
       "      <td>01/01/2018</td>\n",
       "      <td>12/31/2018</td>\n",
       "    </tr>\n",
       "    <tr>\n",
       "      <th>4</th>\n",
       "      <td>SOUTHEAST ALABAMA MEDICAL CENTER</td>\n",
       "      <td>10001</td>\n",
       "      <td>AL</td>\n",
       "      <td>1 to 3 days Prior to Index Hospital Admission</td>\n",
       "      <td>Skilled Nursing Facility</td>\n",
       "      <td>1</td>\n",
       "      <td>2</td>\n",
       "      <td>2</td>\n",
       "      <td>0.00%</td>\n",
       "      <td>0.01%</td>\n",
       "      <td>0.01%</td>\n",
       "      <td>01/01/2018</td>\n",
       "      <td>12/31/2018</td>\n",
       "    </tr>\n",
       "  </tbody>\n",
       "</table>\n",
       "</div>"
      ],
      "text/plain": [
       "                      Facility Name  Facility ID State  \\\n",
       "0  SOUTHEAST ALABAMA MEDICAL CENTER        10001    AL   \n",
       "1  SOUTHEAST ALABAMA MEDICAL CENTER        10001    AL   \n",
       "2  SOUTHEAST ALABAMA MEDICAL CENTER        10001    AL   \n",
       "3  SOUTHEAST ALABAMA MEDICAL CENTER        10001    AL   \n",
       "4  SOUTHEAST ALABAMA MEDICAL CENTER        10001    AL   \n",
       "\n",
       "                                          Period                Claim Type  \\\n",
       "0  1 to 3 days Prior to Index Hospital Admission        Home Health Agency   \n",
       "1  1 to 3 days Prior to Index Hospital Admission                   Hospice   \n",
       "2  1 to 3 days Prior to Index Hospital Admission                 Inpatient   \n",
       "3  1 to 3 days Prior to Index Hospital Admission                Outpatient   \n",
       "4  1 to 3 days Prior to Index Hospital Admission  Skilled Nursing Facility   \n",
       "\n",
       "   Avg Spndg Per EP Hospital  Avg Spndg Per EP State  \\\n",
       "0                         21                      16   \n",
       "1                          2                       1   \n",
       "2                          6                       7   \n",
       "3                        219                     108   \n",
       "4                          1                       2   \n",
       "\n",
       "   Avg Spndg Per EP National Percent of Spndg Hospital Percent of Spndg State  \\\n",
       "0                         13                     0.09%                  0.08%   \n",
       "1                          1                     0.01%                  0.00%   \n",
       "2                          7                     0.03%                  0.04%   \n",
       "3                        152                     0.95%                  0.52%   \n",
       "4                          2                     0.00%                  0.01%   \n",
       "\n",
       "  Percent of Spndg National  Start Date    End Date  \n",
       "0                     0.06%  01/01/2018  12/31/2018  \n",
       "1                     0.00%  01/01/2018  12/31/2018  \n",
       "2                     0.03%  01/01/2018  12/31/2018  \n",
       "3                     0.70%  01/01/2018  12/31/2018  \n",
       "4                     0.01%  01/01/2018  12/31/2018  "
      ]
     },
     "execution_count": 3,
     "metadata": {},
     "output_type": "execute_result"
    }
   ],
   "source": [
    "medicare.head()"
   ]
  },
  {
   "cell_type": "markdown",
   "metadata": {},
   "source": [
    "#### Problem Statement Created by looking at the data\n",
    "* How much is spent over Inpatient and Outpatient services by the state , nation and hospital\n",
    "* Statewise spending done on Nursing facility\n",
    "* Analysis of spending done for medical facilities\n",
    "* For which period is the spending done more \n",
    "* Comparison of spending done for Inpatient VS Spending for Outpatient\n",
    "* Grouping the spending into buckets which will tell us which medical facility belongs to which bucket (need to look into it)\n",
    "\n",
    "These problem statements can help Medicare people to get an idea about how the spending is happening"
   ]
  },
  {
   "cell_type": "markdown",
   "metadata": {},
   "source": [
    "#### Data description"
   ]
  },
  {
   "cell_type": "code",
   "execution_count": 4,
   "metadata": {},
   "outputs": [
    {
     "name": "stdout",
     "output_type": "stream",
     "text": [
      "<class 'pandas.core.frame.DataFrame'>\n",
      "RangeIndex: 67826 entries, 0 to 67825\n",
      "Data columns (total 13 columns):\n",
      "Facility Name                67826 non-null object\n",
      "Facility ID                  67826 non-null int64\n",
      "State                        67826 non-null object\n",
      "Period                       67826 non-null object\n",
      "Claim Type                   67826 non-null object\n",
      "Avg Spndg Per EP Hospital    67826 non-null int64\n",
      "Avg Spndg Per EP State       67826 non-null int64\n",
      "Avg Spndg Per EP National    67826 non-null int64\n",
      "Percent of Spndg Hospital    67826 non-null object\n",
      "Percent of Spndg State       67826 non-null object\n",
      "Percent of Spndg National    67826 non-null object\n",
      "Start Date                   67826 non-null object\n",
      "End Date                     67826 non-null object\n",
      "dtypes: int64(4), object(9)\n",
      "memory usage: 6.7+ MB\n"
     ]
    }
   ],
   "source": [
    "medicare.info()"
   ]
  },
  {
   "cell_type": "code",
   "execution_count": 5,
   "metadata": {},
   "outputs": [
    {
     "data": {
      "text/html": [
       "<div>\n",
       "<style scoped>\n",
       "    .dataframe tbody tr th:only-of-type {\n",
       "        vertical-align: middle;\n",
       "    }\n",
       "\n",
       "    .dataframe tbody tr th {\n",
       "        vertical-align: top;\n",
       "    }\n",
       "\n",
       "    .dataframe thead th {\n",
       "        text-align: right;\n",
       "    }\n",
       "</style>\n",
       "<table border=\"1\" class=\"dataframe\">\n",
       "  <thead>\n",
       "    <tr style=\"text-align: right;\">\n",
       "      <th></th>\n",
       "      <th>Facility ID</th>\n",
       "      <th>Avg Spndg Per EP Hospital</th>\n",
       "      <th>Avg Spndg Per EP State</th>\n",
       "      <th>Avg Spndg Per EP National</th>\n",
       "    </tr>\n",
       "  </thead>\n",
       "  <tbody>\n",
       "    <tr>\n",
       "      <th>count</th>\n",
       "      <td>67826.000000</td>\n",
       "      <td>67826.000000</td>\n",
       "      <td>67826.000000</td>\n",
       "      <td>67826.000000</td>\n",
       "    </tr>\n",
       "    <tr>\n",
       "      <th>mean</th>\n",
       "      <td>260615.397665</td>\n",
       "      <td>1823.576682</td>\n",
       "      <td>1970.594448</td>\n",
       "      <td>1967.909091</td>\n",
       "    </tr>\n",
       "    <tr>\n",
       "      <th>std</th>\n",
       "      <td>161163.032969</td>\n",
       "      <td>4571.752066</td>\n",
       "      <td>4833.027866</td>\n",
       "      <td>4816.227247</td>\n",
       "    </tr>\n",
       "    <tr>\n",
       "      <th>min</th>\n",
       "      <td>10001.000000</td>\n",
       "      <td>0.000000</td>\n",
       "      <td>0.000000</td>\n",
       "      <td>0.000000</td>\n",
       "    </tr>\n",
       "    <tr>\n",
       "      <th>25%</th>\n",
       "      <td>110076.000000</td>\n",
       "      <td>0.000000</td>\n",
       "      <td>2.000000</td>\n",
       "      <td>2.000000</td>\n",
       "    </tr>\n",
       "    <tr>\n",
       "      <th>50%</th>\n",
       "      <td>250104.000000</td>\n",
       "      <td>68.000000</td>\n",
       "      <td>98.000000</td>\n",
       "      <td>119.000000</td>\n",
       "    </tr>\n",
       "    <tr>\n",
       "      <th>75%</th>\n",
       "      <td>390117.000000</td>\n",
       "      <td>1012.000000</td>\n",
       "      <td>1174.000000</td>\n",
       "      <td>1174.000000</td>\n",
       "    </tr>\n",
       "    <tr>\n",
       "      <th>max</th>\n",
       "      <td>670122.000000</td>\n",
       "      <td>41637.000000</td>\n",
       "      <td>23343.000000</td>\n",
       "      <td>21646.000000</td>\n",
       "    </tr>\n",
       "  </tbody>\n",
       "</table>\n",
       "</div>"
      ],
      "text/plain": [
       "         Facility ID  Avg Spndg Per EP Hospital  Avg Spndg Per EP State  \\\n",
       "count   67826.000000               67826.000000            67826.000000   \n",
       "mean   260615.397665                1823.576682             1970.594448   \n",
       "std    161163.032969                4571.752066             4833.027866   \n",
       "min     10001.000000                   0.000000                0.000000   \n",
       "25%    110076.000000                   0.000000                2.000000   \n",
       "50%    250104.000000                  68.000000               98.000000   \n",
       "75%    390117.000000                1012.000000             1174.000000   \n",
       "max    670122.000000               41637.000000            23343.000000   \n",
       "\n",
       "       Avg Spndg Per EP National  \n",
       "count               67826.000000  \n",
       "mean                 1967.909091  \n",
       "std                  4816.227247  \n",
       "min                     0.000000  \n",
       "25%                     2.000000  \n",
       "50%                   119.000000  \n",
       "75%                  1174.000000  \n",
       "max                 21646.000000  "
      ]
     },
     "execution_count": 5,
     "metadata": {},
     "output_type": "execute_result"
    }
   ],
   "source": [
    "medicare.describe()"
   ]
  },
  {
   "cell_type": "markdown",
   "metadata": {},
   "source": [
    "##### There are no null values"
   ]
  },
  {
   "cell_type": "markdown",
   "metadata": {},
   "source": [
    "#### What are the different claim periods  that we have in our data?"
   ]
  },
  {
   "cell_type": "code",
   "execution_count": 6,
   "metadata": {},
   "outputs": [
    {
     "data": {
      "text/plain": [
       "1 through 30 days After Discharge from Index Hospital Admission    21581\n",
       "During Index Hospital Admission                                    21581\n",
       "1 to 3 days Prior to Index Hospital Admission                      21581\n",
       "Complete Episode                                                    3083\n",
       "Name: Period, dtype: int64"
      ]
     },
     "execution_count": 6,
     "metadata": {},
     "output_type": "execute_result"
    }
   ],
   "source": [
    "medicare['Period'].value_counts()"
   ]
  },
  {
   "cell_type": "markdown",
   "metadata": {},
   "source": [
    "#### Let's give the claim periods some easy names"
   ]
  },
  {
   "cell_type": "code",
   "execution_count": 7,
   "metadata": {},
   "outputs": [],
   "source": [
    "def changing_period_names(previous_name):\n",
    "    if previous_name == '1 through 30 days After Discharge from Index Hospital Admission':\n",
    "        return 'After Discharge'\n",
    "    elif previous_name == 'During Index Hospital Admission':\n",
    "        return 'During Hospital Admission'\n",
    "    elif previous_name =='1 to 3 days Prior to Index Hospital Admission':\n",
    "        return 'Prior Hospital Admission'\n",
    "    elif previous_name == 'Complete Episode':\n",
    "        return 'Overall'\n",
    "    \n",
    "medicare['Period'] = medicare['Period'].map(changing_period_names)"
   ]
  },
  {
   "cell_type": "code",
   "execution_count": 8,
   "metadata": {},
   "outputs": [
    {
     "data": {
      "text/plain": [
       "Prior Hospital Admission     21581\n",
       "During Hospital Admission    21581\n",
       "After Discharge              21581\n",
       "Overall                       3083\n",
       "Name: Period, dtype: int64"
      ]
     },
     "execution_count": 8,
     "metadata": {},
     "output_type": "execute_result"
    }
   ],
   "source": [
    "medicare['Period'].value_counts()"
   ]
  },
  {
   "cell_type": "markdown",
   "metadata": {},
   "source": [
    "#### What kind of claims do we have for medicare?"
   ]
  },
  {
   "cell_type": "code",
   "execution_count": 9,
   "metadata": {},
   "outputs": [
    {
     "data": {
      "text/plain": [
       "Inpatient                    9249\n",
       "Carrier                      9249\n",
       "Durable Medical Equipment    9249\n",
       "Skilled Nursing Facility     9249\n",
       "Outpatient                   9249\n",
       "Hospice                      9249\n",
       "Home Health Agency           9249\n",
       "Total                        3083\n",
       "Name: Claim Type, dtype: int64"
      ]
     },
     "execution_count": 9,
     "metadata": {},
     "output_type": "execute_result"
    }
   ],
   "source": [
    "medicare['Claim Type'].value_counts()"
   ]
  },
  {
   "cell_type": "markdown",
   "metadata": {},
   "source": [
    "#### Excatly how many Facilty centers are we having in our data for medicare"
   ]
  },
  {
   "cell_type": "code",
   "execution_count": 10,
   "metadata": {},
   "outputs": [
    {
     "data": {
      "text/plain": [
       "3083"
      ]
     },
     "execution_count": 10,
     "metadata": {},
     "output_type": "execute_result"
    }
   ],
   "source": [
    "medicare['Facility ID'].nunique()"
   ]
  },
  {
   "cell_type": "markdown",
   "metadata": {},
   "source": [
    "#### Percent spnding hospital, Percent of Spndg State, Percent of Spndg National should be in a numerical format"
   ]
  },
  {
   "cell_type": "code",
   "execution_count": 11,
   "metadata": {},
   "outputs": [],
   "source": [
    "import re\n",
    "#Removing the % symbol\n",
    "medicare['Percent of Spndg Hospital'] = medicare['Percent of Spndg Hospital'].apply(lambda x: re.sub('%', '', x))\n",
    "medicare['Percent of Spndg State'] = medicare['Percent of Spndg State'].apply(lambda x: re.sub('%', '', x))\n",
    "medicare['Percent of Spndg National'] = medicare['Percent of Spndg National'].apply(lambda x: re.sub('%', '', x))"
   ]
  },
  {
   "cell_type": "code",
   "execution_count": 12,
   "metadata": {},
   "outputs": [],
   "source": [
    "#Converting into float\n",
    "medicare['Percent of Spndg Hospital'] = medicare['Percent of Spndg Hospital'].apply(lambda x: float(x))\n",
    "medicare['Percent of Spndg State'] = medicare['Percent of Spndg State'].apply(lambda x: float(x))\n",
    "medicare['Percent of Spndg National'] = medicare['Percent of Spndg National'].apply(lambda x: float(x))"
   ]
  },
  {
   "cell_type": "code",
   "execution_count": 13,
   "metadata": {},
   "outputs": [],
   "source": [
    "south_alabama = medicare[(medicare['Facility Name'] == 'SOUTHEAST ALABAMA MEDICAL CENTER') &(medicare['Claim Type'] != 'Total')]"
   ]
  },
  {
   "cell_type": "markdown",
   "metadata": {},
   "source": [
    "#### State wise cost for Avg Spndg Per EP Hospital for all the claim types"
   ]
  },
  {
   "cell_type": "code",
   "execution_count": 14,
   "metadata": {},
   "outputs": [],
   "source": [
    "#Since we are looking for all claim types, the claim type will be total\n",
    "total = medicare[(medicare['Claim Type'] == 'Total')]"
   ]
  },
  {
   "cell_type": "code",
   "execution_count": 15,
   "metadata": {},
   "outputs": [
    {
     "name": "stderr",
     "output_type": "stream",
     "text": [
      "C:\\Users\\Chaitali\\Important\\lib\\site-packages\\pandas\\core\\frame.py:3697: SettingWithCopyWarning: \n",
      "A value is trying to be set on a copy of a slice from a DataFrame\n",
      "\n",
      "See the caveats in the documentation: http://pandas.pydata.org/pandas-docs/stable/indexing.html#indexing-view-versus-copy\n",
      "  errors=errors)\n"
     ]
    }
   ],
   "source": [
    "#We are dropping the start date and end date as we dont need it.\n",
    "total.drop(columns = ['Start Date','End Date'], inplace = True)"
   ]
  },
  {
   "cell_type": "code",
   "execution_count": 16,
   "metadata": {},
   "outputs": [
    {
     "data": {
      "text/plain": [
       "50"
      ]
     },
     "execution_count": 16,
     "metadata": {},
     "output_type": "execute_result"
    }
   ],
   "source": [
    "#The total number of states that we have\n",
    "total['State'].nunique()"
   ]
  },
  {
   "cell_type": "code",
   "execution_count": 17,
   "metadata": {},
   "outputs": [],
   "source": [
    "All_States = total['State'].unique()"
   ]
  },
  {
   "cell_type": "code",
   "execution_count": 18,
   "metadata": {},
   "outputs": [
    {
     "name": "stdout",
     "output_type": "stream",
     "text": [
      "['AL' 'AK' 'AZ' 'AR' 'CA' 'CO' 'CT' 'DE' 'DC' 'FL' 'GA' 'HI' 'ID' 'IL'\n",
      " 'IN' 'IA' 'KS' 'KY' 'LA' 'ME' 'MA' 'MI' 'MN' 'MS' 'MO' 'MT' 'NE' 'NV'\n",
      " 'NH' 'NJ' 'NM' 'NY' 'NC' 'ND' 'OH' 'OK' 'OR' 'PA' 'RI' 'SC' 'SD' 'TN'\n",
      " 'TX' 'UT' 'VT' 'VA' 'WA' 'WV' 'WI' 'WY']\n"
     ]
    }
   ],
   "source": [
    "#These are all the states\n",
    "print(All_States)"
   ]
  },
  {
   "cell_type": "code",
   "execution_count": 19,
   "metadata": {},
   "outputs": [],
   "source": [
    "def data_avg_spend_hospital_statewise(df):\n",
    "    avg_per_hospital = [] #Captures sum of the avg spending for EACH state e.g for AL = 12000 for AK = 12333\n",
    "    \n",
    "    total_avg_spend_hospital = df.agg({'Avg Spndg Per EP Hospital':sum})[0]#Captures sum of the avg spending for ALL state\n",
    "   \n",
    "    all_states = df['State'].unique()\n",
    "    \n",
    "    for i in all_states:\n",
    "        state_value = df[(df['State'] == i)].agg({'Avg Spndg Per EP Hospital':sum})[0]\n",
    "        average = (state_value/total_avg_spend_hospital) *100\n",
    "        avg_per_hospital.append(average)\n",
    "        average = 0\n",
    "    \n",
    "    new_dataframe = pd.DataFrame(list(zip(all_states, avg_per_hospital )),columns  = ['State','Spending'],index = [all_states])\n",
    "    return new_dataframe"
   ]
  },
  {
   "cell_type": "code",
   "execution_count": 20,
   "metadata": {},
   "outputs": [],
   "source": [
    "Statewise_Hosital = data_avg_spend_hospital_statewise(total)"
   ]
  },
  {
   "cell_type": "markdown",
   "metadata": {},
   "source": [
    "#### Lets see the top 10 states where hospital wise spending is more"
   ]
  },
  {
   "cell_type": "code",
   "execution_count": 21,
   "metadata": {},
   "outputs": [],
   "source": [
    "top_ten = Statewise_Hosital.sort_values('Spending',ascending=False).head(n = 10)"
   ]
  },
  {
   "cell_type": "code",
   "execution_count": 22,
   "metadata": {},
   "outputs": [
    {
     "data": {
      "image/png": "[encoded data removed]",
      "text/plain": [
       "<Figure size 432x288 with 1 Axes>"
      ]
     },
     "metadata": {},
     "output_type": "display_data"
    }
   ],
   "source": [
    "l= top_ten['State']\n",
    "sizes = top_ten['Spending']\n",
    "fig1, ax1 = plt.subplots()\n",
    "color_set = sns.color_palette(\"hls\", 10)\n",
    "ax1.pie(sizes,labels=l, autopct='%1.1f%%',startangle = 90,  colors = color_set, radius = 1.8)\n",
    "plt.show()"
   ]
  },
  {
   "cell_type": "markdown",
   "metadata": {},
   "source": [
    "#### How much is spent over Inpatient and Outpatient services by the state , nation and hospital"
   ]
  },
  {
   "cell_type": "code",
   "execution_count": 23,
   "metadata": {},
   "outputs": [],
   "source": [
    "inpatient_cost = medicare[medicare['Claim Type'] == 'Inpatient']"
   ]
  },
  {
   "cell_type": "code",
   "execution_count": 24,
   "metadata": {},
   "outputs": [],
   "source": [
    "outpatient_cost = medicare[medicare['Claim Type'] == 'Outpatient']"
   ]
  },
  {
   "cell_type": "code",
   "execution_count": 25,
   "metadata": {},
   "outputs": [],
   "source": [
    "inpatient_cost.drop(columns = ['Facility ID','Start Date', 'End Date','Percent of Spndg Hospital','Percent of Spndg State','Percent of Spndg National'],inplace = True)"
   ]
  },
  {
   "cell_type": "code",
   "execution_count": 26,
   "metadata": {},
   "outputs": [],
   "source": [
    "outpatient_cost.drop(columns = ['Facility ID','Start Date', 'End Date','Percent of Spndg Hospital','Percent of Spndg State','Percent of Spndg National'],inplace = True)"
   ]
  },
  {
   "cell_type": "code",
   "execution_count": 27,
   "metadata": {},
   "outputs": [],
   "source": [
    "inpatient_state = pd.pivot_table(inpatient_cost,index=[\"State\"])"
   ]
  },
  {
   "cell_type": "code",
   "execution_count": 28,
   "metadata": {},
   "outputs": [],
   "source": [
    "outpatient_state = pd.pivot_table(outpatient_cost,index=[\"State\"])"
   ]
  },
  {
   "cell_type": "code",
   "execution_count": 29,
   "metadata": {},
   "outputs": [],
   "source": [
    "in_spending = inpatient_state.sort_values(by=['Avg Spndg Per EP Hospital','Avg Spndg Per EP State'], ascending = False)[:10]"
   ]
  },
  {
   "cell_type": "code",
   "execution_count": 30,
   "metadata": {},
   "outputs": [],
   "source": [
    "out_spending = outpatient_state.sort_values(by=['Avg Spndg Per EP Hospital','Avg Spndg Per EP State'], ascending = False)[:10]"
   ]
  },
  {
   "cell_type": "code",
   "execution_count": 31,
   "metadata": {},
   "outputs": [
    {
     "data": {
      "text/html": [
       "<div>\n",
       "<style scoped>\n",
       "    .dataframe tbody tr th:only-of-type {\n",
       "        vertical-align: middle;\n",
       "    }\n",
       "\n",
       "    .dataframe tbody tr th {\n",
       "        vertical-align: top;\n",
       "    }\n",
       "\n",
       "    .dataframe thead th {\n",
       "        text-align: right;\n",
       "    }\n",
       "</style>\n",
       "<table border=\"1\" class=\"dataframe\">\n",
       "  <thead>\n",
       "    <tr style=\"text-align: right;\">\n",
       "      <th></th>\n",
       "      <th>Avg Spndg Per EP Hospital</th>\n",
       "      <th>Avg Spndg Per EP National</th>\n",
       "      <th>Avg Spndg Per EP State</th>\n",
       "    </tr>\n",
       "    <tr>\n",
       "      <th>State</th>\n",
       "      <th></th>\n",
       "      <th></th>\n",
       "      <th></th>\n",
       "    </tr>\n",
       "  </thead>\n",
       "  <tbody>\n",
       "    <tr>\n",
       "      <th>DC</th>\n",
       "      <td>4870.777778</td>\n",
       "      <td>4334.333333</td>\n",
       "      <td>4649.000000</td>\n",
       "    </tr>\n",
       "    <tr>\n",
       "      <th>NV</th>\n",
       "      <td>4675.015152</td>\n",
       "      <td>4334.333333</td>\n",
       "      <td>4978.000000</td>\n",
       "    </tr>\n",
       "    <tr>\n",
       "      <th>NE</th>\n",
       "      <td>4596.942029</td>\n",
       "      <td>4334.333333</td>\n",
       "      <td>4419.333333</td>\n",
       "    </tr>\n",
       "    <tr>\n",
       "      <th>TX</th>\n",
       "      <td>4508.603865</td>\n",
       "      <td>4334.333333</td>\n",
       "      <td>4843.666667</td>\n",
       "    </tr>\n",
       "    <tr>\n",
       "      <th>LA</th>\n",
       "      <td>4434.678862</td>\n",
       "      <td>4334.333333</td>\n",
       "      <td>4764.000000</td>\n",
       "    </tr>\n",
       "    <tr>\n",
       "      <th>CO</th>\n",
       "      <td>4402.644928</td>\n",
       "      <td>4334.333333</td>\n",
       "      <td>4601.000000</td>\n",
       "    </tr>\n",
       "    <tr>\n",
       "      <th>ID</th>\n",
       "      <td>4365.523810</td>\n",
       "      <td>4334.333333</td>\n",
       "      <td>4410.333333</td>\n",
       "    </tr>\n",
       "    <tr>\n",
       "      <th>AZ</th>\n",
       "      <td>4276.471264</td>\n",
       "      <td>4334.333333</td>\n",
       "      <td>4640.000000</td>\n",
       "    </tr>\n",
       "    <tr>\n",
       "      <th>CA</th>\n",
       "      <td>4160.711963</td>\n",
       "      <td>4334.333333</td>\n",
       "      <td>4353.333333</td>\n",
       "    </tr>\n",
       "    <tr>\n",
       "      <th>ND</th>\n",
       "      <td>4142.714286</td>\n",
       "      <td>4334.333333</td>\n",
       "      <td>4346.333333</td>\n",
       "    </tr>\n",
       "  </tbody>\n",
       "</table>\n",
       "</div>"
      ],
      "text/plain": [
       "       Avg Spndg Per EP Hospital  Avg Spndg Per EP National  \\\n",
       "State                                                         \n",
       "DC                   4870.777778                4334.333333   \n",
       "NV                   4675.015152                4334.333333   \n",
       "NE                   4596.942029                4334.333333   \n",
       "TX                   4508.603865                4334.333333   \n",
       "LA                   4434.678862                4334.333333   \n",
       "CO                   4402.644928                4334.333333   \n",
       "ID                   4365.523810                4334.333333   \n",
       "AZ                   4276.471264                4334.333333   \n",
       "CA                   4160.711963                4334.333333   \n",
       "ND                   4142.714286                4334.333333   \n",
       "\n",
       "       Avg Spndg Per EP State  \n",
       "State                          \n",
       "DC                4649.000000  \n",
       "NV                4978.000000  \n",
       "NE                4419.333333  \n",
       "TX                4843.666667  \n",
       "LA                4764.000000  \n",
       "CO                4601.000000  \n",
       "ID                4410.333333  \n",
       "AZ                4640.000000  \n",
       "CA                4353.333333  \n",
       "ND                4346.333333  "
      ]
     },
     "execution_count": 31,
     "metadata": {},
     "output_type": "execute_result"
    }
   ],
   "source": [
    "in_spending"
   ]
  },
  {
   "cell_type": "code",
   "execution_count": 102,
   "metadata": {},
   "outputs": [],
   "source": [
    "in_spending_top_ten = pd.DataFrame(in_spending.to_records())"
   ]
  },
  {
   "cell_type": "markdown",
   "metadata": {},
   "source": [
    "##### National level costs are similar as this is for one nation i.e USA"
   ]
  },
  {
   "cell_type": "code",
   "execution_count": 141,
   "metadata": {},
   "outputs": [
    {
     "data": {
      "application/vnd.plotly.v1+json": {
       "config": {
        "plotlyServerURL": "https://plot.ly"
       },
       "data": [
        {
         "alignmentgroup": "True",
         "hovertemplate": "variable=Avg Spndg Per EP State<br>State=%{x}<br>value=%{y}<extra></extra>",
         "legendgroup": "Avg Spndg Per EP State",
         "marker": {
          "color": "bisque"
         },
         "name": "Avg Spndg Per EP State",
         "offsetgroup": "Avg Spndg Per EP State",
         "orientation": "v",
         "showlegend": true,
         "textposition": "auto",
         "type": "bar",
         "x": [
          "DC",
          "NV",
          "NE",
          "TX",
          "LA",
          "CO",
          "ID",
          "AZ",
          "CA",
          "ND"
         ],
         "xaxis": "x",
         "y": [
          4649,
          4978,
          4419.333333333333,
          4843.666666666667,
          4764,
          4601,
          4410.333333333333,
          4640,
          4353.333333333333,
          4346.333333333333
         ],
         "yaxis": "y"
        },
        {
         "alignmentgroup": "True",
         "hovertemplate": "variable=Avg Spndg Per EP Hospital<br>State=%{x}<br>value=%{y}<extra></extra>",
         "legendgroup": "Avg Spndg Per EP Hospital",
         "marker": {
          "color": "tan"
         },
         "name": "Avg Spndg Per EP Hospital",
         "offsetgroup": "Avg Spndg Per EP Hospital",
         "orientation": "v",
         "showlegend": true,
         "textposition": "auto",
         "type": "bar",
         "x": [
          "DC",
          "NV",
          "NE",
          "TX",
          "LA",
          "CO",
          "ID",
          "AZ",
          "CA",
          "ND"
         ],
         "xaxis": "x",
         "y": [
          4870.777777777777,
          4675.015151515152,
          4596.942028985507,
          4508.603864734299,
          4434.678861788618,
          4402.644927536232,
          4365.523809523809,
          4276.471264367816,
          4160.711962833914,
          4142.714285714285
         ],
         "yaxis": "y"
        }
       ],
       "layout": {
        "barmode": "relative",
        "legend": {
         "title": {
          "text": "variable"
         },
         "tracegroupgap": 0
        },
        "template": {
         "data": {
          "bar": [
           {
            "error_x": {
             "color": "#2a3f5f"
            },
            "error_y": {
             "color": "#2a3f5f"
            },
            "marker": {
             "line": {
              "color": "#E5ECF6",
              "width": 0.5
             }
            },
            "type": "bar"
           }
          ],
          "barpolar": [
           {
            "marker": {
             "line": {
              "color": "#E5ECF6",
              "width": 0.5
             }
            },
            "type": "barpolar"
           }
          ],
          "carpet": [
           {
            "aaxis": {
             "endlinecolor": "#2a3f5f",
             "gridcolor": "white",
             "linecolor": "white",
             "minorgridcolor": "white",
             "startlinecolor": "#2a3f5f"
            },
            "baxis": {
             "endlinecolor": "#2a3f5f",
             "gridcolor": "white",
             "linecolor": "white",
             "minorgridcolor": "white",
             "startlinecolor": "#2a3f5f"
            },
            "type": "carpet"
           }
          ],
          "choropleth": [
           {
            "colorbar": {
             "outlinewidth": 0,
             "ticks": ""
            },
            "type": "choropleth"
           }
          ],
          "contour": [
           {
            "colorbar": {
             "outlinewidth": 0,
             "ticks": ""
            },
            "colorscale": [
             [
              0,
              "#0d0887"
             ],
             [
              0.1111111111111111,
              "#46039f"
             ],
             [
              0.2222222222222222,
              "#7201a8"
             ],
             [
              0.3333333333333333,
              "#9c179e"
             ],
             [
              0.4444444444444444,
              "#bd3786"
             ],
             [
              0.5555555555555556,
              "#d8576b"
             ],
             [
              0.6666666666666666,
              "#ed7953"
             ],
             [
              0.7777777777777778,
              "#fb9f3a"
             ],
             [
              0.8888888888888888,
              "#fdca26"
             ],
             [
              1,
              "#f0f921"
             ]
            ],
            "type": "contour"
           }
          ],
          "contourcarpet": [
           {
            "colorbar": {
             "outlinewidth": 0,
             "ticks": ""
            },
            "type": "contourcarpet"
           }
          ],
          "heatmap": [
           {
            "colorbar": {
             "outlinewidth": 0,
             "ticks": ""
            },
            "colorscale": [
             [
              0,
              "#0d0887"
             ],
             [
              0.1111111111111111,
              "#46039f"
             ],
             [
              0.2222222222222222,
              "#7201a8"
             ],
             [
              0.3333333333333333,
              "#9c179e"
             ],
             [
              0.4444444444444444,
              "#bd3786"
             ],
             [
              0.5555555555555556,
              "#d8576b"
             ],
             [
              0.6666666666666666,
              "#ed7953"
             ],
             [
              0.7777777777777778,
              "#fb9f3a"
             ],
             [
              0.8888888888888888,
              "#fdca26"
             ],
             [
              1,
              "#f0f921"
             ]
            ],
            "type": "heatmap"
           }
          ],
          "heatmapgl": [
           {
            "colorbar": {
             "outlinewidth": 0,
             "ticks": ""
            },
            "colorscale": [
             [
              0,
              "#0d0887"
             ],
             [
              0.1111111111111111,
              "#46039f"
             ],
             [
              0.2222222222222222,
              "#7201a8"
             ],
             [
              0.3333333333333333,
              "#9c179e"
             ],
             [
              0.4444444444444444,
              "#bd3786"
             ],
             [
              0.5555555555555556,
              "#d8576b"
             ],
             [
              0.6666666666666666,
              "#ed7953"
             ],
             [
              0.7777777777777778,
              "#fb9f3a"
             ],
             [
              0.8888888888888888,
              "#fdca26"
             ],
             [
              1,
              "#f0f921"
             ]
            ],
            "type": "heatmapgl"
           }
          ],
          "histogram": [
           {
            "marker": {
             "colorbar": {
              "outlinewidth": 0,
              "ticks": ""
             }
            },
            "type": "histogram"
           }
          ],
          "histogram2d": [
           {
            "colorbar": {
             "outlinewidth": 0,
             "ticks": ""
            },
            "colorscale": [
             [
              0,
              "#0d0887"
             ],
             [
              0.1111111111111111,
              "#46039f"
             ],
             [
              0.2222222222222222,
              "#7201a8"
             ],
             [
              0.3333333333333333,
              "#9c179e"
             ],
             [
              0.4444444444444444,
              "#bd3786"
             ],
             [
              0.5555555555555556,
              "#d8576b"
             ],
             [
              0.6666666666666666,
              "#ed7953"
             ],
             [
              0.7777777777777778,
              "#fb9f3a"
             ],
             [
              0.8888888888888888,
              "#fdca26"
             ],
             [
              1,
              "#f0f921"
             ]
            ],
            "type": "histogram2d"
           }
          ],
          "histogram2dcontour": [
           {
            "colorbar": {
             "outlinewidth": 0,
             "ticks": ""
            },
            "colorscale": [
             [
              0,
              "#0d0887"
             ],
             [
              0.1111111111111111,
              "#46039f"
             ],
             [
              0.2222222222222222,
              "#7201a8"
             ],
             [
              0.3333333333333333,
              "#9c179e"
             ],
             [
              0.4444444444444444,
              "#bd3786"
             ],
             [
              0.5555555555555556,
              "#d8576b"
             ],
             [
              0.6666666666666666,
              "#ed7953"
             ],
             [
              0.7777777777777778,
              "#fb9f3a"
             ],
             [
              0.8888888888888888,
              "#fdca26"
             ],
             [
              1,
              "#f0f921"
             ]
            ],
            "type": "histogram2dcontour"
           }
          ],
          "mesh3d": [
           {
            "colorbar": {
             "outlinewidth": 0,
             "ticks": ""
            },
            "type": "mesh3d"
           }
          ],
          "parcoords": [
           {
            "line": {
             "colorbar": {
              "outlinewidth": 0,
              "ticks": ""
             }
            },
            "type": "parcoords"
           }
          ],
          "pie": [
           {
            "automargin": true,
            "type": "pie"
           }
          ],
          "scatter": [
           {
            "marker": {
             "colorbar": {
              "outlinewidth": 0,
              "ticks": ""
             }
            },
            "type": "scatter"
           }
          ],
          "scatter3d": [
           {
            "line": {
             "colorbar": {
              "outlinewidth": 0,
              "ticks": ""
             }
            },
            "marker": {
             "colorbar": {
              "outlinewidth": 0,
              "ticks": ""
             }
            },
            "type": "scatter3d"
           }
          ],
          "scattercarpet": [
           {
            "marker": {
             "colorbar": {
              "outlinewidth": 0,
              "ticks": ""
             }
            },
            "type": "scattercarpet"
           }
          ],
          "scattergeo": [
           {
            "marker": {
             "colorbar": {
              "outlinewidth": 0,
              "ticks": ""
             }
            },
            "type": "scattergeo"
           }
          ],
          "scattergl": [
           {
            "marker": {
             "colorbar": {
              "outlinewidth": 0,
              "ticks": ""
             }
            },
            "type": "scattergl"
           }
          ],
          "scattermapbox": [
           {
            "marker": {
             "colorbar": {
              "outlinewidth": 0,
              "ticks": ""
             }
            },
            "type": "scattermapbox"
           }
          ],
          "scatterpolar": [
           {
            "marker": {
             "colorbar": {
              "outlinewidth": 0,
              "ticks": ""
             }
            },
            "type": "scatterpolar"
           }
          ],
          "scatterpolargl": [
           {
            "marker": {
             "colorbar": {
              "outlinewidth": 0,
              "ticks": ""
             }
            },
            "type": "scatterpolargl"
           }
          ],
          "scatterternary": [
           {
            "marker": {
             "colorbar": {
              "outlinewidth": 0,
              "ticks": ""
             }
            },
            "type": "scatterternary"
           }
          ],
          "surface": [
           {
            "colorbar": {
             "outlinewidth": 0,
             "ticks": ""
            },
            "colorscale": [
             [
              0,
              "#0d0887"
             ],
             [
              0.1111111111111111,
              "#46039f"
             ],
             [
              0.2222222222222222,
              "#7201a8"
             ],
             [
              0.3333333333333333,
              "#9c179e"
             ],
             [
              0.4444444444444444,
              "#bd3786"
             ],
             [
              0.5555555555555556,
              "#d8576b"
             ],
             [
              0.6666666666666666,
              "#ed7953"
             ],
             [
              0.7777777777777778,
              "#fb9f3a"
             ],
             [
              0.8888888888888888,
              "#fdca26"
             ],
             [
              1,
              "#f0f921"
             ]
            ],
            "type": "surface"
           }
          ],
          "table": [
           {
            "cells": {
             "fill": {
              "color": "#EBF0F8"
             },
             "line": {
              "color": "white"
             }
            },
            "header": {
             "fill": {
              "color": "#C8D4E3"
             },
             "line": {
              "color": "white"
             }
            },
            "type": "table"
           }
          ]
         },
         "layout": {
          "annotationdefaults": {
           "arrowcolor": "#2a3f5f",
           "arrowhead": 0,
           "arrowwidth": 1
          },
          "coloraxis": {
           "colorbar": {
            "outlinewidth": 0,
            "ticks": ""
           }
          },
          "colorscale": {
           "diverging": [
            [
             0,
             "#8e0152"
            ],
            [
             0.1,
             "#c51b7d"
            ],
            [
             0.2,
             "#de77ae"
            ],
            [
             0.3,
             "#f1b6da"
            ],
            [
             0.4,
             "#fde0ef"
            ],
            [
             0.5,
             "#f7f7f7"
            ],
            [
             0.6,
             "#e6f5d0"
            ],
            [
             0.7,
             "#b8e186"
            ],
            [
             0.8,
             "#7fbc41"
            ],
            [
             0.9,
             "#4d9221"
            ],
            [
             1,
             "#276419"
            ]
           ],
           "sequential": [
            [
             0,
             "#0d0887"
            ],
            [
             0.1111111111111111,
             "#46039f"
            ],
            [
             0.2222222222222222,
             "#7201a8"
            ],
            [
             0.3333333333333333,
             "#9c179e"
            ],
            [
             0.4444444444444444,
             "#bd3786"
            ],
            [
             0.5555555555555556,
             "#d8576b"
            ],
            [
             0.6666666666666666,
             "#ed7953"
            ],
            [
             0.7777777777777778,
             "#fb9f3a"
            ],
            [
             0.8888888888888888,
             "#fdca26"
            ],
            [
             1,
             "#f0f921"
            ]
           ],
           "sequentialminus": [
            [
             0,
             "#0d0887"
            ],
            [
             0.1111111111111111,
             "#46039f"
            ],
            [
             0.2222222222222222,
             "#7201a8"
            ],
            [
             0.3333333333333333,
             "#9c179e"
            ],
            [
             0.4444444444444444,
             "#bd3786"
            ],
            [
             0.5555555555555556,
             "#d8576b"
            ],
            [
             0.6666666666666666,
             "#ed7953"
            ],
            [
             0.7777777777777778,
             "#fb9f3a"
            ],
            [
             0.8888888888888888,
             "#fdca26"
            ],
            [
             1,
             "#f0f921"
            ]
           ]
          },
          "colorway": [
           "#636efa",
           "#EF553B",
           "#00cc96",
           "#ab63fa",
           "#FFA15A",
           "#19d3f3",
           "#FF6692",
           "#B6E880",
           "#FF97FF",
           "#FECB52"
          ],
          "font": {
           "color": "#2a3f5f"
          },
          "geo": {
           "bgcolor": "white",
           "lakecolor": "white",
           "landcolor": "#E5ECF6",
           "showlakes": true,
           "showland": true,
           "subunitcolor": "white"
          },
          "hoverlabel": {
           "align": "left"
          },
          "hovermode": "closest",
          "mapbox": {
           "style": "light"
          },
          "paper_bgcolor": "white",
          "plot_bgcolor": "#E5ECF6",
          "polar": {
           "angularaxis": {
            "gridcolor": "white",
            "linecolor": "white",
            "ticks": ""
           },
           "bgcolor": "#E5ECF6",
           "radialaxis": {
            "gridcolor": "white",
            "linecolor": "white",
            "ticks": ""
           }
          },
          "scene": {
           "xaxis": {
            "backgroundcolor": "#E5ECF6",
            "gridcolor": "white",
            "gridwidth": 2,
            "linecolor": "white",
            "showbackground": true,
            "ticks": "",
            "zerolinecolor": "white"
           },
           "yaxis": {
            "backgroundcolor": "#E5ECF6",
            "gridcolor": "white",
            "gridwidth": 2,
            "linecolor": "white",
            "showbackground": true,
            "ticks": "",
            "zerolinecolor": "white"
           },
           "zaxis": {
            "backgroundcolor": "#E5ECF6",
            "gridcolor": "white",
            "gridwidth": 2,
            "linecolor": "white",
            "showbackground": true,
            "ticks": "",
            "zerolinecolor": "white"
           }
          },
          "shapedefaults": {
           "line": {
            "color": "#2a3f5f"
           }
          },
          "ternary": {
           "aaxis": {
            "gridcolor": "white",
            "linecolor": "white",
            "ticks": ""
           },
           "baxis": {
            "gridcolor": "white",
            "linecolor": "white",
            "ticks": ""
           },
           "bgcolor": "#E5ECF6",
           "caxis": {
            "gridcolor": "white",
            "linecolor": "white",
            "ticks": ""
           }
          },
          "title": {
           "x": 0.05
          },
          "xaxis": {
           "automargin": true,
           "gridcolor": "white",
           "linecolor": "white",
           "ticks": "",
           "title": {
            "standoff": 15
           },
           "zerolinecolor": "white",
           "zerolinewidth": 2
          },
          "yaxis": {
           "automargin": true,
           "gridcolor": "white",
           "linecolor": "white",
           "ticks": "",
           "title": {
            "standoff": 15
           },
           "zerolinecolor": "white",
           "zerolinewidth": 2
          }
         }
        },
        "title": {
         "text": "Inpatient Spending w.r.t State and Hospital(top 10)"
        },
        "xaxis": {
         "anchor": "y",
         "domain": [
          0,
          1
         ],
         "title": {
          "text": "State"
         }
        },
        "yaxis": {
         "anchor": "x",
         "domain": [
          0,
          1
         ],
         "title": {
          "text": "value"
         }
        }
       }
      },
      "text/html": [
       "<div>\n",
       "        \n",
       "        \n",
       "            <div id=\"ea24c353-85e9-4c02-adab-f221f2ec5eea\" class=\"plotly-graph-div\" style=\"height:525px; width:100%;\"></div>\n",
       "            <script type=\"text/javascript\">\n",
       "                require([\"plotly\"], function(Plotly) {\n",
       "                    window.PLOTLYENV=window.PLOTLYENV || {};\n",
       "                    \n",
       "                if (document.getElementById(\"ea24c353-85e9-4c02-adab-f221f2ec5eea\")) {\n",
       "                    Plotly.newPlot(\n",
       "                        'ea24c353-85e9-4c02-adab-f221f2ec5eea',\n",
       "                        [{\"alignmentgroup\": \"True\", \"hovertemplate\": \"variable=Avg Spndg Per EP State<br>State=%{x}<br>value=%{y}<extra></extra>\", \"legendgroup\": \"Avg Spndg Per EP State\", \"marker\": {\"color\": \"bisque\"}, \"name\": \"Avg Spndg Per EP State\", \"offsetgroup\": \"Avg Spndg Per EP State\", \"orientation\": \"v\", \"showlegend\": true, \"textposition\": \"auto\", \"type\": \"bar\", \"x\": [\"DC\", \"NV\", \"NE\", \"TX\", \"LA\", \"CO\", \"ID\", \"AZ\", \"CA\", \"ND\"], \"xaxis\": \"x\", \"y\": [4649.0, 4978.0, 4419.333333333333, 4843.666666666667, 4764.0, 4601.0, 4410.333333333333, 4640.0, 4353.333333333333, 4346.333333333333], \"yaxis\": \"y\"}, {\"alignmentgroup\": \"True\", \"hovertemplate\": \"variable=Avg Spndg Per EP Hospital<br>State=%{x}<br>value=%{y}<extra></extra>\", \"legendgroup\": \"Avg Spndg Per EP Hospital\", \"marker\": {\"color\": \"tan\"}, \"name\": \"Avg Spndg Per EP Hospital\", \"offsetgroup\": \"Avg Spndg Per EP Hospital\", \"orientation\": \"v\", \"showlegend\": true, \"textposition\": \"auto\", \"type\": \"bar\", \"x\": [\"DC\", \"NV\", \"NE\", \"TX\", \"LA\", \"CO\", \"ID\", \"AZ\", \"CA\", \"ND\"], \"xaxis\": \"x\", \"y\": [4870.777777777777, 4675.015151515152, 4596.942028985507, 4508.603864734299, 4434.678861788618, 4402.644927536232, 4365.523809523809, 4276.471264367816, 4160.711962833914, 4142.714285714285], \"yaxis\": \"y\"}],\n",
       "                        {\"barmode\": \"relative\", \"legend\": {\"title\": {\"text\": \"variable\"}, \"tracegroupgap\": 0}, \"template\": {\"data\": {\"bar\": [{\"error_x\": {\"color\": \"#2a3f5f\"}, \"error_y\": {\"color\": \"#2a3f5f\"}, \"marker\": {\"line\": {\"color\": \"#E5ECF6\", \"width\": 0.5}}, \"type\": \"bar\"}], \"barpolar\": [{\"marker\": {\"line\": {\"color\": \"#E5ECF6\", \"width\": 0.5}}, \"type\": \"barpolar\"}], \"carpet\": [{\"aaxis\": {\"endlinecolor\": \"#2a3f5f\", \"gridcolor\": \"white\", \"linecolor\": \"white\", \"minorgridcolor\": \"white\", \"startlinecolor\": \"#2a3f5f\"}, \"baxis\": {\"endlinecolor\": \"#2a3f5f\", \"gridcolor\": \"white\", \"linecolor\": \"white\", \"minorgridcolor\": \"white\", \"startlinecolor\": \"#2a3f5f\"}, \"type\": \"carpet\"}], \"choropleth\": [{\"colorbar\": {\"outlinewidth\": 0, \"ticks\": \"\"}, \"type\": \"choropleth\"}], \"contour\": [{\"colorbar\": {\"outlinewidth\": 0, \"ticks\": \"\"}, \"colorscale\": [[0.0, \"#0d0887\"], [0.1111111111111111, \"#46039f\"], [0.2222222222222222, \"#7201a8\"], [0.3333333333333333, \"#9c179e\"], [0.4444444444444444, \"#bd3786\"], [0.5555555555555556, \"#d8576b\"], [0.6666666666666666, \"#ed7953\"], [0.7777777777777778, \"#fb9f3a\"], [0.8888888888888888, \"#fdca26\"], [1.0, \"#f0f921\"]], \"type\": \"contour\"}], \"contourcarpet\": [{\"colorbar\": {\"outlinewidth\": 0, \"ticks\": \"\"}, \"type\": \"contourcarpet\"}], \"heatmap\": [{\"colorbar\": {\"outlinewidth\": 0, \"ticks\": \"\"}, \"colorscale\": [[0.0, \"#0d0887\"], [0.1111111111111111, \"#46039f\"], [0.2222222222222222, \"#7201a8\"], [0.3333333333333333, \"#9c179e\"], [0.4444444444444444, \"#bd3786\"], [0.5555555555555556, \"#d8576b\"], [0.6666666666666666, \"#ed7953\"], [0.7777777777777778, \"#fb9f3a\"], [0.8888888888888888, \"#fdca26\"], [1.0, \"#f0f921\"]], \"type\": \"heatmap\"}], \"heatmapgl\": [{\"colorbar\": {\"outlinewidth\": 0, \"ticks\": \"\"}, \"colorscale\": [[0.0, \"#0d0887\"], [0.1111111111111111, \"#46039f\"], [0.2222222222222222, \"#7201a8\"], [0.3333333333333333, \"#9c179e\"], [0.4444444444444444, \"#bd3786\"], [0.5555555555555556, \"#d8576b\"], [0.6666666666666666, \"#ed7953\"], [0.7777777777777778, \"#fb9f3a\"], [0.8888888888888888, \"#fdca26\"], [1.0, \"#f0f921\"]], \"type\": \"heatmapgl\"}], \"histogram\": [{\"marker\": {\"colorbar\": {\"outlinewidth\": 0, \"ticks\": \"\"}}, \"type\": \"histogram\"}], \"histogram2d\": [{\"colorbar\": {\"outlinewidth\": 0, \"ticks\": \"\"}, \"colorscale\": [[0.0, \"#0d0887\"], [0.1111111111111111, \"#46039f\"], [0.2222222222222222, \"#7201a8\"], [0.3333333333333333, \"#9c179e\"], [0.4444444444444444, \"#bd3786\"], [0.5555555555555556, \"#d8576b\"], [0.6666666666666666, \"#ed7953\"], [0.7777777777777778, \"#fb9f3a\"], [0.8888888888888888, \"#fdca26\"], [1.0, \"#f0f921\"]], \"type\": \"histogram2d\"}], \"histogram2dcontour\": [{\"colorbar\": {\"outlinewidth\": 0, \"ticks\": \"\"}, \"colorscale\": [[0.0, \"#0d0887\"], [0.1111111111111111, \"#46039f\"], [0.2222222222222222, \"#7201a8\"], [0.3333333333333333, \"#9c179e\"], [0.4444444444444444, \"#bd3786\"], [0.5555555555555556, \"#d8576b\"], [0.6666666666666666, \"#ed7953\"], [0.7777777777777778, \"#fb9f3a\"], [0.8888888888888888, \"#fdca26\"], [1.0, \"#f0f921\"]], \"type\": \"histogram2dcontour\"}], \"mesh3d\": [{\"colorbar\": {\"outlinewidth\": 0, \"ticks\": \"\"}, \"type\": \"mesh3d\"}], \"parcoords\": [{\"line\": {\"colorbar\": {\"outlinewidth\": 0, \"ticks\": \"\"}}, \"type\": \"parcoords\"}], \"pie\": [{\"automargin\": true, \"type\": \"pie\"}], \"scatter\": [{\"marker\": {\"colorbar\": {\"outlinewidth\": 0, \"ticks\": \"\"}}, \"type\": \"scatter\"}], \"scatter3d\": [{\"line\": {\"colorbar\": {\"outlinewidth\": 0, \"ticks\": \"\"}}, \"marker\": {\"colorbar\": {\"outlinewidth\": 0, \"ticks\": \"\"}}, \"type\": \"scatter3d\"}], \"scattercarpet\": [{\"marker\": {\"colorbar\": {\"outlinewidth\": 0, \"ticks\": \"\"}}, \"type\": \"scattercarpet\"}], \"scattergeo\": [{\"marker\": {\"colorbar\": {\"outlinewidth\": 0, \"ticks\": \"\"}}, \"type\": \"scattergeo\"}], \"scattergl\": [{\"marker\": {\"colorbar\": {\"outlinewidth\": 0, \"ticks\": \"\"}}, \"type\": \"scattergl\"}], \"scattermapbox\": [{\"marker\": {\"colorbar\": {\"outlinewidth\": 0, \"ticks\": \"\"}}, \"type\": \"scattermapbox\"}], \"scatterpolar\": [{\"marker\": {\"colorbar\": {\"outlinewidth\": 0, \"ticks\": \"\"}}, \"type\": \"scatterpolar\"}], \"scatterpolargl\": [{\"marker\": {\"colorbar\": {\"outlinewidth\": 0, \"ticks\": \"\"}}, \"type\": \"scatterpolargl\"}], \"scatterternary\": [{\"marker\": {\"colorbar\": {\"outlinewidth\": 0, \"ticks\": \"\"}}, \"type\": \"scatterternary\"}], \"surface\": [{\"colorbar\": {\"outlinewidth\": 0, \"ticks\": \"\"}, \"colorscale\": [[0.0, \"#0d0887\"], [0.1111111111111111, \"#46039f\"], [0.2222222222222222, \"#7201a8\"], [0.3333333333333333, \"#9c179e\"], [0.4444444444444444, \"#bd3786\"], [0.5555555555555556, \"#d8576b\"], [0.6666666666666666, \"#ed7953\"], [0.7777777777777778, \"#fb9f3a\"], [0.8888888888888888, \"#fdca26\"], [1.0, \"#f0f921\"]], \"type\": \"surface\"}], \"table\": [{\"cells\": {\"fill\": {\"color\": \"#EBF0F8\"}, \"line\": {\"color\": \"white\"}}, \"header\": {\"fill\": {\"color\": \"#C8D4E3\"}, \"line\": {\"color\": \"white\"}}, \"type\": \"table\"}]}, \"layout\": {\"annotationdefaults\": {\"arrowcolor\": \"#2a3f5f\", \"arrowhead\": 0, \"arrowwidth\": 1}, \"coloraxis\": {\"colorbar\": {\"outlinewidth\": 0, \"ticks\": \"\"}}, \"colorscale\": {\"diverging\": [[0, \"#8e0152\"], [0.1, \"#c51b7d\"], [0.2, \"#de77ae\"], [0.3, \"#f1b6da\"], [0.4, \"#fde0ef\"], [0.5, \"#f7f7f7\"], [0.6, \"#e6f5d0\"], [0.7, \"#b8e186\"], [0.8, \"#7fbc41\"], [0.9, \"#4d9221\"], [1, \"#276419\"]], \"sequential\": [[0.0, \"#0d0887\"], [0.1111111111111111, \"#46039f\"], [0.2222222222222222, \"#7201a8\"], [0.3333333333333333, \"#9c179e\"], [0.4444444444444444, \"#bd3786\"], [0.5555555555555556, \"#d8576b\"], [0.6666666666666666, \"#ed7953\"], [0.7777777777777778, \"#fb9f3a\"], [0.8888888888888888, \"#fdca26\"], [1.0, \"#f0f921\"]], \"sequentialminus\": [[0.0, \"#0d0887\"], [0.1111111111111111, \"#46039f\"], [0.2222222222222222, \"#7201a8\"], [0.3333333333333333, \"#9c179e\"], [0.4444444444444444, \"#bd3786\"], [0.5555555555555556, \"#d8576b\"], [0.6666666666666666, \"#ed7953\"], [0.7777777777777778, \"#fb9f3a\"], [0.8888888888888888, \"#fdca26\"], [1.0, \"#f0f921\"]]}, \"colorway\": [\"#636efa\", \"#EF553B\", \"#00cc96\", \"#ab63fa\", \"#FFA15A\", \"#19d3f3\", \"#FF6692\", \"#B6E880\", \"#FF97FF\", \"#FECB52\"], \"font\": {\"color\": \"#2a3f5f\"}, \"geo\": {\"bgcolor\": \"white\", \"lakecolor\": \"white\", \"landcolor\": \"#E5ECF6\", \"showlakes\": true, \"showland\": true, \"subunitcolor\": \"white\"}, \"hoverlabel\": {\"align\": \"left\"}, \"hovermode\": \"closest\", \"mapbox\": {\"style\": \"light\"}, \"paper_bgcolor\": \"white\", \"plot_bgcolor\": \"#E5ECF6\", \"polar\": {\"angularaxis\": {\"gridcolor\": \"white\", \"linecolor\": \"white\", \"ticks\": \"\"}, \"bgcolor\": \"#E5ECF6\", \"radialaxis\": {\"gridcolor\": \"white\", \"linecolor\": \"white\", \"ticks\": \"\"}}, \"scene\": {\"xaxis\": {\"backgroundcolor\": \"#E5ECF6\", \"gridcolor\": \"white\", \"gridwidth\": 2, \"linecolor\": \"white\", \"showbackground\": true, \"ticks\": \"\", \"zerolinecolor\": \"white\"}, \"yaxis\": {\"backgroundcolor\": \"#E5ECF6\", \"gridcolor\": \"white\", \"gridwidth\": 2, \"linecolor\": \"white\", \"showbackground\": true, \"ticks\": \"\", \"zerolinecolor\": \"white\"}, \"zaxis\": {\"backgroundcolor\": \"#E5ECF6\", \"gridcolor\": \"white\", \"gridwidth\": 2, \"linecolor\": \"white\", \"showbackground\": true, \"ticks\": \"\", \"zerolinecolor\": \"white\"}}, \"shapedefaults\": {\"line\": {\"color\": \"#2a3f5f\"}}, \"ternary\": {\"aaxis\": {\"gridcolor\": \"white\", \"linecolor\": \"white\", \"ticks\": \"\"}, \"baxis\": {\"gridcolor\": \"white\", \"linecolor\": \"white\", \"ticks\": \"\"}, \"bgcolor\": \"#E5ECF6\", \"caxis\": {\"gridcolor\": \"white\", \"linecolor\": \"white\", \"ticks\": \"\"}}, \"title\": {\"x\": 0.05}, \"xaxis\": {\"automargin\": true, \"gridcolor\": \"white\", \"linecolor\": \"white\", \"ticks\": \"\", \"title\": {\"standoff\": 15}, \"zerolinecolor\": \"white\", \"zerolinewidth\": 2}, \"yaxis\": {\"automargin\": true, \"gridcolor\": \"white\", \"linecolor\": \"white\", \"ticks\": \"\", \"title\": {\"standoff\": 15}, \"zerolinecolor\": \"white\", \"zerolinewidth\": 2}}}, \"title\": {\"text\": \"Inpatient Spending w.r.t State and Hospital(top 10)\"}, \"xaxis\": {\"anchor\": \"y\", \"domain\": [0.0, 1.0], \"title\": {\"text\": \"State\"}}, \"yaxis\": {\"anchor\": \"x\", \"domain\": [0.0, 1.0], \"title\": {\"text\": \"value\"}}},\n",
       "                        {\"responsive\": true}\n",
       "                    ).then(function(){\n",
       "                            \n",
       "var gd = document.getElementById('ea24c353-85e9-4c02-adab-f221f2ec5eea');\n",
       "var x = new MutationObserver(function (mutations, observer) {{\n",
       "        var display = window.getComputedStyle(gd).display;\n",
       "        if (!display || display === 'none') {{\n",
       "            console.log([gd, 'removed!']);\n",
       "            Plotly.purge(gd);\n",
       "            observer.disconnect();\n",
       "        }}\n",
       "}});\n",
       "\n",
       "// Listen for the removal of the full notebook cells\n",
       "var notebookContainer = gd.closest('#notebook-container');\n",
       "if (notebookContainer) {{\n",
       "    x.observe(notebookContainer, {childList: true});\n",
       "}}\n",
       "\n",
       "// Listen for the clearing of the current output cell\n",
       "var outputEl = gd.closest('.output');\n",
       "if (outputEl) {{\n",
       "    x.observe(outputEl, {childList: true});\n",
       "}}\n",
       "\n",
       "                        })\n",
       "                };\n",
       "                });\n",
       "            </script>\n",
       "        </div>"
      ]
     },
     "metadata": {},
     "output_type": "display_data"
    }
   ],
   "source": [
    "# in_spending.drop(columns = ['Avg Spndg Per EP National']).plot(kind = 'bar', figsize = (10,5) , title = 'Inpatient Spending at Hospital, State Level', colormap = 'Set1',\n",
    "#              width = 0.65)\n",
    "# plt.legend(bbox_to_anchor=(1.3, 1.05))\n",
    "\n",
    "\n",
    "fig = px.bar(in_spending_top_ten,x = 'State', y=['Avg Spndg Per EP State','Avg Spndg Per EP Hospital'], title = 'Inpatient Spending w.r.t State and Hospital(top 10)',\n",
    "            color_discrete_map={\n",
    "                \"Avg Spndg Per EP State\": \"bisque\",\n",
    "                \"Avg Spndg Per EP Hospital\": \"tan\"})\n",
    "fig.show()"
   ]
  },
  {
   "cell_type": "code",
   "execution_count": 33,
   "metadata": {},
   "outputs": [
    {
     "data": {
      "text/html": [
       "<div>\n",
       "<style scoped>\n",
       "    .dataframe tbody tr th:only-of-type {\n",
       "        vertical-align: middle;\n",
       "    }\n",
       "\n",
       "    .dataframe tbody tr th {\n",
       "        vertical-align: top;\n",
       "    }\n",
       "\n",
       "    .dataframe thead th {\n",
       "        text-align: right;\n",
       "    }\n",
       "</style>\n",
       "<table border=\"1\" class=\"dataframe\">\n",
       "  <thead>\n",
       "    <tr style=\"text-align: right;\">\n",
       "      <th></th>\n",
       "      <th>Avg Spndg Per EP Hospital</th>\n",
       "      <th>Avg Spndg Per EP National</th>\n",
       "      <th>Avg Spndg Per EP State</th>\n",
       "    </tr>\n",
       "    <tr>\n",
       "      <th>State</th>\n",
       "      <th></th>\n",
       "      <th></th>\n",
       "      <th></th>\n",
       "    </tr>\n",
       "  </thead>\n",
       "  <tbody>\n",
       "    <tr>\n",
       "      <th>ND</th>\n",
       "      <td>556.047619</td>\n",
       "      <td>335.666667</td>\n",
       "      <td>617.333333</td>\n",
       "    </tr>\n",
       "    <tr>\n",
       "      <th>SD</th>\n",
       "      <td>467.875000</td>\n",
       "      <td>335.666667</td>\n",
       "      <td>617.333333</td>\n",
       "    </tr>\n",
       "    <tr>\n",
       "      <th>MT</th>\n",
       "      <td>448.307692</td>\n",
       "      <td>335.666667</td>\n",
       "      <td>510.333333</td>\n",
       "    </tr>\n",
       "    <tr>\n",
       "      <th>DC</th>\n",
       "      <td>391.444444</td>\n",
       "      <td>335.666667</td>\n",
       "      <td>337.333333</td>\n",
       "    </tr>\n",
       "    <tr>\n",
       "      <th>ID</th>\n",
       "      <td>388.333333</td>\n",
       "      <td>335.666667</td>\n",
       "      <td>450.333333</td>\n",
       "    </tr>\n",
       "    <tr>\n",
       "      <th>IA</th>\n",
       "      <td>388.313725</td>\n",
       "      <td>335.666667</td>\n",
       "      <td>446.333333</td>\n",
       "    </tr>\n",
       "    <tr>\n",
       "      <th>WI</th>\n",
       "      <td>380.328042</td>\n",
       "      <td>335.666667</td>\n",
       "      <td>439.333333</td>\n",
       "    </tr>\n",
       "    <tr>\n",
       "      <th>MN</th>\n",
       "      <td>378.546099</td>\n",
       "      <td>335.666667</td>\n",
       "      <td>470.333333</td>\n",
       "    </tr>\n",
       "    <tr>\n",
       "      <th>ME</th>\n",
       "      <td>370.705882</td>\n",
       "      <td>335.666667</td>\n",
       "      <td>425.333333</td>\n",
       "    </tr>\n",
       "    <tr>\n",
       "      <th>MO</th>\n",
       "      <td>368.961353</td>\n",
       "      <td>335.666667</td>\n",
       "      <td>417.000000</td>\n",
       "    </tr>\n",
       "  </tbody>\n",
       "</table>\n",
       "</div>"
      ],
      "text/plain": [
       "       Avg Spndg Per EP Hospital  Avg Spndg Per EP National  \\\n",
       "State                                                         \n",
       "ND                    556.047619                 335.666667   \n",
       "SD                    467.875000                 335.666667   \n",
       "MT                    448.307692                 335.666667   \n",
       "DC                    391.444444                 335.666667   \n",
       "ID                    388.333333                 335.666667   \n",
       "IA                    388.313725                 335.666667   \n",
       "WI                    380.328042                 335.666667   \n",
       "MN                    378.546099                 335.666667   \n",
       "ME                    370.705882                 335.666667   \n",
       "MO                    368.961353                 335.666667   \n",
       "\n",
       "       Avg Spndg Per EP State  \n",
       "State                          \n",
       "ND                 617.333333  \n",
       "SD                 617.333333  \n",
       "MT                 510.333333  \n",
       "DC                 337.333333  \n",
       "ID                 450.333333  \n",
       "IA                 446.333333  \n",
       "WI                 439.333333  \n",
       "MN                 470.333333  \n",
       "ME                 425.333333  \n",
       "MO                 417.000000  "
      ]
     },
     "execution_count": 33,
     "metadata": {},
     "output_type": "execute_result"
    }
   ],
   "source": [
    "out_spending "
   ]
  },
  {
   "cell_type": "code",
   "execution_count": 122,
   "metadata": {},
   "outputs": [],
   "source": [
    "out_spending_top_ten = pd.DataFrame(out_spending.to_records())"
   ]
  },
  {
   "cell_type": "code",
   "execution_count": 140,
   "metadata": {},
   "outputs": [
    {
     "data": {
      "text/plain": [
       "<matplotlib.legend.Legend at 0x1a6348284e0>"
      ]
     },
     "execution_count": 140,
     "metadata": {},
     "output_type": "execute_result"
    },
    {
     "data": {
      "image/png": "[encoded data removed]",
      "text/plain": [
       "<Figure size 720x360 with 1 Axes>"
      ]
     },
     "metadata": {
      "needs_background": "light"
     },
     "output_type": "display_data"
    }
   ],
   "source": [
    "out_spending.drop(columns = ['Avg Spndg Per EP National']).plot(kind = 'barh', figsize = (10,5) , title = 'Outpatient Spending at Hospital, State Level', colormap = 'viridis',\n",
    "             width = 0.65)\n",
    "plt.legend(bbox_to_anchor=(1.35, 1.05))\n",
    "# fig = px.bar(out_spending_top_ten,x = 'State', y=['Avg Spndg Per EP State','Avg Spndg Per EP Hospital'], title = 'Outpatient Spending w.r.t State and Hospital(top 10)',\n",
    "#         color_discrete_map={\n",
    "#                 \"Avg Spndg Per EP State\": \"bisque\",\n",
    "#                 \"Avg Spndg Per EP Hospital\": \"tan\"})\n",
    "# fig.show()\n"
   ]
  },
  {
   "cell_type": "markdown",
   "metadata": {},
   "source": [
    "#### Statewise spending done on Nursing Facility"
   ]
  },
  {
   "cell_type": "code",
   "execution_count": 50,
   "metadata": {},
   "outputs": [],
   "source": [
    "nursing = medicare[medicare['Claim Type'] == 'Skilled Nursing Facility']"
   ]
  },
  {
   "cell_type": "code",
   "execution_count": 53,
   "metadata": {},
   "outputs": [
    {
     "name": "stderr",
     "output_type": "stream",
     "text": [
      "C:\\Users\\Chaitali\\Important\\lib\\site-packages\\pandas\\core\\frame.py:3697: SettingWithCopyWarning: \n",
      "A value is trying to be set on a copy of a slice from a DataFrame\n",
      "\n",
      "See the caveats in the documentation: http://pandas.pydata.org/pandas-docs/stable/indexing.html#indexing-view-versus-copy\n",
      "  errors=errors)\n"
     ]
    }
   ],
   "source": [
    "nursing.drop(columns = ['Facility ID','Start Date','End Date','Facility Name'],inplace = True)"
   ]
  },
  {
   "cell_type": "code",
   "execution_count": 54,
   "metadata": {},
   "outputs": [
    {
     "data": {
      "text/html": [
       "<div>\n",
       "<style scoped>\n",
       "    .dataframe tbody tr th:only-of-type {\n",
       "        vertical-align: middle;\n",
       "    }\n",
       "\n",
       "    .dataframe tbody tr th {\n",
       "        vertical-align: top;\n",
       "    }\n",
       "\n",
       "    .dataframe thead th {\n",
       "        text-align: right;\n",
       "    }\n",
       "</style>\n",
       "<table border=\"1\" class=\"dataframe\">\n",
       "  <thead>\n",
       "    <tr style=\"text-align: right;\">\n",
       "      <th></th>\n",
       "      <th>State</th>\n",
       "      <th>Period</th>\n",
       "      <th>Claim Type</th>\n",
       "      <th>Avg Spndg Per EP Hospital</th>\n",
       "      <th>Avg Spndg Per EP State</th>\n",
       "      <th>Avg Spndg Per EP National</th>\n",
       "      <th>Percent of Spndg Hospital</th>\n",
       "      <th>Percent of Spndg State</th>\n",
       "      <th>Percent of Spndg National</th>\n",
       "    </tr>\n",
       "  </thead>\n",
       "  <tbody>\n",
       "    <tr>\n",
       "      <th>4</th>\n",
       "      <td>AL</td>\n",
       "      <td>Prior Hospital Admission</td>\n",
       "      <td>Skilled Nursing Facility</td>\n",
       "      <td>1</td>\n",
       "      <td>2</td>\n",
       "      <td>2</td>\n",
       "      <td>0.00</td>\n",
       "      <td>0.01</td>\n",
       "      <td>0.01</td>\n",
       "    </tr>\n",
       "    <tr>\n",
       "      <th>11</th>\n",
       "      <td>AL</td>\n",
       "      <td>During Hospital Admission</td>\n",
       "      <td>Skilled Nursing Facility</td>\n",
       "      <td>0</td>\n",
       "      <td>0</td>\n",
       "      <td>0</td>\n",
       "      <td>0.00</td>\n",
       "      <td>0.00</td>\n",
       "      <td>0.00</td>\n",
       "    </tr>\n",
       "    <tr>\n",
       "      <th>18</th>\n",
       "      <td>AL</td>\n",
       "      <td>After Discharge</td>\n",
       "      <td>Skilled Nursing Facility</td>\n",
       "      <td>2404</td>\n",
       "      <td>2630</td>\n",
       "      <td>3228</td>\n",
       "      <td>10.48</td>\n",
       "      <td>12.66</td>\n",
       "      <td>14.91</td>\n",
       "    </tr>\n",
       "    <tr>\n",
       "      <th>26</th>\n",
       "      <td>AL</td>\n",
       "      <td>Prior Hospital Admission</td>\n",
       "      <td>Skilled Nursing Facility</td>\n",
       "      <td>1</td>\n",
       "      <td>2</td>\n",
       "      <td>2</td>\n",
       "      <td>0.01</td>\n",
       "      <td>0.01</td>\n",
       "      <td>0.01</td>\n",
       "    </tr>\n",
       "    <tr>\n",
       "      <th>33</th>\n",
       "      <td>AL</td>\n",
       "      <td>During Hospital Admission</td>\n",
       "      <td>Skilled Nursing Facility</td>\n",
       "      <td>0</td>\n",
       "      <td>0</td>\n",
       "      <td>0</td>\n",
       "      <td>0.00</td>\n",
       "      <td>0.00</td>\n",
       "      <td>0.00</td>\n",
       "    </tr>\n",
       "  </tbody>\n",
       "</table>\n",
       "</div>"
      ],
      "text/plain": [
       "   State                     Period                Claim Type  \\\n",
       "4     AL   Prior Hospital Admission  Skilled Nursing Facility   \n",
       "11    AL  During Hospital Admission  Skilled Nursing Facility   \n",
       "18    AL            After Discharge  Skilled Nursing Facility   \n",
       "26    AL   Prior Hospital Admission  Skilled Nursing Facility   \n",
       "33    AL  During Hospital Admission  Skilled Nursing Facility   \n",
       "\n",
       "    Avg Spndg Per EP Hospital  Avg Spndg Per EP State  \\\n",
       "4                           1                       2   \n",
       "11                          0                       0   \n",
       "18                       2404                    2630   \n",
       "26                          1                       2   \n",
       "33                          0                       0   \n",
       "\n",
       "    Avg Spndg Per EP National  Percent of Spndg Hospital  \\\n",
       "4                           2                       0.00   \n",
       "11                          0                       0.00   \n",
       "18                       3228                      10.48   \n",
       "26                          2                       0.01   \n",
       "33                          0                       0.00   \n",
       "\n",
       "    Percent of Spndg State  Percent of Spndg National  \n",
       "4                     0.01                       0.01  \n",
       "11                    0.00                       0.00  \n",
       "18                   12.66                      14.91  \n",
       "26                    0.01                       0.01  \n",
       "33                    0.00                       0.00  "
      ]
     },
     "execution_count": 54,
     "metadata": {},
     "output_type": "execute_result"
    }
   ],
   "source": [
    "nursing.head()"
   ]
  },
  {
   "cell_type": "code",
   "execution_count": 55,
   "metadata": {},
   "outputs": [
    {
     "data": {
      "text/plain": [
       "After Discharge              3083\n",
       "Prior Hospital Admission     3083\n",
       "During Hospital Admission    3083\n",
       "Name: Period, dtype: int64"
      ]
     },
     "execution_count": 55,
     "metadata": {},
     "output_type": "execute_result"
    }
   ],
   "source": [
    "nursing.Period.value_counts()"
   ]
  },
  {
   "cell_type": "code",
   "execution_count": 62,
   "metadata": {},
   "outputs": [],
   "source": [
    "skilled_nursing_pivot = pd.pivot_table(nursing, index = 'State')"
   ]
  },
  {
   "cell_type": "code",
   "execution_count": 85,
   "metadata": {},
   "outputs": [],
   "source": [
    "skilled_nursing_pivot_top_ten = skilled_nursing_pivot.sort_values(by = 'Avg Spndg Per EP State', ascending = False)[:10]"
   ]
  },
  {
   "cell_type": "code",
   "execution_count": 86,
   "metadata": {},
   "outputs": [],
   "source": [
    "#Converting pivot table into dataframe\n",
    "skilled_nursing_pivot_top_ten = pd.DataFrame(skilled_nursing_pivot_top_ten.to_records())"
   ]
  },
  {
   "cell_type": "code",
   "execution_count": 101,
   "metadata": {},
   "outputs": [
    {
     "data": {
      "application/vnd.plotly.v1+json": {
       "config": {
        "plotlyServerURL": "https://plot.ly"
       },
       "data": [
        {
         "alignmentgroup": "True",
         "hovertemplate": "State=%{x}<br>Avg Spndg Per EP State=%{y}<extra></extra>",
         "legendgroup": "",
         "marker": {
          "color": "#636efa"
         },
         "name": "",
         "offsetgroup": "",
         "orientation": "v",
         "showlegend": false,
         "textposition": "auto",
         "type": "bar",
         "x": [
          "NJ",
          "CT",
          "NY",
          "IL",
          "CA",
          "IN",
          "NE",
          "UT",
          "RI",
          "OH"
         ],
         "xaxis": "x",
         "y": [
          1505,
          1379.6666666666667,
          1328.6666666666667,
          1255.3333333333333,
          1255,
          1250.3333333333333,
          1223,
          1213.6666666666667,
          1212,
          1211
         ],
         "yaxis": "y"
        }
       ],
       "layout": {
        "barmode": "relative",
        "legend": {
         "tracegroupgap": 0
        },
        "margin": {
         "t": 60
        },
        "template": {
         "data": {
          "bar": [
           {
            "error_x": {
             "color": "#2a3f5f"
            },
            "error_y": {
             "color": "#2a3f5f"
            },
            "marker": {
             "line": {
              "color": "#E5ECF6",
              "width": 0.5
             }
            },
            "type": "bar"
           }
          ],
          "barpolar": [
           {
            "marker": {
             "line": {
              "color": "#E5ECF6",
              "width": 0.5
             }
            },
            "type": "barpolar"
           }
          ],
          "carpet": [
           {
            "aaxis": {
             "endlinecolor": "#2a3f5f",
             "gridcolor": "white",
             "linecolor": "white",
             "minorgridcolor": "white",
             "startlinecolor": "#2a3f5f"
            },
            "baxis": {
             "endlinecolor": "#2a3f5f",
             "gridcolor": "white",
             "linecolor": "white",
             "minorgridcolor": "white",
             "startlinecolor": "#2a3f5f"
            },
            "type": "carpet"
           }
          ],
          "choropleth": [
           {
            "colorbar": {
             "outlinewidth": 0,
             "ticks": ""
            },
            "type": "choropleth"
           }
          ],
          "contour": [
           {
            "colorbar": {
             "outlinewidth": 0,
             "ticks": ""
            },
            "colorscale": [
             [
              0,
              "#0d0887"
             ],
             [
              0.1111111111111111,
              "#46039f"
             ],
             [
              0.2222222222222222,
              "#7201a8"
             ],
             [
              0.3333333333333333,
              "#9c179e"
             ],
             [
              0.4444444444444444,
              "#bd3786"
             ],
             [
              0.5555555555555556,
              "#d8576b"
             ],
             [
              0.6666666666666666,
              "#ed7953"
             ],
             [
              0.7777777777777778,
              "#fb9f3a"
             ],
             [
              0.8888888888888888,
              "#fdca26"
             ],
             [
              1,
              "#f0f921"
             ]
            ],
            "type": "contour"
           }
          ],
          "contourcarpet": [
           {
            "colorbar": {
             "outlinewidth": 0,
             "ticks": ""
            },
            "type": "contourcarpet"
           }
          ],
          "heatmap": [
           {
            "colorbar": {
             "outlinewidth": 0,
             "ticks": ""
            },
            "colorscale": [
             [
              0,
              "#0d0887"
             ],
             [
              0.1111111111111111,
              "#46039f"
             ],
             [
              0.2222222222222222,
              "#7201a8"
             ],
             [
              0.3333333333333333,
              "#9c179e"
             ],
             [
              0.4444444444444444,
              "#bd3786"
             ],
             [
              0.5555555555555556,
              "#d8576b"
             ],
             [
              0.6666666666666666,
              "#ed7953"
             ],
             [
              0.7777777777777778,
              "#fb9f3a"
             ],
             [
              0.8888888888888888,
              "#fdca26"
             ],
             [
              1,
              "#f0f921"
             ]
            ],
            "type": "heatmap"
           }
          ],
          "heatmapgl": [
           {
            "colorbar": {
             "outlinewidth": 0,
             "ticks": ""
            },
            "colorscale": [
             [
              0,
              "#0d0887"
             ],
             [
              0.1111111111111111,
              "#46039f"
             ],
             [
              0.2222222222222222,
              "#7201a8"
             ],
             [
              0.3333333333333333,
              "#9c179e"
             ],
             [
              0.4444444444444444,
              "#bd3786"
             ],
             [
              0.5555555555555556,
              "#d8576b"
             ],
             [
              0.6666666666666666,
              "#ed7953"
             ],
             [
              0.7777777777777778,
              "#fb9f3a"
             ],
             [
              0.8888888888888888,
              "#fdca26"
             ],
             [
              1,
              "#f0f921"
             ]
            ],
            "type": "heatmapgl"
           }
          ],
          "histogram": [
           {
            "marker": {
             "colorbar": {
              "outlinewidth": 0,
              "ticks": ""
             }
            },
            "type": "histogram"
           }
          ],
          "histogram2d": [
           {
            "colorbar": {
             "outlinewidth": 0,
             "ticks": ""
            },
            "colorscale": [
             [
              0,
              "#0d0887"
             ],
             [
              0.1111111111111111,
              "#46039f"
             ],
             [
              0.2222222222222222,
              "#7201a8"
             ],
             [
              0.3333333333333333,
              "#9c179e"
             ],
             [
              0.4444444444444444,
              "#bd3786"
             ],
             [
              0.5555555555555556,
              "#d8576b"
             ],
             [
              0.6666666666666666,
              "#ed7953"
             ],
             [
              0.7777777777777778,
              "#fb9f3a"
             ],
             [
              0.8888888888888888,
              "#fdca26"
             ],
             [
              1,
              "#f0f921"
             ]
            ],
            "type": "histogram2d"
           }
          ],
          "histogram2dcontour": [
           {
            "colorbar": {
             "outlinewidth": 0,
             "ticks": ""
            },
            "colorscale": [
             [
              0,
              "#0d0887"
             ],
             [
              0.1111111111111111,
              "#46039f"
             ],
             [
              0.2222222222222222,
              "#7201a8"
             ],
             [
              0.3333333333333333,
              "#9c179e"
             ],
             [
              0.4444444444444444,
              "#bd3786"
             ],
             [
              0.5555555555555556,
              "#d8576b"
             ],
             [
              0.6666666666666666,
              "#ed7953"
             ],
             [
              0.7777777777777778,
              "#fb9f3a"
             ],
             [
              0.8888888888888888,
              "#fdca26"
             ],
             [
              1,
              "#f0f921"
             ]
            ],
            "type": "histogram2dcontour"
           }
          ],
          "mesh3d": [
           {
            "colorbar": {
             "outlinewidth": 0,
             "ticks": ""
            },
            "type": "mesh3d"
           }
          ],
          "parcoords": [
           {
            "line": {
             "colorbar": {
              "outlinewidth": 0,
              "ticks": ""
             }
            },
            "type": "parcoords"
           }
          ],
          "pie": [
           {
            "automargin": true,
            "type": "pie"
           }
          ],
          "scatter": [
           {
            "marker": {
             "colorbar": {
              "outlinewidth": 0,
              "ticks": ""
             }
            },
            "type": "scatter"
           }
          ],
          "scatter3d": [
           {
            "line": {
             "colorbar": {
              "outlinewidth": 0,
              "ticks": ""
             }
            },
            "marker": {
             "colorbar": {
              "outlinewidth": 0,
              "ticks": ""
             }
            },
            "type": "scatter3d"
           }
          ],
          "scattercarpet": [
           {
            "marker": {
             "colorbar": {
              "outlinewidth": 0,
              "ticks": ""
             }
            },
            "type": "scattercarpet"
           }
          ],
          "scattergeo": [
           {
            "marker": {
             "colorbar": {
              "outlinewidth": 0,
              "ticks": ""
             }
            },
            "type": "scattergeo"
           }
          ],
          "scattergl": [
           {
            "marker": {
             "colorbar": {
              "outlinewidth": 0,
              "ticks": ""
             }
            },
            "type": "scattergl"
           }
          ],
          "scattermapbox": [
           {
            "marker": {
             "colorbar": {
              "outlinewidth": 0,
              "ticks": ""
             }
            },
            "type": "scattermapbox"
           }
          ],
          "scatterpolar": [
           {
            "marker": {
             "colorbar": {
              "outlinewidth": 0,
              "ticks": ""
             }
            },
            "type": "scatterpolar"
           }
          ],
          "scatterpolargl": [
           {
            "marker": {
             "colorbar": {
              "outlinewidth": 0,
              "ticks": ""
             }
            },
            "type": "scatterpolargl"
           }
          ],
          "scatterternary": [
           {
            "marker": {
             "colorbar": {
              "outlinewidth": 0,
              "ticks": ""
             }
            },
            "type": "scatterternary"
           }
          ],
          "surface": [
           {
            "colorbar": {
             "outlinewidth": 0,
             "ticks": ""
            },
            "colorscale": [
             [
              0,
              "#0d0887"
             ],
             [
              0.1111111111111111,
              "#46039f"
             ],
             [
              0.2222222222222222,
              "#7201a8"
             ],
             [
              0.3333333333333333,
              "#9c179e"
             ],
             [
              0.4444444444444444,
              "#bd3786"
             ],
             [
              0.5555555555555556,
              "#d8576b"
             ],
             [
              0.6666666666666666,
              "#ed7953"
             ],
             [
              0.7777777777777778,
              "#fb9f3a"
             ],
             [
              0.8888888888888888,
              "#fdca26"
             ],
             [
              1,
              "#f0f921"
             ]
            ],
            "type": "surface"
           }
          ],
          "table": [
           {
            "cells": {
             "fill": {
              "color": "#EBF0F8"
             },
             "line": {
              "color": "white"
             }
            },
            "header": {
             "fill": {
              "color": "#C8D4E3"
             },
             "line": {
              "color": "white"
             }
            },
            "type": "table"
           }
          ]
         },
         "layout": {
          "annotationdefaults": {
           "arrowcolor": "#2a3f5f",
           "arrowhead": 0,
           "arrowwidth": 1
          },
          "coloraxis": {
           "colorbar": {
            "outlinewidth": 0,
            "ticks": ""
           }
          },
          "colorscale": {
           "diverging": [
            [
             0,
             "#8e0152"
            ],
            [
             0.1,
             "#c51b7d"
            ],
            [
             0.2,
             "#de77ae"
            ],
            [
             0.3,
             "#f1b6da"
            ],
            [
             0.4,
             "#fde0ef"
            ],
            [
             0.5,
             "#f7f7f7"
            ],
            [
             0.6,
             "#e6f5d0"
            ],
            [
             0.7,
             "#b8e186"
            ],
            [
             0.8,
             "#7fbc41"
            ],
            [
             0.9,
             "#4d9221"
            ],
            [
             1,
             "#276419"
            ]
           ],
           "sequential": [
            [
             0,
             "#0d0887"
            ],
            [
             0.1111111111111111,
             "#46039f"
            ],
            [
             0.2222222222222222,
             "#7201a8"
            ],
            [
             0.3333333333333333,
             "#9c179e"
            ],
            [
             0.4444444444444444,
             "#bd3786"
            ],
            [
             0.5555555555555556,
             "#d8576b"
            ],
            [
             0.6666666666666666,
             "#ed7953"
            ],
            [
             0.7777777777777778,
             "#fb9f3a"
            ],
            [
             0.8888888888888888,
             "#fdca26"
            ],
            [
             1,
             "#f0f921"
            ]
           ],
           "sequentialminus": [
            [
             0,
             "#0d0887"
            ],
            [
             0.1111111111111111,
             "#46039f"
            ],
            [
             0.2222222222222222,
             "#7201a8"
            ],
            [
             0.3333333333333333,
             "#9c179e"
            ],
            [
             0.4444444444444444,
             "#bd3786"
            ],
            [
             0.5555555555555556,
             "#d8576b"
            ],
            [
             0.6666666666666666,
             "#ed7953"
            ],
            [
             0.7777777777777778,
             "#fb9f3a"
            ],
            [
             0.8888888888888888,
             "#fdca26"
            ],
            [
             1,
             "#f0f921"
            ]
           ]
          },
          "colorway": [
           "#636efa",
           "#EF553B",
           "#00cc96",
           "#ab63fa",
           "#FFA15A",
           "#19d3f3",
           "#FF6692",
           "#B6E880",
           "#FF97FF",
           "#FECB52"
          ],
          "font": {
           "color": "#2a3f5f"
          },
          "geo": {
           "bgcolor": "white",
           "lakecolor": "white",
           "landcolor": "#E5ECF6",
           "showlakes": true,
           "showland": true,
           "subunitcolor": "white"
          },
          "hoverlabel": {
           "align": "left"
          },
          "hovermode": "closest",
          "mapbox": {
           "style": "light"
          },
          "paper_bgcolor": "white",
          "plot_bgcolor": "#E5ECF6",
          "polar": {
           "angularaxis": {
            "gridcolor": "white",
            "linecolor": "white",
            "ticks": ""
           },
           "bgcolor": "#E5ECF6",
           "radialaxis": {
            "gridcolor": "white",
            "linecolor": "white",
            "ticks": ""
           }
          },
          "scene": {
           "xaxis": {
            "backgroundcolor": "#E5ECF6",
            "gridcolor": "white",
            "gridwidth": 2,
            "linecolor": "white",
            "showbackground": true,
            "ticks": "",
            "zerolinecolor": "white"
           },
           "yaxis": {
            "backgroundcolor": "#E5ECF6",
            "gridcolor": "white",
            "gridwidth": 2,
            "linecolor": "white",
            "showbackground": true,
            "ticks": "",
            "zerolinecolor": "white"
           },
           "zaxis": {
            "backgroundcolor": "#E5ECF6",
            "gridcolor": "white",
            "gridwidth": 2,
            "linecolor": "white",
            "showbackground": true,
            "ticks": "",
            "zerolinecolor": "white"
           }
          },
          "shapedefaults": {
           "line": {
            "color": "#2a3f5f"
           }
          },
          "ternary": {
           "aaxis": {
            "gridcolor": "white",
            "linecolor": "white",
            "ticks": ""
           },
           "baxis": {
            "gridcolor": "white",
            "linecolor": "white",
            "ticks": ""
           },
           "bgcolor": "#E5ECF6",
           "caxis": {
            "gridcolor": "white",
            "linecolor": "white",
            "ticks": ""
           }
          },
          "title": {
           "x": 0.05
          },
          "xaxis": {
           "automargin": true,
           "gridcolor": "white",
           "linecolor": "white",
           "ticks": "",
           "title": {
            "standoff": 15
           },
           "zerolinecolor": "white",
           "zerolinewidth": 2
          },
          "yaxis": {
           "automargin": true,
           "gridcolor": "white",
           "linecolor": "white",
           "ticks": "",
           "title": {
            "standoff": 15
           },
           "zerolinecolor": "white",
           "zerolinewidth": 2
          }
         }
        },
        "xaxis": {
         "anchor": "y",
         "domain": [
          0,
          1
         ],
         "title": {
          "text": "State"
         }
        },
        "yaxis": {
         "anchor": "x",
         "domain": [
          0,
          1
         ],
         "title": {
          "text": "Avg Spndg Per EP State"
         }
        }
       }
      },
      "text/html": [
       "<div>\n",
       "        \n",
       "        \n",
       "            <div id=\"3c223980-87c9-4417-9aec-c5700a408754\" class=\"plotly-graph-div\" style=\"height:525px; width:100%;\"></div>\n",
       "            <script type=\"text/javascript\">\n",
       "                require([\"plotly\"], function(Plotly) {\n",
       "                    window.PLOTLYENV=window.PLOTLYENV || {};\n",
       "                    \n",
       "                if (document.getElementById(\"3c223980-87c9-4417-9aec-c5700a408754\")) {\n",
       "                    Plotly.newPlot(\n",
       "                        '3c223980-87c9-4417-9aec-c5700a408754',\n",
       "                        [{\"alignmentgroup\": \"True\", \"hovertemplate\": \"State=%{x}<br>Avg Spndg Per EP State=%{y}<extra></extra>\", \"legendgroup\": \"\", \"marker\": {\"color\": \"#636efa\"}, \"name\": \"\", \"offsetgroup\": \"\", \"orientation\": \"v\", \"showlegend\": false, \"textposition\": \"auto\", \"type\": \"bar\", \"x\": [\"NJ\", \"CT\", \"NY\", \"IL\", \"CA\", \"IN\", \"NE\", \"UT\", \"RI\", \"OH\"], \"xaxis\": \"x\", \"y\": [1505.0, 1379.6666666666667, 1328.6666666666667, 1255.3333333333333, 1255.0, 1250.3333333333333, 1223.0, 1213.6666666666667, 1212.0, 1211.0], \"yaxis\": \"y\"}],\n",
       "                        {\"barmode\": \"relative\", \"legend\": {\"tracegroupgap\": 0}, \"margin\": {\"t\": 60}, \"template\": {\"data\": {\"bar\": [{\"error_x\": {\"color\": \"#2a3f5f\"}, \"error_y\": {\"color\": \"#2a3f5f\"}, \"marker\": {\"line\": {\"color\": \"#E5ECF6\", \"width\": 0.5}}, \"type\": \"bar\"}], \"barpolar\": [{\"marker\": {\"line\": {\"color\": \"#E5ECF6\", \"width\": 0.5}}, \"type\": \"barpolar\"}], \"carpet\": [{\"aaxis\": {\"endlinecolor\": \"#2a3f5f\", \"gridcolor\": \"white\", \"linecolor\": \"white\", \"minorgridcolor\": \"white\", \"startlinecolor\": \"#2a3f5f\"}, \"baxis\": {\"endlinecolor\": \"#2a3f5f\", \"gridcolor\": \"white\", \"linecolor\": \"white\", \"minorgridcolor\": \"white\", \"startlinecolor\": \"#2a3f5f\"}, \"type\": \"carpet\"}], \"choropleth\": [{\"colorbar\": {\"outlinewidth\": 0, \"ticks\": \"\"}, \"type\": \"choropleth\"}], \"contour\": [{\"colorbar\": {\"outlinewidth\": 0, \"ticks\": \"\"}, \"colorscale\": [[0.0, \"#0d0887\"], [0.1111111111111111, \"#46039f\"], [0.2222222222222222, \"#7201a8\"], [0.3333333333333333, \"#9c179e\"], [0.4444444444444444, \"#bd3786\"], [0.5555555555555556, \"#d8576b\"], [0.6666666666666666, \"#ed7953\"], [0.7777777777777778, \"#fb9f3a\"], [0.8888888888888888, \"#fdca26\"], [1.0, \"#f0f921\"]], \"type\": \"contour\"}], \"contourcarpet\": [{\"colorbar\": {\"outlinewidth\": 0, \"ticks\": \"\"}, \"type\": \"contourcarpet\"}], \"heatmap\": [{\"colorbar\": {\"outlinewidth\": 0, \"ticks\": \"\"}, \"colorscale\": [[0.0, \"#0d0887\"], [0.1111111111111111, \"#46039f\"], [0.2222222222222222, \"#7201a8\"], [0.3333333333333333, \"#9c179e\"], [0.4444444444444444, \"#bd3786\"], [0.5555555555555556, \"#d8576b\"], [0.6666666666666666, \"#ed7953\"], [0.7777777777777778, \"#fb9f3a\"], [0.8888888888888888, \"#fdca26\"], [1.0, \"#f0f921\"]], \"type\": \"heatmap\"}], \"heatmapgl\": [{\"colorbar\": {\"outlinewidth\": 0, \"ticks\": \"\"}, \"colorscale\": [[0.0, \"#0d0887\"], [0.1111111111111111, \"#46039f\"], [0.2222222222222222, \"#7201a8\"], [0.3333333333333333, \"#9c179e\"], [0.4444444444444444, \"#bd3786\"], [0.5555555555555556, \"#d8576b\"], [0.6666666666666666, \"#ed7953\"], [0.7777777777777778, \"#fb9f3a\"], [0.8888888888888888, \"#fdca26\"], [1.0, \"#f0f921\"]], \"type\": \"heatmapgl\"}], \"histogram\": [{\"marker\": {\"colorbar\": {\"outlinewidth\": 0, \"ticks\": \"\"}}, \"type\": \"histogram\"}], \"histogram2d\": [{\"colorbar\": {\"outlinewidth\": 0, \"ticks\": \"\"}, \"colorscale\": [[0.0, \"#0d0887\"], [0.1111111111111111, \"#46039f\"], [0.2222222222222222, \"#7201a8\"], [0.3333333333333333, \"#9c179e\"], [0.4444444444444444, \"#bd3786\"], [0.5555555555555556, \"#d8576b\"], [0.6666666666666666, \"#ed7953\"], [0.7777777777777778, \"#fb9f3a\"], [0.8888888888888888, \"#fdca26\"], [1.0, \"#f0f921\"]], \"type\": \"histogram2d\"}], \"histogram2dcontour\": [{\"colorbar\": {\"outlinewidth\": 0, \"ticks\": \"\"}, \"colorscale\": [[0.0, \"#0d0887\"], [0.1111111111111111, \"#46039f\"], [0.2222222222222222, \"#7201a8\"], [0.3333333333333333, \"#9c179e\"], [0.4444444444444444, \"#bd3786\"], [0.5555555555555556, \"#d8576b\"], [0.6666666666666666, \"#ed7953\"], [0.7777777777777778, \"#fb9f3a\"], [0.8888888888888888, \"#fdca26\"], [1.0, \"#f0f921\"]], \"type\": \"histogram2dcontour\"}], \"mesh3d\": [{\"colorbar\": {\"outlinewidth\": 0, \"ticks\": \"\"}, \"type\": \"mesh3d\"}], \"parcoords\": [{\"line\": {\"colorbar\": {\"outlinewidth\": 0, \"ticks\": \"\"}}, \"type\": \"parcoords\"}], \"pie\": [{\"automargin\": true, \"type\": \"pie\"}], \"scatter\": [{\"marker\": {\"colorbar\": {\"outlinewidth\": 0, \"ticks\": \"\"}}, \"type\": \"scatter\"}], \"scatter3d\": [{\"line\": {\"colorbar\": {\"outlinewidth\": 0, \"ticks\": \"\"}}, \"marker\": {\"colorbar\": {\"outlinewidth\": 0, \"ticks\": \"\"}}, \"type\": \"scatter3d\"}], \"scattercarpet\": [{\"marker\": {\"colorbar\": {\"outlinewidth\": 0, \"ticks\": \"\"}}, \"type\": \"scattercarpet\"}], \"scattergeo\": [{\"marker\": {\"colorbar\": {\"outlinewidth\": 0, \"ticks\": \"\"}}, \"type\": \"scattergeo\"}], \"scattergl\": [{\"marker\": {\"colorbar\": {\"outlinewidth\": 0, \"ticks\": \"\"}}, \"type\": \"scattergl\"}], \"scattermapbox\": [{\"marker\": {\"colorbar\": {\"outlinewidth\": 0, \"ticks\": \"\"}}, \"type\": \"scattermapbox\"}], \"scatterpolar\": [{\"marker\": {\"colorbar\": {\"outlinewidth\": 0, \"ticks\": \"\"}}, \"type\": \"scatterpolar\"}], \"scatterpolargl\": [{\"marker\": {\"colorbar\": {\"outlinewidth\": 0, \"ticks\": \"\"}}, \"type\": \"scatterpolargl\"}], \"scatterternary\": [{\"marker\": {\"colorbar\": {\"outlinewidth\": 0, \"ticks\": \"\"}}, \"type\": \"scatterternary\"}], \"surface\": [{\"colorbar\": {\"outlinewidth\": 0, \"ticks\": \"\"}, \"colorscale\": [[0.0, \"#0d0887\"], [0.1111111111111111, \"#46039f\"], [0.2222222222222222, \"#7201a8\"], [0.3333333333333333, \"#9c179e\"], [0.4444444444444444, \"#bd3786\"], [0.5555555555555556, \"#d8576b\"], [0.6666666666666666, \"#ed7953\"], [0.7777777777777778, \"#fb9f3a\"], [0.8888888888888888, \"#fdca26\"], [1.0, \"#f0f921\"]], \"type\": \"surface\"}], \"table\": [{\"cells\": {\"fill\": {\"color\": \"#EBF0F8\"}, \"line\": {\"color\": \"white\"}}, \"header\": {\"fill\": {\"color\": \"#C8D4E3\"}, \"line\": {\"color\": \"white\"}}, \"type\": \"table\"}]}, \"layout\": {\"annotationdefaults\": {\"arrowcolor\": \"#2a3f5f\", \"arrowhead\": 0, \"arrowwidth\": 1}, \"coloraxis\": {\"colorbar\": {\"outlinewidth\": 0, \"ticks\": \"\"}}, \"colorscale\": {\"diverging\": [[0, \"#8e0152\"], [0.1, \"#c51b7d\"], [0.2, \"#de77ae\"], [0.3, \"#f1b6da\"], [0.4, \"#fde0ef\"], [0.5, \"#f7f7f7\"], [0.6, \"#e6f5d0\"], [0.7, \"#b8e186\"], [0.8, \"#7fbc41\"], [0.9, \"#4d9221\"], [1, \"#276419\"]], \"sequential\": [[0.0, \"#0d0887\"], [0.1111111111111111, \"#46039f\"], [0.2222222222222222, \"#7201a8\"], [0.3333333333333333, \"#9c179e\"], [0.4444444444444444, \"#bd3786\"], [0.5555555555555556, \"#d8576b\"], [0.6666666666666666, \"#ed7953\"], [0.7777777777777778, \"#fb9f3a\"], [0.8888888888888888, \"#fdca26\"], [1.0, \"#f0f921\"]], \"sequentialminus\": [[0.0, \"#0d0887\"], [0.1111111111111111, \"#46039f\"], [0.2222222222222222, \"#7201a8\"], [0.3333333333333333, \"#9c179e\"], [0.4444444444444444, \"#bd3786\"], [0.5555555555555556, \"#d8576b\"], [0.6666666666666666, \"#ed7953\"], [0.7777777777777778, \"#fb9f3a\"], [0.8888888888888888, \"#fdca26\"], [1.0, \"#f0f921\"]]}, \"colorway\": [\"#636efa\", \"#EF553B\", \"#00cc96\", \"#ab63fa\", \"#FFA15A\", \"#19d3f3\", \"#FF6692\", \"#B6E880\", \"#FF97FF\", \"#FECB52\"], \"font\": {\"color\": \"#2a3f5f\"}, \"geo\": {\"bgcolor\": \"white\", \"lakecolor\": \"white\", \"landcolor\": \"#E5ECF6\", \"showlakes\": true, \"showland\": true, \"subunitcolor\": \"white\"}, \"hoverlabel\": {\"align\": \"left\"}, \"hovermode\": \"closest\", \"mapbox\": {\"style\": \"light\"}, \"paper_bgcolor\": \"white\", \"plot_bgcolor\": \"#E5ECF6\", \"polar\": {\"angularaxis\": {\"gridcolor\": \"white\", \"linecolor\": \"white\", \"ticks\": \"\"}, \"bgcolor\": \"#E5ECF6\", \"radialaxis\": {\"gridcolor\": \"white\", \"linecolor\": \"white\", \"ticks\": \"\"}}, \"scene\": {\"xaxis\": {\"backgroundcolor\": \"#E5ECF6\", \"gridcolor\": \"white\", \"gridwidth\": 2, \"linecolor\": \"white\", \"showbackground\": true, \"ticks\": \"\", \"zerolinecolor\": \"white\"}, \"yaxis\": {\"backgroundcolor\": \"#E5ECF6\", \"gridcolor\": \"white\", \"gridwidth\": 2, \"linecolor\": \"white\", \"showbackground\": true, \"ticks\": \"\", \"zerolinecolor\": \"white\"}, \"zaxis\": {\"backgroundcolor\": \"#E5ECF6\", \"gridcolor\": \"white\", \"gridwidth\": 2, \"linecolor\": \"white\", \"showbackground\": true, \"ticks\": \"\", \"zerolinecolor\": \"white\"}}, \"shapedefaults\": {\"line\": {\"color\": \"#2a3f5f\"}}, \"ternary\": {\"aaxis\": {\"gridcolor\": \"white\", \"linecolor\": \"white\", \"ticks\": \"\"}, \"baxis\": {\"gridcolor\": \"white\", \"linecolor\": \"white\", \"ticks\": \"\"}, \"bgcolor\": \"#E5ECF6\", \"caxis\": {\"gridcolor\": \"white\", \"linecolor\": \"white\", \"ticks\": \"\"}}, \"title\": {\"x\": 0.05}, \"xaxis\": {\"automargin\": true, \"gridcolor\": \"white\", \"linecolor\": \"white\", \"ticks\": \"\", \"title\": {\"standoff\": 15}, \"zerolinecolor\": \"white\", \"zerolinewidth\": 2}, \"yaxis\": {\"automargin\": true, \"gridcolor\": \"white\", \"linecolor\": \"white\", \"ticks\": \"\", \"title\": {\"standoff\": 15}, \"zerolinecolor\": \"white\", \"zerolinewidth\": 2}}}, \"xaxis\": {\"anchor\": \"y\", \"domain\": [0.0, 1.0], \"title\": {\"text\": \"State\"}}, \"yaxis\": {\"anchor\": \"x\", \"domain\": [0.0, 1.0], \"title\": {\"text\": \"Avg Spndg Per EP State\"}}},\n",
       "                        {\"responsive\": true}\n",
       "                    ).then(function(){\n",
       "                            \n",
       "var gd = document.getElementById('3c223980-87c9-4417-9aec-c5700a408754');\n",
       "var x = new MutationObserver(function (mutations, observer) {{\n",
       "        var display = window.getComputedStyle(gd).display;\n",
       "        if (!display || display === 'none') {{\n",
       "            console.log([gd, 'removed!']);\n",
       "            Plotly.purge(gd);\n",
       "            observer.disconnect();\n",
       "        }}\n",
       "}});\n",
       "\n",
       "// Listen for the removal of the full notebook cells\n",
       "var notebookContainer = gd.closest('#notebook-container');\n",
       "if (notebookContainer) {{\n",
       "    x.observe(notebookContainer, {childList: true});\n",
       "}}\n",
       "\n",
       "// Listen for the clearing of the current output cell\n",
       "var outputEl = gd.closest('.output');\n",
       "if (outputEl) {{\n",
       "    x.observe(outputEl, {childList: true});\n",
       "}}\n",
       "\n",
       "                        })\n",
       "                };\n",
       "                });\n",
       "            </script>\n",
       "        </div>"
      ]
     },
     "metadata": {},
     "output_type": "display_data"
    }
   ],
   "source": [
    "fig = px.bar(skilled_nursing_pivot_top_ten,x = 'State', y='Avg Spndg Per EP State')\n",
    "fig.show()"
   ]
  },
  {
   "cell_type": "code",
   "execution_count": 135,
   "metadata": {},
   "outputs": [],
   "source": [
    "medical_facility_center = pd.pivot_table(medicare.drop(columns = ['Facility ID','Percent of Spndg Hospital','Percent of Spndg National','Avg Spndg Per EP National','Percent of Spndg State']), index = 'Facility Name')"
   ]
  },
  {
   "cell_type": "markdown",
   "metadata": {},
   "source": [
    "####  Spending with respect to Medical Facility"
   ]
  },
  {
   "cell_type": "code",
   "execution_count": 138,
   "metadata": {},
   "outputs": [
    {
     "data": {
      "text/html": [
       "<div>\n",
       "<style scoped>\n",
       "    .dataframe tbody tr th:only-of-type {\n",
       "        vertical-align: middle;\n",
       "    }\n",
       "\n",
       "    .dataframe tbody tr th {\n",
       "        vertical-align: top;\n",
       "    }\n",
       "\n",
       "    .dataframe thead th {\n",
       "        text-align: right;\n",
       "    }\n",
       "</style>\n",
       "<table border=\"1\" class=\"dataframe\">\n",
       "  <thead>\n",
       "    <tr style=\"text-align: right;\">\n",
       "      <th></th>\n",
       "      <th>Avg Spndg Per EP Hospital</th>\n",
       "      <th>Avg Spndg Per EP State</th>\n",
       "    </tr>\n",
       "    <tr>\n",
       "      <th>Facility Name</th>\n",
       "      <th></th>\n",
       "      <th></th>\n",
       "    </tr>\n",
       "  </thead>\n",
       "  <tbody>\n",
       "    <tr>\n",
       "      <th>NORTHWEST HILLS SURGICAL HOSPITAL</th>\n",
       "      <td>3405.090909</td>\n",
       "      <td>2122.181818</td>\n",
       "    </tr>\n",
       "    <tr>\n",
       "      <th>DALLAS MEDICAL CENTER</th>\n",
       "      <td>2894.409091</td>\n",
       "      <td>2122.181818</td>\n",
       "    </tr>\n",
       "    <tr>\n",
       "      <th>BAYLOR SCOTT &amp; WHITE THE HEART HOSPITAL - PLANO</th>\n",
       "      <td>2824.409091</td>\n",
       "      <td>2122.181818</td>\n",
       "    </tr>\n",
       "    <tr>\n",
       "      <th>U.T. SOUTHWESTERN UNIVERSITY HOSPITAL - ZALE LIPSHY</th>\n",
       "      <td>2792.000000</td>\n",
       "      <td>2122.181818</td>\n",
       "    </tr>\n",
       "    <tr>\n",
       "      <th>BAYLOR MEDICAL CENTER AT TROPHY CLUB</th>\n",
       "      <td>2713.454545</td>\n",
       "      <td>2122.181818</td>\n",
       "    </tr>\n",
       "    <tr>\n",
       "      <th>BAYLOR SURGICAL HOSPITAL AT LAS COLINAS</th>\n",
       "      <td>2700.863636</td>\n",
       "      <td>2122.181818</td>\n",
       "    </tr>\n",
       "    <tr>\n",
       "      <th>BAYLOR SCOTT AND WHITE SURGICAL HOSPITAL FORTWORTH</th>\n",
       "      <td>2684.954545</td>\n",
       "      <td>2122.181818</td>\n",
       "    </tr>\n",
       "    <tr>\n",
       "      <th>MEMORIAL HERMANN - TEXAS MEDICAL CENTER</th>\n",
       "      <td>2665.636364</td>\n",
       "      <td>2122.181818</td>\n",
       "    </tr>\n",
       "    <tr>\n",
       "      <th>DELL SETON  MED CENTER AT THE UNIVERSITY OF TX</th>\n",
       "      <td>2629.681818</td>\n",
       "      <td>2122.181818</td>\n",
       "    </tr>\n",
       "    <tr>\n",
       "      <th>CHI BAYLOR ST LUKES  MEDICAL CENTER</th>\n",
       "      <td>2624.136364</td>\n",
       "      <td>2122.181818</td>\n",
       "    </tr>\n",
       "    <tr>\n",
       "      <th>METHODIST HOSPITAL FOR SURGERY</th>\n",
       "      <td>2608.909091</td>\n",
       "      <td>2122.181818</td>\n",
       "    </tr>\n",
       "    <tr>\n",
       "      <th>FOUNDATION SURGICAL HOSPITAL OF EL PASO</th>\n",
       "      <td>2563.590909</td>\n",
       "      <td>2122.181818</td>\n",
       "    </tr>\n",
       "    <tr>\n",
       "      <th>AD HOSPITAL EAST LLC</th>\n",
       "      <td>2537.136364</td>\n",
       "      <td>2122.181818</td>\n",
       "    </tr>\n",
       "    <tr>\n",
       "      <th>MEDICAL CITY PLANO</th>\n",
       "      <td>2507.545455</td>\n",
       "      <td>2122.181818</td>\n",
       "    </tr>\n",
       "    <tr>\n",
       "      <th>SOUTHWEST GENERAL HOSPITAL</th>\n",
       "      <td>2483.500000</td>\n",
       "      <td>2122.181818</td>\n",
       "    </tr>\n",
       "    <tr>\n",
       "      <th>CHI ST LUKES LAKESIDE HOSPITAL</th>\n",
       "      <td>2470.954545</td>\n",
       "      <td>2122.181818</td>\n",
       "    </tr>\n",
       "    <tr>\n",
       "      <th>CHRISTUS SPOHN HOSPITAL CORPUS CHRISTI</th>\n",
       "      <td>2464.545455</td>\n",
       "      <td>2122.181818</td>\n",
       "    </tr>\n",
       "    <tr>\n",
       "      <th>MEDICAL CITY FORT WORTH</th>\n",
       "      <td>2447.000000</td>\n",
       "      <td>2122.181818</td>\n",
       "    </tr>\n",
       "    <tr>\n",
       "      <th>CRESCENT MEDICAL CENTER LANCASTER</th>\n",
       "      <td>2443.136364</td>\n",
       "      <td>2122.181818</td>\n",
       "    </tr>\n",
       "    <tr>\n",
       "      <th>HCA HOUSTON HEALTHCARE MEDICAL CENTER</th>\n",
       "      <td>2431.727273</td>\n",
       "      <td>2122.181818</td>\n",
       "    </tr>\n",
       "    <tr>\n",
       "      <th>HCA HOUSTON HEALTHCARE WEST</th>\n",
       "      <td>2380.909091</td>\n",
       "      <td>2122.181818</td>\n",
       "    </tr>\n",
       "    <tr>\n",
       "      <th>METHODIST DALLAS MEDICAL CENTER</th>\n",
       "      <td>2353.954545</td>\n",
       "      <td>2122.181818</td>\n",
       "    </tr>\n",
       "    <tr>\n",
       "      <th>BAYLOR SCOTT &amp; WHITE HEART &amp; VASCULAR HOSPITAL - DALLAS</th>\n",
       "      <td>2351.500000</td>\n",
       "      <td>2122.181818</td>\n",
       "    </tr>\n",
       "    <tr>\n",
       "      <th>THE HEART HOSPITAL BAYLOR DENTON</th>\n",
       "      <td>2343.363636</td>\n",
       "      <td>2122.181818</td>\n",
       "    </tr>\n",
       "    <tr>\n",
       "      <th>TEXAS HEALTH PRESBYTERIAN HOSPITAL DALLAS</th>\n",
       "      <td>2342.136364</td>\n",
       "      <td>2122.181818</td>\n",
       "    </tr>\n",
       "    <tr>\n",
       "      <th>HOUSTON METHODIST HOSPITAL</th>\n",
       "      <td>2330.909091</td>\n",
       "      <td>2122.181818</td>\n",
       "    </tr>\n",
       "    <tr>\n",
       "      <th>METHODIST MCKINNEY HOSPITAL</th>\n",
       "      <td>2328.000000</td>\n",
       "      <td>2122.181818</td>\n",
       "    </tr>\n",
       "    <tr>\n",
       "      <th>CHRISTUS MOTHER FRANCES HOSPITAL</th>\n",
       "      <td>2327.000000</td>\n",
       "      <td>2122.181818</td>\n",
       "    </tr>\n",
       "    <tr>\n",
       "      <th>UT HEALTH EAST TEXAS TYLER REGIONAL HOSPITAL</th>\n",
       "      <td>2327.000000</td>\n",
       "      <td>2122.181818</td>\n",
       "    </tr>\n",
       "    <tr>\n",
       "      <th>DOCTORS HOSPITAL AT RENAISSANCE</th>\n",
       "      <td>2310.500000</td>\n",
       "      <td>2122.181818</td>\n",
       "    </tr>\n",
       "    <tr>\n",
       "      <th>...</th>\n",
       "      <td>...</td>\n",
       "      <td>...</td>\n",
       "    </tr>\n",
       "    <tr>\n",
       "      <th>ALLEN HOSPITAL</th>\n",
       "      <td>1737.272727</td>\n",
       "      <td>1834.409091</td>\n",
       "    </tr>\n",
       "    <tr>\n",
       "      <th>FINLEY HOSPITAL</th>\n",
       "      <td>1722.136364</td>\n",
       "      <td>1834.409091</td>\n",
       "    </tr>\n",
       "    <tr>\n",
       "      <th>SARTORI MEMORIAL HOSPITAL INC</th>\n",
       "      <td>1710.500000</td>\n",
       "      <td>1834.409091</td>\n",
       "    </tr>\n",
       "    <tr>\n",
       "      <th>TRINITY - BETTENDORF</th>\n",
       "      <td>1697.227273</td>\n",
       "      <td>1834.409091</td>\n",
       "    </tr>\n",
       "    <tr>\n",
       "      <th>SPENCER MUNICIPAL HOSPITAL</th>\n",
       "      <td>1677.590909</td>\n",
       "      <td>1834.409091</td>\n",
       "    </tr>\n",
       "    <tr>\n",
       "      <th>CHI HEALTH MERCY COUNCIL BLUFFS</th>\n",
       "      <td>1664.681818</td>\n",
       "      <td>1834.409091</td>\n",
       "    </tr>\n",
       "    <tr>\n",
       "      <th>MERCY MEDICAL CENTER-DUBUQUE</th>\n",
       "      <td>1655.363636</td>\n",
       "      <td>1834.409091</td>\n",
       "    </tr>\n",
       "    <tr>\n",
       "      <th>MERCY MEDICAL CENTER - CEDAR RAPIDS</th>\n",
       "      <td>1629.772727</td>\n",
       "      <td>1834.409091</td>\n",
       "    </tr>\n",
       "    <tr>\n",
       "      <th>FORT MADISON COMMUNITY HOSPITAL</th>\n",
       "      <td>1618.272727</td>\n",
       "      <td>1834.409091</td>\n",
       "    </tr>\n",
       "    <tr>\n",
       "      <th>UNITYPOINT HEALTH-MARSHALLTOWN</th>\n",
       "      <td>1611.318182</td>\n",
       "      <td>1834.409091</td>\n",
       "    </tr>\n",
       "    <tr>\n",
       "      <th>MERCY MEDICAL CENTER-CLINTON</th>\n",
       "      <td>1603.136364</td>\n",
       "      <td>1834.409091</td>\n",
       "    </tr>\n",
       "    <tr>\n",
       "      <th>METHODIST JENNIE EDMUNDSON</th>\n",
       "      <td>1594.454545</td>\n",
       "      <td>1834.409091</td>\n",
       "    </tr>\n",
       "    <tr>\n",
       "      <th>TRINITY REGIONAL MEDICAL CENTER</th>\n",
       "      <td>1586.500000</td>\n",
       "      <td>1834.409091</td>\n",
       "    </tr>\n",
       "    <tr>\n",
       "      <th>ST ANTHONY REGIONAL HOSPITAL &amp; NURSING HOME</th>\n",
       "      <td>1489.136364</td>\n",
       "      <td>1834.409091</td>\n",
       "    </tr>\n",
       "    <tr>\n",
       "      <th>LAKES REGIONAL HEALTHCARE</th>\n",
       "      <td>1470.000000</td>\n",
       "      <td>1834.409091</td>\n",
       "    </tr>\n",
       "    <tr>\n",
       "      <th>IOWA LUTHERAN HOSPITAL</th>\n",
       "      <td>1467.590909</td>\n",
       "      <td>1834.409091</td>\n",
       "    </tr>\n",
       "    <tr>\n",
       "      <th>UNITYPOINT HEALTH - KEOKUK</th>\n",
       "      <td>1410.272727</td>\n",
       "      <td>1834.409091</td>\n",
       "    </tr>\n",
       "    <tr>\n",
       "      <th>GRINNELL REGIONAL MEDICAL CENTER</th>\n",
       "      <td>1338.727273</td>\n",
       "      <td>1834.409091</td>\n",
       "    </tr>\n",
       "    <tr>\n",
       "      <th>TRINITY MUSCATINE</th>\n",
       "      <td>1328.227273</td>\n",
       "      <td>1834.409091</td>\n",
       "    </tr>\n",
       "    <tr>\n",
       "      <th>BROADLAWNS MEDICAL CENTER</th>\n",
       "      <td>1319.727273</td>\n",
       "      <td>1834.409091</td>\n",
       "    </tr>\n",
       "    <tr>\n",
       "      <th>SKIFF MEDICAL CENTER</th>\n",
       "      <td>1298.500000</td>\n",
       "      <td>1834.409091</td>\n",
       "    </tr>\n",
       "    <tr>\n",
       "      <th>WYOMING MEDICAL CENTER</th>\n",
       "      <td>1999.954545</td>\n",
       "      <td>1787.545455</td>\n",
       "    </tr>\n",
       "    <tr>\n",
       "      <th>CHEYENNE REGIONAL MEDICAL CENTER</th>\n",
       "      <td>1834.181818</td>\n",
       "      <td>1787.545455</td>\n",
       "    </tr>\n",
       "    <tr>\n",
       "      <th>CAMPBELL COUNTY HEALTH</th>\n",
       "      <td>1712.454545</td>\n",
       "      <td>1787.545455</td>\n",
       "    </tr>\n",
       "    <tr>\n",
       "      <th>SHERIDAN MEMORIAL HOSPITAL</th>\n",
       "      <td>1615.681818</td>\n",
       "      <td>1787.545455</td>\n",
       "    </tr>\n",
       "    <tr>\n",
       "      <th>IVINSON MEMORIAL HOSPITAL</th>\n",
       "      <td>1579.136364</td>\n",
       "      <td>1787.545455</td>\n",
       "    </tr>\n",
       "    <tr>\n",
       "      <th>EVANSTON REGIONAL HOSPITAL</th>\n",
       "      <td>1561.818182</td>\n",
       "      <td>1787.545455</td>\n",
       "    </tr>\n",
       "    <tr>\n",
       "      <th>ST JOHNS MEDICAL CENTER</th>\n",
       "      <td>1541.909091</td>\n",
       "      <td>1787.545455</td>\n",
       "    </tr>\n",
       "    <tr>\n",
       "      <th>MEMORIAL HOSPITAL SWEETWATER COUNTY</th>\n",
       "      <td>1491.772727</td>\n",
       "      <td>1787.545455</td>\n",
       "    </tr>\n",
       "    <tr>\n",
       "      <th>SAGEWEST HEALTH CARE</th>\n",
       "      <td>1400.181818</td>\n",
       "      <td>1787.545455</td>\n",
       "    </tr>\n",
       "  </tbody>\n",
       "</table>\n",
       "<p>2991 rows × 2 columns</p>\n",
       "</div>"
      ],
      "text/plain": [
       "                                                    Avg Spndg Per EP Hospital  \\\n",
       "Facility Name                                                                   \n",
       "NORTHWEST HILLS SURGICAL HOSPITAL                                 3405.090909   \n",
       "DALLAS MEDICAL CENTER                                             2894.409091   \n",
       "BAYLOR SCOTT & WHITE THE HEART HOSPITAL - PLANO                   2824.409091   \n",
       "U.T. SOUTHWESTERN UNIVERSITY HOSPITAL - ZALE LI...                2792.000000   \n",
       "BAYLOR MEDICAL CENTER AT TROPHY CLUB                              2713.454545   \n",
       "BAYLOR SURGICAL HOSPITAL AT LAS COLINAS                           2700.863636   \n",
       "BAYLOR SCOTT AND WHITE SURGICAL HOSPITAL FORTWORTH                2684.954545   \n",
       "MEMORIAL HERMANN - TEXAS MEDICAL CENTER                           2665.636364   \n",
       "DELL SETON  MED CENTER AT THE UNIVERSITY OF TX                    2629.681818   \n",
       "CHI BAYLOR ST LUKES  MEDICAL CENTER                               2624.136364   \n",
       "METHODIST HOSPITAL FOR SURGERY                                    2608.909091   \n",
       "FOUNDATION SURGICAL HOSPITAL OF EL PASO                           2563.590909   \n",
       "AD HOSPITAL EAST LLC                                              2537.136364   \n",
       "MEDICAL CITY PLANO                                                2507.545455   \n",
       "SOUTHWEST GENERAL HOSPITAL                                        2483.500000   \n",
       "CHI ST LUKES LAKESIDE HOSPITAL                                    2470.954545   \n",
       "CHRISTUS SPOHN HOSPITAL CORPUS CHRISTI                            2464.545455   \n",
       "MEDICAL CITY FORT WORTH                                           2447.000000   \n",
       "CRESCENT MEDICAL CENTER LANCASTER                                 2443.136364   \n",
       "HCA HOUSTON HEALTHCARE MEDICAL CENTER                             2431.727273   \n",
       "HCA HOUSTON HEALTHCARE WEST                                       2380.909091   \n",
       "METHODIST DALLAS MEDICAL CENTER                                   2353.954545   \n",
       "BAYLOR SCOTT & WHITE HEART & VASCULAR HOSPITAL ...                2351.500000   \n",
       "THE HEART HOSPITAL BAYLOR DENTON                                  2343.363636   \n",
       "TEXAS HEALTH PRESBYTERIAN HOSPITAL DALLAS                         2342.136364   \n",
       "HOUSTON METHODIST HOSPITAL                                        2330.909091   \n",
       "METHODIST MCKINNEY HOSPITAL                                       2328.000000   \n",
       "CHRISTUS MOTHER FRANCES HOSPITAL                                  2327.000000   \n",
       "UT HEALTH EAST TEXAS TYLER REGIONAL HOSPITAL                      2327.000000   \n",
       "DOCTORS HOSPITAL AT RENAISSANCE                                   2310.500000   \n",
       "...                                                                       ...   \n",
       "ALLEN HOSPITAL                                                    1737.272727   \n",
       "FINLEY HOSPITAL                                                   1722.136364   \n",
       "SARTORI MEMORIAL HOSPITAL INC                                     1710.500000   \n",
       "TRINITY - BETTENDORF                                              1697.227273   \n",
       "SPENCER MUNICIPAL HOSPITAL                                        1677.590909   \n",
       "CHI HEALTH MERCY COUNCIL BLUFFS                                   1664.681818   \n",
       "MERCY MEDICAL CENTER-DUBUQUE                                      1655.363636   \n",
       "MERCY MEDICAL CENTER - CEDAR RAPIDS                               1629.772727   \n",
       "FORT MADISON COMMUNITY HOSPITAL                                   1618.272727   \n",
       "UNITYPOINT HEALTH-MARSHALLTOWN                                    1611.318182   \n",
       "MERCY MEDICAL CENTER-CLINTON                                      1603.136364   \n",
       "METHODIST JENNIE EDMUNDSON                                        1594.454545   \n",
       "TRINITY REGIONAL MEDICAL CENTER                                   1586.500000   \n",
       "ST ANTHONY REGIONAL HOSPITAL & NURSING HOME                       1489.136364   \n",
       "LAKES REGIONAL HEALTHCARE                                         1470.000000   \n",
       "IOWA LUTHERAN HOSPITAL                                            1467.590909   \n",
       "UNITYPOINT HEALTH - KEOKUK                                        1410.272727   \n",
       "GRINNELL REGIONAL MEDICAL CENTER                                  1338.727273   \n",
       "TRINITY MUSCATINE                                                 1328.227273   \n",
       "BROADLAWNS MEDICAL CENTER                                         1319.727273   \n",
       "SKIFF MEDICAL CENTER                                              1298.500000   \n",
       "WYOMING MEDICAL CENTER                                            1999.954545   \n",
       "CHEYENNE REGIONAL MEDICAL CENTER                                  1834.181818   \n",
       "CAMPBELL COUNTY HEALTH                                            1712.454545   \n",
       "SHERIDAN MEMORIAL HOSPITAL                                        1615.681818   \n",
       "IVINSON MEMORIAL HOSPITAL                                         1579.136364   \n",
       "EVANSTON REGIONAL HOSPITAL                                        1561.818182   \n",
       "ST JOHNS MEDICAL CENTER                                           1541.909091   \n",
       "MEMORIAL HOSPITAL SWEETWATER COUNTY                               1491.772727   \n",
       "SAGEWEST HEALTH CARE                                              1400.181818   \n",
       "\n",
       "                                                    Avg Spndg Per EP State  \n",
       "Facility Name                                                               \n",
       "NORTHWEST HILLS SURGICAL HOSPITAL                              2122.181818  \n",
       "DALLAS MEDICAL CENTER                                          2122.181818  \n",
       "BAYLOR SCOTT & WHITE THE HEART HOSPITAL - PLANO                2122.181818  \n",
       "U.T. SOUTHWESTERN UNIVERSITY HOSPITAL - ZALE LI...             2122.181818  \n",
       "BAYLOR MEDICAL CENTER AT TROPHY CLUB                           2122.181818  \n",
       "BAYLOR SURGICAL HOSPITAL AT LAS COLINAS                        2122.181818  \n",
       "BAYLOR SCOTT AND WHITE SURGICAL HOSPITAL FORTWORTH             2122.181818  \n",
       "MEMORIAL HERMANN - TEXAS MEDICAL CENTER                        2122.181818  \n",
       "DELL SETON  MED CENTER AT THE UNIVERSITY OF TX                 2122.181818  \n",
       "CHI BAYLOR ST LUKES  MEDICAL CENTER                            2122.181818  \n",
       "METHODIST HOSPITAL FOR SURGERY                                 2122.181818  \n",
       "FOUNDATION SURGICAL HOSPITAL OF EL PASO                        2122.181818  \n",
       "AD HOSPITAL EAST LLC                                           2122.181818  \n",
       "MEDICAL CITY PLANO                                             2122.181818  \n",
       "SOUTHWEST GENERAL HOSPITAL                                     2122.181818  \n",
       "CHI ST LUKES LAKESIDE HOSPITAL                                 2122.181818  \n",
       "CHRISTUS SPOHN HOSPITAL CORPUS CHRISTI                         2122.181818  \n",
       "MEDICAL CITY FORT WORTH                                        2122.181818  \n",
       "CRESCENT MEDICAL CENTER LANCASTER                              2122.181818  \n",
       "HCA HOUSTON HEALTHCARE MEDICAL CENTER                          2122.181818  \n",
       "HCA HOUSTON HEALTHCARE WEST                                    2122.181818  \n",
       "METHODIST DALLAS MEDICAL CENTER                                2122.181818  \n",
       "BAYLOR SCOTT & WHITE HEART & VASCULAR HOSPITAL ...             2122.181818  \n",
       "THE HEART HOSPITAL BAYLOR DENTON                               2122.181818  \n",
       "TEXAS HEALTH PRESBYTERIAN HOSPITAL DALLAS                      2122.181818  \n",
       "HOUSTON METHODIST HOSPITAL                                     2122.181818  \n",
       "METHODIST MCKINNEY HOSPITAL                                    2122.181818  \n",
       "CHRISTUS MOTHER FRANCES HOSPITAL                               2122.181818  \n",
       "UT HEALTH EAST TEXAS TYLER REGIONAL HOSPITAL                   2122.181818  \n",
       "DOCTORS HOSPITAL AT RENAISSANCE                                2122.181818  \n",
       "...                                                                    ...  \n",
       "ALLEN HOSPITAL                                                 1834.409091  \n",
       "FINLEY HOSPITAL                                                1834.409091  \n",
       "SARTORI MEMORIAL HOSPITAL INC                                  1834.409091  \n",
       "TRINITY - BETTENDORF                                           1834.409091  \n",
       "SPENCER MUNICIPAL HOSPITAL                                     1834.409091  \n",
       "CHI HEALTH MERCY COUNCIL BLUFFS                                1834.409091  \n",
       "MERCY MEDICAL CENTER-DUBUQUE                                   1834.409091  \n",
       "MERCY MEDICAL CENTER - CEDAR RAPIDS                            1834.409091  \n",
       "FORT MADISON COMMUNITY HOSPITAL                                1834.409091  \n",
       "UNITYPOINT HEALTH-MARSHALLTOWN                                 1834.409091  \n",
       "MERCY MEDICAL CENTER-CLINTON                                   1834.409091  \n",
       "METHODIST JENNIE EDMUNDSON                                     1834.409091  \n",
       "TRINITY REGIONAL MEDICAL CENTER                                1834.409091  \n",
       "ST ANTHONY REGIONAL HOSPITAL & NURSING HOME                    1834.409091  \n",
       "LAKES REGIONAL HEALTHCARE                                      1834.409091  \n",
       "IOWA LUTHERAN HOSPITAL                                         1834.409091  \n",
       "UNITYPOINT HEALTH - KEOKUK                                     1834.409091  \n",
       "GRINNELL REGIONAL MEDICAL CENTER                               1834.409091  \n",
       "TRINITY MUSCATINE                                              1834.409091  \n",
       "BROADLAWNS MEDICAL CENTER                                      1834.409091  \n",
       "SKIFF MEDICAL CENTER                                           1834.409091  \n",
       "WYOMING MEDICAL CENTER                                         1787.545455  \n",
       "CHEYENNE REGIONAL MEDICAL CENTER                               1787.545455  \n",
       "CAMPBELL COUNTY HEALTH                                         1787.545455  \n",
       "SHERIDAN MEMORIAL HOSPITAL                                     1787.545455  \n",
       "IVINSON MEMORIAL HOSPITAL                                      1787.545455  \n",
       "EVANSTON REGIONAL HOSPITAL                                     1787.545455  \n",
       "ST JOHNS MEDICAL CENTER                                        1787.545455  \n",
       "MEMORIAL HOSPITAL SWEETWATER COUNTY                            1787.545455  \n",
       "SAGEWEST HEALTH CARE                                           1787.545455  \n",
       "\n",
       "[2991 rows x 2 columns]"
      ]
     },
     "execution_count": 138,
     "metadata": {},
     "output_type": "execute_result"
    }
   ],
   "source": [
    "medical_facility_center.sort_values(by =['Avg Spndg Per EP State','Avg Spndg Per EP Hospital'], ascending = False)"
   ]
  },
  {
   "cell_type": "markdown",
   "metadata": {},
   "source": [
    "#### For which period is the spending done more"
   ]
  },
  {
   "cell_type": "code",
   "execution_count": 142,
   "metadata": {},
   "outputs": [
    {
     "data": {
      "text/html": [
       "<div>\n",
       "<style scoped>\n",
       "    .dataframe tbody tr th:only-of-type {\n",
       "        vertical-align: middle;\n",
       "    }\n",
       "\n",
       "    .dataframe tbody tr th {\n",
       "        vertical-align: top;\n",
       "    }\n",
       "\n",
       "    .dataframe thead th {\n",
       "        text-align: right;\n",
       "    }\n",
       "</style>\n",
       "<table border=\"1\" class=\"dataframe\">\n",
       "  <thead>\n",
       "    <tr style=\"text-align: right;\">\n",
       "      <th></th>\n",
       "      <th>Avg Spndg Per EP Hospital</th>\n",
       "      <th>Avg Spndg Per EP National</th>\n",
       "      <th>Avg Spndg Per EP State</th>\n",
       "      <th>Facility ID</th>\n",
       "      <th>Percent of Spndg Hospital</th>\n",
       "      <th>Percent of Spndg National</th>\n",
       "      <th>Percent of Spndg State</th>\n",
       "    </tr>\n",
       "    <tr>\n",
       "      <th>Period</th>\n",
       "      <th></th>\n",
       "      <th></th>\n",
       "      <th></th>\n",
       "      <th></th>\n",
       "      <th></th>\n",
       "      <th></th>\n",
       "      <th></th>\n",
       "    </tr>\n",
       "  </thead>\n",
       "  <tbody>\n",
       "    <tr>\n",
       "      <th>After Discharge</th>\n",
       "      <td>1238.914925</td>\n",
       "      <td>1311.000000</td>\n",
       "      <td>1307.873407</td>\n",
       "      <td>260615.397665</td>\n",
       "      <td>6.201224</td>\n",
       "      <td>6.055714</td>\n",
       "      <td>6.025435</td>\n",
       "    </tr>\n",
       "    <tr>\n",
       "      <th>During Hospital Admission</th>\n",
       "      <td>1530.021686</td>\n",
       "      <td>1671.857143</td>\n",
       "      <td>1677.879709</td>\n",
       "      <td>260615.397665</td>\n",
       "      <td>7.602415</td>\n",
       "      <td>7.724286</td>\n",
       "      <td>7.747714</td>\n",
       "    </tr>\n",
       "    <tr>\n",
       "      <th>Overall</th>\n",
       "      <td>20059.366202</td>\n",
       "      <td>21646.000000</td>\n",
       "      <td>21676.427506</td>\n",
       "      <td>260615.397665</td>\n",
       "      <td>100.000000</td>\n",
       "      <td>100.000000</td>\n",
       "      <td>100.000000</td>\n",
       "    </tr>\n",
       "    <tr>\n",
       "      <th>Prior Hospital Admission</th>\n",
       "      <td>96.680645</td>\n",
       "      <td>109.714286</td>\n",
       "      <td>110.911218</td>\n",
       "      <td>260615.397665</td>\n",
       "      <td>0.481991</td>\n",
       "      <td>0.505714</td>\n",
       "      <td>0.512139</td>\n",
       "    </tr>\n",
       "  </tbody>\n",
       "</table>\n",
       "</div>"
      ],
      "text/plain": [
       "                           Avg Spndg Per EP Hospital  \\\n",
       "Period                                                 \n",
       "After Discharge                          1238.914925   \n",
       "During Hospital Admission                1530.021686   \n",
       "Overall                                 20059.366202   \n",
       "Prior Hospital Admission                   96.680645   \n",
       "\n",
       "                           Avg Spndg Per EP National  Avg Spndg Per EP State  \\\n",
       "Period                                                                         \n",
       "After Discharge                          1311.000000             1307.873407   \n",
       "During Hospital Admission                1671.857143             1677.879709   \n",
       "Overall                                 21646.000000            21676.427506   \n",
       "Prior Hospital Admission                  109.714286              110.911218   \n",
       "\n",
       "                             Facility ID  Percent of Spndg Hospital  \\\n",
       "Period                                                                \n",
       "After Discharge            260615.397665                   6.201224   \n",
       "During Hospital Admission  260615.397665                   7.602415   \n",
       "Overall                    260615.397665                 100.000000   \n",
       "Prior Hospital Admission   260615.397665                   0.481991   \n",
       "\n",
       "                           Percent of Spndg National  Percent of Spndg State  \n",
       "Period                                                                        \n",
       "After Discharge                             6.055714                6.025435  \n",
       "During Hospital Admission                   7.724286                7.747714  \n",
       "Overall                                   100.000000              100.000000  \n",
       "Prior Hospital Admission                    0.505714                0.512139  "
      ]
     },
     "execution_count": 142,
     "metadata": {},
     "output_type": "execute_result"
    }
   ],
   "source": [
    "pd.pivot_table(medicare, index = 'Period')"
   ]
  },
  {
   "cell_type": "code",
   "execution_count": 146,
   "metadata": {},
   "outputs": [],
   "source": [
    "fp =r'C:\\Users\\Chaitali\\Desktop\\Python\\Project\\tl_2017_us_state\\tl_2017_us_state.shp'"
   ]
  },
  {
   "cell_type": "code",
   "execution_count": 147,
   "metadata": {},
   "outputs": [
    {
     "ename": "ModuleNotFoundError",
     "evalue": "No module named 'geopandas'",
     "output_type": "error",
     "traceback": [
      "\u001b[1;31m---------------------------------------------------------------------------\u001b[0m",
      "\u001b[1;31mModuleNotFoundError\u001b[0m                       Traceback (most recent call last)",
      "\u001b[1;32m<ipython-input-147-fc7d1d298f0c>\u001b[0m in \u001b[0;36m<module>\u001b[1;34m\u001b[0m\n\u001b[1;32m----> 1\u001b[1;33m \u001b[1;32mimport\u001b[0m \u001b[0mgeopandas\u001b[0m\u001b[1;33m\u001b[0m\u001b[1;33m\u001b[0m\u001b[0m\n\u001b[0m",
      "\u001b[1;31mModuleNotFoundError\u001b[0m: No module named 'geopandas'"
     ]
    }
   ],
   "source": [
    "import geopandas"
   ]
  },
  {
   "cell_type": "code",
   "execution_count": null,
   "metadata": {},
   "outputs": [],
   "source": []
  },
  {
   "cell_type": "code",
   "execution_count": null,
   "metadata": {},
   "outputs": [],
   "source": []
  },
  {
   "cell_type": "code",
   "execution_count": null,
   "metadata": {},
   "outputs": [],
   "source": []
  },
  {
   "cell_type": "code",
   "execution_count": null,
   "metadata": {},
   "outputs": [],
   "source": []
  },
  {
   "cell_type": "code",
   "execution_count": null,
   "metadata": {},
   "outputs": [],
   "source": []
  },
  {
   "cell_type": "code",
   "execution_count": null,
   "metadata": {},
   "outputs": [],
   "source": []
  }
 ],
 "metadata": {
  "kernelspec": {
   "display_name": "Python 3",
   "language": "python",
   "name": "python3"
  },
  "language_info": {
   "codemirror_mode": {
    "name": "ipython",
    "version": 3
   },
   "file_extension": ".py",
   "mimetype": "text/x-python",
   "name": "python",
   "nbconvert_exporter": "python",
   "pygments_lexer": "ipython3",
   "version": "3.7.1"
  }
 },
 "nbformat": 4,
 "nbformat_minor": 2
}
