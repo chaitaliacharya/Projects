{
 "cells": [
  {
   "cell_type": "markdown",
   "metadata": {},
   "source": [
    "### Medicare"
   ]
  },
  {
   "cell_type": "markdown",
   "metadata": {},
   "source": [
    "#### Medicare is the USA federal government program that provides health care coverage (health insurance) \n",
    "\n",
    "* If you are 65+ \n",
    "* Under 65 and receiving Social Security Disability Insurance (SSDI) for a certain amount of time\n",
    "* Under 65 and with End-Stage Renal Disease (ESRD)."
   ]
  },
  {
   "cell_type": "markdown",
   "metadata": {},
   "source": [
    "#### Who funds  Medicare ?\n",
    "* The US Hospital Insurance (HI) Trust Fund\n",
    "* Supplementary Medical Insurance (SMI) Trust Fund"
   ]
  },
  {
   "cell_type": "markdown",
   "metadata": {},
   "source": [
    "#### What does Medicare pay for?\n",
    "* Medicare Part A (Hospital Insurance)   benefits , \n",
    "    * like inpatient hospital care\n",
    "    * skilled nursing facility (snf) care \n",
    "    * home health care \n",
    "    * hospice care\n",
    "* Medicare Part B like benefits cover certain non-hospital medical expenses like doctors’ office visits,\n",
    "  * blood test\n",
    "  * X-rays\n",
    "  * diabetic screenings and supplies\n",
    "  * outpatient hospital care.\n",
    "* Medicare Part D for precription drugs"
   ]
  },
  {
   "cell_type": "markdown",
   "metadata": {},
   "source": [
    "#### Data Source\n",
    "* https://data.medicare.gov/"
   ]
  },
  {
   "cell_type": "markdown",
   "metadata": {},
   "source": [
    "#### Data"
   ]
  },
  {
   "cell_type": "code",
   "execution_count": 1,
   "metadata": {},
   "outputs": [
    {
     "data": {
      "text/html": [
       "        <script type=\"text/javascript\">\n",
       "        window.PlotlyConfig = {MathJaxConfig: 'local'};\n",
       "        if (window.MathJax) {MathJax.Hub.Config({SVG: {font: \"STIX-Web\"}});}\n",
       "        if (typeof require !== 'undefined') {\n",
       "        require.undef(\"plotly\");\n",
       "        requirejs.config({\n",
       "            paths: {\n",
       "                'plotly': ['https://cdn.plot.ly/plotly-latest.min']\n",
       "            }\n",
       "        });\n",
       "        require(['plotly'], function(Plotly) {\n",
       "            window._Plotly = Plotly;\n",
       "        });\n",
       "        }\n",
       "        </script>\n",
       "        "
      ]
     },
     "metadata": {},
     "output_type": "display_data"
    }
   ],
   "source": [
    "import pandas as pd\n",
    "import matplotlib.pyplot as plt\n",
    "import seaborn as sns\n",
    "import numpy as np\n",
    "import plotly.express as px\n",
    "import plotly.graph_objects as go\n",
    "from urllib.request import urlopen\n",
    "import json\n",
    "from plotly.offline import init_notebook_mode, iplot\n",
    "init_notebook_mode(connected=True)  "
   ]
  },
  {
   "cell_type": "markdown",
   "metadata": {},
   "source": [
    "#### USA medicare"
   ]
  },
  {
   "cell_type": "code",
   "execution_count": 2,
   "metadata": {},
   "outputs": [],
   "source": [
    "medicare = pd.read_csv('Medicare Hospital Spending by Claim.csv')"
   ]
  },
  {
   "cell_type": "code",
   "execution_count": 3,
   "metadata": {},
   "outputs": [
    {
     "data": {
      "text/html": [
       "<div>\n",
       "<style scoped>\n",
       "    .dataframe tbody tr th:only-of-type {\n",
       "        vertical-align: middle;\n",
       "    }\n",
       "\n",
       "    .dataframe tbody tr th {\n",
       "        vertical-align: top;\n",
       "    }\n",
       "\n",
       "    .dataframe thead th {\n",
       "        text-align: right;\n",
       "    }\n",
       "</style>\n",
       "<table border=\"1\" class=\"dataframe\">\n",
       "  <thead>\n",
       "    <tr style=\"text-align: right;\">\n",
       "      <th></th>\n",
       "      <th>Facility Name</th>\n",
       "      <th>Facility ID</th>\n",
       "      <th>State</th>\n",
       "      <th>Period</th>\n",
       "      <th>Claim Type</th>\n",
       "      <th>Avg Spndg Per EP Hospital</th>\n",
       "      <th>Avg Spndg Per EP State</th>\n",
       "      <th>Avg Spndg Per EP National</th>\n",
       "      <th>Percent of Spndg Hospital</th>\n",
       "      <th>Percent of Spndg State</th>\n",
       "      <th>Percent of Spndg National</th>\n",
       "      <th>Start Date</th>\n",
       "      <th>End Date</th>\n",
       "    </tr>\n",
       "  </thead>\n",
       "  <tbody>\n",
       "    <tr>\n",
       "      <th>0</th>\n",
       "      <td>SOUTHEAST ALABAMA MEDICAL CENTER</td>\n",
       "      <td>10001</td>\n",
       "      <td>AL</td>\n",
       "      <td>1 to 3 days Prior to Index Hospital Admission</td>\n",
       "      <td>Home Health Agency</td>\n",
       "      <td>21</td>\n",
       "      <td>16</td>\n",
       "      <td>13</td>\n",
       "      <td>0.09%</td>\n",
       "      <td>0.08%</td>\n",
       "      <td>0.06%</td>\n",
       "      <td>01/01/2018</td>\n",
       "      <td>12/31/2018</td>\n",
       "    </tr>\n",
       "    <tr>\n",
       "      <th>1</th>\n",
       "      <td>SOUTHEAST ALABAMA MEDICAL CENTER</td>\n",
       "      <td>10001</td>\n",
       "      <td>AL</td>\n",
       "      <td>1 to 3 days Prior to Index Hospital Admission</td>\n",
       "      <td>Hospice</td>\n",
       "      <td>2</td>\n",
       "      <td>1</td>\n",
       "      <td>1</td>\n",
       "      <td>0.01%</td>\n",
       "      <td>0.00%</td>\n",
       "      <td>0.00%</td>\n",
       "      <td>01/01/2018</td>\n",
       "      <td>12/31/2018</td>\n",
       "    </tr>\n",
       "    <tr>\n",
       "      <th>2</th>\n",
       "      <td>SOUTHEAST ALABAMA MEDICAL CENTER</td>\n",
       "      <td>10001</td>\n",
       "      <td>AL</td>\n",
       "      <td>1 to 3 days Prior to Index Hospital Admission</td>\n",
       "      <td>Inpatient</td>\n",
       "      <td>6</td>\n",
       "      <td>7</td>\n",
       "      <td>7</td>\n",
       "      <td>0.03%</td>\n",
       "      <td>0.04%</td>\n",
       "      <td>0.03%</td>\n",
       "      <td>01/01/2018</td>\n",
       "      <td>12/31/2018</td>\n",
       "    </tr>\n",
       "    <tr>\n",
       "      <th>3</th>\n",
       "      <td>SOUTHEAST ALABAMA MEDICAL CENTER</td>\n",
       "      <td>10001</td>\n",
       "      <td>AL</td>\n",
       "      <td>1 to 3 days Prior to Index Hospital Admission</td>\n",
       "      <td>Outpatient</td>\n",
       "      <td>219</td>\n",
       "      <td>108</td>\n",
       "      <td>152</td>\n",
       "      <td>0.95%</td>\n",
       "      <td>0.52%</td>\n",
       "      <td>0.70%</td>\n",
       "      <td>01/01/2018</td>\n",
       "      <td>12/31/2018</td>\n",
       "    </tr>\n",
       "    <tr>\n",
       "      <th>4</th>\n",
       "      <td>SOUTHEAST ALABAMA MEDICAL CENTER</td>\n",
       "      <td>10001</td>\n",
       "      <td>AL</td>\n",
       "      <td>1 to 3 days Prior to Index Hospital Admission</td>\n",
       "      <td>Skilled Nursing Facility</td>\n",
       "      <td>1</td>\n",
       "      <td>2</td>\n",
       "      <td>2</td>\n",
       "      <td>0.00%</td>\n",
       "      <td>0.01%</td>\n",
       "      <td>0.01%</td>\n",
       "      <td>01/01/2018</td>\n",
       "      <td>12/31/2018</td>\n",
       "    </tr>\n",
       "  </tbody>\n",
       "</table>\n",
       "</div>"
      ],
      "text/plain": [
       "                      Facility Name  Facility ID State  \\\n",
       "0  SOUTHEAST ALABAMA MEDICAL CENTER        10001    AL   \n",
       "1  SOUTHEAST ALABAMA MEDICAL CENTER        10001    AL   \n",
       "2  SOUTHEAST ALABAMA MEDICAL CENTER        10001    AL   \n",
       "3  SOUTHEAST ALABAMA MEDICAL CENTER        10001    AL   \n",
       "4  SOUTHEAST ALABAMA MEDICAL CENTER        10001    AL   \n",
       "\n",
       "                                          Period                Claim Type  \\\n",
       "0  1 to 3 days Prior to Index Hospital Admission        Home Health Agency   \n",
       "1  1 to 3 days Prior to Index Hospital Admission                   Hospice   \n",
       "2  1 to 3 days Prior to Index Hospital Admission                 Inpatient   \n",
       "3  1 to 3 days Prior to Index Hospital Admission                Outpatient   \n",
       "4  1 to 3 days Prior to Index Hospital Admission  Skilled Nursing Facility   \n",
       "\n",
       "   Avg Spndg Per EP Hospital  Avg Spndg Per EP State  \\\n",
       "0                         21                      16   \n",
       "1                          2                       1   \n",
       "2                          6                       7   \n",
       "3                        219                     108   \n",
       "4                          1                       2   \n",
       "\n",
       "   Avg Spndg Per EP National Percent of Spndg Hospital Percent of Spndg State  \\\n",
       "0                         13                     0.09%                  0.08%   \n",
       "1                          1                     0.01%                  0.00%   \n",
       "2                          7                     0.03%                  0.04%   \n",
       "3                        152                     0.95%                  0.52%   \n",
       "4                          2                     0.00%                  0.01%   \n",
       "\n",
       "  Percent of Spndg National  Start Date    End Date  \n",
       "0                     0.06%  01/01/2018  12/31/2018  \n",
       "1                     0.00%  01/01/2018  12/31/2018  \n",
       "2                     0.03%  01/01/2018  12/31/2018  \n",
       "3                     0.70%  01/01/2018  12/31/2018  \n",
       "4                     0.01%  01/01/2018  12/31/2018  "
      ]
     },
     "execution_count": 3,
     "metadata": {},
     "output_type": "execute_result"
    }
   ],
   "source": [
    "medicare.head()"
   ]
  },
  {
   "cell_type": "markdown",
   "metadata": {},
   "source": [
    "#### Problem Statement Created by looking at the data\n",
    "* How much is spent over Inpatient and Outpatient services by the state , nation and hospital\n",
    "* Statewise spending done on Nursing facility\n",
    "* Analysis of spending done for medical facilities\n",
    "* For which period is the spending done more \n",
    "* Inpatient % comparison with Canada healthcare\n",
    "\n",
    "\n",
    "These problem statements can help Medicare people to get an idea about how the spending is happening"
   ]
  },
  {
   "cell_type": "markdown",
   "metadata": {},
   "source": [
    "#### Data description"
   ]
  },
  {
   "cell_type": "code",
   "execution_count": 4,
   "metadata": {},
   "outputs": [
    {
     "name": "stdout",
     "output_type": "stream",
     "text": [
      "<class 'pandas.core.frame.DataFrame'>\n",
      "RangeIndex: 67826 entries, 0 to 67825\n",
      "Data columns (total 13 columns):\n",
      "Facility Name                67826 non-null object\n",
      "Facility ID                  67826 non-null int64\n",
      "State                        67826 non-null object\n",
      "Period                       67826 non-null object\n",
      "Claim Type                   67826 non-null object\n",
      "Avg Spndg Per EP Hospital    67826 non-null int64\n",
      "Avg Spndg Per EP State       67826 non-null int64\n",
      "Avg Spndg Per EP National    67826 non-null int64\n",
      "Percent of Spndg Hospital    67826 non-null object\n",
      "Percent of Spndg State       67826 non-null object\n",
      "Percent of Spndg National    67826 non-null object\n",
      "Start Date                   67826 non-null object\n",
      "End Date                     67826 non-null object\n",
      "dtypes: int64(4), object(9)\n",
      "memory usage: 6.7+ MB\n"
     ]
    }
   ],
   "source": [
    "medicare.info()"
   ]
  },
  {
   "cell_type": "code",
   "execution_count": 5,
   "metadata": {},
   "outputs": [
    {
     "data": {
      "text/html": [
       "<div>\n",
       "<style scoped>\n",
       "    .dataframe tbody tr th:only-of-type {\n",
       "        vertical-align: middle;\n",
       "    }\n",
       "\n",
       "    .dataframe tbody tr th {\n",
       "        vertical-align: top;\n",
       "    }\n",
       "\n",
       "    .dataframe thead th {\n",
       "        text-align: right;\n",
       "    }\n",
       "</style>\n",
       "<table border=\"1\" class=\"dataframe\">\n",
       "  <thead>\n",
       "    <tr style=\"text-align: right;\">\n",
       "      <th></th>\n",
       "      <th>Facility ID</th>\n",
       "      <th>Avg Spndg Per EP Hospital</th>\n",
       "      <th>Avg Spndg Per EP State</th>\n",
       "      <th>Avg Spndg Per EP National</th>\n",
       "    </tr>\n",
       "  </thead>\n",
       "  <tbody>\n",
       "    <tr>\n",
       "      <th>count</th>\n",
       "      <td>67826.000000</td>\n",
       "      <td>67826.000000</td>\n",
       "      <td>67826.000000</td>\n",
       "      <td>67826.000000</td>\n",
       "    </tr>\n",
       "    <tr>\n",
       "      <th>mean</th>\n",
       "      <td>260615.397665</td>\n",
       "      <td>1823.576682</td>\n",
       "      <td>1970.594448</td>\n",
       "      <td>1967.909091</td>\n",
       "    </tr>\n",
       "    <tr>\n",
       "      <th>std</th>\n",
       "      <td>161163.032969</td>\n",
       "      <td>4571.752066</td>\n",
       "      <td>4833.027866</td>\n",
       "      <td>4816.227247</td>\n",
       "    </tr>\n",
       "    <tr>\n",
       "      <th>min</th>\n",
       "      <td>10001.000000</td>\n",
       "      <td>0.000000</td>\n",
       "      <td>0.000000</td>\n",
       "      <td>0.000000</td>\n",
       "    </tr>\n",
       "    <tr>\n",
       "      <th>25%</th>\n",
       "      <td>110076.000000</td>\n",
       "      <td>0.000000</td>\n",
       "      <td>2.000000</td>\n",
       "      <td>2.000000</td>\n",
       "    </tr>\n",
       "    <tr>\n",
       "      <th>50%</th>\n",
       "      <td>250104.000000</td>\n",
       "      <td>68.000000</td>\n",
       "      <td>98.000000</td>\n",
       "      <td>119.000000</td>\n",
       "    </tr>\n",
       "    <tr>\n",
       "      <th>75%</th>\n",
       "      <td>390117.000000</td>\n",
       "      <td>1012.000000</td>\n",
       "      <td>1174.000000</td>\n",
       "      <td>1174.000000</td>\n",
       "    </tr>\n",
       "    <tr>\n",
       "      <th>max</th>\n",
       "      <td>670122.000000</td>\n",
       "      <td>41637.000000</td>\n",
       "      <td>23343.000000</td>\n",
       "      <td>21646.000000</td>\n",
       "    </tr>\n",
       "  </tbody>\n",
       "</table>\n",
       "</div>"
      ],
      "text/plain": [
       "         Facility ID  Avg Spndg Per EP Hospital  Avg Spndg Per EP State  \\\n",
       "count   67826.000000               67826.000000            67826.000000   \n",
       "mean   260615.397665                1823.576682             1970.594448   \n",
       "std    161163.032969                4571.752066             4833.027866   \n",
       "min     10001.000000                   0.000000                0.000000   \n",
       "25%    110076.000000                   0.000000                2.000000   \n",
       "50%    250104.000000                  68.000000               98.000000   \n",
       "75%    390117.000000                1012.000000             1174.000000   \n",
       "max    670122.000000               41637.000000            23343.000000   \n",
       "\n",
       "       Avg Spndg Per EP National  \n",
       "count               67826.000000  \n",
       "mean                 1967.909091  \n",
       "std                  4816.227247  \n",
       "min                     0.000000  \n",
       "25%                     2.000000  \n",
       "50%                   119.000000  \n",
       "75%                  1174.000000  \n",
       "max                 21646.000000  "
      ]
     },
     "execution_count": 5,
     "metadata": {},
     "output_type": "execute_result"
    }
   ],
   "source": [
    "medicare.describe()"
   ]
  },
  {
   "cell_type": "markdown",
   "metadata": {},
   "source": [
    "##### There are no null values"
   ]
  },
  {
   "cell_type": "markdown",
   "metadata": {},
   "source": [
    "#### What are the different claim periods  that we have in our data?"
   ]
  },
  {
   "cell_type": "code",
   "execution_count": 6,
   "metadata": {},
   "outputs": [
    {
     "data": {
      "text/plain": [
       "1 to 3 days Prior to Index Hospital Admission                      21581\n",
       "During Index Hospital Admission                                    21581\n",
       "1 through 30 days After Discharge from Index Hospital Admission    21581\n",
       "Complete Episode                                                    3083\n",
       "Name: Period, dtype: int64"
      ]
     },
     "execution_count": 6,
     "metadata": {},
     "output_type": "execute_result"
    }
   ],
   "source": [
    "medicare['Period'].value_counts()"
   ]
  },
  {
   "cell_type": "markdown",
   "metadata": {},
   "source": [
    "#### Let's give the claim periods some easy names"
   ]
  },
  {
   "cell_type": "code",
   "execution_count": 7,
   "metadata": {},
   "outputs": [],
   "source": [
    "def changing_period_names(previous_name):\n",
    "    if previous_name == '1 through 30 days After Discharge from Index Hospital Admission':\n",
    "        return 'After Discharge'\n",
    "    elif previous_name == 'During Index Hospital Admission':\n",
    "        return 'During Hospital Admission'\n",
    "    elif previous_name =='1 to 3 days Prior to Index Hospital Admission':\n",
    "        return 'Prior Hospital Admission'\n",
    "    elif previous_name == 'Complete Episode':\n",
    "        return 'Overall'\n",
    "    \n",
    "medicare['Period'] = medicare['Period'].map(changing_period_names)"
   ]
  },
  {
   "cell_type": "code",
   "execution_count": 8,
   "metadata": {},
   "outputs": [
    {
     "data": {
      "text/plain": [
       "After Discharge              21581\n",
       "During Hospital Admission    21581\n",
       "Prior Hospital Admission     21581\n",
       "Overall                       3083\n",
       "Name: Period, dtype: int64"
      ]
     },
     "execution_count": 8,
     "metadata": {},
     "output_type": "execute_result"
    }
   ],
   "source": [
    "medicare['Period'].value_counts()"
   ]
  },
  {
   "cell_type": "markdown",
   "metadata": {},
   "source": [
    "#### What kind of claims do we have for medicare?"
   ]
  },
  {
   "cell_type": "code",
   "execution_count": 9,
   "metadata": {},
   "outputs": [
    {
     "data": {
      "text/plain": [
       "Carrier                      9249\n",
       "Outpatient                   9249\n",
       "Durable Medical Equipment    9249\n",
       "Hospice                      9249\n",
       "Inpatient                    9249\n",
       "Skilled Nursing Facility     9249\n",
       "Home Health Agency           9249\n",
       "Total                        3083\n",
       "Name: Claim Type, dtype: int64"
      ]
     },
     "execution_count": 9,
     "metadata": {},
     "output_type": "execute_result"
    }
   ],
   "source": [
    "medicare['Claim Type'].value_counts()"
   ]
  },
  {
   "cell_type": "markdown",
   "metadata": {},
   "source": [
    "#### Excatly how many Facilty centers are we having in our data for medicare"
   ]
  },
  {
   "cell_type": "code",
   "execution_count": 10,
   "metadata": {},
   "outputs": [
    {
     "data": {
      "text/plain": [
       "3083"
      ]
     },
     "execution_count": 10,
     "metadata": {},
     "output_type": "execute_result"
    }
   ],
   "source": [
    "medicare['Facility ID'].nunique()"
   ]
  },
  {
   "cell_type": "markdown",
   "metadata": {},
   "source": [
    "#### Percent spnding hospital, Percent of Spndg State, Percent of Spndg National should be in a numerical format"
   ]
  },
  {
   "cell_type": "code",
   "execution_count": 11,
   "metadata": {},
   "outputs": [],
   "source": [
    "import re\n",
    "#Removing the % symbol\n",
    "medicare['Percent of Spndg Hospital'] = medicare['Percent of Spndg Hospital'].apply(lambda x: re.sub('%', '', x))\n",
    "medicare['Percent of Spndg State'] = medicare['Percent of Spndg State'].apply(lambda x: re.sub('%', '', x))\n",
    "medicare['Percent of Spndg National'] = medicare['Percent of Spndg National'].apply(lambda x: re.sub('%', '', x))"
   ]
  },
  {
   "cell_type": "code",
   "execution_count": 12,
   "metadata": {},
   "outputs": [],
   "source": [
    "#Converting into float\n",
    "medicare['Percent of Spndg Hospital'] = medicare['Percent of Spndg Hospital'].apply(lambda x: float(x))\n",
    "medicare['Percent of Spndg State'] = medicare['Percent of Spndg State'].apply(lambda x: float(x))\n",
    "medicare['Percent of Spndg National'] = medicare['Percent of Spndg National'].apply(lambda x: float(x))"
   ]
  },
  {
   "cell_type": "code",
   "execution_count": 13,
   "metadata": {},
   "outputs": [],
   "source": [
    "south_alabama = medicare[(medicare['Facility Name'] == 'SOUTHEAST ALABAMA MEDICAL CENTER') &(medicare['Claim Type'] != 'Total')]"
   ]
  },
  {
   "cell_type": "markdown",
   "metadata": {},
   "source": [
    "#### State wise cost for Avg Spndg Per EP Hospital for all the claim types"
   ]
  },
  {
   "cell_type": "code",
   "execution_count": 14,
   "metadata": {},
   "outputs": [],
   "source": [
    "#Since we are looking for all claim types, the claim type will be total\n",
    "total = medicare[(medicare['Claim Type'] == 'Total')]"
   ]
  },
  {
   "cell_type": "code",
   "execution_count": 15,
   "metadata": {},
   "outputs": [
    {
     "name": "stderr",
     "output_type": "stream",
     "text": [
      "C:\\Users\\Chaitali\\Important\\lib\\site-packages\\pandas\\core\\frame.py:3697: SettingWithCopyWarning:\n",
      "\n",
      "\n",
      "A value is trying to be set on a copy of a slice from a DataFrame\n",
      "\n",
      "See the caveats in the documentation: http://pandas.pydata.org/pandas-docs/stable/indexing.html#indexing-view-versus-copy\n",
      "\n"
     ]
    }
   ],
   "source": [
    "#We are dropping the start date and end date as we dont need it.\n",
    "total.drop(columns = ['Start Date','End Date'], inplace = True)"
   ]
  },
  {
   "cell_type": "code",
   "execution_count": 16,
   "metadata": {},
   "outputs": [
    {
     "data": {
      "text/plain": [
       "50"
      ]
     },
     "execution_count": 16,
     "metadata": {},
     "output_type": "execute_result"
    }
   ],
   "source": [
    "#The total number of states that we have\n",
    "total['State'].nunique()"
   ]
  },
  {
   "cell_type": "code",
   "execution_count": 17,
   "metadata": {},
   "outputs": [],
   "source": [
    "All_States = total['State'].unique()"
   ]
  },
  {
   "cell_type": "code",
   "execution_count": 18,
   "metadata": {},
   "outputs": [
    {
     "name": "stdout",
     "output_type": "stream",
     "text": [
      "['AL' 'AK' 'AZ' 'AR' 'CA' 'CO' 'CT' 'DE' 'DC' 'FL' 'GA' 'HI' 'ID' 'IL'\n",
      " 'IN' 'IA' 'KS' 'KY' 'LA' 'ME' 'MA' 'MI' 'MN' 'MS' 'MO' 'MT' 'NE' 'NV'\n",
      " 'NH' 'NJ' 'NM' 'NY' 'NC' 'ND' 'OH' 'OK' 'OR' 'PA' 'RI' 'SC' 'SD' 'TN'\n",
      " 'TX' 'UT' 'VT' 'VA' 'WA' 'WV' 'WI' 'WY']\n"
     ]
    }
   ],
   "source": [
    "#These are all the states\n",
    "print(All_States)"
   ]
  },
  {
   "cell_type": "code",
   "execution_count": 19,
   "metadata": {},
   "outputs": [],
   "source": [
    "def data_avg_spend_hospital_statewise(df):\n",
    "    avg_per_hospital = [] #Captures sum of the avg spending for EACH state e.g for AL = 12000 for AK = 12333\n",
    "    \n",
    "    total_avg_spend_hospital = df.agg({'Avg Spndg Per EP Hospital':sum})[0]#Captures sum of the avg spending for ALL state\n",
    "   \n",
    "    all_states = df['State'].unique()\n",
    "    \n",
    "    for i in all_states:\n",
    "        state_value = df[(df['State'] == i)].agg({'Avg Spndg Per EP Hospital':sum})[0]\n",
    "        average = (state_value/total_avg_spend_hospital) *100\n",
    "        avg_per_hospital.append(average)\n",
    "        average = 0\n",
    "    \n",
    "    new_dataframe = pd.DataFrame(list(zip(all_states, avg_per_hospital )),columns  = ['State','Spending'],index = [all_states])\n",
    "    return new_dataframe"
   ]
  },
  {
   "cell_type": "code",
   "execution_count": 20,
   "metadata": {},
   "outputs": [],
   "source": [
    "Statewise_Hosital = data_avg_spend_hospital_statewise(total)"
   ]
  },
  {
   "cell_type": "markdown",
   "metadata": {},
   "source": [
    "#### Lets see the top 10 states where hospital wise spending is more"
   ]
  },
  {
   "cell_type": "code",
   "execution_count": 21,
   "metadata": {},
   "outputs": [],
   "source": [
    "top_ten = Statewise_Hosital.sort_values('Spending',ascending=False).head(n = 10)"
   ]
  },
  {
   "cell_type": "code",
   "execution_count": 22,
   "metadata": {},
   "outputs": [
    {
     "data": {
      "application/vnd.plotly.v1+json": {
       "config": {
        "plotlyServerURL": "https://plot.ly"
       },
       "data": [
        {
         "domain": {
          "x": [
           0,
           1
          ],
          "y": [
           0,
           1
          ]
         },
         "hovertemplate": "State=%{label}<br>Spending=%{value}<extra></extra>",
         "labels": [
          "CA",
          "TX",
          "FL",
          "PA",
          "NY",
          "IL",
          "OH",
          "GA",
          "MI",
          "LA"
         ],
         "legendgroup": "",
         "name": "",
         "showlegend": true,
         "textinfo": "percent+label",
         "textposition": "inside",
         "type": "pie",
         "values": [
          9.935812325871634,
          9.712049019076137,
          5.6032833839663665,
          4.63696262210714,
          4.465991039959785,
          4.099003823001804,
          4.017091595744361,
          2.9899377821518627,
          2.8767738499729947,
          2.7504572625537436
         ]
        }
       ],
       "layout": {
        "legend": {
         "tracegroupgap": 0
        },
        "piecolorway": [
         "rgb(103,0,31)",
         "rgb(178,24,43)",
         "rgb(214,96,77)",
         "rgb(244,165,130)",
         "rgb(253,219,199)",
         "rgb(247,247,247)",
         "rgb(209,229,240)",
         "rgb(146,197,222)",
         "rgb(67,147,195)",
         "rgb(33,102,172)",
         "rgb(5,48,97)"
        ],
        "template": {
         "data": {
          "bar": [
           {
            "error_x": {
             "color": "#2a3f5f"
            },
            "error_y": {
             "color": "#2a3f5f"
            },
            "marker": {
             "line": {
              "color": "#E5ECF6",
              "width": 0.5
             }
            },
            "type": "bar"
           }
          ],
          "barpolar": [
           {
            "marker": {
             "line": {
              "color": "#E5ECF6",
              "width": 0.5
             }
            },
            "type": "barpolar"
           }
          ],
          "carpet": [
           {
            "aaxis": {
             "endlinecolor": "#2a3f5f",
             "gridcolor": "white",
             "linecolor": "white",
             "minorgridcolor": "white",
             "startlinecolor": "#2a3f5f"
            },
            "baxis": {
             "endlinecolor": "#2a3f5f",
             "gridcolor": "white",
             "linecolor": "white",
             "minorgridcolor": "white",
             "startlinecolor": "#2a3f5f"
            },
            "type": "carpet"
           }
          ],
          "choropleth": [
           {
            "colorbar": {
             "outlinewidth": 0,
             "ticks": ""
            },
            "type": "choropleth"
           }
          ],
          "contour": [
           {
            "colorbar": {
             "outlinewidth": 0,
             "ticks": ""
            },
            "colorscale": [
             [
              0,
              "#0d0887"
             ],
             [
              0.1111111111111111,
              "#46039f"
             ],
             [
              0.2222222222222222,
              "#7201a8"
             ],
             [
              0.3333333333333333,
              "#9c179e"
             ],
             [
              0.4444444444444444,
              "#bd3786"
             ],
             [
              0.5555555555555556,
              "#d8576b"
             ],
             [
              0.6666666666666666,
              "#ed7953"
             ],
             [
              0.7777777777777778,
              "#fb9f3a"
             ],
             [
              0.8888888888888888,
              "#fdca26"
             ],
             [
              1,
              "#f0f921"
             ]
            ],
            "type": "contour"
           }
          ],
          "contourcarpet": [
           {
            "colorbar": {
             "outlinewidth": 0,
             "ticks": ""
            },
            "type": "contourcarpet"
           }
          ],
          "heatmap": [
           {
            "colorbar": {
             "outlinewidth": 0,
             "ticks": ""
            },
            "colorscale": [
             [
              0,
              "#0d0887"
             ],
             [
              0.1111111111111111,
              "#46039f"
             ],
             [
              0.2222222222222222,
              "#7201a8"
             ],
             [
              0.3333333333333333,
              "#9c179e"
             ],
             [
              0.4444444444444444,
              "#bd3786"
             ],
             [
              0.5555555555555556,
              "#d8576b"
             ],
             [
              0.6666666666666666,
              "#ed7953"
             ],
             [
              0.7777777777777778,
              "#fb9f3a"
             ],
             [
              0.8888888888888888,
              "#fdca26"
             ],
             [
              1,
              "#f0f921"
             ]
            ],
            "type": "heatmap"
           }
          ],
          "heatmapgl": [
           {
            "colorbar": {
             "outlinewidth": 0,
             "ticks": ""
            },
            "colorscale": [
             [
              0,
              "#0d0887"
             ],
             [
              0.1111111111111111,
              "#46039f"
             ],
             [
              0.2222222222222222,
              "#7201a8"
             ],
             [
              0.3333333333333333,
              "#9c179e"
             ],
             [
              0.4444444444444444,
              "#bd3786"
             ],
             [
              0.5555555555555556,
              "#d8576b"
             ],
             [
              0.6666666666666666,
              "#ed7953"
             ],
             [
              0.7777777777777778,
              "#fb9f3a"
             ],
             [
              0.8888888888888888,
              "#fdca26"
             ],
             [
              1,
              "#f0f921"
             ]
            ],
            "type": "heatmapgl"
           }
          ],
          "histogram": [
           {
            "marker": {
             "colorbar": {
              "outlinewidth": 0,
              "ticks": ""
             }
            },
            "type": "histogram"
           }
          ],
          "histogram2d": [
           {
            "colorbar": {
             "outlinewidth": 0,
             "ticks": ""
            },
            "colorscale": [
             [
              0,
              "#0d0887"
             ],
             [
              0.1111111111111111,
              "#46039f"
             ],
             [
              0.2222222222222222,
              "#7201a8"
             ],
             [
              0.3333333333333333,
              "#9c179e"
             ],
             [
              0.4444444444444444,
              "#bd3786"
             ],
             [
              0.5555555555555556,
              "#d8576b"
             ],
             [
              0.6666666666666666,
              "#ed7953"
             ],
             [
              0.7777777777777778,
              "#fb9f3a"
             ],
             [
              0.8888888888888888,
              "#fdca26"
             ],
             [
              1,
              "#f0f921"
             ]
            ],
            "type": "histogram2d"
           }
          ],
          "histogram2dcontour": [
           {
            "colorbar": {
             "outlinewidth": 0,
             "ticks": ""
            },
            "colorscale": [
             [
              0,
              "#0d0887"
             ],
             [
              0.1111111111111111,
              "#46039f"
             ],
             [
              0.2222222222222222,
              "#7201a8"
             ],
             [
              0.3333333333333333,
              "#9c179e"
             ],
             [
              0.4444444444444444,
              "#bd3786"
             ],
             [
              0.5555555555555556,
              "#d8576b"
             ],
             [
              0.6666666666666666,
              "#ed7953"
             ],
             [
              0.7777777777777778,
              "#fb9f3a"
             ],
             [
              0.8888888888888888,
              "#fdca26"
             ],
             [
              1,
              "#f0f921"
             ]
            ],
            "type": "histogram2dcontour"
           }
          ],
          "mesh3d": [
           {
            "colorbar": {
             "outlinewidth": 0,
             "ticks": ""
            },
            "type": "mesh3d"
           }
          ],
          "parcoords": [
           {
            "line": {
             "colorbar": {
              "outlinewidth": 0,
              "ticks": ""
             }
            },
            "type": "parcoords"
           }
          ],
          "pie": [
           {
            "automargin": true,
            "type": "pie"
           }
          ],
          "scatter": [
           {
            "marker": {
             "colorbar": {
              "outlinewidth": 0,
              "ticks": ""
             }
            },
            "type": "scatter"
           }
          ],
          "scatter3d": [
           {
            "line": {
             "colorbar": {
              "outlinewidth": 0,
              "ticks": ""
             }
            },
            "marker": {
             "colorbar": {
              "outlinewidth": 0,
              "ticks": ""
             }
            },
            "type": "scatter3d"
           }
          ],
          "scattercarpet": [
           {
            "marker": {
             "colorbar": {
              "outlinewidth": 0,
              "ticks": ""
             }
            },
            "type": "scattercarpet"
           }
          ],
          "scattergeo": [
           {
            "marker": {
             "colorbar": {
              "outlinewidth": 0,
              "ticks": ""
             }
            },
            "type": "scattergeo"
           }
          ],
          "scattergl": [
           {
            "marker": {
             "colorbar": {
              "outlinewidth": 0,
              "ticks": ""
             }
            },
            "type": "scattergl"
           }
          ],
          "scattermapbox": [
           {
            "marker": {
             "colorbar": {
              "outlinewidth": 0,
              "ticks": ""
             }
            },
            "type": "scattermapbox"
           }
          ],
          "scatterpolar": [
           {
            "marker": {
             "colorbar": {
              "outlinewidth": 0,
              "ticks": ""
             }
            },
            "type": "scatterpolar"
           }
          ],
          "scatterpolargl": [
           {
            "marker": {
             "colorbar": {
              "outlinewidth": 0,
              "ticks": ""
             }
            },
            "type": "scatterpolargl"
           }
          ],
          "scatterternary": [
           {
            "marker": {
             "colorbar": {
              "outlinewidth": 0,
              "ticks": ""
             }
            },
            "type": "scatterternary"
           }
          ],
          "surface": [
           {
            "colorbar": {
             "outlinewidth": 0,
             "ticks": ""
            },
            "colorscale": [
             [
              0,
              "#0d0887"
             ],
             [
              0.1111111111111111,
              "#46039f"
             ],
             [
              0.2222222222222222,
              "#7201a8"
             ],
             [
              0.3333333333333333,
              "#9c179e"
             ],
             [
              0.4444444444444444,
              "#bd3786"
             ],
             [
              0.5555555555555556,
              "#d8576b"
             ],
             [
              0.6666666666666666,
              "#ed7953"
             ],
             [
              0.7777777777777778,
              "#fb9f3a"
             ],
             [
              0.8888888888888888,
              "#fdca26"
             ],
             [
              1,
              "#f0f921"
             ]
            ],
            "type": "surface"
           }
          ],
          "table": [
           {
            "cells": {
             "fill": {
              "color": "#EBF0F8"
             },
             "line": {
              "color": "white"
             }
            },
            "header": {
             "fill": {
              "color": "#C8D4E3"
             },
             "line": {
              "color": "white"
             }
            },
            "type": "table"
           }
          ]
         },
         "layout": {
          "annotationdefaults": {
           "arrowcolor": "#2a3f5f",
           "arrowhead": 0,
           "arrowwidth": 1
          },
          "coloraxis": {
           "colorbar": {
            "outlinewidth": 0,
            "ticks": ""
           }
          },
          "colorscale": {
           "diverging": [
            [
             0,
             "#8e0152"
            ],
            [
             0.1,
             "#c51b7d"
            ],
            [
             0.2,
             "#de77ae"
            ],
            [
             0.3,
             "#f1b6da"
            ],
            [
             0.4,
             "#fde0ef"
            ],
            [
             0.5,
             "#f7f7f7"
            ],
            [
             0.6,
             "#e6f5d0"
            ],
            [
             0.7,
             "#b8e186"
            ],
            [
             0.8,
             "#7fbc41"
            ],
            [
             0.9,
             "#4d9221"
            ],
            [
             1,
             "#276419"
            ]
           ],
           "sequential": [
            [
             0,
             "#0d0887"
            ],
            [
             0.1111111111111111,
             "#46039f"
            ],
            [
             0.2222222222222222,
             "#7201a8"
            ],
            [
             0.3333333333333333,
             "#9c179e"
            ],
            [
             0.4444444444444444,
             "#bd3786"
            ],
            [
             0.5555555555555556,
             "#d8576b"
            ],
            [
             0.6666666666666666,
             "#ed7953"
            ],
            [
             0.7777777777777778,
             "#fb9f3a"
            ],
            [
             0.8888888888888888,
             "#fdca26"
            ],
            [
             1,
             "#f0f921"
            ]
           ],
           "sequentialminus": [
            [
             0,
             "#0d0887"
            ],
            [
             0.1111111111111111,
             "#46039f"
            ],
            [
             0.2222222222222222,
             "#7201a8"
            ],
            [
             0.3333333333333333,
             "#9c179e"
            ],
            [
             0.4444444444444444,
             "#bd3786"
            ],
            [
             0.5555555555555556,
             "#d8576b"
            ],
            [
             0.6666666666666666,
             "#ed7953"
            ],
            [
             0.7777777777777778,
             "#fb9f3a"
            ],
            [
             0.8888888888888888,
             "#fdca26"
            ],
            [
             1,
             "#f0f921"
            ]
           ]
          },
          "colorway": [
           "#636efa",
           "#EF553B",
           "#00cc96",
           "#ab63fa",
           "#FFA15A",
           "#19d3f3",
           "#FF6692",
           "#B6E880",
           "#FF97FF",
           "#FECB52"
          ],
          "font": {
           "color": "#2a3f5f"
          },
          "geo": {
           "bgcolor": "white",
           "lakecolor": "white",
           "landcolor": "#E5ECF6",
           "showlakes": true,
           "showland": true,
           "subunitcolor": "white"
          },
          "hoverlabel": {
           "align": "left"
          },
          "hovermode": "closest",
          "mapbox": {
           "style": "light"
          },
          "paper_bgcolor": "white",
          "plot_bgcolor": "#E5ECF6",
          "polar": {
           "angularaxis": {
            "gridcolor": "white",
            "linecolor": "white",
            "ticks": ""
           },
           "bgcolor": "#E5ECF6",
           "radialaxis": {
            "gridcolor": "white",
            "linecolor": "white",
            "ticks": ""
           }
          },
          "scene": {
           "xaxis": {
            "backgroundcolor": "#E5ECF6",
            "gridcolor": "white",
            "gridwidth": 2,
            "linecolor": "white",
            "showbackground": true,
            "ticks": "",
            "zerolinecolor": "white"
           },
           "yaxis": {
            "backgroundcolor": "#E5ECF6",
            "gridcolor": "white",
            "gridwidth": 2,
            "linecolor": "white",
            "showbackground": true,
            "ticks": "",
            "zerolinecolor": "white"
           },
           "zaxis": {
            "backgroundcolor": "#E5ECF6",
            "gridcolor": "white",
            "gridwidth": 2,
            "linecolor": "white",
            "showbackground": true,
            "ticks": "",
            "zerolinecolor": "white"
           }
          },
          "shapedefaults": {
           "line": {
            "color": "#2a3f5f"
           }
          },
          "ternary": {
           "aaxis": {
            "gridcolor": "white",
            "linecolor": "white",
            "ticks": ""
           },
           "baxis": {
            "gridcolor": "white",
            "linecolor": "white",
            "ticks": ""
           },
           "bgcolor": "#E5ECF6",
           "caxis": {
            "gridcolor": "white",
            "linecolor": "white",
            "ticks": ""
           }
          },
          "title": {
           "x": 0.05
          },
          "xaxis": {
           "automargin": true,
           "gridcolor": "white",
           "linecolor": "white",
           "ticks": "",
           "title": {
            "standoff": 15
           },
           "zerolinecolor": "white",
           "zerolinewidth": 2
          },
          "yaxis": {
           "automargin": true,
           "gridcolor": "white",
           "linecolor": "white",
           "ticks": "",
           "title": {
            "standoff": 15
           },
           "zerolinecolor": "white",
           "zerolinewidth": 2
          }
         }
        },
        "title": {
         "text": "Top 10 States where Hospital wise spending is more"
        }
       }
      },
      "text/html": [
       "<div>\n",
       "        \n",
       "        \n",
       "            <div id=\"c500392c-ee17-450f-b642-d8287bf9def5\" class=\"plotly-graph-div\" style=\"height:525px; width:100%;\"></div>\n",
       "            <script type=\"text/javascript\">\n",
       "                require([\"plotly\"], function(Plotly) {\n",
       "                    window.PLOTLYENV=window.PLOTLYENV || {};\n",
       "                    \n",
       "                if (document.getElementById(\"c500392c-ee17-450f-b642-d8287bf9def5\")) {\n",
       "                    Plotly.newPlot(\n",
       "                        'c500392c-ee17-450f-b642-d8287bf9def5',\n",
       "                        [{\"domain\": {\"x\": [0.0, 1.0], \"y\": [0.0, 1.0]}, \"hovertemplate\": \"State=%{label}<br>Spending=%{value}<extra></extra>\", \"labels\": [\"CA\", \"TX\", \"FL\", \"PA\", \"NY\", \"IL\", \"OH\", \"GA\", \"MI\", \"LA\"], \"legendgroup\": \"\", \"name\": \"\", \"showlegend\": true, \"textinfo\": \"percent+label\", \"textposition\": \"inside\", \"type\": \"pie\", \"values\": [9.935812325871634, 9.712049019076137, 5.6032833839663665, 4.63696262210714, 4.465991039959785, 4.099003823001804, 4.017091595744361, 2.9899377821518627, 2.8767738499729947, 2.7504572625537436]}],\n",
       "                        {\"legend\": {\"tracegroupgap\": 0}, \"piecolorway\": [\"rgb(103,0,31)\", \"rgb(178,24,43)\", \"rgb(214,96,77)\", \"rgb(244,165,130)\", \"rgb(253,219,199)\", \"rgb(247,247,247)\", \"rgb(209,229,240)\", \"rgb(146,197,222)\", \"rgb(67,147,195)\", \"rgb(33,102,172)\", \"rgb(5,48,97)\"], \"template\": {\"data\": {\"bar\": [{\"error_x\": {\"color\": \"#2a3f5f\"}, \"error_y\": {\"color\": \"#2a3f5f\"}, \"marker\": {\"line\": {\"color\": \"#E5ECF6\", \"width\": 0.5}}, \"type\": \"bar\"}], \"barpolar\": [{\"marker\": {\"line\": {\"color\": \"#E5ECF6\", \"width\": 0.5}}, \"type\": \"barpolar\"}], \"carpet\": [{\"aaxis\": {\"endlinecolor\": \"#2a3f5f\", \"gridcolor\": \"white\", \"linecolor\": \"white\", \"minorgridcolor\": \"white\", \"startlinecolor\": \"#2a3f5f\"}, \"baxis\": {\"endlinecolor\": \"#2a3f5f\", \"gridcolor\": \"white\", \"linecolor\": \"white\", \"minorgridcolor\": \"white\", \"startlinecolor\": \"#2a3f5f\"}, \"type\": \"carpet\"}], \"choropleth\": [{\"colorbar\": {\"outlinewidth\": 0, \"ticks\": \"\"}, \"type\": \"choropleth\"}], \"contour\": [{\"colorbar\": {\"outlinewidth\": 0, \"ticks\": \"\"}, \"colorscale\": [[0.0, \"#0d0887\"], [0.1111111111111111, \"#46039f\"], [0.2222222222222222, \"#7201a8\"], [0.3333333333333333, \"#9c179e\"], [0.4444444444444444, \"#bd3786\"], [0.5555555555555556, \"#d8576b\"], [0.6666666666666666, \"#ed7953\"], [0.7777777777777778, \"#fb9f3a\"], [0.8888888888888888, \"#fdca26\"], [1.0, \"#f0f921\"]], \"type\": \"contour\"}], \"contourcarpet\": [{\"colorbar\": {\"outlinewidth\": 0, \"ticks\": \"\"}, \"type\": \"contourcarpet\"}], \"heatmap\": [{\"colorbar\": {\"outlinewidth\": 0, \"ticks\": \"\"}, \"colorscale\": [[0.0, \"#0d0887\"], [0.1111111111111111, \"#46039f\"], [0.2222222222222222, \"#7201a8\"], [0.3333333333333333, \"#9c179e\"], [0.4444444444444444, \"#bd3786\"], [0.5555555555555556, \"#d8576b\"], [0.6666666666666666, \"#ed7953\"], [0.7777777777777778, \"#fb9f3a\"], [0.8888888888888888, \"#fdca26\"], [1.0, \"#f0f921\"]], \"type\": \"heatmap\"}], \"heatmapgl\": [{\"colorbar\": {\"outlinewidth\": 0, \"ticks\": \"\"}, \"colorscale\": [[0.0, \"#0d0887\"], [0.1111111111111111, \"#46039f\"], [0.2222222222222222, \"#7201a8\"], [0.3333333333333333, \"#9c179e\"], [0.4444444444444444, \"#bd3786\"], [0.5555555555555556, \"#d8576b\"], [0.6666666666666666, \"#ed7953\"], [0.7777777777777778, \"#fb9f3a\"], [0.8888888888888888, \"#fdca26\"], [1.0, \"#f0f921\"]], \"type\": \"heatmapgl\"}], \"histogram\": [{\"marker\": {\"colorbar\": {\"outlinewidth\": 0, \"ticks\": \"\"}}, \"type\": \"histogram\"}], \"histogram2d\": [{\"colorbar\": {\"outlinewidth\": 0, \"ticks\": \"\"}, \"colorscale\": [[0.0, \"#0d0887\"], [0.1111111111111111, \"#46039f\"], [0.2222222222222222, \"#7201a8\"], [0.3333333333333333, \"#9c179e\"], [0.4444444444444444, \"#bd3786\"], [0.5555555555555556, \"#d8576b\"], [0.6666666666666666, \"#ed7953\"], [0.7777777777777778, \"#fb9f3a\"], [0.8888888888888888, \"#fdca26\"], [1.0, \"#f0f921\"]], \"type\": \"histogram2d\"}], \"histogram2dcontour\": [{\"colorbar\": {\"outlinewidth\": 0, \"ticks\": \"\"}, \"colorscale\": [[0.0, \"#0d0887\"], [0.1111111111111111, \"#46039f\"], [0.2222222222222222, \"#7201a8\"], [0.3333333333333333, \"#9c179e\"], [0.4444444444444444, \"#bd3786\"], [0.5555555555555556, \"#d8576b\"], [0.6666666666666666, \"#ed7953\"], [0.7777777777777778, \"#fb9f3a\"], [0.8888888888888888, \"#fdca26\"], [1.0, \"#f0f921\"]], \"type\": \"histogram2dcontour\"}], \"mesh3d\": [{\"colorbar\": {\"outlinewidth\": 0, \"ticks\": \"\"}, \"type\": \"mesh3d\"}], \"parcoords\": [{\"line\": {\"colorbar\": {\"outlinewidth\": 0, \"ticks\": \"\"}}, \"type\": \"parcoords\"}], \"pie\": [{\"automargin\": true, \"type\": \"pie\"}], \"scatter\": [{\"marker\": {\"colorbar\": {\"outlinewidth\": 0, \"ticks\": \"\"}}, \"type\": \"scatter\"}], \"scatter3d\": [{\"line\": {\"colorbar\": {\"outlinewidth\": 0, \"ticks\": \"\"}}, \"marker\": {\"colorbar\": {\"outlinewidth\": 0, \"ticks\": \"\"}}, \"type\": \"scatter3d\"}], \"scattercarpet\": [{\"marker\": {\"colorbar\": {\"outlinewidth\": 0, \"ticks\": \"\"}}, \"type\": \"scattercarpet\"}], \"scattergeo\": [{\"marker\": {\"colorbar\": {\"outlinewidth\": 0, \"ticks\": \"\"}}, \"type\": \"scattergeo\"}], \"scattergl\": [{\"marker\": {\"colorbar\": {\"outlinewidth\": 0, \"ticks\": \"\"}}, \"type\": \"scattergl\"}], \"scattermapbox\": [{\"marker\": {\"colorbar\": {\"outlinewidth\": 0, \"ticks\": \"\"}}, \"type\": \"scattermapbox\"}], \"scatterpolar\": [{\"marker\": {\"colorbar\": {\"outlinewidth\": 0, \"ticks\": \"\"}}, \"type\": \"scatterpolar\"}], \"scatterpolargl\": [{\"marker\": {\"colorbar\": {\"outlinewidth\": 0, \"ticks\": \"\"}}, \"type\": \"scatterpolargl\"}], \"scatterternary\": [{\"marker\": {\"colorbar\": {\"outlinewidth\": 0, \"ticks\": \"\"}}, \"type\": \"scatterternary\"}], \"surface\": [{\"colorbar\": {\"outlinewidth\": 0, \"ticks\": \"\"}, \"colorscale\": [[0.0, \"#0d0887\"], [0.1111111111111111, \"#46039f\"], [0.2222222222222222, \"#7201a8\"], [0.3333333333333333, \"#9c179e\"], [0.4444444444444444, \"#bd3786\"], [0.5555555555555556, \"#d8576b\"], [0.6666666666666666, \"#ed7953\"], [0.7777777777777778, \"#fb9f3a\"], [0.8888888888888888, \"#fdca26\"], [1.0, \"#f0f921\"]], \"type\": \"surface\"}], \"table\": [{\"cells\": {\"fill\": {\"color\": \"#EBF0F8\"}, \"line\": {\"color\": \"white\"}}, \"header\": {\"fill\": {\"color\": \"#C8D4E3\"}, \"line\": {\"color\": \"white\"}}, \"type\": \"table\"}]}, \"layout\": {\"annotationdefaults\": {\"arrowcolor\": \"#2a3f5f\", \"arrowhead\": 0, \"arrowwidth\": 1}, \"coloraxis\": {\"colorbar\": {\"outlinewidth\": 0, \"ticks\": \"\"}}, \"colorscale\": {\"diverging\": [[0, \"#8e0152\"], [0.1, \"#c51b7d\"], [0.2, \"#de77ae\"], [0.3, \"#f1b6da\"], [0.4, \"#fde0ef\"], [0.5, \"#f7f7f7\"], [0.6, \"#e6f5d0\"], [0.7, \"#b8e186\"], [0.8, \"#7fbc41\"], [0.9, \"#4d9221\"], [1, \"#276419\"]], \"sequential\": [[0.0, \"#0d0887\"], [0.1111111111111111, \"#46039f\"], [0.2222222222222222, \"#7201a8\"], [0.3333333333333333, \"#9c179e\"], [0.4444444444444444, \"#bd3786\"], [0.5555555555555556, \"#d8576b\"], [0.6666666666666666, \"#ed7953\"], [0.7777777777777778, \"#fb9f3a\"], [0.8888888888888888, \"#fdca26\"], [1.0, \"#f0f921\"]], \"sequentialminus\": [[0.0, \"#0d0887\"], [0.1111111111111111, \"#46039f\"], [0.2222222222222222, \"#7201a8\"], [0.3333333333333333, \"#9c179e\"], [0.4444444444444444, \"#bd3786\"], [0.5555555555555556, \"#d8576b\"], [0.6666666666666666, \"#ed7953\"], [0.7777777777777778, \"#fb9f3a\"], [0.8888888888888888, \"#fdca26\"], [1.0, \"#f0f921\"]]}, \"colorway\": [\"#636efa\", \"#EF553B\", \"#00cc96\", \"#ab63fa\", \"#FFA15A\", \"#19d3f3\", \"#FF6692\", \"#B6E880\", \"#FF97FF\", \"#FECB52\"], \"font\": {\"color\": \"#2a3f5f\"}, \"geo\": {\"bgcolor\": \"white\", \"lakecolor\": \"white\", \"landcolor\": \"#E5ECF6\", \"showlakes\": true, \"showland\": true, \"subunitcolor\": \"white\"}, \"hoverlabel\": {\"align\": \"left\"}, \"hovermode\": \"closest\", \"mapbox\": {\"style\": \"light\"}, \"paper_bgcolor\": \"white\", \"plot_bgcolor\": \"#E5ECF6\", \"polar\": {\"angularaxis\": {\"gridcolor\": \"white\", \"linecolor\": \"white\", \"ticks\": \"\"}, \"bgcolor\": \"#E5ECF6\", \"radialaxis\": {\"gridcolor\": \"white\", \"linecolor\": \"white\", \"ticks\": \"\"}}, \"scene\": {\"xaxis\": {\"backgroundcolor\": \"#E5ECF6\", \"gridcolor\": \"white\", \"gridwidth\": 2, \"linecolor\": \"white\", \"showbackground\": true, \"ticks\": \"\", \"zerolinecolor\": \"white\"}, \"yaxis\": {\"backgroundcolor\": \"#E5ECF6\", \"gridcolor\": \"white\", \"gridwidth\": 2, \"linecolor\": \"white\", \"showbackground\": true, \"ticks\": \"\", \"zerolinecolor\": \"white\"}, \"zaxis\": {\"backgroundcolor\": \"#E5ECF6\", \"gridcolor\": \"white\", \"gridwidth\": 2, \"linecolor\": \"white\", \"showbackground\": true, \"ticks\": \"\", \"zerolinecolor\": \"white\"}}, \"shapedefaults\": {\"line\": {\"color\": \"#2a3f5f\"}}, \"ternary\": {\"aaxis\": {\"gridcolor\": \"white\", \"linecolor\": \"white\", \"ticks\": \"\"}, \"baxis\": {\"gridcolor\": \"white\", \"linecolor\": \"white\", \"ticks\": \"\"}, \"bgcolor\": \"#E5ECF6\", \"caxis\": {\"gridcolor\": \"white\", \"linecolor\": \"white\", \"ticks\": \"\"}}, \"title\": {\"x\": 0.05}, \"xaxis\": {\"automargin\": true, \"gridcolor\": \"white\", \"linecolor\": \"white\", \"ticks\": \"\", \"title\": {\"standoff\": 15}, \"zerolinecolor\": \"white\", \"zerolinewidth\": 2}, \"yaxis\": {\"automargin\": true, \"gridcolor\": \"white\", \"linecolor\": \"white\", \"ticks\": \"\", \"title\": {\"standoff\": 15}, \"zerolinecolor\": \"white\", \"zerolinewidth\": 2}}}, \"title\": {\"text\": \"Top 10 States where Hospital wise spending is more\"}},\n",
       "                        {\"responsive\": true}\n",
       "                    ).then(function(){\n",
       "                            \n",
       "var gd = document.getElementById('c500392c-ee17-450f-b642-d8287bf9def5');\n",
       "var x = new MutationObserver(function (mutations, observer) {{\n",
       "        var display = window.getComputedStyle(gd).display;\n",
       "        if (!display || display === 'none') {{\n",
       "            console.log([gd, 'removed!']);\n",
       "            Plotly.purge(gd);\n",
       "            observer.disconnect();\n",
       "        }}\n",
       "}});\n",
       "\n",
       "// Listen for the removal of the full notebook cells\n",
       "var notebookContainer = gd.closest('#notebook-container');\n",
       "if (notebookContainer) {{\n",
       "    x.observe(notebookContainer, {childList: true});\n",
       "}}\n",
       "\n",
       "// Listen for the clearing of the current output cell\n",
       "var outputEl = gd.closest('.output');\n",
       "if (outputEl) {{\n",
       "    x.observe(outputEl, {childList: true});\n",
       "}}\n",
       "\n",
       "                        })\n",
       "                };\n",
       "                });\n",
       "            </script>\n",
       "        </div>"
      ]
     },
     "metadata": {},
     "output_type": "display_data"
    }
   ],
   "source": [
    "# l= top_ten['State']\n",
    "# sizes = top_ten['Spending']\n",
    "# fig1, ax1 = plt.subplots()\n",
    "# color_set = sns.color_palette(\"hls\", 10)\n",
    "# ax1.pie(sizes,labels=l, autopct='%1.1f%%',startangle = 90,  colors = color_set, radius = 1.8)\n",
    "# plt.show()\n",
    "\n",
    "\n",
    "fig = px.pie(top_ten,values = 'Spending', names = 'State',color_discrete_sequence=px.colors.sequential.RdBu,\n",
    "            title='Top 10 States where Hospital wise spending is more')\n",
    "fig.update_traces(textposition='inside', textinfo='percent+label')\n",
    "fig.show()"
   ]
  },
  {
   "cell_type": "markdown",
   "metadata": {},
   "source": [
    "#### How much is spent over Inpatient and Outpatient services by the state , nation and hospital"
   ]
  },
  {
   "cell_type": "code",
   "execution_count": 23,
   "metadata": {},
   "outputs": [],
   "source": [
    "inpatient_cost = medicare[medicare['Claim Type'] == 'Inpatient']"
   ]
  },
  {
   "cell_type": "code",
   "execution_count": 24,
   "metadata": {},
   "outputs": [],
   "source": [
    "outpatient_cost = medicare[medicare['Claim Type'] == 'Outpatient']"
   ]
  },
  {
   "cell_type": "code",
   "execution_count": 25,
   "metadata": {},
   "outputs": [
    {
     "name": "stderr",
     "output_type": "stream",
     "text": [
      "C:\\Users\\Chaitali\\Important\\lib\\site-packages\\pandas\\core\\frame.py:3697: SettingWithCopyWarning:\n",
      "\n",
      "\n",
      "A value is trying to be set on a copy of a slice from a DataFrame\n",
      "\n",
      "See the caveats in the documentation: http://pandas.pydata.org/pandas-docs/stable/indexing.html#indexing-view-versus-copy\n",
      "\n"
     ]
    }
   ],
   "source": [
    "inpatient_cost.drop(columns = ['Facility ID','Start Date', 'End Date','Percent of Spndg Hospital','Percent of Spndg State','Percent of Spndg National'],inplace = True)"
   ]
  },
  {
   "cell_type": "code",
   "execution_count": 26,
   "metadata": {},
   "outputs": [],
   "source": [
    "outpatient_cost.drop(columns = ['Facility ID','Start Date', 'End Date','Percent of Spndg Hospital','Percent of Spndg State','Percent of Spndg National'],inplace = True)"
   ]
  },
  {
   "cell_type": "code",
   "execution_count": 27,
   "metadata": {},
   "outputs": [],
   "source": [
    "inpatient_state = pd.pivot_table(inpatient_cost,index=[\"State\"])"
   ]
  },
  {
   "cell_type": "code",
   "execution_count": 28,
   "metadata": {},
   "outputs": [],
   "source": [
    "outpatient_state = pd.pivot_table(outpatient_cost,index=[\"State\"])"
   ]
  },
  {
   "cell_type": "code",
   "execution_count": 29,
   "metadata": {},
   "outputs": [],
   "source": [
    "in_spending = inpatient_state.sort_values(by=['Avg Spndg Per EP Hospital','Avg Spndg Per EP State'], ascending = False)[:10]"
   ]
  },
  {
   "cell_type": "code",
   "execution_count": 30,
   "metadata": {},
   "outputs": [],
   "source": [
    "out_spending = outpatient_state.sort_values(by=['Avg Spndg Per EP Hospital','Avg Spndg Per EP State'], ascending = False)[:10]"
   ]
  },
  {
   "cell_type": "code",
   "execution_count": 31,
   "metadata": {},
   "outputs": [
    {
     "data": {
      "text/html": [
       "<div>\n",
       "<style scoped>\n",
       "    .dataframe tbody tr th:only-of-type {\n",
       "        vertical-align: middle;\n",
       "    }\n",
       "\n",
       "    .dataframe tbody tr th {\n",
       "        vertical-align: top;\n",
       "    }\n",
       "\n",
       "    .dataframe thead th {\n",
       "        text-align: right;\n",
       "    }\n",
       "</style>\n",
       "<table border=\"1\" class=\"dataframe\">\n",
       "  <thead>\n",
       "    <tr style=\"text-align: right;\">\n",
       "      <th></th>\n",
       "      <th>Avg Spndg Per EP Hospital</th>\n",
       "      <th>Avg Spndg Per EP National</th>\n",
       "      <th>Avg Spndg Per EP State</th>\n",
       "    </tr>\n",
       "    <tr>\n",
       "      <th>State</th>\n",
       "      <th></th>\n",
       "      <th></th>\n",
       "      <th></th>\n",
       "    </tr>\n",
       "  </thead>\n",
       "  <tbody>\n",
       "    <tr>\n",
       "      <th>DC</th>\n",
       "      <td>4870.777778</td>\n",
       "      <td>4334.333333</td>\n",
       "      <td>4649.000000</td>\n",
       "    </tr>\n",
       "    <tr>\n",
       "      <th>NV</th>\n",
       "      <td>4675.015152</td>\n",
       "      <td>4334.333333</td>\n",
       "      <td>4978.000000</td>\n",
       "    </tr>\n",
       "    <tr>\n",
       "      <th>NE</th>\n",
       "      <td>4596.942029</td>\n",
       "      <td>4334.333333</td>\n",
       "      <td>4419.333333</td>\n",
       "    </tr>\n",
       "    <tr>\n",
       "      <th>TX</th>\n",
       "      <td>4508.603865</td>\n",
       "      <td>4334.333333</td>\n",
       "      <td>4843.666667</td>\n",
       "    </tr>\n",
       "    <tr>\n",
       "      <th>LA</th>\n",
       "      <td>4434.678862</td>\n",
       "      <td>4334.333333</td>\n",
       "      <td>4764.000000</td>\n",
       "    </tr>\n",
       "    <tr>\n",
       "      <th>CO</th>\n",
       "      <td>4402.644928</td>\n",
       "      <td>4334.333333</td>\n",
       "      <td>4601.000000</td>\n",
       "    </tr>\n",
       "    <tr>\n",
       "      <th>ID</th>\n",
       "      <td>4365.523810</td>\n",
       "      <td>4334.333333</td>\n",
       "      <td>4410.333333</td>\n",
       "    </tr>\n",
       "    <tr>\n",
       "      <th>AZ</th>\n",
       "      <td>4276.471264</td>\n",
       "      <td>4334.333333</td>\n",
       "      <td>4640.000000</td>\n",
       "    </tr>\n",
       "    <tr>\n",
       "      <th>CA</th>\n",
       "      <td>4160.711963</td>\n",
       "      <td>4334.333333</td>\n",
       "      <td>4353.333333</td>\n",
       "    </tr>\n",
       "    <tr>\n",
       "      <th>ND</th>\n",
       "      <td>4142.714286</td>\n",
       "      <td>4334.333333</td>\n",
       "      <td>4346.333333</td>\n",
       "    </tr>\n",
       "  </tbody>\n",
       "</table>\n",
       "</div>"
      ],
      "text/plain": [
       "       Avg Spndg Per EP Hospital  Avg Spndg Per EP National  \\\n",
       "State                                                         \n",
       "DC                   4870.777778                4334.333333   \n",
       "NV                   4675.015152                4334.333333   \n",
       "NE                   4596.942029                4334.333333   \n",
       "TX                   4508.603865                4334.333333   \n",
       "LA                   4434.678862                4334.333333   \n",
       "CO                   4402.644928                4334.333333   \n",
       "ID                   4365.523810                4334.333333   \n",
       "AZ                   4276.471264                4334.333333   \n",
       "CA                   4160.711963                4334.333333   \n",
       "ND                   4142.714286                4334.333333   \n",
       "\n",
       "       Avg Spndg Per EP State  \n",
       "State                          \n",
       "DC                4649.000000  \n",
       "NV                4978.000000  \n",
       "NE                4419.333333  \n",
       "TX                4843.666667  \n",
       "LA                4764.000000  \n",
       "CO                4601.000000  \n",
       "ID                4410.333333  \n",
       "AZ                4640.000000  \n",
       "CA                4353.333333  \n",
       "ND                4346.333333  "
      ]
     },
     "execution_count": 31,
     "metadata": {},
     "output_type": "execute_result"
    }
   ],
   "source": [
    "in_spending"
   ]
  },
  {
   "cell_type": "code",
   "execution_count": 32,
   "metadata": {},
   "outputs": [],
   "source": [
    "in_spending_top_ten = pd.DataFrame(in_spending.to_records())"
   ]
  },
  {
   "cell_type": "code",
   "execution_count": 33,
   "metadata": {},
   "outputs": [
    {
     "data": {
      "application/vnd.plotly.v1+json": {
       "config": {
        "plotlyServerURL": "https://plot.ly"
       },
       "data": [
        {
         "alignmentgroup": "True",
         "hovertemplate": "variable=Avg Spndg Per EP State<br>State=%{x}<br>value=%{y}<extra></extra>",
         "legendgroup": "Avg Spndg Per EP State",
         "marker": {
          "color": "grey"
         },
         "name": "Avg Spndg Per EP State",
         "offsetgroup": "Avg Spndg Per EP State",
         "orientation": "v",
         "showlegend": true,
         "textposition": "auto",
         "type": "bar",
         "x": [
          "DC",
          "NV",
          "NE",
          "TX",
          "LA",
          "CO",
          "ID",
          "AZ",
          "CA",
          "ND"
         ],
         "xaxis": "x",
         "y": [
          4649,
          4978,
          4419.333333333333,
          4843.666666666667,
          4764,
          4601,
          4410.333333333333,
          4640,
          4353.333333333333,
          4346.333333333333
         ],
         "yaxis": "y"
        },
        {
         "alignmentgroup": "True",
         "hovertemplate": "variable=Avg Spndg Per EP Hospital<br>State=%{x}<br>value=%{y}<extra></extra>",
         "legendgroup": "Avg Spndg Per EP Hospital",
         "marker": {
          "color": "coral"
         },
         "name": "Avg Spndg Per EP Hospital",
         "offsetgroup": "Avg Spndg Per EP Hospital",
         "orientation": "v",
         "showlegend": true,
         "textposition": "auto",
         "type": "bar",
         "x": [
          "DC",
          "NV",
          "NE",
          "TX",
          "LA",
          "CO",
          "ID",
          "AZ",
          "CA",
          "ND"
         ],
         "xaxis": "x",
         "y": [
          4870.777777777777,
          4675.015151515152,
          4596.942028985507,
          4508.603864734299,
          4434.678861788618,
          4402.644927536232,
          4365.523809523809,
          4276.471264367816,
          4160.711962833914,
          4142.714285714285
         ],
         "yaxis": "y"
        }
       ],
       "layout": {
        "barmode": "relative",
        "legend": {
         "title": {
          "text": "variable"
         },
         "tracegroupgap": 0
        },
        "template": {
         "data": {
          "bar": [
           {
            "error_x": {
             "color": "#2a3f5f"
            },
            "error_y": {
             "color": "#2a3f5f"
            },
            "marker": {
             "line": {
              "color": "#E5ECF6",
              "width": 0.5
             }
            },
            "type": "bar"
           }
          ],
          "barpolar": [
           {
            "marker": {
             "line": {
              "color": "#E5ECF6",
              "width": 0.5
             }
            },
            "type": "barpolar"
           }
          ],
          "carpet": [
           {
            "aaxis": {
             "endlinecolor": "#2a3f5f",
             "gridcolor": "white",
             "linecolor": "white",
             "minorgridcolor": "white",
             "startlinecolor": "#2a3f5f"
            },
            "baxis": {
             "endlinecolor": "#2a3f5f",
             "gridcolor": "white",
             "linecolor": "white",
             "minorgridcolor": "white",
             "startlinecolor": "#2a3f5f"
            },
            "type": "carpet"
           }
          ],
          "choropleth": [
           {
            "colorbar": {
             "outlinewidth": 0,
             "ticks": ""
            },
            "type": "choropleth"
           }
          ],
          "contour": [
           {
            "colorbar": {
             "outlinewidth": 0,
             "ticks": ""
            },
            "colorscale": [
             [
              0,
              "#0d0887"
             ],
             [
              0.1111111111111111,
              "#46039f"
             ],
             [
              0.2222222222222222,
              "#7201a8"
             ],
             [
              0.3333333333333333,
              "#9c179e"
             ],
             [
              0.4444444444444444,
              "#bd3786"
             ],
             [
              0.5555555555555556,
              "#d8576b"
             ],
             [
              0.6666666666666666,
              "#ed7953"
             ],
             [
              0.7777777777777778,
              "#fb9f3a"
             ],
             [
              0.8888888888888888,
              "#fdca26"
             ],
             [
              1,
              "#f0f921"
             ]
            ],
            "type": "contour"
           }
          ],
          "contourcarpet": [
           {
            "colorbar": {
             "outlinewidth": 0,
             "ticks": ""
            },
            "type": "contourcarpet"
           }
          ],
          "heatmap": [
           {
            "colorbar": {
             "outlinewidth": 0,
             "ticks": ""
            },
            "colorscale": [
             [
              0,
              "#0d0887"
             ],
             [
              0.1111111111111111,
              "#46039f"
             ],
             [
              0.2222222222222222,
              "#7201a8"
             ],
             [
              0.3333333333333333,
              "#9c179e"
             ],
             [
              0.4444444444444444,
              "#bd3786"
             ],
             [
              0.5555555555555556,
              "#d8576b"
             ],
             [
              0.6666666666666666,
              "#ed7953"
             ],
             [
              0.7777777777777778,
              "#fb9f3a"
             ],
             [
              0.8888888888888888,
              "#fdca26"
             ],
             [
              1,
              "#f0f921"
             ]
            ],
            "type": "heatmap"
           }
          ],
          "heatmapgl": [
           {
            "colorbar": {
             "outlinewidth": 0,
             "ticks": ""
            },
            "colorscale": [
             [
              0,
              "#0d0887"
             ],
             [
              0.1111111111111111,
              "#46039f"
             ],
             [
              0.2222222222222222,
              "#7201a8"
             ],
             [
              0.3333333333333333,
              "#9c179e"
             ],
             [
              0.4444444444444444,
              "#bd3786"
             ],
             [
              0.5555555555555556,
              "#d8576b"
             ],
             [
              0.6666666666666666,
              "#ed7953"
             ],
             [
              0.7777777777777778,
              "#fb9f3a"
             ],
             [
              0.8888888888888888,
              "#fdca26"
             ],
             [
              1,
              "#f0f921"
             ]
            ],
            "type": "heatmapgl"
           }
          ],
          "histogram": [
           {
            "marker": {
             "colorbar": {
              "outlinewidth": 0,
              "ticks": ""
             }
            },
            "type": "histogram"
           }
          ],
          "histogram2d": [
           {
            "colorbar": {
             "outlinewidth": 0,
             "ticks": ""
            },
            "colorscale": [
             [
              0,
              "#0d0887"
             ],
             [
              0.1111111111111111,
              "#46039f"
             ],
             [
              0.2222222222222222,
              "#7201a8"
             ],
             [
              0.3333333333333333,
              "#9c179e"
             ],
             [
              0.4444444444444444,
              "#bd3786"
             ],
             [
              0.5555555555555556,
              "#d8576b"
             ],
             [
              0.6666666666666666,
              "#ed7953"
             ],
             [
              0.7777777777777778,
              "#fb9f3a"
             ],
             [
              0.8888888888888888,
              "#fdca26"
             ],
             [
              1,
              "#f0f921"
             ]
            ],
            "type": "histogram2d"
           }
          ],
          "histogram2dcontour": [
           {
            "colorbar": {
             "outlinewidth": 0,
             "ticks": ""
            },
            "colorscale": [
             [
              0,
              "#0d0887"
             ],
             [
              0.1111111111111111,
              "#46039f"
             ],
             [
              0.2222222222222222,
              "#7201a8"
             ],
             [
              0.3333333333333333,
              "#9c179e"
             ],
             [
              0.4444444444444444,
              "#bd3786"
             ],
             [
              0.5555555555555556,
              "#d8576b"
             ],
             [
              0.6666666666666666,
              "#ed7953"
             ],
             [
              0.7777777777777778,
              "#fb9f3a"
             ],
             [
              0.8888888888888888,
              "#fdca26"
             ],
             [
              1,
              "#f0f921"
             ]
            ],
            "type": "histogram2dcontour"
           }
          ],
          "mesh3d": [
           {
            "colorbar": {
             "outlinewidth": 0,
             "ticks": ""
            },
            "type": "mesh3d"
           }
          ],
          "parcoords": [
           {
            "line": {
             "colorbar": {
              "outlinewidth": 0,
              "ticks": ""
             }
            },
            "type": "parcoords"
           }
          ],
          "pie": [
           {
            "automargin": true,
            "type": "pie"
           }
          ],
          "scatter": [
           {
            "marker": {
             "colorbar": {
              "outlinewidth": 0,
              "ticks": ""
             }
            },
            "type": "scatter"
           }
          ],
          "scatter3d": [
           {
            "line": {
             "colorbar": {
              "outlinewidth": 0,
              "ticks": ""
             }
            },
            "marker": {
             "colorbar": {
              "outlinewidth": 0,
              "ticks": ""
             }
            },
            "type": "scatter3d"
           }
          ],
          "scattercarpet": [
           {
            "marker": {
             "colorbar": {
              "outlinewidth": 0,
              "ticks": ""
             }
            },
            "type": "scattercarpet"
           }
          ],
          "scattergeo": [
           {
            "marker": {
             "colorbar": {
              "outlinewidth": 0,
              "ticks": ""
             }
            },
            "type": "scattergeo"
           }
          ],
          "scattergl": [
           {
            "marker": {
             "colorbar": {
              "outlinewidth": 0,
              "ticks": ""
             }
            },
            "type": "scattergl"
           }
          ],
          "scattermapbox": [
           {
            "marker": {
             "colorbar": {
              "outlinewidth": 0,
              "ticks": ""
             }
            },
            "type": "scattermapbox"
           }
          ],
          "scatterpolar": [
           {
            "marker": {
             "colorbar": {
              "outlinewidth": 0,
              "ticks": ""
             }
            },
            "type": "scatterpolar"
           }
          ],
          "scatterpolargl": [
           {
            "marker": {
             "colorbar": {
              "outlinewidth": 0,
              "ticks": ""
             }
            },
            "type": "scatterpolargl"
           }
          ],
          "scatterternary": [
           {
            "marker": {
             "colorbar": {
              "outlinewidth": 0,
              "ticks": ""
             }
            },
            "type": "scatterternary"
           }
          ],
          "surface": [
           {
            "colorbar": {
             "outlinewidth": 0,
             "ticks": ""
            },
            "colorscale": [
             [
              0,
              "#0d0887"
             ],
             [
              0.1111111111111111,
              "#46039f"
             ],
             [
              0.2222222222222222,
              "#7201a8"
             ],
             [
              0.3333333333333333,
              "#9c179e"
             ],
             [
              0.4444444444444444,
              "#bd3786"
             ],
             [
              0.5555555555555556,
              "#d8576b"
             ],
             [
              0.6666666666666666,
              "#ed7953"
             ],
             [
              0.7777777777777778,
              "#fb9f3a"
             ],
             [
              0.8888888888888888,
              "#fdca26"
             ],
             [
              1,
              "#f0f921"
             ]
            ],
            "type": "surface"
           }
          ],
          "table": [
           {
            "cells": {
             "fill": {
              "color": "#EBF0F8"
             },
             "line": {
              "color": "white"
             }
            },
            "header": {
             "fill": {
              "color": "#C8D4E3"
             },
             "line": {
              "color": "white"
             }
            },
            "type": "table"
           }
          ]
         },
         "layout": {
          "annotationdefaults": {
           "arrowcolor": "#2a3f5f",
           "arrowhead": 0,
           "arrowwidth": 1
          },
          "coloraxis": {
           "colorbar": {
            "outlinewidth": 0,
            "ticks": ""
           }
          },
          "colorscale": {
           "diverging": [
            [
             0,
             "#8e0152"
            ],
            [
             0.1,
             "#c51b7d"
            ],
            [
             0.2,
             "#de77ae"
            ],
            [
             0.3,
             "#f1b6da"
            ],
            [
             0.4,
             "#fde0ef"
            ],
            [
             0.5,
             "#f7f7f7"
            ],
            [
             0.6,
             "#e6f5d0"
            ],
            [
             0.7,
             "#b8e186"
            ],
            [
             0.8,
             "#7fbc41"
            ],
            [
             0.9,
             "#4d9221"
            ],
            [
             1,
             "#276419"
            ]
           ],
           "sequential": [
            [
             0,
             "#0d0887"
            ],
            [
             0.1111111111111111,
             "#46039f"
            ],
            [
             0.2222222222222222,
             "#7201a8"
            ],
            [
             0.3333333333333333,
             "#9c179e"
            ],
            [
             0.4444444444444444,
             "#bd3786"
            ],
            [
             0.5555555555555556,
             "#d8576b"
            ],
            [
             0.6666666666666666,
             "#ed7953"
            ],
            [
             0.7777777777777778,
             "#fb9f3a"
            ],
            [
             0.8888888888888888,
             "#fdca26"
            ],
            [
             1,
             "#f0f921"
            ]
           ],
           "sequentialminus": [
            [
             0,
             "#0d0887"
            ],
            [
             0.1111111111111111,
             "#46039f"
            ],
            [
             0.2222222222222222,
             "#7201a8"
            ],
            [
             0.3333333333333333,
             "#9c179e"
            ],
            [
             0.4444444444444444,
             "#bd3786"
            ],
            [
             0.5555555555555556,
             "#d8576b"
            ],
            [
             0.6666666666666666,
             "#ed7953"
            ],
            [
             0.7777777777777778,
             "#fb9f3a"
            ],
            [
             0.8888888888888888,
             "#fdca26"
            ],
            [
             1,
             "#f0f921"
            ]
           ]
          },
          "colorway": [
           "#636efa",
           "#EF553B",
           "#00cc96",
           "#ab63fa",
           "#FFA15A",
           "#19d3f3",
           "#FF6692",
           "#B6E880",
           "#FF97FF",
           "#FECB52"
          ],
          "font": {
           "color": "#2a3f5f"
          },
          "geo": {
           "bgcolor": "white",
           "lakecolor": "white",
           "landcolor": "#E5ECF6",
           "showlakes": true,
           "showland": true,
           "subunitcolor": "white"
          },
          "hoverlabel": {
           "align": "left"
          },
          "hovermode": "closest",
          "mapbox": {
           "style": "light"
          },
          "paper_bgcolor": "white",
          "plot_bgcolor": "#E5ECF6",
          "polar": {
           "angularaxis": {
            "gridcolor": "white",
            "linecolor": "white",
            "ticks": ""
           },
           "bgcolor": "#E5ECF6",
           "radialaxis": {
            "gridcolor": "white",
            "linecolor": "white",
            "ticks": ""
           }
          },
          "scene": {
           "xaxis": {
            "backgroundcolor": "#E5ECF6",
            "gridcolor": "white",
            "gridwidth": 2,
            "linecolor": "white",
            "showbackground": true,
            "ticks": "",
            "zerolinecolor": "white"
           },
           "yaxis": {
            "backgroundcolor": "#E5ECF6",
            "gridcolor": "white",
            "gridwidth": 2,
            "linecolor": "white",
            "showbackground": true,
            "ticks": "",
            "zerolinecolor": "white"
           },
           "zaxis": {
            "backgroundcolor": "#E5ECF6",
            "gridcolor": "white",
            "gridwidth": 2,
            "linecolor": "white",
            "showbackground": true,
            "ticks": "",
            "zerolinecolor": "white"
           }
          },
          "shapedefaults": {
           "line": {
            "color": "#2a3f5f"
           }
          },
          "ternary": {
           "aaxis": {
            "gridcolor": "white",
            "linecolor": "white",
            "ticks": ""
           },
           "baxis": {
            "gridcolor": "white",
            "linecolor": "white",
            "ticks": ""
           },
           "bgcolor": "#E5ECF6",
           "caxis": {
            "gridcolor": "white",
            "linecolor": "white",
            "ticks": ""
           }
          },
          "title": {
           "x": 0.05
          },
          "xaxis": {
           "automargin": true,
           "gridcolor": "white",
           "linecolor": "white",
           "ticks": "",
           "title": {
            "standoff": 15
           },
           "zerolinecolor": "white",
           "zerolinewidth": 2
          },
          "yaxis": {
           "automargin": true,
           "gridcolor": "white",
           "linecolor": "white",
           "ticks": "",
           "title": {
            "standoff": 15
           },
           "zerolinecolor": "white",
           "zerolinewidth": 2
          }
         }
        },
        "title": {
         "text": "Inpatient Spending w.r.t State and Hospital(top 10)"
        },
        "xaxis": {
         "anchor": "y",
         "domain": [
          0,
          1
         ],
         "title": {
          "text": "State"
         }
        },
        "yaxis": {
         "anchor": "x",
         "domain": [
          0,
          1
         ],
         "title": {
          "text": "value"
         }
        }
       }
      },
      "text/html": [
       "<div>\n",
       "        \n",
       "        \n",
       "            <div id=\"4b2ab26e-2293-4a45-aa88-1699a130b02e\" class=\"plotly-graph-div\" style=\"height:525px; width:100%;\"></div>\n",
       "            <script type=\"text/javascript\">\n",
       "                require([\"plotly\"], function(Plotly) {\n",
       "                    window.PLOTLYENV=window.PLOTLYENV || {};\n",
       "                    \n",
       "                if (document.getElementById(\"4b2ab26e-2293-4a45-aa88-1699a130b02e\")) {\n",
       "                    Plotly.newPlot(\n",
       "                        '4b2ab26e-2293-4a45-aa88-1699a130b02e',\n",
       "                        [{\"alignmentgroup\": \"True\", \"hovertemplate\": \"variable=Avg Spndg Per EP State<br>State=%{x}<br>value=%{y}<extra></extra>\", \"legendgroup\": \"Avg Spndg Per EP State\", \"marker\": {\"color\": \"grey\"}, \"name\": \"Avg Spndg Per EP State\", \"offsetgroup\": \"Avg Spndg Per EP State\", \"orientation\": \"v\", \"showlegend\": true, \"textposition\": \"auto\", \"type\": \"bar\", \"x\": [\"DC\", \"NV\", \"NE\", \"TX\", \"LA\", \"CO\", \"ID\", \"AZ\", \"CA\", \"ND\"], \"xaxis\": \"x\", \"y\": [4649.0, 4978.0, 4419.333333333333, 4843.666666666667, 4764.0, 4601.0, 4410.333333333333, 4640.0, 4353.333333333333, 4346.333333333333], \"yaxis\": \"y\"}, {\"alignmentgroup\": \"True\", \"hovertemplate\": \"variable=Avg Spndg Per EP Hospital<br>State=%{x}<br>value=%{y}<extra></extra>\", \"legendgroup\": \"Avg Spndg Per EP Hospital\", \"marker\": {\"color\": \"coral\"}, \"name\": \"Avg Spndg Per EP Hospital\", \"offsetgroup\": \"Avg Spndg Per EP Hospital\", \"orientation\": \"v\", \"showlegend\": true, \"textposition\": \"auto\", \"type\": \"bar\", \"x\": [\"DC\", \"NV\", \"NE\", \"TX\", \"LA\", \"CO\", \"ID\", \"AZ\", \"CA\", \"ND\"], \"xaxis\": \"x\", \"y\": [4870.777777777777, 4675.015151515152, 4596.942028985507, 4508.603864734299, 4434.678861788618, 4402.644927536232, 4365.523809523809, 4276.471264367816, 4160.711962833914, 4142.714285714285], \"yaxis\": \"y\"}],\n",
       "                        {\"barmode\": \"relative\", \"legend\": {\"title\": {\"text\": \"variable\"}, \"tracegroupgap\": 0}, \"template\": {\"data\": {\"bar\": [{\"error_x\": {\"color\": \"#2a3f5f\"}, \"error_y\": {\"color\": \"#2a3f5f\"}, \"marker\": {\"line\": {\"color\": \"#E5ECF6\", \"width\": 0.5}}, \"type\": \"bar\"}], \"barpolar\": [{\"marker\": {\"line\": {\"color\": \"#E5ECF6\", \"width\": 0.5}}, \"type\": \"barpolar\"}], \"carpet\": [{\"aaxis\": {\"endlinecolor\": \"#2a3f5f\", \"gridcolor\": \"white\", \"linecolor\": \"white\", \"minorgridcolor\": \"white\", \"startlinecolor\": \"#2a3f5f\"}, \"baxis\": {\"endlinecolor\": \"#2a3f5f\", \"gridcolor\": \"white\", \"linecolor\": \"white\", \"minorgridcolor\": \"white\", \"startlinecolor\": \"#2a3f5f\"}, \"type\": \"carpet\"}], \"choropleth\": [{\"colorbar\": {\"outlinewidth\": 0, \"ticks\": \"\"}, \"type\": \"choropleth\"}], \"contour\": [{\"colorbar\": {\"outlinewidth\": 0, \"ticks\": \"\"}, \"colorscale\": [[0.0, \"#0d0887\"], [0.1111111111111111, \"#46039f\"], [0.2222222222222222, \"#7201a8\"], [0.3333333333333333, \"#9c179e\"], [0.4444444444444444, \"#bd3786\"], [0.5555555555555556, \"#d8576b\"], [0.6666666666666666, \"#ed7953\"], [0.7777777777777778, \"#fb9f3a\"], [0.8888888888888888, \"#fdca26\"], [1.0, \"#f0f921\"]], \"type\": \"contour\"}], \"contourcarpet\": [{\"colorbar\": {\"outlinewidth\": 0, \"ticks\": \"\"}, \"type\": \"contourcarpet\"}], \"heatmap\": [{\"colorbar\": {\"outlinewidth\": 0, \"ticks\": \"\"}, \"colorscale\": [[0.0, \"#0d0887\"], [0.1111111111111111, \"#46039f\"], [0.2222222222222222, \"#7201a8\"], [0.3333333333333333, \"#9c179e\"], [0.4444444444444444, \"#bd3786\"], [0.5555555555555556, \"#d8576b\"], [0.6666666666666666, \"#ed7953\"], [0.7777777777777778, \"#fb9f3a\"], [0.8888888888888888, \"#fdca26\"], [1.0, \"#f0f921\"]], \"type\": \"heatmap\"}], \"heatmapgl\": [{\"colorbar\": {\"outlinewidth\": 0, \"ticks\": \"\"}, \"colorscale\": [[0.0, \"#0d0887\"], [0.1111111111111111, \"#46039f\"], [0.2222222222222222, \"#7201a8\"], [0.3333333333333333, \"#9c179e\"], [0.4444444444444444, \"#bd3786\"], [0.5555555555555556, \"#d8576b\"], [0.6666666666666666, \"#ed7953\"], [0.7777777777777778, \"#fb9f3a\"], [0.8888888888888888, \"#fdca26\"], [1.0, \"#f0f921\"]], \"type\": \"heatmapgl\"}], \"histogram\": [{\"marker\": {\"colorbar\": {\"outlinewidth\": 0, \"ticks\": \"\"}}, \"type\": \"histogram\"}], \"histogram2d\": [{\"colorbar\": {\"outlinewidth\": 0, \"ticks\": \"\"}, \"colorscale\": [[0.0, \"#0d0887\"], [0.1111111111111111, \"#46039f\"], [0.2222222222222222, \"#7201a8\"], [0.3333333333333333, \"#9c179e\"], [0.4444444444444444, \"#bd3786\"], [0.5555555555555556, \"#d8576b\"], [0.6666666666666666, \"#ed7953\"], [0.7777777777777778, \"#fb9f3a\"], [0.8888888888888888, \"#fdca26\"], [1.0, \"#f0f921\"]], \"type\": \"histogram2d\"}], \"histogram2dcontour\": [{\"colorbar\": {\"outlinewidth\": 0, \"ticks\": \"\"}, \"colorscale\": [[0.0, \"#0d0887\"], [0.1111111111111111, \"#46039f\"], [0.2222222222222222, \"#7201a8\"], [0.3333333333333333, \"#9c179e\"], [0.4444444444444444, \"#bd3786\"], [0.5555555555555556, \"#d8576b\"], [0.6666666666666666, \"#ed7953\"], [0.7777777777777778, \"#fb9f3a\"], [0.8888888888888888, \"#fdca26\"], [1.0, \"#f0f921\"]], \"type\": \"histogram2dcontour\"}], \"mesh3d\": [{\"colorbar\": {\"outlinewidth\": 0, \"ticks\": \"\"}, \"type\": \"mesh3d\"}], \"parcoords\": [{\"line\": {\"colorbar\": {\"outlinewidth\": 0, \"ticks\": \"\"}}, \"type\": \"parcoords\"}], \"pie\": [{\"automargin\": true, \"type\": \"pie\"}], \"scatter\": [{\"marker\": {\"colorbar\": {\"outlinewidth\": 0, \"ticks\": \"\"}}, \"type\": \"scatter\"}], \"scatter3d\": [{\"line\": {\"colorbar\": {\"outlinewidth\": 0, \"ticks\": \"\"}}, \"marker\": {\"colorbar\": {\"outlinewidth\": 0, \"ticks\": \"\"}}, \"type\": \"scatter3d\"}], \"scattercarpet\": [{\"marker\": {\"colorbar\": {\"outlinewidth\": 0, \"ticks\": \"\"}}, \"type\": \"scattercarpet\"}], \"scattergeo\": [{\"marker\": {\"colorbar\": {\"outlinewidth\": 0, \"ticks\": \"\"}}, \"type\": \"scattergeo\"}], \"scattergl\": [{\"marker\": {\"colorbar\": {\"outlinewidth\": 0, \"ticks\": \"\"}}, \"type\": \"scattergl\"}], \"scattermapbox\": [{\"marker\": {\"colorbar\": {\"outlinewidth\": 0, \"ticks\": \"\"}}, \"type\": \"scattermapbox\"}], \"scatterpolar\": [{\"marker\": {\"colorbar\": {\"outlinewidth\": 0, \"ticks\": \"\"}}, \"type\": \"scatterpolar\"}], \"scatterpolargl\": [{\"marker\": {\"colorbar\": {\"outlinewidth\": 0, \"ticks\": \"\"}}, \"type\": \"scatterpolargl\"}], \"scatterternary\": [{\"marker\": {\"colorbar\": {\"outlinewidth\": 0, \"ticks\": \"\"}}, \"type\": \"scatterternary\"}], \"surface\": [{\"colorbar\": {\"outlinewidth\": 0, \"ticks\": \"\"}, \"colorscale\": [[0.0, \"#0d0887\"], [0.1111111111111111, \"#46039f\"], [0.2222222222222222, \"#7201a8\"], [0.3333333333333333, \"#9c179e\"], [0.4444444444444444, \"#bd3786\"], [0.5555555555555556, \"#d8576b\"], [0.6666666666666666, \"#ed7953\"], [0.7777777777777778, \"#fb9f3a\"], [0.8888888888888888, \"#fdca26\"], [1.0, \"#f0f921\"]], \"type\": \"surface\"}], \"table\": [{\"cells\": {\"fill\": {\"color\": \"#EBF0F8\"}, \"line\": {\"color\": \"white\"}}, \"header\": {\"fill\": {\"color\": \"#C8D4E3\"}, \"line\": {\"color\": \"white\"}}, \"type\": \"table\"}]}, \"layout\": {\"annotationdefaults\": {\"arrowcolor\": \"#2a3f5f\", \"arrowhead\": 0, \"arrowwidth\": 1}, \"coloraxis\": {\"colorbar\": {\"outlinewidth\": 0, \"ticks\": \"\"}}, \"colorscale\": {\"diverging\": [[0, \"#8e0152\"], [0.1, \"#c51b7d\"], [0.2, \"#de77ae\"], [0.3, \"#f1b6da\"], [0.4, \"#fde0ef\"], [0.5, \"#f7f7f7\"], [0.6, \"#e6f5d0\"], [0.7, \"#b8e186\"], [0.8, \"#7fbc41\"], [0.9, \"#4d9221\"], [1, \"#276419\"]], \"sequential\": [[0.0, \"#0d0887\"], [0.1111111111111111, \"#46039f\"], [0.2222222222222222, \"#7201a8\"], [0.3333333333333333, \"#9c179e\"], [0.4444444444444444, \"#bd3786\"], [0.5555555555555556, \"#d8576b\"], [0.6666666666666666, \"#ed7953\"], [0.7777777777777778, \"#fb9f3a\"], [0.8888888888888888, \"#fdca26\"], [1.0, \"#f0f921\"]], \"sequentialminus\": [[0.0, \"#0d0887\"], [0.1111111111111111, \"#46039f\"], [0.2222222222222222, \"#7201a8\"], [0.3333333333333333, \"#9c179e\"], [0.4444444444444444, \"#bd3786\"], [0.5555555555555556, \"#d8576b\"], [0.6666666666666666, \"#ed7953\"], [0.7777777777777778, \"#fb9f3a\"], [0.8888888888888888, \"#fdca26\"], [1.0, \"#f0f921\"]]}, \"colorway\": [\"#636efa\", \"#EF553B\", \"#00cc96\", \"#ab63fa\", \"#FFA15A\", \"#19d3f3\", \"#FF6692\", \"#B6E880\", \"#FF97FF\", \"#FECB52\"], \"font\": {\"color\": \"#2a3f5f\"}, \"geo\": {\"bgcolor\": \"white\", \"lakecolor\": \"white\", \"landcolor\": \"#E5ECF6\", \"showlakes\": true, \"showland\": true, \"subunitcolor\": \"white\"}, \"hoverlabel\": {\"align\": \"left\"}, \"hovermode\": \"closest\", \"mapbox\": {\"style\": \"light\"}, \"paper_bgcolor\": \"white\", \"plot_bgcolor\": \"#E5ECF6\", \"polar\": {\"angularaxis\": {\"gridcolor\": \"white\", \"linecolor\": \"white\", \"ticks\": \"\"}, \"bgcolor\": \"#E5ECF6\", \"radialaxis\": {\"gridcolor\": \"white\", \"linecolor\": \"white\", \"ticks\": \"\"}}, \"scene\": {\"xaxis\": {\"backgroundcolor\": \"#E5ECF6\", \"gridcolor\": \"white\", \"gridwidth\": 2, \"linecolor\": \"white\", \"showbackground\": true, \"ticks\": \"\", \"zerolinecolor\": \"white\"}, \"yaxis\": {\"backgroundcolor\": \"#E5ECF6\", \"gridcolor\": \"white\", \"gridwidth\": 2, \"linecolor\": \"white\", \"showbackground\": true, \"ticks\": \"\", \"zerolinecolor\": \"white\"}, \"zaxis\": {\"backgroundcolor\": \"#E5ECF6\", \"gridcolor\": \"white\", \"gridwidth\": 2, \"linecolor\": \"white\", \"showbackground\": true, \"ticks\": \"\", \"zerolinecolor\": \"white\"}}, \"shapedefaults\": {\"line\": {\"color\": \"#2a3f5f\"}}, \"ternary\": {\"aaxis\": {\"gridcolor\": \"white\", \"linecolor\": \"white\", \"ticks\": \"\"}, \"baxis\": {\"gridcolor\": \"white\", \"linecolor\": \"white\", \"ticks\": \"\"}, \"bgcolor\": \"#E5ECF6\", \"caxis\": {\"gridcolor\": \"white\", \"linecolor\": \"white\", \"ticks\": \"\"}}, \"title\": {\"x\": 0.05}, \"xaxis\": {\"automargin\": true, \"gridcolor\": \"white\", \"linecolor\": \"white\", \"ticks\": \"\", \"title\": {\"standoff\": 15}, \"zerolinecolor\": \"white\", \"zerolinewidth\": 2}, \"yaxis\": {\"automargin\": true, \"gridcolor\": \"white\", \"linecolor\": \"white\", \"ticks\": \"\", \"title\": {\"standoff\": 15}, \"zerolinecolor\": \"white\", \"zerolinewidth\": 2}}}, \"title\": {\"text\": \"Inpatient Spending w.r.t State and Hospital(top 10)\"}, \"xaxis\": {\"anchor\": \"y\", \"domain\": [0.0, 1.0], \"title\": {\"text\": \"State\"}}, \"yaxis\": {\"anchor\": \"x\", \"domain\": [0.0, 1.0], \"title\": {\"text\": \"value\"}}},\n",
       "                        {\"responsive\": true}\n",
       "                    ).then(function(){\n",
       "                            \n",
       "var gd = document.getElementById('4b2ab26e-2293-4a45-aa88-1699a130b02e');\n",
       "var x = new MutationObserver(function (mutations, observer) {{\n",
       "        var display = window.getComputedStyle(gd).display;\n",
       "        if (!display || display === 'none') {{\n",
       "            console.log([gd, 'removed!']);\n",
       "            Plotly.purge(gd);\n",
       "            observer.disconnect();\n",
       "        }}\n",
       "}});\n",
       "\n",
       "// Listen for the removal of the full notebook cells\n",
       "var notebookContainer = gd.closest('#notebook-container');\n",
       "if (notebookContainer) {{\n",
       "    x.observe(notebookContainer, {childList: true});\n",
       "}}\n",
       "\n",
       "// Listen for the clearing of the current output cell\n",
       "var outputEl = gd.closest('.output');\n",
       "if (outputEl) {{\n",
       "    x.observe(outputEl, {childList: true});\n",
       "}}\n",
       "\n",
       "                        })\n",
       "                };\n",
       "                });\n",
       "            </script>\n",
       "        </div>"
      ]
     },
     "metadata": {},
     "output_type": "display_data"
    }
   ],
   "source": [
    "fig = px.bar(in_spending_top_ten,x = 'State', y=['Avg Spndg Per EP State','Avg Spndg Per EP Hospital'], title = 'Inpatient Spending w.r.t State and Hospital(top 10)',\n",
    "        color_discrete_map={\n",
    "                \"Avg Spndg Per EP State\": \"grey\",\n",
    "                \"Avg Spndg Per EP Hospital\": \"coral\"})\n",
    "fig.show()"
   ]
  },
  {
   "cell_type": "markdown",
   "metadata": {},
   "source": [
    "##### National level costs are similar as this is for one nation i.e USA"
   ]
  },
  {
   "cell_type": "code",
   "execution_count": 34,
   "metadata": {},
   "outputs": [
    {
     "data": {
      "text/html": [
       "<div>\n",
       "<style scoped>\n",
       "    .dataframe tbody tr th:only-of-type {\n",
       "        vertical-align: middle;\n",
       "    }\n",
       "\n",
       "    .dataframe tbody tr th {\n",
       "        vertical-align: top;\n",
       "    }\n",
       "\n",
       "    .dataframe thead th {\n",
       "        text-align: right;\n",
       "    }\n",
       "</style>\n",
       "<table border=\"1\" class=\"dataframe\">\n",
       "  <thead>\n",
       "    <tr style=\"text-align: right;\">\n",
       "      <th></th>\n",
       "      <th>Avg Spndg Per EP Hospital</th>\n",
       "      <th>Avg Spndg Per EP National</th>\n",
       "      <th>Avg Spndg Per EP State</th>\n",
       "    </tr>\n",
       "    <tr>\n",
       "      <th>State</th>\n",
       "      <th></th>\n",
       "      <th></th>\n",
       "      <th></th>\n",
       "    </tr>\n",
       "  </thead>\n",
       "  <tbody>\n",
       "    <tr>\n",
       "      <th>ND</th>\n",
       "      <td>556.047619</td>\n",
       "      <td>335.666667</td>\n",
       "      <td>617.333333</td>\n",
       "    </tr>\n",
       "    <tr>\n",
       "      <th>SD</th>\n",
       "      <td>467.875000</td>\n",
       "      <td>335.666667</td>\n",
       "      <td>617.333333</td>\n",
       "    </tr>\n",
       "    <tr>\n",
       "      <th>MT</th>\n",
       "      <td>448.307692</td>\n",
       "      <td>335.666667</td>\n",
       "      <td>510.333333</td>\n",
       "    </tr>\n",
       "    <tr>\n",
       "      <th>DC</th>\n",
       "      <td>391.444444</td>\n",
       "      <td>335.666667</td>\n",
       "      <td>337.333333</td>\n",
       "    </tr>\n",
       "    <tr>\n",
       "      <th>ID</th>\n",
       "      <td>388.333333</td>\n",
       "      <td>335.666667</td>\n",
       "      <td>450.333333</td>\n",
       "    </tr>\n",
       "    <tr>\n",
       "      <th>IA</th>\n",
       "      <td>388.313725</td>\n",
       "      <td>335.666667</td>\n",
       "      <td>446.333333</td>\n",
       "    </tr>\n",
       "    <tr>\n",
       "      <th>WI</th>\n",
       "      <td>380.328042</td>\n",
       "      <td>335.666667</td>\n",
       "      <td>439.333333</td>\n",
       "    </tr>\n",
       "    <tr>\n",
       "      <th>MN</th>\n",
       "      <td>378.546099</td>\n",
       "      <td>335.666667</td>\n",
       "      <td>470.333333</td>\n",
       "    </tr>\n",
       "    <tr>\n",
       "      <th>ME</th>\n",
       "      <td>370.705882</td>\n",
       "      <td>335.666667</td>\n",
       "      <td>425.333333</td>\n",
       "    </tr>\n",
       "    <tr>\n",
       "      <th>MO</th>\n",
       "      <td>368.961353</td>\n",
       "      <td>335.666667</td>\n",
       "      <td>417.000000</td>\n",
       "    </tr>\n",
       "  </tbody>\n",
       "</table>\n",
       "</div>"
      ],
      "text/plain": [
       "       Avg Spndg Per EP Hospital  Avg Spndg Per EP National  \\\n",
       "State                                                         \n",
       "ND                    556.047619                 335.666667   \n",
       "SD                    467.875000                 335.666667   \n",
       "MT                    448.307692                 335.666667   \n",
       "DC                    391.444444                 335.666667   \n",
       "ID                    388.333333                 335.666667   \n",
       "IA                    388.313725                 335.666667   \n",
       "WI                    380.328042                 335.666667   \n",
       "MN                    378.546099                 335.666667   \n",
       "ME                    370.705882                 335.666667   \n",
       "MO                    368.961353                 335.666667   \n",
       "\n",
       "       Avg Spndg Per EP State  \n",
       "State                          \n",
       "ND                 617.333333  \n",
       "SD                 617.333333  \n",
       "MT                 510.333333  \n",
       "DC                 337.333333  \n",
       "ID                 450.333333  \n",
       "IA                 446.333333  \n",
       "WI                 439.333333  \n",
       "MN                 470.333333  \n",
       "ME                 425.333333  \n",
       "MO                 417.000000  "
      ]
     },
     "execution_count": 34,
     "metadata": {},
     "output_type": "execute_result"
    }
   ],
   "source": [
    "out_spending "
   ]
  },
  {
   "cell_type": "code",
   "execution_count": 35,
   "metadata": {},
   "outputs": [],
   "source": [
    "out_spending_top_ten = pd.DataFrame(out_spending.to_records())"
   ]
  },
  {
   "cell_type": "code",
   "execution_count": 36,
   "metadata": {},
   "outputs": [
    {
     "data": {
      "application/vnd.plotly.v1+json": {
       "config": {
        "plotlyServerURL": "https://plot.ly"
       },
       "data": [
        {
         "name": "Avg Spndg Per EP State",
         "type": "bar",
         "x": [
          "ND",
          "SD",
          "MT",
          "DC",
          "ID",
          "IA",
          "WI",
          "MN",
          "ME",
          "MO"
         ],
         "y": [
          617.3333333333334,
          617.3333333333334,
          510.3333333333333,
          337.3333333333333,
          450.3333333333333,
          446.3333333333333,
          439.3333333333333,
          470.3333333333333,
          425.3333333333333,
          417
         ]
        },
        {
         "name": "Avg Spndg Per EP Hospital",
         "type": "bar",
         "x": [
          "ND",
          "SD",
          "MT",
          "DC",
          "ID",
          "IA",
          "WI",
          "MN",
          "ME",
          "MO"
         ],
         "y": [
          556.047619047619,
          467.875,
          448.3076923076923,
          391.44444444444446,
          388.3333333333333,
          388.3137254901961,
          380.32804232804233,
          378.54609929078015,
          370.70588235294116,
          368.96135265700485
         ]
        }
       ],
       "layout": {
        "barmode": "group",
        "template": {
         "data": {
          "bar": [
           {
            "error_x": {
             "color": "#2a3f5f"
            },
            "error_y": {
             "color": "#2a3f5f"
            },
            "marker": {
             "line": {
              "color": "#E5ECF6",
              "width": 0.5
             }
            },
            "type": "bar"
           }
          ],
          "barpolar": [
           {
            "marker": {
             "line": {
              "color": "#E5ECF6",
              "width": 0.5
             }
            },
            "type": "barpolar"
           }
          ],
          "carpet": [
           {
            "aaxis": {
             "endlinecolor": "#2a3f5f",
             "gridcolor": "white",
             "linecolor": "white",
             "minorgridcolor": "white",
             "startlinecolor": "#2a3f5f"
            },
            "baxis": {
             "endlinecolor": "#2a3f5f",
             "gridcolor": "white",
             "linecolor": "white",
             "minorgridcolor": "white",
             "startlinecolor": "#2a3f5f"
            },
            "type": "carpet"
           }
          ],
          "choropleth": [
           {
            "colorbar": {
             "outlinewidth": 0,
             "ticks": ""
            },
            "type": "choropleth"
           }
          ],
          "contour": [
           {
            "colorbar": {
             "outlinewidth": 0,
             "ticks": ""
            },
            "colorscale": [
             [
              0,
              "#0d0887"
             ],
             [
              0.1111111111111111,
              "#46039f"
             ],
             [
              0.2222222222222222,
              "#7201a8"
             ],
             [
              0.3333333333333333,
              "#9c179e"
             ],
             [
              0.4444444444444444,
              "#bd3786"
             ],
             [
              0.5555555555555556,
              "#d8576b"
             ],
             [
              0.6666666666666666,
              "#ed7953"
             ],
             [
              0.7777777777777778,
              "#fb9f3a"
             ],
             [
              0.8888888888888888,
              "#fdca26"
             ],
             [
              1,
              "#f0f921"
             ]
            ],
            "type": "contour"
           }
          ],
          "contourcarpet": [
           {
            "colorbar": {
             "outlinewidth": 0,
             "ticks": ""
            },
            "type": "contourcarpet"
           }
          ],
          "heatmap": [
           {
            "colorbar": {
             "outlinewidth": 0,
             "ticks": ""
            },
            "colorscale": [
             [
              0,
              "#0d0887"
             ],
             [
              0.1111111111111111,
              "#46039f"
             ],
             [
              0.2222222222222222,
              "#7201a8"
             ],
             [
              0.3333333333333333,
              "#9c179e"
             ],
             [
              0.4444444444444444,
              "#bd3786"
             ],
             [
              0.5555555555555556,
              "#d8576b"
             ],
             [
              0.6666666666666666,
              "#ed7953"
             ],
             [
              0.7777777777777778,
              "#fb9f3a"
             ],
             [
              0.8888888888888888,
              "#fdca26"
             ],
             [
              1,
              "#f0f921"
             ]
            ],
            "type": "heatmap"
           }
          ],
          "heatmapgl": [
           {
            "colorbar": {
             "outlinewidth": 0,
             "ticks": ""
            },
            "colorscale": [
             [
              0,
              "#0d0887"
             ],
             [
              0.1111111111111111,
              "#46039f"
             ],
             [
              0.2222222222222222,
              "#7201a8"
             ],
             [
              0.3333333333333333,
              "#9c179e"
             ],
             [
              0.4444444444444444,
              "#bd3786"
             ],
             [
              0.5555555555555556,
              "#d8576b"
             ],
             [
              0.6666666666666666,
              "#ed7953"
             ],
             [
              0.7777777777777778,
              "#fb9f3a"
             ],
             [
              0.8888888888888888,
              "#fdca26"
             ],
             [
              1,
              "#f0f921"
             ]
            ],
            "type": "heatmapgl"
           }
          ],
          "histogram": [
           {
            "marker": {
             "colorbar": {
              "outlinewidth": 0,
              "ticks": ""
             }
            },
            "type": "histogram"
           }
          ],
          "histogram2d": [
           {
            "colorbar": {
             "outlinewidth": 0,
             "ticks": ""
            },
            "colorscale": [
             [
              0,
              "#0d0887"
             ],
             [
              0.1111111111111111,
              "#46039f"
             ],
             [
              0.2222222222222222,
              "#7201a8"
             ],
             [
              0.3333333333333333,
              "#9c179e"
             ],
             [
              0.4444444444444444,
              "#bd3786"
             ],
             [
              0.5555555555555556,
              "#d8576b"
             ],
             [
              0.6666666666666666,
              "#ed7953"
             ],
             [
              0.7777777777777778,
              "#fb9f3a"
             ],
             [
              0.8888888888888888,
              "#fdca26"
             ],
             [
              1,
              "#f0f921"
             ]
            ],
            "type": "histogram2d"
           }
          ],
          "histogram2dcontour": [
           {
            "colorbar": {
             "outlinewidth": 0,
             "ticks": ""
            },
            "colorscale": [
             [
              0,
              "#0d0887"
             ],
             [
              0.1111111111111111,
              "#46039f"
             ],
             [
              0.2222222222222222,
              "#7201a8"
             ],
             [
              0.3333333333333333,
              "#9c179e"
             ],
             [
              0.4444444444444444,
              "#bd3786"
             ],
             [
              0.5555555555555556,
              "#d8576b"
             ],
             [
              0.6666666666666666,
              "#ed7953"
             ],
             [
              0.7777777777777778,
              "#fb9f3a"
             ],
             [
              0.8888888888888888,
              "#fdca26"
             ],
             [
              1,
              "#f0f921"
             ]
            ],
            "type": "histogram2dcontour"
           }
          ],
          "mesh3d": [
           {
            "colorbar": {
             "outlinewidth": 0,
             "ticks": ""
            },
            "type": "mesh3d"
           }
          ],
          "parcoords": [
           {
            "line": {
             "colorbar": {
              "outlinewidth": 0,
              "ticks": ""
             }
            },
            "type": "parcoords"
           }
          ],
          "pie": [
           {
            "automargin": true,
            "type": "pie"
           }
          ],
          "scatter": [
           {
            "marker": {
             "colorbar": {
              "outlinewidth": 0,
              "ticks": ""
             }
            },
            "type": "scatter"
           }
          ],
          "scatter3d": [
           {
            "line": {
             "colorbar": {
              "outlinewidth": 0,
              "ticks": ""
             }
            },
            "marker": {
             "colorbar": {
              "outlinewidth": 0,
              "ticks": ""
             }
            },
            "type": "scatter3d"
           }
          ],
          "scattercarpet": [
           {
            "marker": {
             "colorbar": {
              "outlinewidth": 0,
              "ticks": ""
             }
            },
            "type": "scattercarpet"
           }
          ],
          "scattergeo": [
           {
            "marker": {
             "colorbar": {
              "outlinewidth": 0,
              "ticks": ""
             }
            },
            "type": "scattergeo"
           }
          ],
          "scattergl": [
           {
            "marker": {
             "colorbar": {
              "outlinewidth": 0,
              "ticks": ""
             }
            },
            "type": "scattergl"
           }
          ],
          "scattermapbox": [
           {
            "marker": {
             "colorbar": {
              "outlinewidth": 0,
              "ticks": ""
             }
            },
            "type": "scattermapbox"
           }
          ],
          "scatterpolar": [
           {
            "marker": {
             "colorbar": {
              "outlinewidth": 0,
              "ticks": ""
             }
            },
            "type": "scatterpolar"
           }
          ],
          "scatterpolargl": [
           {
            "marker": {
             "colorbar": {
              "outlinewidth": 0,
              "ticks": ""
             }
            },
            "type": "scatterpolargl"
           }
          ],
          "scatterternary": [
           {
            "marker": {
             "colorbar": {
              "outlinewidth": 0,
              "ticks": ""
             }
            },
            "type": "scatterternary"
           }
          ],
          "surface": [
           {
            "colorbar": {
             "outlinewidth": 0,
             "ticks": ""
            },
            "colorscale": [
             [
              0,
              "#0d0887"
             ],
             [
              0.1111111111111111,
              "#46039f"
             ],
             [
              0.2222222222222222,
              "#7201a8"
             ],
             [
              0.3333333333333333,
              "#9c179e"
             ],
             [
              0.4444444444444444,
              "#bd3786"
             ],
             [
              0.5555555555555556,
              "#d8576b"
             ],
             [
              0.6666666666666666,
              "#ed7953"
             ],
             [
              0.7777777777777778,
              "#fb9f3a"
             ],
             [
              0.8888888888888888,
              "#fdca26"
             ],
             [
              1,
              "#f0f921"
             ]
            ],
            "type": "surface"
           }
          ],
          "table": [
           {
            "cells": {
             "fill": {
              "color": "#EBF0F8"
             },
             "line": {
              "color": "white"
             }
            },
            "header": {
             "fill": {
              "color": "#C8D4E3"
             },
             "line": {
              "color": "white"
             }
            },
            "type": "table"
           }
          ]
         },
         "layout": {
          "annotationdefaults": {
           "arrowcolor": "#2a3f5f",
           "arrowhead": 0,
           "arrowwidth": 1
          },
          "coloraxis": {
           "colorbar": {
            "outlinewidth": 0,
            "ticks": ""
           }
          },
          "colorscale": {
           "diverging": [
            [
             0,
             "#8e0152"
            ],
            [
             0.1,
             "#c51b7d"
            ],
            [
             0.2,
             "#de77ae"
            ],
            [
             0.3,
             "#f1b6da"
            ],
            [
             0.4,
             "#fde0ef"
            ],
            [
             0.5,
             "#f7f7f7"
            ],
            [
             0.6,
             "#e6f5d0"
            ],
            [
             0.7,
             "#b8e186"
            ],
            [
             0.8,
             "#7fbc41"
            ],
            [
             0.9,
             "#4d9221"
            ],
            [
             1,
             "#276419"
            ]
           ],
           "sequential": [
            [
             0,
             "#0d0887"
            ],
            [
             0.1111111111111111,
             "#46039f"
            ],
            [
             0.2222222222222222,
             "#7201a8"
            ],
            [
             0.3333333333333333,
             "#9c179e"
            ],
            [
             0.4444444444444444,
             "#bd3786"
            ],
            [
             0.5555555555555556,
             "#d8576b"
            ],
            [
             0.6666666666666666,
             "#ed7953"
            ],
            [
             0.7777777777777778,
             "#fb9f3a"
            ],
            [
             0.8888888888888888,
             "#fdca26"
            ],
            [
             1,
             "#f0f921"
            ]
           ],
           "sequentialminus": [
            [
             0,
             "#0d0887"
            ],
            [
             0.1111111111111111,
             "#46039f"
            ],
            [
             0.2222222222222222,
             "#7201a8"
            ],
            [
             0.3333333333333333,
             "#9c179e"
            ],
            [
             0.4444444444444444,
             "#bd3786"
            ],
            [
             0.5555555555555556,
             "#d8576b"
            ],
            [
             0.6666666666666666,
             "#ed7953"
            ],
            [
             0.7777777777777778,
             "#fb9f3a"
            ],
            [
             0.8888888888888888,
             "#fdca26"
            ],
            [
             1,
             "#f0f921"
            ]
           ]
          },
          "colorway": [
           "#636efa",
           "#EF553B",
           "#00cc96",
           "#ab63fa",
           "#FFA15A",
           "#19d3f3",
           "#FF6692",
           "#B6E880",
           "#FF97FF",
           "#FECB52"
          ],
          "font": {
           "color": "#2a3f5f"
          },
          "geo": {
           "bgcolor": "white",
           "lakecolor": "white",
           "landcolor": "#E5ECF6",
           "showlakes": true,
           "showland": true,
           "subunitcolor": "white"
          },
          "hoverlabel": {
           "align": "left"
          },
          "hovermode": "closest",
          "mapbox": {
           "style": "light"
          },
          "paper_bgcolor": "white",
          "plot_bgcolor": "#E5ECF6",
          "polar": {
           "angularaxis": {
            "gridcolor": "white",
            "linecolor": "white",
            "ticks": ""
           },
           "bgcolor": "#E5ECF6",
           "radialaxis": {
            "gridcolor": "white",
            "linecolor": "white",
            "ticks": ""
           }
          },
          "scene": {
           "xaxis": {
            "backgroundcolor": "#E5ECF6",
            "gridcolor": "white",
            "gridwidth": 2,
            "linecolor": "white",
            "showbackground": true,
            "ticks": "",
            "zerolinecolor": "white"
           },
           "yaxis": {
            "backgroundcolor": "#E5ECF6",
            "gridcolor": "white",
            "gridwidth": 2,
            "linecolor": "white",
            "showbackground": true,
            "ticks": "",
            "zerolinecolor": "white"
           },
           "zaxis": {
            "backgroundcolor": "#E5ECF6",
            "gridcolor": "white",
            "gridwidth": 2,
            "linecolor": "white",
            "showbackground": true,
            "ticks": "",
            "zerolinecolor": "white"
           }
          },
          "shapedefaults": {
           "line": {
            "color": "#2a3f5f"
           }
          },
          "ternary": {
           "aaxis": {
            "gridcolor": "white",
            "linecolor": "white",
            "ticks": ""
           },
           "baxis": {
            "gridcolor": "white",
            "linecolor": "white",
            "ticks": ""
           },
           "bgcolor": "#E5ECF6",
           "caxis": {
            "gridcolor": "white",
            "linecolor": "white",
            "ticks": ""
           }
          },
          "title": {
           "x": 0.05
          },
          "xaxis": {
           "automargin": true,
           "gridcolor": "white",
           "linecolor": "white",
           "ticks": "",
           "title": {
            "standoff": 15
           },
           "zerolinecolor": "white",
           "zerolinewidth": 2
          },
          "yaxis": {
           "automargin": true,
           "gridcolor": "white",
           "linecolor": "white",
           "ticks": "",
           "title": {
            "standoff": 15
           },
           "zerolinecolor": "white",
           "zerolinewidth": 2
          }
         }
        },
        "title": {
         "text": "Outpatient spending w.r.t to States and Hospital (top 10 states)"
        }
       }
      },
      "text/html": [
       "<div>\n",
       "        \n",
       "        \n",
       "            <div id=\"6909d24b-4c4c-4d66-a921-474890279000\" class=\"plotly-graph-div\" style=\"height:525px; width:100%;\"></div>\n",
       "            <script type=\"text/javascript\">\n",
       "                require([\"plotly\"], function(Plotly) {\n",
       "                    window.PLOTLYENV=window.PLOTLYENV || {};\n",
       "                    \n",
       "                if (document.getElementById(\"6909d24b-4c4c-4d66-a921-474890279000\")) {\n",
       "                    Plotly.newPlot(\n",
       "                        '6909d24b-4c4c-4d66-a921-474890279000',\n",
       "                        [{\"name\": \"Avg Spndg Per EP State\", \"type\": \"bar\", \"x\": [\"ND\", \"SD\", \"MT\", \"DC\", \"ID\", \"IA\", \"WI\", \"MN\", \"ME\", \"MO\"], \"y\": [617.3333333333334, 617.3333333333334, 510.3333333333333, 337.3333333333333, 450.3333333333333, 446.3333333333333, 439.3333333333333, 470.3333333333333, 425.3333333333333, 417.0]}, {\"name\": \"Avg Spndg Per EP Hospital\", \"type\": \"bar\", \"x\": [\"ND\", \"SD\", \"MT\", \"DC\", \"ID\", \"IA\", \"WI\", \"MN\", \"ME\", \"MO\"], \"y\": [556.047619047619, 467.875, 448.3076923076923, 391.44444444444446, 388.3333333333333, 388.3137254901961, 380.32804232804233, 378.54609929078015, 370.70588235294116, 368.96135265700485]}],\n",
       "                        {\"barmode\": \"group\", \"template\": {\"data\": {\"bar\": [{\"error_x\": {\"color\": \"#2a3f5f\"}, \"error_y\": {\"color\": \"#2a3f5f\"}, \"marker\": {\"line\": {\"color\": \"#E5ECF6\", \"width\": 0.5}}, \"type\": \"bar\"}], \"barpolar\": [{\"marker\": {\"line\": {\"color\": \"#E5ECF6\", \"width\": 0.5}}, \"type\": \"barpolar\"}], \"carpet\": [{\"aaxis\": {\"endlinecolor\": \"#2a3f5f\", \"gridcolor\": \"white\", \"linecolor\": \"white\", \"minorgridcolor\": \"white\", \"startlinecolor\": \"#2a3f5f\"}, \"baxis\": {\"endlinecolor\": \"#2a3f5f\", \"gridcolor\": \"white\", \"linecolor\": \"white\", \"minorgridcolor\": \"white\", \"startlinecolor\": \"#2a3f5f\"}, \"type\": \"carpet\"}], \"choropleth\": [{\"colorbar\": {\"outlinewidth\": 0, \"ticks\": \"\"}, \"type\": \"choropleth\"}], \"contour\": [{\"colorbar\": {\"outlinewidth\": 0, \"ticks\": \"\"}, \"colorscale\": [[0.0, \"#0d0887\"], [0.1111111111111111, \"#46039f\"], [0.2222222222222222, \"#7201a8\"], [0.3333333333333333, \"#9c179e\"], [0.4444444444444444, \"#bd3786\"], [0.5555555555555556, \"#d8576b\"], [0.6666666666666666, \"#ed7953\"], [0.7777777777777778, \"#fb9f3a\"], [0.8888888888888888, \"#fdca26\"], [1.0, \"#f0f921\"]], \"type\": \"contour\"}], \"contourcarpet\": [{\"colorbar\": {\"outlinewidth\": 0, \"ticks\": \"\"}, \"type\": \"contourcarpet\"}], \"heatmap\": [{\"colorbar\": {\"outlinewidth\": 0, \"ticks\": \"\"}, \"colorscale\": [[0.0, \"#0d0887\"], [0.1111111111111111, \"#46039f\"], [0.2222222222222222, \"#7201a8\"], [0.3333333333333333, \"#9c179e\"], [0.4444444444444444, \"#bd3786\"], [0.5555555555555556, \"#d8576b\"], [0.6666666666666666, \"#ed7953\"], [0.7777777777777778, \"#fb9f3a\"], [0.8888888888888888, \"#fdca26\"], [1.0, \"#f0f921\"]], \"type\": \"heatmap\"}], \"heatmapgl\": [{\"colorbar\": {\"outlinewidth\": 0, \"ticks\": \"\"}, \"colorscale\": [[0.0, \"#0d0887\"], [0.1111111111111111, \"#46039f\"], [0.2222222222222222, \"#7201a8\"], [0.3333333333333333, \"#9c179e\"], [0.4444444444444444, \"#bd3786\"], [0.5555555555555556, \"#d8576b\"], [0.6666666666666666, \"#ed7953\"], [0.7777777777777778, \"#fb9f3a\"], [0.8888888888888888, \"#fdca26\"], [1.0, \"#f0f921\"]], \"type\": \"heatmapgl\"}], \"histogram\": [{\"marker\": {\"colorbar\": {\"outlinewidth\": 0, \"ticks\": \"\"}}, \"type\": \"histogram\"}], \"histogram2d\": [{\"colorbar\": {\"outlinewidth\": 0, \"ticks\": \"\"}, \"colorscale\": [[0.0, \"#0d0887\"], [0.1111111111111111, \"#46039f\"], [0.2222222222222222, \"#7201a8\"], [0.3333333333333333, \"#9c179e\"], [0.4444444444444444, \"#bd3786\"], [0.5555555555555556, \"#d8576b\"], [0.6666666666666666, \"#ed7953\"], [0.7777777777777778, \"#fb9f3a\"], [0.8888888888888888, \"#fdca26\"], [1.0, \"#f0f921\"]], \"type\": \"histogram2d\"}], \"histogram2dcontour\": [{\"colorbar\": {\"outlinewidth\": 0, \"ticks\": \"\"}, \"colorscale\": [[0.0, \"#0d0887\"], [0.1111111111111111, \"#46039f\"], [0.2222222222222222, \"#7201a8\"], [0.3333333333333333, \"#9c179e\"], [0.4444444444444444, \"#bd3786\"], [0.5555555555555556, \"#d8576b\"], [0.6666666666666666, \"#ed7953\"], [0.7777777777777778, \"#fb9f3a\"], [0.8888888888888888, \"#fdca26\"], [1.0, \"#f0f921\"]], \"type\": \"histogram2dcontour\"}], \"mesh3d\": [{\"colorbar\": {\"outlinewidth\": 0, \"ticks\": \"\"}, \"type\": \"mesh3d\"}], \"parcoords\": [{\"line\": {\"colorbar\": {\"outlinewidth\": 0, \"ticks\": \"\"}}, \"type\": \"parcoords\"}], \"pie\": [{\"automargin\": true, \"type\": \"pie\"}], \"scatter\": [{\"marker\": {\"colorbar\": {\"outlinewidth\": 0, \"ticks\": \"\"}}, \"type\": \"scatter\"}], \"scatter3d\": [{\"line\": {\"colorbar\": {\"outlinewidth\": 0, \"ticks\": \"\"}}, \"marker\": {\"colorbar\": {\"outlinewidth\": 0, \"ticks\": \"\"}}, \"type\": \"scatter3d\"}], \"scattercarpet\": [{\"marker\": {\"colorbar\": {\"outlinewidth\": 0, \"ticks\": \"\"}}, \"type\": \"scattercarpet\"}], \"scattergeo\": [{\"marker\": {\"colorbar\": {\"outlinewidth\": 0, \"ticks\": \"\"}}, \"type\": \"scattergeo\"}], \"scattergl\": [{\"marker\": {\"colorbar\": {\"outlinewidth\": 0, \"ticks\": \"\"}}, \"type\": \"scattergl\"}], \"scattermapbox\": [{\"marker\": {\"colorbar\": {\"outlinewidth\": 0, \"ticks\": \"\"}}, \"type\": \"scattermapbox\"}], \"scatterpolar\": [{\"marker\": {\"colorbar\": {\"outlinewidth\": 0, \"ticks\": \"\"}}, \"type\": \"scatterpolar\"}], \"scatterpolargl\": [{\"marker\": {\"colorbar\": {\"outlinewidth\": 0, \"ticks\": \"\"}}, \"type\": \"scatterpolargl\"}], \"scatterternary\": [{\"marker\": {\"colorbar\": {\"outlinewidth\": 0, \"ticks\": \"\"}}, \"type\": \"scatterternary\"}], \"surface\": [{\"colorbar\": {\"outlinewidth\": 0, \"ticks\": \"\"}, \"colorscale\": [[0.0, \"#0d0887\"], [0.1111111111111111, \"#46039f\"], [0.2222222222222222, \"#7201a8\"], [0.3333333333333333, \"#9c179e\"], [0.4444444444444444, \"#bd3786\"], [0.5555555555555556, \"#d8576b\"], [0.6666666666666666, \"#ed7953\"], [0.7777777777777778, \"#fb9f3a\"], [0.8888888888888888, \"#fdca26\"], [1.0, \"#f0f921\"]], \"type\": \"surface\"}], \"table\": [{\"cells\": {\"fill\": {\"color\": \"#EBF0F8\"}, \"line\": {\"color\": \"white\"}}, \"header\": {\"fill\": {\"color\": \"#C8D4E3\"}, \"line\": {\"color\": \"white\"}}, \"type\": \"table\"}]}, \"layout\": {\"annotationdefaults\": {\"arrowcolor\": \"#2a3f5f\", \"arrowhead\": 0, \"arrowwidth\": 1}, \"coloraxis\": {\"colorbar\": {\"outlinewidth\": 0, \"ticks\": \"\"}}, \"colorscale\": {\"diverging\": [[0, \"#8e0152\"], [0.1, \"#c51b7d\"], [0.2, \"#de77ae\"], [0.3, \"#f1b6da\"], [0.4, \"#fde0ef\"], [0.5, \"#f7f7f7\"], [0.6, \"#e6f5d0\"], [0.7, \"#b8e186\"], [0.8, \"#7fbc41\"], [0.9, \"#4d9221\"], [1, \"#276419\"]], \"sequential\": [[0.0, \"#0d0887\"], [0.1111111111111111, \"#46039f\"], [0.2222222222222222, \"#7201a8\"], [0.3333333333333333, \"#9c179e\"], [0.4444444444444444, \"#bd3786\"], [0.5555555555555556, \"#d8576b\"], [0.6666666666666666, \"#ed7953\"], [0.7777777777777778, \"#fb9f3a\"], [0.8888888888888888, \"#fdca26\"], [1.0, \"#f0f921\"]], \"sequentialminus\": [[0.0, \"#0d0887\"], [0.1111111111111111, \"#46039f\"], [0.2222222222222222, \"#7201a8\"], [0.3333333333333333, \"#9c179e\"], [0.4444444444444444, \"#bd3786\"], [0.5555555555555556, \"#d8576b\"], [0.6666666666666666, \"#ed7953\"], [0.7777777777777778, \"#fb9f3a\"], [0.8888888888888888, \"#fdca26\"], [1.0, \"#f0f921\"]]}, \"colorway\": [\"#636efa\", \"#EF553B\", \"#00cc96\", \"#ab63fa\", \"#FFA15A\", \"#19d3f3\", \"#FF6692\", \"#B6E880\", \"#FF97FF\", \"#FECB52\"], \"font\": {\"color\": \"#2a3f5f\"}, \"geo\": {\"bgcolor\": \"white\", \"lakecolor\": \"white\", \"landcolor\": \"#E5ECF6\", \"showlakes\": true, \"showland\": true, \"subunitcolor\": \"white\"}, \"hoverlabel\": {\"align\": \"left\"}, \"hovermode\": \"closest\", \"mapbox\": {\"style\": \"light\"}, \"paper_bgcolor\": \"white\", \"plot_bgcolor\": \"#E5ECF6\", \"polar\": {\"angularaxis\": {\"gridcolor\": \"white\", \"linecolor\": \"white\", \"ticks\": \"\"}, \"bgcolor\": \"#E5ECF6\", \"radialaxis\": {\"gridcolor\": \"white\", \"linecolor\": \"white\", \"ticks\": \"\"}}, \"scene\": {\"xaxis\": {\"backgroundcolor\": \"#E5ECF6\", \"gridcolor\": \"white\", \"gridwidth\": 2, \"linecolor\": \"white\", \"showbackground\": true, \"ticks\": \"\", \"zerolinecolor\": \"white\"}, \"yaxis\": {\"backgroundcolor\": \"#E5ECF6\", \"gridcolor\": \"white\", \"gridwidth\": 2, \"linecolor\": \"white\", \"showbackground\": true, \"ticks\": \"\", \"zerolinecolor\": \"white\"}, \"zaxis\": {\"backgroundcolor\": \"#E5ECF6\", \"gridcolor\": \"white\", \"gridwidth\": 2, \"linecolor\": \"white\", \"showbackground\": true, \"ticks\": \"\", \"zerolinecolor\": \"white\"}}, \"shapedefaults\": {\"line\": {\"color\": \"#2a3f5f\"}}, \"ternary\": {\"aaxis\": {\"gridcolor\": \"white\", \"linecolor\": \"white\", \"ticks\": \"\"}, \"baxis\": {\"gridcolor\": \"white\", \"linecolor\": \"white\", \"ticks\": \"\"}, \"bgcolor\": \"#E5ECF6\", \"caxis\": {\"gridcolor\": \"white\", \"linecolor\": \"white\", \"ticks\": \"\"}}, \"title\": {\"x\": 0.05}, \"xaxis\": {\"automargin\": true, \"gridcolor\": \"white\", \"linecolor\": \"white\", \"ticks\": \"\", \"title\": {\"standoff\": 15}, \"zerolinecolor\": \"white\", \"zerolinewidth\": 2}, \"yaxis\": {\"automargin\": true, \"gridcolor\": \"white\", \"linecolor\": \"white\", \"ticks\": \"\", \"title\": {\"standoff\": 15}, \"zerolinecolor\": \"white\", \"zerolinewidth\": 2}}}, \"title\": {\"text\": \"Outpatient spending w.r.t to States and Hospital (top 10 states)\"}},\n",
       "                        {\"responsive\": true}\n",
       "                    ).then(function(){\n",
       "                            \n",
       "var gd = document.getElementById('6909d24b-4c4c-4d66-a921-474890279000');\n",
       "var x = new MutationObserver(function (mutations, observer) {{\n",
       "        var display = window.getComputedStyle(gd).display;\n",
       "        if (!display || display === 'none') {{\n",
       "            console.log([gd, 'removed!']);\n",
       "            Plotly.purge(gd);\n",
       "            observer.disconnect();\n",
       "        }}\n",
       "}});\n",
       "\n",
       "// Listen for the removal of the full notebook cells\n",
       "var notebookContainer = gd.closest('#notebook-container');\n",
       "if (notebookContainer) {{\n",
       "    x.observe(notebookContainer, {childList: true});\n",
       "}}\n",
       "\n",
       "// Listen for the clearing of the current output cell\n",
       "var outputEl = gd.closest('.output');\n",
       "if (outputEl) {{\n",
       "    x.observe(outputEl, {childList: true});\n",
       "}}\n",
       "\n",
       "                        })\n",
       "                };\n",
       "                });\n",
       "            </script>\n",
       "        </div>"
      ]
     },
     "metadata": {},
     "output_type": "display_data"
    }
   ],
   "source": [
    "fig = go.Figure(data = [\n",
    "     go.Bar(name = 'Avg Spndg Per EP State',x = out_spending_top_ten['State'], y = out_spending_top_ten['Avg Spndg Per EP State']),\n",
    "     go.Bar(name = 'Avg Spndg Per EP Hospital',x = out_spending_top_ten['State'], y = out_spending_top_ten['Avg Spndg Per EP Hospital'])\n",
    "        ]\n",
    "        )\n",
    "fig.update_layout(barmode='group', title = 'Outpatient spending w.r.t to States and Hospital (top 10 states)')\n",
    "fig.show()"
   ]
  },
  {
   "cell_type": "markdown",
   "metadata": {},
   "source": [
    "#### Statewise spending done on Nursing Facility"
   ]
  },
  {
   "cell_type": "code",
   "execution_count": 37,
   "metadata": {},
   "outputs": [],
   "source": [
    "nursing = medicare[medicare['Claim Type'] == 'Skilled Nursing Facility']"
   ]
  },
  {
   "cell_type": "code",
   "execution_count": 38,
   "metadata": {},
   "outputs": [],
   "source": [
    "nursing.drop(columns = ['Facility ID','Start Date','End Date','Facility Name'],inplace = True)"
   ]
  },
  {
   "cell_type": "code",
   "execution_count": 39,
   "metadata": {},
   "outputs": [
    {
     "data": {
      "text/html": [
       "<div>\n",
       "<style scoped>\n",
       "    .dataframe tbody tr th:only-of-type {\n",
       "        vertical-align: middle;\n",
       "    }\n",
       "\n",
       "    .dataframe tbody tr th {\n",
       "        vertical-align: top;\n",
       "    }\n",
       "\n",
       "    .dataframe thead th {\n",
       "        text-align: right;\n",
       "    }\n",
       "</style>\n",
       "<table border=\"1\" class=\"dataframe\">\n",
       "  <thead>\n",
       "    <tr style=\"text-align: right;\">\n",
       "      <th></th>\n",
       "      <th>State</th>\n",
       "      <th>Period</th>\n",
       "      <th>Claim Type</th>\n",
       "      <th>Avg Spndg Per EP Hospital</th>\n",
       "      <th>Avg Spndg Per EP State</th>\n",
       "      <th>Avg Spndg Per EP National</th>\n",
       "      <th>Percent of Spndg Hospital</th>\n",
       "      <th>Percent of Spndg State</th>\n",
       "      <th>Percent of Spndg National</th>\n",
       "    </tr>\n",
       "  </thead>\n",
       "  <tbody>\n",
       "    <tr>\n",
       "      <th>4</th>\n",
       "      <td>AL</td>\n",
       "      <td>Prior Hospital Admission</td>\n",
       "      <td>Skilled Nursing Facility</td>\n",
       "      <td>1</td>\n",
       "      <td>2</td>\n",
       "      <td>2</td>\n",
       "      <td>0.00</td>\n",
       "      <td>0.01</td>\n",
       "      <td>0.01</td>\n",
       "    </tr>\n",
       "    <tr>\n",
       "      <th>11</th>\n",
       "      <td>AL</td>\n",
       "      <td>During Hospital Admission</td>\n",
       "      <td>Skilled Nursing Facility</td>\n",
       "      <td>0</td>\n",
       "      <td>0</td>\n",
       "      <td>0</td>\n",
       "      <td>0.00</td>\n",
       "      <td>0.00</td>\n",
       "      <td>0.00</td>\n",
       "    </tr>\n",
       "    <tr>\n",
       "      <th>18</th>\n",
       "      <td>AL</td>\n",
       "      <td>After Discharge</td>\n",
       "      <td>Skilled Nursing Facility</td>\n",
       "      <td>2404</td>\n",
       "      <td>2630</td>\n",
       "      <td>3228</td>\n",
       "      <td>10.48</td>\n",
       "      <td>12.66</td>\n",
       "      <td>14.91</td>\n",
       "    </tr>\n",
       "    <tr>\n",
       "      <th>26</th>\n",
       "      <td>AL</td>\n",
       "      <td>Prior Hospital Admission</td>\n",
       "      <td>Skilled Nursing Facility</td>\n",
       "      <td>1</td>\n",
       "      <td>2</td>\n",
       "      <td>2</td>\n",
       "      <td>0.01</td>\n",
       "      <td>0.01</td>\n",
       "      <td>0.01</td>\n",
       "    </tr>\n",
       "    <tr>\n",
       "      <th>33</th>\n",
       "      <td>AL</td>\n",
       "      <td>During Hospital Admission</td>\n",
       "      <td>Skilled Nursing Facility</td>\n",
       "      <td>0</td>\n",
       "      <td>0</td>\n",
       "      <td>0</td>\n",
       "      <td>0.00</td>\n",
       "      <td>0.00</td>\n",
       "      <td>0.00</td>\n",
       "    </tr>\n",
       "  </tbody>\n",
       "</table>\n",
       "</div>"
      ],
      "text/plain": [
       "   State                     Period                Claim Type  \\\n",
       "4     AL   Prior Hospital Admission  Skilled Nursing Facility   \n",
       "11    AL  During Hospital Admission  Skilled Nursing Facility   \n",
       "18    AL            After Discharge  Skilled Nursing Facility   \n",
       "26    AL   Prior Hospital Admission  Skilled Nursing Facility   \n",
       "33    AL  During Hospital Admission  Skilled Nursing Facility   \n",
       "\n",
       "    Avg Spndg Per EP Hospital  Avg Spndg Per EP State  \\\n",
       "4                           1                       2   \n",
       "11                          0                       0   \n",
       "18                       2404                    2630   \n",
       "26                          1                       2   \n",
       "33                          0                       0   \n",
       "\n",
       "    Avg Spndg Per EP National  Percent of Spndg Hospital  \\\n",
       "4                           2                       0.00   \n",
       "11                          0                       0.00   \n",
       "18                       3228                      10.48   \n",
       "26                          2                       0.01   \n",
       "33                          0                       0.00   \n",
       "\n",
       "    Percent of Spndg State  Percent of Spndg National  \n",
       "4                     0.01                       0.01  \n",
       "11                    0.00                       0.00  \n",
       "18                   12.66                      14.91  \n",
       "26                    0.01                       0.01  \n",
       "33                    0.00                       0.00  "
      ]
     },
     "execution_count": 39,
     "metadata": {},
     "output_type": "execute_result"
    }
   ],
   "source": [
    "nursing.head()"
   ]
  },
  {
   "cell_type": "code",
   "execution_count": 40,
   "metadata": {},
   "outputs": [
    {
     "data": {
      "text/plain": [
       "During Hospital Admission    3083\n",
       "After Discharge              3083\n",
       "Prior Hospital Admission     3083\n",
       "Name: Period, dtype: int64"
      ]
     },
     "execution_count": 40,
     "metadata": {},
     "output_type": "execute_result"
    }
   ],
   "source": [
    "nursing.Period.value_counts()"
   ]
  },
  {
   "cell_type": "code",
   "execution_count": 41,
   "metadata": {},
   "outputs": [],
   "source": [
    "skilled_nursing_pivot = pd.pivot_table(nursing, index = 'State')"
   ]
  },
  {
   "cell_type": "code",
   "execution_count": 42,
   "metadata": {},
   "outputs": [],
   "source": [
    "skilled_nursing_pivot_top_ten = skilled_nursing_pivot.sort_values(by = 'Avg Spndg Per EP State', ascending = False)[:10]"
   ]
  },
  {
   "cell_type": "code",
   "execution_count": 43,
   "metadata": {},
   "outputs": [],
   "source": [
    "#Converting pivot table into dataframe\n",
    "skilled_nursing_pivot_top_ten = pd.DataFrame(skilled_nursing_pivot_top_ten.to_records())"
   ]
  },
  {
   "cell_type": "code",
   "execution_count": 44,
   "metadata": {},
   "outputs": [
    {
     "data": {
      "application/vnd.plotly.v1+json": {
       "config": {
        "plotlyServerURL": "https://plot.ly"
       },
       "data": [
        {
         "marker": {
          "color": "teal"
         },
         "name": "Skilled nursing (Top Ten)",
         "orientation": "h",
         "type": "bar",
         "x": [
          1505,
          1379.6666666666667,
          1328.6666666666667,
          1255.3333333333333,
          1255,
          1250.3333333333333,
          1223,
          1213.6666666666667,
          1212,
          1211
         ],
         "y": [
          "NJ",
          "CT",
          "NY",
          "IL",
          "CA",
          "IN",
          "NE",
          "UT",
          "RI",
          "OH"
         ]
        }
       ],
       "layout": {
        "template": {
         "data": {
          "bar": [
           {
            "error_x": {
             "color": "#2a3f5f"
            },
            "error_y": {
             "color": "#2a3f5f"
            },
            "marker": {
             "line": {
              "color": "#E5ECF6",
              "width": 0.5
             }
            },
            "type": "bar"
           }
          ],
          "barpolar": [
           {
            "marker": {
             "line": {
              "color": "#E5ECF6",
              "width": 0.5
             }
            },
            "type": "barpolar"
           }
          ],
          "carpet": [
           {
            "aaxis": {
             "endlinecolor": "#2a3f5f",
             "gridcolor": "white",
             "linecolor": "white",
             "minorgridcolor": "white",
             "startlinecolor": "#2a3f5f"
            },
            "baxis": {
             "endlinecolor": "#2a3f5f",
             "gridcolor": "white",
             "linecolor": "white",
             "minorgridcolor": "white",
             "startlinecolor": "#2a3f5f"
            },
            "type": "carpet"
           }
          ],
          "choropleth": [
           {
            "colorbar": {
             "outlinewidth": 0,
             "ticks": ""
            },
            "type": "choropleth"
           }
          ],
          "contour": [
           {
            "colorbar": {
             "outlinewidth": 0,
             "ticks": ""
            },
            "colorscale": [
             [
              0,
              "#0d0887"
             ],
             [
              0.1111111111111111,
              "#46039f"
             ],
             [
              0.2222222222222222,
              "#7201a8"
             ],
             [
              0.3333333333333333,
              "#9c179e"
             ],
             [
              0.4444444444444444,
              "#bd3786"
             ],
             [
              0.5555555555555556,
              "#d8576b"
             ],
             [
              0.6666666666666666,
              "#ed7953"
             ],
             [
              0.7777777777777778,
              "#fb9f3a"
             ],
             [
              0.8888888888888888,
              "#fdca26"
             ],
             [
              1,
              "#f0f921"
             ]
            ],
            "type": "contour"
           }
          ],
          "contourcarpet": [
           {
            "colorbar": {
             "outlinewidth": 0,
             "ticks": ""
            },
            "type": "contourcarpet"
           }
          ],
          "heatmap": [
           {
            "colorbar": {
             "outlinewidth": 0,
             "ticks": ""
            },
            "colorscale": [
             [
              0,
              "#0d0887"
             ],
             [
              0.1111111111111111,
              "#46039f"
             ],
             [
              0.2222222222222222,
              "#7201a8"
             ],
             [
              0.3333333333333333,
              "#9c179e"
             ],
             [
              0.4444444444444444,
              "#bd3786"
             ],
             [
              0.5555555555555556,
              "#d8576b"
             ],
             [
              0.6666666666666666,
              "#ed7953"
             ],
             [
              0.7777777777777778,
              "#fb9f3a"
             ],
             [
              0.8888888888888888,
              "#fdca26"
             ],
             [
              1,
              "#f0f921"
             ]
            ],
            "type": "heatmap"
           }
          ],
          "heatmapgl": [
           {
            "colorbar": {
             "outlinewidth": 0,
             "ticks": ""
            },
            "colorscale": [
             [
              0,
              "#0d0887"
             ],
             [
              0.1111111111111111,
              "#46039f"
             ],
             [
              0.2222222222222222,
              "#7201a8"
             ],
             [
              0.3333333333333333,
              "#9c179e"
             ],
             [
              0.4444444444444444,
              "#bd3786"
             ],
             [
              0.5555555555555556,
              "#d8576b"
             ],
             [
              0.6666666666666666,
              "#ed7953"
             ],
             [
              0.7777777777777778,
              "#fb9f3a"
             ],
             [
              0.8888888888888888,
              "#fdca26"
             ],
             [
              1,
              "#f0f921"
             ]
            ],
            "type": "heatmapgl"
           }
          ],
          "histogram": [
           {
            "marker": {
             "colorbar": {
              "outlinewidth": 0,
              "ticks": ""
             }
            },
            "type": "histogram"
           }
          ],
          "histogram2d": [
           {
            "colorbar": {
             "outlinewidth": 0,
             "ticks": ""
            },
            "colorscale": [
             [
              0,
              "#0d0887"
             ],
             [
              0.1111111111111111,
              "#46039f"
             ],
             [
              0.2222222222222222,
              "#7201a8"
             ],
             [
              0.3333333333333333,
              "#9c179e"
             ],
             [
              0.4444444444444444,
              "#bd3786"
             ],
             [
              0.5555555555555556,
              "#d8576b"
             ],
             [
              0.6666666666666666,
              "#ed7953"
             ],
             [
              0.7777777777777778,
              "#fb9f3a"
             ],
             [
              0.8888888888888888,
              "#fdca26"
             ],
             [
              1,
              "#f0f921"
             ]
            ],
            "type": "histogram2d"
           }
          ],
          "histogram2dcontour": [
           {
            "colorbar": {
             "outlinewidth": 0,
             "ticks": ""
            },
            "colorscale": [
             [
              0,
              "#0d0887"
             ],
             [
              0.1111111111111111,
              "#46039f"
             ],
             [
              0.2222222222222222,
              "#7201a8"
             ],
             [
              0.3333333333333333,
              "#9c179e"
             ],
             [
              0.4444444444444444,
              "#bd3786"
             ],
             [
              0.5555555555555556,
              "#d8576b"
             ],
             [
              0.6666666666666666,
              "#ed7953"
             ],
             [
              0.7777777777777778,
              "#fb9f3a"
             ],
             [
              0.8888888888888888,
              "#fdca26"
             ],
             [
              1,
              "#f0f921"
             ]
            ],
            "type": "histogram2dcontour"
           }
          ],
          "mesh3d": [
           {
            "colorbar": {
             "outlinewidth": 0,
             "ticks": ""
            },
            "type": "mesh3d"
           }
          ],
          "parcoords": [
           {
            "line": {
             "colorbar": {
              "outlinewidth": 0,
              "ticks": ""
             }
            },
            "type": "parcoords"
           }
          ],
          "pie": [
           {
            "automargin": true,
            "type": "pie"
           }
          ],
          "scatter": [
           {
            "marker": {
             "colorbar": {
              "outlinewidth": 0,
              "ticks": ""
             }
            },
            "type": "scatter"
           }
          ],
          "scatter3d": [
           {
            "line": {
             "colorbar": {
              "outlinewidth": 0,
              "ticks": ""
             }
            },
            "marker": {
             "colorbar": {
              "outlinewidth": 0,
              "ticks": ""
             }
            },
            "type": "scatter3d"
           }
          ],
          "scattercarpet": [
           {
            "marker": {
             "colorbar": {
              "outlinewidth": 0,
              "ticks": ""
             }
            },
            "type": "scattercarpet"
           }
          ],
          "scattergeo": [
           {
            "marker": {
             "colorbar": {
              "outlinewidth": 0,
              "ticks": ""
             }
            },
            "type": "scattergeo"
           }
          ],
          "scattergl": [
           {
            "marker": {
             "colorbar": {
              "outlinewidth": 0,
              "ticks": ""
             }
            },
            "type": "scattergl"
           }
          ],
          "scattermapbox": [
           {
            "marker": {
             "colorbar": {
              "outlinewidth": 0,
              "ticks": ""
             }
            },
            "type": "scattermapbox"
           }
          ],
          "scatterpolar": [
           {
            "marker": {
             "colorbar": {
              "outlinewidth": 0,
              "ticks": ""
             }
            },
            "type": "scatterpolar"
           }
          ],
          "scatterpolargl": [
           {
            "marker": {
             "colorbar": {
              "outlinewidth": 0,
              "ticks": ""
             }
            },
            "type": "scatterpolargl"
           }
          ],
          "scatterternary": [
           {
            "marker": {
             "colorbar": {
              "outlinewidth": 0,
              "ticks": ""
             }
            },
            "type": "scatterternary"
           }
          ],
          "surface": [
           {
            "colorbar": {
             "outlinewidth": 0,
             "ticks": ""
            },
            "colorscale": [
             [
              0,
              "#0d0887"
             ],
             [
              0.1111111111111111,
              "#46039f"
             ],
             [
              0.2222222222222222,
              "#7201a8"
             ],
             [
              0.3333333333333333,
              "#9c179e"
             ],
             [
              0.4444444444444444,
              "#bd3786"
             ],
             [
              0.5555555555555556,
              "#d8576b"
             ],
             [
              0.6666666666666666,
              "#ed7953"
             ],
             [
              0.7777777777777778,
              "#fb9f3a"
             ],
             [
              0.8888888888888888,
              "#fdca26"
             ],
             [
              1,
              "#f0f921"
             ]
            ],
            "type": "surface"
           }
          ],
          "table": [
           {
            "cells": {
             "fill": {
              "color": "#EBF0F8"
             },
             "line": {
              "color": "white"
             }
            },
            "header": {
             "fill": {
              "color": "#C8D4E3"
             },
             "line": {
              "color": "white"
             }
            },
            "type": "table"
           }
          ]
         },
         "layout": {
          "annotationdefaults": {
           "arrowcolor": "#2a3f5f",
           "arrowhead": 0,
           "arrowwidth": 1
          },
          "coloraxis": {
           "colorbar": {
            "outlinewidth": 0,
            "ticks": ""
           }
          },
          "colorscale": {
           "diverging": [
            [
             0,
             "#8e0152"
            ],
            [
             0.1,
             "#c51b7d"
            ],
            [
             0.2,
             "#de77ae"
            ],
            [
             0.3,
             "#f1b6da"
            ],
            [
             0.4,
             "#fde0ef"
            ],
            [
             0.5,
             "#f7f7f7"
            ],
            [
             0.6,
             "#e6f5d0"
            ],
            [
             0.7,
             "#b8e186"
            ],
            [
             0.8,
             "#7fbc41"
            ],
            [
             0.9,
             "#4d9221"
            ],
            [
             1,
             "#276419"
            ]
           ],
           "sequential": [
            [
             0,
             "#0d0887"
            ],
            [
             0.1111111111111111,
             "#46039f"
            ],
            [
             0.2222222222222222,
             "#7201a8"
            ],
            [
             0.3333333333333333,
             "#9c179e"
            ],
            [
             0.4444444444444444,
             "#bd3786"
            ],
            [
             0.5555555555555556,
             "#d8576b"
            ],
            [
             0.6666666666666666,
             "#ed7953"
            ],
            [
             0.7777777777777778,
             "#fb9f3a"
            ],
            [
             0.8888888888888888,
             "#fdca26"
            ],
            [
             1,
             "#f0f921"
            ]
           ],
           "sequentialminus": [
            [
             0,
             "#0d0887"
            ],
            [
             0.1111111111111111,
             "#46039f"
            ],
            [
             0.2222222222222222,
             "#7201a8"
            ],
            [
             0.3333333333333333,
             "#9c179e"
            ],
            [
             0.4444444444444444,
             "#bd3786"
            ],
            [
             0.5555555555555556,
             "#d8576b"
            ],
            [
             0.6666666666666666,
             "#ed7953"
            ],
            [
             0.7777777777777778,
             "#fb9f3a"
            ],
            [
             0.8888888888888888,
             "#fdca26"
            ],
            [
             1,
             "#f0f921"
            ]
           ]
          },
          "colorway": [
           "#636efa",
           "#EF553B",
           "#00cc96",
           "#ab63fa",
           "#FFA15A",
           "#19d3f3",
           "#FF6692",
           "#B6E880",
           "#FF97FF",
           "#FECB52"
          ],
          "font": {
           "color": "#2a3f5f"
          },
          "geo": {
           "bgcolor": "white",
           "lakecolor": "white",
           "landcolor": "#E5ECF6",
           "showlakes": true,
           "showland": true,
           "subunitcolor": "white"
          },
          "hoverlabel": {
           "align": "left"
          },
          "hovermode": "closest",
          "mapbox": {
           "style": "light"
          },
          "paper_bgcolor": "white",
          "plot_bgcolor": "#E5ECF6",
          "polar": {
           "angularaxis": {
            "gridcolor": "white",
            "linecolor": "white",
            "ticks": ""
           },
           "bgcolor": "#E5ECF6",
           "radialaxis": {
            "gridcolor": "white",
            "linecolor": "white",
            "ticks": ""
           }
          },
          "scene": {
           "xaxis": {
            "backgroundcolor": "#E5ECF6",
            "gridcolor": "white",
            "gridwidth": 2,
            "linecolor": "white",
            "showbackground": true,
            "ticks": "",
            "zerolinecolor": "white"
           },
           "yaxis": {
            "backgroundcolor": "#E5ECF6",
            "gridcolor": "white",
            "gridwidth": 2,
            "linecolor": "white",
            "showbackground": true,
            "ticks": "",
            "zerolinecolor": "white"
           },
           "zaxis": {
            "backgroundcolor": "#E5ECF6",
            "gridcolor": "white",
            "gridwidth": 2,
            "linecolor": "white",
            "showbackground": true,
            "ticks": "",
            "zerolinecolor": "white"
           }
          },
          "shapedefaults": {
           "line": {
            "color": "#2a3f5f"
           }
          },
          "ternary": {
           "aaxis": {
            "gridcolor": "white",
            "linecolor": "white",
            "ticks": ""
           },
           "baxis": {
            "gridcolor": "white",
            "linecolor": "white",
            "ticks": ""
           },
           "bgcolor": "#E5ECF6",
           "caxis": {
            "gridcolor": "white",
            "linecolor": "white",
            "ticks": ""
           }
          },
          "title": {
           "x": 0.05
          },
          "xaxis": {
           "automargin": true,
           "gridcolor": "white",
           "linecolor": "white",
           "ticks": "",
           "title": {
            "standoff": 15
           },
           "zerolinecolor": "white",
           "zerolinewidth": 2
          },
          "yaxis": {
           "automargin": true,
           "gridcolor": "white",
           "linecolor": "white",
           "ticks": "",
           "title": {
            "standoff": 15
           },
           "zerolinecolor": "white",
           "zerolinewidth": 2
          }
         }
        },
        "title": {
         "text": "Skilled Nursing (Top 10 states)"
        }
       }
      },
      "text/html": [
       "<div>\n",
       "        \n",
       "        \n",
       "            <div id=\"37e726f6-7dd4-45f0-afb2-370e038755db\" class=\"plotly-graph-div\" style=\"height:525px; width:100%;\"></div>\n",
       "            <script type=\"text/javascript\">\n",
       "                require([\"plotly\"], function(Plotly) {\n",
       "                    window.PLOTLYENV=window.PLOTLYENV || {};\n",
       "                    \n",
       "                if (document.getElementById(\"37e726f6-7dd4-45f0-afb2-370e038755db\")) {\n",
       "                    Plotly.newPlot(\n",
       "                        '37e726f6-7dd4-45f0-afb2-370e038755db',\n",
       "                        [{\"marker\": {\"color\": \"teal\"}, \"name\": \"Skilled nursing (Top Ten)\", \"orientation\": \"h\", \"type\": \"bar\", \"x\": [1505.0, 1379.6666666666667, 1328.6666666666667, 1255.3333333333333, 1255.0, 1250.3333333333333, 1223.0, 1213.6666666666667, 1212.0, 1211.0], \"y\": [\"NJ\", \"CT\", \"NY\", \"IL\", \"CA\", \"IN\", \"NE\", \"UT\", \"RI\", \"OH\"]}],\n",
       "                        {\"template\": {\"data\": {\"bar\": [{\"error_x\": {\"color\": \"#2a3f5f\"}, \"error_y\": {\"color\": \"#2a3f5f\"}, \"marker\": {\"line\": {\"color\": \"#E5ECF6\", \"width\": 0.5}}, \"type\": \"bar\"}], \"barpolar\": [{\"marker\": {\"line\": {\"color\": \"#E5ECF6\", \"width\": 0.5}}, \"type\": \"barpolar\"}], \"carpet\": [{\"aaxis\": {\"endlinecolor\": \"#2a3f5f\", \"gridcolor\": \"white\", \"linecolor\": \"white\", \"minorgridcolor\": \"white\", \"startlinecolor\": \"#2a3f5f\"}, \"baxis\": {\"endlinecolor\": \"#2a3f5f\", \"gridcolor\": \"white\", \"linecolor\": \"white\", \"minorgridcolor\": \"white\", \"startlinecolor\": \"#2a3f5f\"}, \"type\": \"carpet\"}], \"choropleth\": [{\"colorbar\": {\"outlinewidth\": 0, \"ticks\": \"\"}, \"type\": \"choropleth\"}], \"contour\": [{\"colorbar\": {\"outlinewidth\": 0, \"ticks\": \"\"}, \"colorscale\": [[0.0, \"#0d0887\"], [0.1111111111111111, \"#46039f\"], [0.2222222222222222, \"#7201a8\"], [0.3333333333333333, \"#9c179e\"], [0.4444444444444444, \"#bd3786\"], [0.5555555555555556, \"#d8576b\"], [0.6666666666666666, \"#ed7953\"], [0.7777777777777778, \"#fb9f3a\"], [0.8888888888888888, \"#fdca26\"], [1.0, \"#f0f921\"]], \"type\": \"contour\"}], \"contourcarpet\": [{\"colorbar\": {\"outlinewidth\": 0, \"ticks\": \"\"}, \"type\": \"contourcarpet\"}], \"heatmap\": [{\"colorbar\": {\"outlinewidth\": 0, \"ticks\": \"\"}, \"colorscale\": [[0.0, \"#0d0887\"], [0.1111111111111111, \"#46039f\"], [0.2222222222222222, \"#7201a8\"], [0.3333333333333333, \"#9c179e\"], [0.4444444444444444, \"#bd3786\"], [0.5555555555555556, \"#d8576b\"], [0.6666666666666666, \"#ed7953\"], [0.7777777777777778, \"#fb9f3a\"], [0.8888888888888888, \"#fdca26\"], [1.0, \"#f0f921\"]], \"type\": \"heatmap\"}], \"heatmapgl\": [{\"colorbar\": {\"outlinewidth\": 0, \"ticks\": \"\"}, \"colorscale\": [[0.0, \"#0d0887\"], [0.1111111111111111, \"#46039f\"], [0.2222222222222222, \"#7201a8\"], [0.3333333333333333, \"#9c179e\"], [0.4444444444444444, \"#bd3786\"], [0.5555555555555556, \"#d8576b\"], [0.6666666666666666, \"#ed7953\"], [0.7777777777777778, \"#fb9f3a\"], [0.8888888888888888, \"#fdca26\"], [1.0, \"#f0f921\"]], \"type\": \"heatmapgl\"}], \"histogram\": [{\"marker\": {\"colorbar\": {\"outlinewidth\": 0, \"ticks\": \"\"}}, \"type\": \"histogram\"}], \"histogram2d\": [{\"colorbar\": {\"outlinewidth\": 0, \"ticks\": \"\"}, \"colorscale\": [[0.0, \"#0d0887\"], [0.1111111111111111, \"#46039f\"], [0.2222222222222222, \"#7201a8\"], [0.3333333333333333, \"#9c179e\"], [0.4444444444444444, \"#bd3786\"], [0.5555555555555556, \"#d8576b\"], [0.6666666666666666, \"#ed7953\"], [0.7777777777777778, \"#fb9f3a\"], [0.8888888888888888, \"#fdca26\"], [1.0, \"#f0f921\"]], \"type\": \"histogram2d\"}], \"histogram2dcontour\": [{\"colorbar\": {\"outlinewidth\": 0, \"ticks\": \"\"}, \"colorscale\": [[0.0, \"#0d0887\"], [0.1111111111111111, \"#46039f\"], [0.2222222222222222, \"#7201a8\"], [0.3333333333333333, \"#9c179e\"], [0.4444444444444444, \"#bd3786\"], [0.5555555555555556, \"#d8576b\"], [0.6666666666666666, \"#ed7953\"], [0.7777777777777778, \"#fb9f3a\"], [0.8888888888888888, \"#fdca26\"], [1.0, \"#f0f921\"]], \"type\": \"histogram2dcontour\"}], \"mesh3d\": [{\"colorbar\": {\"outlinewidth\": 0, \"ticks\": \"\"}, \"type\": \"mesh3d\"}], \"parcoords\": [{\"line\": {\"colorbar\": {\"outlinewidth\": 0, \"ticks\": \"\"}}, \"type\": \"parcoords\"}], \"pie\": [{\"automargin\": true, \"type\": \"pie\"}], \"scatter\": [{\"marker\": {\"colorbar\": {\"outlinewidth\": 0, \"ticks\": \"\"}}, \"type\": \"scatter\"}], \"scatter3d\": [{\"line\": {\"colorbar\": {\"outlinewidth\": 0, \"ticks\": \"\"}}, \"marker\": {\"colorbar\": {\"outlinewidth\": 0, \"ticks\": \"\"}}, \"type\": \"scatter3d\"}], \"scattercarpet\": [{\"marker\": {\"colorbar\": {\"outlinewidth\": 0, \"ticks\": \"\"}}, \"type\": \"scattercarpet\"}], \"scattergeo\": [{\"marker\": {\"colorbar\": {\"outlinewidth\": 0, \"ticks\": \"\"}}, \"type\": \"scattergeo\"}], \"scattergl\": [{\"marker\": {\"colorbar\": {\"outlinewidth\": 0, \"ticks\": \"\"}}, \"type\": \"scattergl\"}], \"scattermapbox\": [{\"marker\": {\"colorbar\": {\"outlinewidth\": 0, \"ticks\": \"\"}}, \"type\": \"scattermapbox\"}], \"scatterpolar\": [{\"marker\": {\"colorbar\": {\"outlinewidth\": 0, \"ticks\": \"\"}}, \"type\": \"scatterpolar\"}], \"scatterpolargl\": [{\"marker\": {\"colorbar\": {\"outlinewidth\": 0, \"ticks\": \"\"}}, \"type\": \"scatterpolargl\"}], \"scatterternary\": [{\"marker\": {\"colorbar\": {\"outlinewidth\": 0, \"ticks\": \"\"}}, \"type\": \"scatterternary\"}], \"surface\": [{\"colorbar\": {\"outlinewidth\": 0, \"ticks\": \"\"}, \"colorscale\": [[0.0, \"#0d0887\"], [0.1111111111111111, \"#46039f\"], [0.2222222222222222, \"#7201a8\"], [0.3333333333333333, \"#9c179e\"], [0.4444444444444444, \"#bd3786\"], [0.5555555555555556, \"#d8576b\"], [0.6666666666666666, \"#ed7953\"], [0.7777777777777778, \"#fb9f3a\"], [0.8888888888888888, \"#fdca26\"], [1.0, \"#f0f921\"]], \"type\": \"surface\"}], \"table\": [{\"cells\": {\"fill\": {\"color\": \"#EBF0F8\"}, \"line\": {\"color\": \"white\"}}, \"header\": {\"fill\": {\"color\": \"#C8D4E3\"}, \"line\": {\"color\": \"white\"}}, \"type\": \"table\"}]}, \"layout\": {\"annotationdefaults\": {\"arrowcolor\": \"#2a3f5f\", \"arrowhead\": 0, \"arrowwidth\": 1}, \"coloraxis\": {\"colorbar\": {\"outlinewidth\": 0, \"ticks\": \"\"}}, \"colorscale\": {\"diverging\": [[0, \"#8e0152\"], [0.1, \"#c51b7d\"], [0.2, \"#de77ae\"], [0.3, \"#f1b6da\"], [0.4, \"#fde0ef\"], [0.5, \"#f7f7f7\"], [0.6, \"#e6f5d0\"], [0.7, \"#b8e186\"], [0.8, \"#7fbc41\"], [0.9, \"#4d9221\"], [1, \"#276419\"]], \"sequential\": [[0.0, \"#0d0887\"], [0.1111111111111111, \"#46039f\"], [0.2222222222222222, \"#7201a8\"], [0.3333333333333333, \"#9c179e\"], [0.4444444444444444, \"#bd3786\"], [0.5555555555555556, \"#d8576b\"], [0.6666666666666666, \"#ed7953\"], [0.7777777777777778, \"#fb9f3a\"], [0.8888888888888888, \"#fdca26\"], [1.0, \"#f0f921\"]], \"sequentialminus\": [[0.0, \"#0d0887\"], [0.1111111111111111, \"#46039f\"], [0.2222222222222222, \"#7201a8\"], [0.3333333333333333, \"#9c179e\"], [0.4444444444444444, \"#bd3786\"], [0.5555555555555556, \"#d8576b\"], [0.6666666666666666, \"#ed7953\"], [0.7777777777777778, \"#fb9f3a\"], [0.8888888888888888, \"#fdca26\"], [1.0, \"#f0f921\"]]}, \"colorway\": [\"#636efa\", \"#EF553B\", \"#00cc96\", \"#ab63fa\", \"#FFA15A\", \"#19d3f3\", \"#FF6692\", \"#B6E880\", \"#FF97FF\", \"#FECB52\"], \"font\": {\"color\": \"#2a3f5f\"}, \"geo\": {\"bgcolor\": \"white\", \"lakecolor\": \"white\", \"landcolor\": \"#E5ECF6\", \"showlakes\": true, \"showland\": true, \"subunitcolor\": \"white\"}, \"hoverlabel\": {\"align\": \"left\"}, \"hovermode\": \"closest\", \"mapbox\": {\"style\": \"light\"}, \"paper_bgcolor\": \"white\", \"plot_bgcolor\": \"#E5ECF6\", \"polar\": {\"angularaxis\": {\"gridcolor\": \"white\", \"linecolor\": \"white\", \"ticks\": \"\"}, \"bgcolor\": \"#E5ECF6\", \"radialaxis\": {\"gridcolor\": \"white\", \"linecolor\": \"white\", \"ticks\": \"\"}}, \"scene\": {\"xaxis\": {\"backgroundcolor\": \"#E5ECF6\", \"gridcolor\": \"white\", \"gridwidth\": 2, \"linecolor\": \"white\", \"showbackground\": true, \"ticks\": \"\", \"zerolinecolor\": \"white\"}, \"yaxis\": {\"backgroundcolor\": \"#E5ECF6\", \"gridcolor\": \"white\", \"gridwidth\": 2, \"linecolor\": \"white\", \"showbackground\": true, \"ticks\": \"\", \"zerolinecolor\": \"white\"}, \"zaxis\": {\"backgroundcolor\": \"#E5ECF6\", \"gridcolor\": \"white\", \"gridwidth\": 2, \"linecolor\": \"white\", \"showbackground\": true, \"ticks\": \"\", \"zerolinecolor\": \"white\"}}, \"shapedefaults\": {\"line\": {\"color\": \"#2a3f5f\"}}, \"ternary\": {\"aaxis\": {\"gridcolor\": \"white\", \"linecolor\": \"white\", \"ticks\": \"\"}, \"baxis\": {\"gridcolor\": \"white\", \"linecolor\": \"white\", \"ticks\": \"\"}, \"bgcolor\": \"#E5ECF6\", \"caxis\": {\"gridcolor\": \"white\", \"linecolor\": \"white\", \"ticks\": \"\"}}, \"title\": {\"x\": 0.05}, \"xaxis\": {\"automargin\": true, \"gridcolor\": \"white\", \"linecolor\": \"white\", \"ticks\": \"\", \"title\": {\"standoff\": 15}, \"zerolinecolor\": \"white\", \"zerolinewidth\": 2}, \"yaxis\": {\"automargin\": true, \"gridcolor\": \"white\", \"linecolor\": \"white\", \"ticks\": \"\", \"title\": {\"standoff\": 15}, \"zerolinecolor\": \"white\", \"zerolinewidth\": 2}}}, \"title\": {\"text\": \"Skilled Nursing (Top 10 states)\"}},\n",
       "                        {\"responsive\": true}\n",
       "                    ).then(function(){\n",
       "                            \n",
       "var gd = document.getElementById('37e726f6-7dd4-45f0-afb2-370e038755db');\n",
       "var x = new MutationObserver(function (mutations, observer) {{\n",
       "        var display = window.getComputedStyle(gd).display;\n",
       "        if (!display || display === 'none') {{\n",
       "            console.log([gd, 'removed!']);\n",
       "            Plotly.purge(gd);\n",
       "            observer.disconnect();\n",
       "        }}\n",
       "}});\n",
       "\n",
       "// Listen for the removal of the full notebook cells\n",
       "var notebookContainer = gd.closest('#notebook-container');\n",
       "if (notebookContainer) {{\n",
       "    x.observe(notebookContainer, {childList: true});\n",
       "}}\n",
       "\n",
       "// Listen for the clearing of the current output cell\n",
       "var outputEl = gd.closest('.output');\n",
       "if (outputEl) {{\n",
       "    x.observe(outputEl, {childList: true});\n",
       "}}\n",
       "\n",
       "                        })\n",
       "                };\n",
       "                });\n",
       "            </script>\n",
       "        </div>"
      ]
     },
     "metadata": {},
     "output_type": "display_data"
    }
   ],
   "source": [
    "import plotly.graph_objects as go\n",
    "fig = go.Figure(\n",
    "    go.Bar(x = skilled_nursing_pivot_top_ten['Avg Spndg Per EP State'],\n",
    "        y = skilled_nursing_pivot_top_ten['State'],\n",
    "        orientation = 'h',\n",
    "        marker=dict( color='teal'),\n",
    "        name= 'Skilled nursing (Top Ten)'\n",
    "    )\n",
    "    )\n",
    "fig.update_layout(title_text='Skilled Nursing (Top 10 states)')\n",
    "fig.show()"
   ]
  },
  {
   "cell_type": "markdown",
   "metadata": {},
   "source": [
    "####  Spending with respect to Medical Facility"
   ]
  },
  {
   "cell_type": "code",
   "execution_count": 45,
   "metadata": {},
   "outputs": [],
   "source": [
    "medical_facility_center = pd.pivot_table(medicare.drop(columns = ['Facility ID','Percent of Spndg Hospital','Percent of Spndg National','Avg Spndg Per EP National','Percent of Spndg State']), index = ['Facility Name','State'])"
   ]
  },
  {
   "cell_type": "code",
   "execution_count": 46,
   "metadata": {},
   "outputs": [],
   "source": [
    "medical_facility = pd.DataFrame(medical_facility_center.to_records())"
   ]
  },
  {
   "cell_type": "code",
   "execution_count": 47,
   "metadata": {},
   "outputs": [
    {
     "data": {
      "text/html": [
       "<div>\n",
       "<style scoped>\n",
       "    .dataframe tbody tr th:only-of-type {\n",
       "        vertical-align: middle;\n",
       "    }\n",
       "\n",
       "    .dataframe tbody tr th {\n",
       "        vertical-align: top;\n",
       "    }\n",
       "\n",
       "    .dataframe thead th {\n",
       "        text-align: right;\n",
       "    }\n",
       "</style>\n",
       "<table border=\"1\" class=\"dataframe\">\n",
       "  <thead>\n",
       "    <tr style=\"text-align: right;\">\n",
       "      <th></th>\n",
       "      <th>Facility Name</th>\n",
       "      <th>State</th>\n",
       "      <th>Avg Spndg Per EP Hospital</th>\n",
       "      <th>Avg Spndg Per EP State</th>\n",
       "    </tr>\n",
       "  </thead>\n",
       "  <tbody>\n",
       "    <tr>\n",
       "      <th>2321</th>\n",
       "      <td>SHANNON MEDICAL CENTER</td>\n",
       "      <td>TX</td>\n",
       "      <td>1810.181818</td>\n",
       "      <td>2122.181818</td>\n",
       "    </tr>\n",
       "    <tr>\n",
       "      <th>623</th>\n",
       "      <td>CRESCENT MEDICAL CENTER LANCASTER</td>\n",
       "      <td>TX</td>\n",
       "      <td>2443.136364</td>\n",
       "      <td>2122.181818</td>\n",
       "    </tr>\n",
       "    <tr>\n",
       "      <th>1263</th>\n",
       "      <td>KNAPP MEDICAL CENTER</td>\n",
       "      <td>TX</td>\n",
       "      <td>1860.545455</td>\n",
       "      <td>2122.181818</td>\n",
       "    </tr>\n",
       "    <tr>\n",
       "      <th>1261</th>\n",
       "      <td>KINGWOOD MEDICAL CENTER</td>\n",
       "      <td>TX</td>\n",
       "      <td>2154.090909</td>\n",
       "      <td>2122.181818</td>\n",
       "    </tr>\n",
       "    <tr>\n",
       "      <th>1244</th>\n",
       "      <td>KELL WEST REGIONAL HOSPITAL</td>\n",
       "      <td>TX</td>\n",
       "      <td>2251.454545</td>\n",
       "      <td>2122.181818</td>\n",
       "    </tr>\n",
       "    <tr>\n",
       "      <th>596</th>\n",
       "      <td>CONNALLY MEMORIAL MEDICAL CENTER</td>\n",
       "      <td>TX</td>\n",
       "      <td>1552.727273</td>\n",
       "      <td>2122.181818</td>\n",
       "    </tr>\n",
       "    <tr>\n",
       "      <th>497</th>\n",
       "      <td>CHI ST. LUKES' BRAZOSPORT HOSPITAL</td>\n",
       "      <td>TX</td>\n",
       "      <td>1822.590909</td>\n",
       "      <td>2122.181818</td>\n",
       "    </tr>\n",
       "    <tr>\n",
       "      <th>609</th>\n",
       "      <td>CORNERSTONE REGIONAL HOSPITAL</td>\n",
       "      <td>TX</td>\n",
       "      <td>1656.863636</td>\n",
       "      <td>2122.181818</td>\n",
       "    </tr>\n",
       "    <tr>\n",
       "      <th>612</th>\n",
       "      <td>CORPUS CHRISTI MEDICAL CENTER THE</td>\n",
       "      <td>TX</td>\n",
       "      <td>1923.500000</td>\n",
       "      <td>2122.181818</td>\n",
       "    </tr>\n",
       "    <tr>\n",
       "      <th>2371</th>\n",
       "      <td>SOUTH TEXAS HEALTH SYSTEM</td>\n",
       "      <td>TX</td>\n",
       "      <td>2033.818182</td>\n",
       "      <td>2122.181818</td>\n",
       "    </tr>\n",
       "  </tbody>\n",
       "</table>\n",
       "</div>"
      ],
      "text/plain": [
       "                           Facility Name State  Avg Spndg Per EP Hospital  \\\n",
       "2321              SHANNON MEDICAL CENTER    TX                1810.181818   \n",
       "623    CRESCENT MEDICAL CENTER LANCASTER    TX                2443.136364   \n",
       "1263                KNAPP MEDICAL CENTER    TX                1860.545455   \n",
       "1261             KINGWOOD MEDICAL CENTER    TX                2154.090909   \n",
       "1244         KELL WEST REGIONAL HOSPITAL    TX                2251.454545   \n",
       "596     CONNALLY MEMORIAL MEDICAL CENTER    TX                1552.727273   \n",
       "497   CHI ST. LUKES' BRAZOSPORT HOSPITAL    TX                1822.590909   \n",
       "609        CORNERSTONE REGIONAL HOSPITAL    TX                1656.863636   \n",
       "612    CORPUS CHRISTI MEDICAL CENTER THE    TX                1923.500000   \n",
       "2371           SOUTH TEXAS HEALTH SYSTEM    TX                2033.818182   \n",
       "\n",
       "      Avg Spndg Per EP State  \n",
       "2321             2122.181818  \n",
       "623              2122.181818  \n",
       "1263             2122.181818  \n",
       "1261             2122.181818  \n",
       "1244             2122.181818  \n",
       "596              2122.181818  \n",
       "497              2122.181818  \n",
       "609              2122.181818  \n",
       "612              2122.181818  \n",
       "2371             2122.181818  "
      ]
     },
     "execution_count": 47,
     "metadata": {},
     "output_type": "execute_result"
    }
   ],
   "source": [
    "medical_facility.sort_values(by =['Avg Spndg Per EP State'], ascending = False)[:10]"
   ]
  },
  {
   "cell_type": "code",
   "execution_count": 48,
   "metadata": {},
   "outputs": [],
   "source": [
    "from urllib.request import urlopen\n",
    "import json\n",
    "with urlopen('https://raw.githubusercontent.com/plotly/datasets/master/geojson-counties-fips.json') as response:\n",
    "    states = json.load(response)"
   ]
  },
  {
   "cell_type": "code",
   "execution_count": 49,
   "metadata": {},
   "outputs": [
    {
     "data": {
      "application/vnd.plotly.v1+json": {
       "config": {
        "plotlyServerURL": "https://plot.ly"
       },
       "data": [
        {
         "coloraxis": "coloraxis",
         "geo": "geo",
         "hovertemplate": "locations=%{location}<br>color=%{z}<extra></extra>",
         "locationmode": "USA-states",
         "locations": [
          "LA",
          "MN",
          "TX",
          "PA",
          "PA",
          "AZ",
          "AZ",
          "AZ",
          "LA",
          "PA",
          "TX",
          "MA",
          "OH",
          "NY",
          "PA",
          "FL",
          "FL",
          "FL",
          "FL",
          "GA",
          "GA",
          "FL",
          "FL",
          "FL",
          "FL",
          "FL",
          "FL",
          "FL",
          "FL",
          "IL",
          "IL",
          "CA",
          "CA",
          "HI",
          "CA",
          "CA",
          "CA",
          "OR",
          "CA",
          "CA",
          "CA",
          "CA",
          "CA",
          "IL",
          "IL",
          "IL",
          "IL",
          "IL",
          "IL",
          "IL",
          "IL",
          "IL",
          "IL",
          "IL",
          "IL",
          "CA",
          "SC",
          "OH",
          "NC",
          "CA",
          "AK",
          "AK",
          "NY",
          "NY",
          "PA",
          "IL",
          "CA",
          "NY",
          "PA",
          "PA",
          "IA",
          "LA",
          "OH",
          "MS",
          "MS",
          "OK",
          "OK",
          "OK",
          "OK",
          "OK",
          "MN",
          "MN",
          "CA",
          "CA",
          "UT",
          "NM",
          "IL",
          "ND",
          "CA",
          "UT",
          "IL",
          "CA",
          "AL",
          "IL",
          "MS",
          "CO",
          "SC",
          "MA",
          "TX",
          "CA",
          "GA",
          "PA",
          "TX",
          "AZ",
          "AZ",
          "AR",
          "AR",
          "AR",
          "NY",
          "AZ",
          "CA",
          "NM",
          "OR",
          "OR",
          "OR",
          "MI",
          "WI",
          "MI",
          "MI",
          "MI",
          "WI",
          "MI",
          "UT",
          "OH",
          "WI",
          "WI",
          "AL",
          "NJ",
          "AL",
          "NC",
          "NC",
          "NC",
          "NC",
          "OH",
          "GA",
          "NY",
          "VA",
          "OH",
          "NY",
          "WI",
          "WI",
          "WI",
          "WI",
          "WI",
          "WI",
          "WI",
          "WI",
          "WI",
          "WI",
          "CO",
          "WI",
          "LA",
          "FL",
          "SD",
          "SD",
          "SD",
          "SD",
          "SD",
          "SD",
          "OH",
          "LA",
          "OK",
          "CA",
          "CA",
          "AZ",
          "AZ",
          "AZ",
          "AZ",
          "AZ",
          "AZ",
          "AZ",
          "AZ",
          "CO",
          "AZ",
          "AZ",
          "AZ",
          "AZ",
          "AZ",
          "AZ",
          "TX",
          "TX",
          "KY",
          "IN",
          "KY",
          "KY",
          "KY",
          "KY",
          "AR",
          "AR",
          "AR",
          "AR",
          "AR",
          "KY",
          "KY",
          "FL",
          "FL",
          "TX",
          "FL",
          "FL",
          "AL",
          "FL",
          "AL",
          "TN",
          "TN",
          "MS",
          "MS",
          "MS",
          "MS",
          "TN",
          "TN",
          "MS",
          "TX",
          "MO",
          "MO",
          "MO",
          "GA",
          "CA",
          "AK",
          "CA",
          "FL",
          "NY",
          "MO",
          "LA",
          "AR",
          "OR",
          "WI",
          "FL",
          "OH",
          "FL",
          "FL",
          "FL",
          "FL",
          "DE",
          "DE",
          "TX",
          "TX",
          "TX",
          "TX",
          "TX",
          "TX",
          "TX",
          "TX",
          "TX",
          "TX",
          "TX",
          "TX",
          "TX",
          "TX",
          "TX",
          "TX",
          "TX",
          "TX",
          "TX",
          "TX",
          "TX",
          "TX",
          "TX",
          "TX",
          "TX",
          "TX",
          "TX",
          "TX",
          "TX",
          "TX",
          "TX",
          "NJ",
          "NJ",
          "TX",
          "MA",
          "MA",
          "MA",
          "MA",
          "MS",
          "UT",
          "SC",
          "MI",
          "MI",
          "MI",
          "MI",
          "MI",
          "MI",
          "MI",
          "MI",
          "LA",
          "WI",
          "WV",
          "DE",
          "OH",
          "NY",
          "NE",
          "WI",
          "TX",
          "WI",
          "MO",
          "MT",
          "OH",
          "WV",
          "MA",
          "NY",
          "PA",
          "MA",
          "MA",
          "MA",
          "MA",
          "FL",
          "OH",
          "NC",
          "CA",
          "AL",
          "TN",
          "MT",
          "SD",
          "MO",
          "OK",
          "FL",
          "OH",
          "IL",
          "TN",
          "WV",
          "IN",
          "KS",
          "FL",
          "MS",
          "NY",
          "VA",
          "VA",
          "VA",
          "VA",
          "VA",
          "VA",
          "VA",
          "SC",
          "MO",
          "MI",
          "MA",
          "MO",
          "CO",
          "KY",
          "MT",
          "FL",
          "PA",
          "VT",
          "CT",
          "MA",
          "UT",
          "CT",
          "OK",
          "IA",
          "MI",
          "MI",
          "MI",
          "NY",
          "NY",
          "SD",
          "NY",
          "NY",
          "AL",
          "FL",
          "FL",
          "FL",
          "FL",
          "TX",
          "TX",
          "NE",
          "AL",
          "PA",
          "VA",
          "MN",
          "AL",
          "GA",
          "PA",
          "LA",
          "WV",
          "UT",
          "NC",
          "LA",
          "CA",
          "CA",
          "CA",
          "CA",
          "AL",
          "MA",
          "MN",
          "WV",
          "MO",
          "WY",
          "GA",
          "SC",
          "PA",
          "NY",
          "AZ",
          "FL",
          "MA",
          "FL",
          "NC",
          "NC",
          "NJ",
          "NJ",
          "NJ",
          "WA",
          "MO",
          "FL",
          "NJ",
          "VA",
          "VA",
          "VA",
          "VA",
          "PA",
          "NM",
          "MA",
          "NC",
          "SC",
          "NC",
          "NC",
          "SC",
          "SC",
          "NC",
          "NC",
          "NC",
          "NC",
          "NC",
          "MN",
          "NV",
          "NC",
          "GA",
          "ME",
          "CA",
          "WA",
          "CO",
          "UT",
          "NC",
          "NH",
          "NY",
          "NY",
          "UT",
          "TX",
          "CA",
          "CA",
          "IL",
          "NV",
          "MO",
          "CA",
          "VA",
          "VA",
          "VA",
          "NC",
          "IL",
          "FL",
          "LA",
          "ME",
          "AK",
          "TX",
          "VT",
          "WA",
          "NJ",
          "CO",
          "CO",
          "CO",
          "CO",
          "CO",
          "IL",
          "AR",
          "PA",
          "NY",
          "PA",
          "AZ",
          "CA",
          "WV",
          "WV",
          "CT",
          "NY",
          "NC",
          "AL",
          "SC",
          "OK",
          "VA",
          "NH",
          "PA",
          "PA",
          "WY",
          "TX",
          "NE",
          "NE",
          "NE",
          "NE",
          "IA",
          "NE",
          "NE",
          "NE",
          "NE",
          "GA",
          "ND",
          "TX",
          "TX",
          "TX",
          "TX",
          "TX",
          "TX",
          "AR",
          "OK",
          "TX",
          "NJ",
          "CA",
          "AZ",
          "CA",
          "MI",
          "OK",
          "OK",
          "OH",
          "MO",
          "DE",
          "LA",
          "TX",
          "TX",
          "TX",
          "LA",
          "LA",
          "TX",
          "TX",
          "TX",
          "TX",
          "TX",
          "TX",
          "LA",
          "TX",
          "NM",
          "NY",
          "AL",
          "LA",
          "TX",
          "MO",
          "FL",
          "VA",
          "TN",
          "LA",
          "NJ",
          "OK",
          "PA",
          "IN",
          "KY",
          "NY",
          "AL",
          "MS",
          "PA",
          "GA",
          "OH",
          "OH",
          "FL",
          "NY",
          "VA",
          "OH",
          "CA",
          "CA",
          "SC",
          "GA",
          "KS",
          "GA",
          "GA",
          "CA",
          "CA",
          "TX",
          "SC",
          "CO",
          "GA",
          "NY",
          "WI",
          "NE",
          "TX",
          "NC",
          "IN",
          "CA",
          "OK",
          "IL",
          "CO",
          "IN",
          "IN",
          "AL",
          "OK",
          "IN",
          "IN",
          "CA",
          "CA",
          "CA",
          "IN",
          "OH",
          "IN",
          "MT",
          "NJ",
          "VA",
          "WI",
          "CA",
          "CA",
          "NH",
          "PA",
          "PA",
          "WA",
          "TX",
          "CA",
          "SC",
          "AR",
          "GA",
          "TN",
          "MA",
          "MO",
          "NJ",
          "PA",
          "AL",
          "IL",
          "FL",
          "TX",
          "NY",
          "CA",
          "TX",
          "NY",
          "OH",
          "TX",
          "TX",
          "IA",
          "MI",
          "TX",
          "MO",
          "MO",
          "AL",
          "TX",
          "AL",
          "GA",
          "KY",
          "MI",
          "MS",
          "IL",
          "NY",
          "NM",
          "PA",
          "OH",
          "TX",
          "AL",
          "TN",
          "TX",
          "LA",
          "AL",
          "AL",
          "AL",
          "TX",
          "TX",
          "CA",
          "CT",
          "NC",
          "IN",
          "UT",
          "WV",
          "NC",
          "CT",
          "TX",
          "IN",
          "WA",
          "IN",
          "NJ",
          "TN",
          "IL",
          "AL",
          "TN",
          "IN",
          "AL",
          "CA",
          "PA",
          "TX",
          "IL",
          "FL",
          "CO",
          "MS",
          "CO",
          "CA",
          "NV",
          "CA",
          "FL",
          "LA",
          "MI",
          "MI",
          "AZ",
          "NV",
          "MN",
          "WI",
          "UT",
          "FL",
          "GA",
          "OH",
          "TX",
          "KS",
          "TX",
          "CA",
          "FL",
          "TX",
          "CA",
          "FL",
          "GA",
          "CA",
          "GA",
          "GA",
          "FL",
          "PA",
          "AR",
          "OH",
          "NC",
          "NC",
          "NC",
          "OK",
          "SD",
          "IN",
          "TN",
          "PA",
          "AL",
          "LA",
          "SC",
          "GA",
          "LA",
          "OH",
          "CA",
          "OH",
          "NJ",
          "TX",
          "ID",
          "NY",
          "ME",
          "NM",
          "NY",
          "PA",
          "TX",
          "PA",
          "GA",
          "FL",
          "CA",
          "IL",
          "MI",
          "PA",
          "CA",
          "CA",
          "TX",
          "CA",
          "GA",
          "IN",
          "OK",
          "NH",
          "NY",
          "PA",
          "NY",
          "IL",
          "AL",
          "CA",
          "CA",
          "CA",
          "GA",
          "MA",
          "MI",
          "GA",
          "GA",
          "GA",
          "GA",
          "GA",
          "CA",
          "FL",
          "NJ",
          "CA",
          "TX",
          "KY",
          "NY",
          "TN",
          "IN",
          "ND",
          "MN",
          "MN",
          "MN",
          "MN",
          "MN",
          "OH",
          "PA",
          "GA",
          "WY",
          "AL",
          "WA",
          "WA",
          "PA",
          "PA",
          "PA",
          "NH",
          "NY",
          "IN",
          "AK",
          "OH",
          "WV",
          "OH",
          "MN",
          "MN",
          "GA",
          "MN",
          "MN",
          "TX",
          "NE",
          "TX",
          "MA",
          "GA",
          "MA",
          "VA",
          "FL",
          "NY",
          "AL",
          "IN",
          "IL",
          "NY",
          "IA",
          "OH",
          "TX",
          "NC",
          "OH",
          "MO",
          "AR",
          "KY",
          "FL",
          "AZ",
          "KY",
          "FL",
          "FL",
          "FL",
          "AL",
          "GA",
          "NY",
          "CA",
          "PA",
          "MI",
          "AR",
          "MS",
          "AZ",
          "TX",
          "OH",
          "TN",
          "IA",
          "WI",
          "TN",
          "FL",
          "TX",
          "TX",
          "CA",
          "IN",
          "IN",
          "IN",
          "IN",
          "IN",
          "IN",
          "IL",
          "IN",
          "IN",
          "IN",
          "KY",
          "LA",
          "ME",
          "TN",
          "MO",
          "TX",
          "CA",
          "CA",
          "NH",
          "WI",
          "NC",
          "AL",
          "IL",
          "NM",
          "MI",
          "CA",
          "MS",
          "CA",
          "IL",
          "KS",
          "PA",
          "PA",
          "PA",
          "PA",
          "PA",
          "IL",
          "OH",
          "IA",
          "MI",
          "CA",
          "MS",
          "DC",
          "KY",
          "NM",
          "PA",
          "SC",
          "SC",
          "SC",
          "SC",
          "SC",
          "SC",
          "SC",
          "NM",
          "TX",
          "OH",
          "CA",
          "CA",
          "CA",
          "NY",
          "LA",
          "MO",
          "CA",
          "CA",
          "IN",
          "OH",
          "PA",
          "NY",
          "NY",
          "FL",
          "MA",
          "CO",
          "OR",
          "TX",
          "IN",
          "IL",
          "TX",
          "GA",
          "GA",
          "OH",
          "OK",
          "IL",
          "TX",
          "MN",
          "OH",
          "SC",
          "PA",
          "OH",
          "AL",
          "OH",
          "NC",
          "WA",
          "MT",
          "NE",
          "OK",
          "AR",
          "IA",
          "CA",
          "WV",
          "AL",
          "OH",
          "KY",
          "IL",
          "CT",
          "MS",
          "CT",
          "IA",
          "CA",
          "PA",
          "AL",
          "NM",
          "TX",
          "FL",
          "FL",
          "FL",
          "WI",
          "PA",
          "GA",
          "GA",
          "NJ",
          "NJ",
          "NJ",
          "NJ",
          "NJ",
          "PA",
          "AL",
          "FL",
          "NC",
          "GA",
          "SC",
          "IN",
          "MO",
          "PA",
          "WA",
          "TN",
          "KY",
          "KY",
          "NY",
          "TX",
          "MI",
          "MA",
          "TX",
          "NC",
          "IL",
          "WA",
          "KY",
          "CT",
          "AZ",
          "TN",
          "KS",
          "NC",
          "KY",
          "CA",
          "TX",
          "TX",
          "TX",
          "TX",
          "TX",
          "TX",
          "TX",
          "CO",
          "FL",
          "NY",
          "NY",
          "MA",
          "MN",
          "MN",
          "FL",
          "MI",
          "LA",
          "FL",
          "PA",
          "IL",
          "AL",
          "AR",
          "CA",
          "TX",
          "TN",
          "NV",
          "TX",
          "IN",
          "MN",
          "VA",
          "TN",
          "IN",
          "MI",
          "MI",
          "MI",
          "MI",
          "MI",
          "CA",
          "TX",
          "PA",
          "PA",
          "MA",
          "CA",
          "FL",
          "NC",
          "MS",
          "CA",
          "NY",
          "PA",
          "AL",
          "FL",
          "KY",
          "WA",
          "TX",
          "AL",
          "TX",
          "OH",
          "OK",
          "OK",
          "OK",
          "OK",
          "OK",
          "OK",
          "MI",
          "HI",
          "SC",
          "OH",
          "CA",
          "CA",
          "NJ",
          "MI",
          "CA",
          "FL",
          "FL",
          "IL",
          "MA",
          "WI",
          "NJ",
          "PA",
          "PA",
          "MA",
          "OH",
          "FL",
          "AZ",
          "AZ",
          "NY",
          "PA",
          "GA",
          "TX",
          "TX",
          "TX",
          "TX",
          "TX",
          "TX",
          "TX",
          "TX",
          "DC",
          "WI",
          "IL",
          "IL",
          "NJ",
          "NC",
          "TX",
          "NJ",
          "CA",
          "CA",
          "AL",
          "TX",
          "MI",
          "MI",
          "MN",
          "KS",
          "LA",
          "IL",
          "TN",
          "FL",
          "IN",
          "PA",
          "IN",
          "IN",
          "IN",
          "IN",
          "IN",
          "IN",
          "IL",
          "VA",
          "VA",
          "VA",
          "VA",
          "VA",
          "NJ",
          "NJ",
          "NJ",
          "OH",
          "OK",
          "OK",
          "OK",
          "OK",
          "OK",
          "OK",
          "OK",
          "NY",
          "UT",
          "IA",
          "IA",
          "NY",
          "NC",
          "IL",
          "GA",
          "WA",
          "IN",
          "WY",
          "PA",
          "AL",
          "AL",
          "OK",
          "FL",
          "FL",
          "AL",
          "AL",
          "IL",
          "KY",
          "TN",
          "NY",
          "NY",
          "OK",
          "FL",
          "PA",
          "MS",
          "GA",
          "PA",
          "AR",
          "NJ",
          "TN",
          "PA",
          "KY",
          "LA",
          "NJ",
          "IL",
          "NJ",
          "KY",
          "KY",
          "OH",
          "FL",
          "NJ",
          "AZ",
          "GA",
          "CT",
          "CA",
          "IL",
          "CA",
          "CA",
          "VA",
          "NY",
          "TN",
          "CT",
          "IN",
          "AR",
          "NC",
          "VA",
          "NY",
          "UT",
          "TX",
          "FL",
          "WA",
          "CA",
          "HI",
          "CA",
          "CA",
          "CA",
          "CA",
          "CA",
          "CA",
          "CA",
          "CA",
          "CA",
          "CA",
          "CA",
          "CA",
          "CA",
          "CA",
          "CA",
          "CA",
          "CA",
          "CA",
          "CA",
          "CA",
          "OR",
          "CA",
          "CA",
          "CA",
          "CA",
          "CA",
          "CA",
          "CA",
          "CA",
          "CA",
          "OR",
          "NY",
          "MT",
          "PA",
          "KS",
          "KS",
          "KS",
          "KS",
          "KS",
          "MI",
          "IL",
          "CA",
          "NE",
          "CA",
          "TX",
          "FL",
          "NY",
          "PA",
          "RI",
          "KY",
          "CA",
          "SC",
          "OH",
          "OH",
          "MS",
          "IN",
          "KY",
          "AZ",
          "NY",
          "OH",
          "NY",
          "TX",
          "IL",
          "TX",
          "OH",
          "HI",
          "ID",
          "IN",
          "HI",
          "CA",
          "IN",
          "KS",
          "CA",
          "CA",
          "CA",
          "CA",
          "LA",
          "LA",
          "LA",
          "TN",
          "MA",
          "LA",
          "SC",
          "FL",
          "KY",
          "TX",
          "OH",
          "MI",
          "AL",
          "NC",
          "MN",
          "MO",
          "FL",
          "AL",
          "MI",
          "MI",
          "FL",
          "NH",
          "IA",
          "FL",
          "UT",
          "WI",
          "MN",
          "FL",
          "CA",
          "TX",
          "PA",
          "RI",
          "LA",
          "TX",
          "FL",
          "FL",
          "FL",
          "TX",
          "LA",
          "FL",
          "CT",
          "MA",
          "AL",
          "KS",
          "OK",
          "UT",
          "NM",
          "TN",
          "FL",
          "MO",
          "FL",
          "OR",
          "OR",
          "OR",
          "OR",
          "WA",
          "OR",
          "FL",
          "PA",
          "PA",
          "PA",
          "NY",
          "LA",
          "VA",
          "VA",
          "VA",
          "VA",
          "SC",
          "NC",
          "OH",
          "OH",
          "NY",
          "TN",
          "NE",
          "IL",
          "CO",
          "TN",
          "PA",
          "KY",
          "UT",
          "WV",
          "CA",
          "CA",
          "CA",
          "UT",
          "VA",
          "CA",
          "NY",
          "CO",
          "CO",
          "TX",
          "IL",
          "CA",
          "NM",
          "CA",
          "CA",
          "IL",
          "KY",
          "NY",
          "NJ",
          "NM",
          "NM",
          "NM",
          "NM",
          "MA",
          "PA",
          "FL",
          "IL",
          "TX",
          "OH",
          "IN",
          "CO",
          "IL",
          "CA",
          "CA",
          "OH",
          "ID",
          "MS",
          "PA",
          "AR",
          "MS",
          "NY",
          "PA",
          "ME",
          "ME",
          "IN",
          "FL",
          "CT",
          "KY",
          "KS",
          "MN",
          "NC",
          "NC",
          "CA",
          "AZ",
          "OH",
          "CA",
          "FL",
          "IN",
          "MS",
          "OH",
          "AL",
          "MI",
          "CA",
          "AL",
          "WI",
          "NC",
          "CA",
          "FL",
          "IA",
          "NH",
          "NE",
          "OH",
          "VA",
          "OH",
          "CT",
          "MA",
          "MA",
          "NY",
          "AK",
          "TX",
          "HI",
          "TN",
          "FL",
          "MN",
          "MN",
          "MN",
          "WI",
          "MN",
          "GA",
          "WI",
          "AZ",
          "MN",
          "IL",
          "OK",
          "OK",
          "OH",
          "UT",
          "CO",
          "OR",
          "MI",
          "MI",
          "MI",
          "MI",
          "MI",
          "MI",
          "MI",
          "MI",
          "MI",
          "MI",
          "SC",
          "SC",
          "SC",
          "SC",
          "SC",
          "KS",
          "GA",
          "KY",
          "PA",
          "FL",
          "TX",
          "AL",
          "AL",
          "TX",
          "GA",
          "TX",
          "TX",
          "AR",
          "CO",
          "FL",
          "TX",
          "TX",
          "TX",
          "TX",
          "TX",
          "TX",
          "TX",
          "TX",
          "TX",
          "VA",
          "AL",
          "OH",
          "DC",
          "DC",
          "FL",
          "MA",
          "MI",
          "TN",
          "TX",
          "TX",
          "TX",
          "TX",
          "TX",
          "TX",
          "TX",
          "IL",
          "IN",
          "OH",
          "OK",
          "PA",
          "TX",
          "IN",
          "GA",
          "MS",
          "IL",
          "FL",
          "CA",
          "FL",
          "IL",
          "CA",
          "IN",
          "FL",
          "FL",
          "WY",
          "FL",
          "CA",
          "IL",
          "NM",
          "TX",
          "NC",
          "FL",
          "GA",
          "CA",
          "CA",
          "AR",
          "CA",
          "CA",
          "KS",
          "OH",
          "PA",
          "CA",
          "AZ",
          "OH",
          "OH",
          "MI",
          "MI",
          "WI",
          "OH",
          "CA",
          "IA",
          "MN",
          "OK",
          "IL",
          "OH",
          "OK",
          "OH",
          "OH",
          "AR",
          "KS",
          "MO",
          "MO",
          "MO",
          "AR",
          "NY",
          "CA",
          "OK",
          "MO",
          "MO",
          "MO",
          "MO",
          "CA",
          "NY",
          "OH",
          "OR",
          "IA",
          "CA",
          "IA",
          "IA",
          "IA",
          "IA",
          "IA",
          "MA",
          "KS",
          "CO",
          "LA",
          "OH",
          "CA",
          "OH",
          "OH",
          "OH",
          "OH",
          "IL",
          "MS",
          "MS",
          "MS",
          "MS",
          "MS",
          "MS",
          "MS",
          "WI",
          "TX",
          "TX",
          "TX",
          "NE",
          "MS",
          "TN",
          "KY",
          "TX",
          "TX",
          "IL",
          "CA",
          "CA",
          "TX",
          "IN",
          "IA",
          "TX",
          "TX",
          "IL",
          "TN",
          "TX",
          "TX",
          "MI",
          "TN",
          "OH",
          "TX",
          "NY",
          "IL",
          "MA",
          "OH",
          "KS",
          "OH",
          "ME",
          "OR",
          "KY",
          "CT",
          "TX",
          "MI",
          "MI",
          "MI",
          "MI",
          "MI",
          "CT",
          "WI",
          "NE",
          "IL",
          "TN",
          "WI",
          "CT",
          "MA",
          "PA",
          "PA",
          "LA",
          "KS",
          "WI",
          "CA",
          "CA",
          "CA",
          "TX",
          "MS",
          "MO",
          "MO",
          "AL",
          "MO",
          "AL",
          "NJ",
          "NJ",
          "PA",
          "WV",
          "AL",
          "KY",
          "IN",
          "LA",
          "CA",
          "NY",
          "NY",
          "NY",
          "CA",
          "CO",
          "LA",
          "IL",
          "TN",
          "NJ",
          "KS",
          "MA",
          "FL",
          "FL",
          "FL",
          "MO",
          "NC",
          "PA",
          "MA",
          "OH",
          "OH",
          "OH",
          "PA",
          "SC",
          "NY",
          "NY",
          "FL",
          "NY",
          "NY",
          "ID",
          "UT",
          "NM",
          "AZ",
          "UT",
          "NV",
          "NV",
          "IL",
          "AZ",
          "WA",
          "WA",
          "WA",
          "WA",
          "MI",
          "MI",
          "MI",
          "MI",
          "MI",
          "KY",
          "SC",
          "SC",
          "SC",
          "OK",
          "TX",
          "DE",
          "MA",
          "FL",
          "NC",
          "MA",
          "PA",
          "NY",
          "LA",
          "NY",
          "AR",
          "CA",
          "TX",
          "GA",
          "PA",
          "AR",
          "NE",
          "NE",
          "MS",
          "MO",
          "NJ",
          "MA",
          "NC",
          "MO",
          "LA",
          "NY",
          "NY",
          "NY",
          "NY",
          "NY",
          "NY",
          "NJ",
          "NY",
          "SC",
          "RI",
          "TN",
          "KS",
          "NJ",
          "MA",
          "NY",
          "NY",
          "TX",
          "TX",
          "OK",
          "AL",
          "AR",
          "AL",
          "NC",
          "NC",
          "NY",
          "TX",
          "CO",
          "FL",
          "HI",
          "MO",
          "MN",
          "AR",
          "MS",
          "MS",
          "MS",
          "LA",
          "FL",
          "MI",
          "FL",
          "MA",
          "CO",
          "TX",
          "NV",
          "CA",
          "TN",
          "AL",
          "GA",
          "MO",
          "OK",
          "NV",
          "NY",
          "NC",
          "ME",
          "ME",
          "ME",
          "ME",
          "LA",
          "ME",
          "MT",
          "NM",
          "NV",
          "NY",
          "MA",
          "MN",
          "CA",
          "GA",
          "IL",
          "FL",
          "GA",
          "GA",
          "GA",
          "NY",
          "IL",
          "TX",
          "WA",
          "AL",
          "AZ",
          "FL",
          "AR",
          "MS",
          "ID",
          "TX",
          "IL",
          "VT",
          "IL",
          "VA",
          "KY",
          "CT",
          "IL",
          "MA",
          "NC",
          "NC",
          "NC",
          "NC",
          "NC",
          "NC",
          "NC",
          "NC",
          "VA",
          "VA",
          "VA",
          "CA",
          "NY",
          "NY",
          "NY",
          "NY",
          "NY",
          "NY",
          "NY",
          "OK",
          "CA",
          "AZ",
          "FL",
          "CA",
          "TX",
          "LA",
          "MI",
          "WI",
          "NJ",
          "MS",
          "LA",
          "LA",
          "LA",
          "LA",
          "LA",
          "MS",
          "LA",
          "WI",
          "TX",
          "UT",
          "OH",
          "PA",
          "WV",
          "OH",
          "OH",
          "OH",
          "OR",
          "OK",
          "OK",
          "OK",
          "OK",
          "OK",
          "OK",
          "KS",
          "NY",
          "MN",
          "CA",
          "WA",
          "OK",
          "NY",
          "NC",
          "LA",
          "CA",
          "FL",
          "NY",
          "FL",
          "AZ",
          "CA",
          "CO",
          "IN",
          "WI",
          "FL",
          "IL",
          "IL",
          "IL",
          "IL",
          "IL",
          "PA",
          "NY",
          "IL",
          "IA",
          "AR",
          "KY",
          "RI",
          "NJ",
          "LA",
          "LA",
          "LA",
          "WA",
          "KS",
          "NJ",
          "FL",
          "MN",
          "KY",
          "KY",
          "MO",
          "ND",
          "MT",
          "CA",
          "TX",
          "HI",
          "FL",
          "FL",
          "CA",
          "FL",
          "SC",
          "SC",
          "SC",
          "FL",
          "FL",
          "TX",
          "CA",
          "CA",
          "IL",
          "TX",
          "MS",
          "PA",
          "CA",
          "TX",
          "UT",
          "MN",
          "LA",
          "NC",
          "CO",
          "TX",
          "MO",
          "NH",
          "TN",
          "CA",
          "IN",
          "CO",
          "IN",
          "TX",
          "IN",
          "IN",
          "TN",
          "OH",
          "FL",
          "IL",
          "CA",
          "KY",
          "WA",
          "WA",
          "NY",
          "IL",
          "SC",
          "MO",
          "CA",
          "PA",
          "PA",
          "PA",
          "ME",
          "TX",
          "TN",
          "GA",
          "OK",
          "NC",
          "CA",
          "TX",
          "MO",
          "NY",
          "GA",
          "GA",
          "AZ",
          "PA",
          "SD",
          "PA",
          "TX",
          "LA",
          "TN",
          "FL",
          "TX",
          "IN",
          "AR",
          "AL",
          "GA",
          "GA",
          "GA",
          "GA",
          "GA",
          "GA",
          "SC",
          "GA",
          "GA",
          "GA",
          "GA",
          "CA",
          "CA",
          "KY",
          "TX",
          "PA",
          "IN",
          "CA",
          "CA",
          "NM",
          "NY",
          "FL",
          "CO",
          "WV",
          "FL",
          "CA",
          "OH",
          "CA",
          "OK",
          "MI",
          "MO",
          "IN",
          "ID",
          "NH",
          "PA",
          "CO",
          "SD",
          "KS",
          "AL",
          "KS",
          "NM",
          "NM",
          "NM",
          "CO",
          "IL",
          "IL",
          "IL",
          "IL",
          "IL",
          "IL",
          "IL",
          "AL",
          "WV",
          "IL",
          "MO",
          "MI",
          "MI",
          "OH",
          "WA",
          "AK",
          "WA",
          "SC",
          "TX",
          "CA",
          "WA",
          "AL",
          "TX",
          "CA",
          "CA",
          "OR",
          "KS",
          "OR",
          "OR",
          "OR",
          "WA",
          "CA",
          "CA",
          "WA",
          "WA",
          "OR",
          "CA",
          "OR",
          "IL",
          "PA",
          "OK",
          "OK",
          "FL",
          "NY",
          "CA",
          "NY",
          "WV",
          "NC",
          "KS",
          "LA",
          "NJ",
          "FL",
          "PA",
          "CA",
          "GA",
          "MN",
          "SD",
          "SD",
          "PA",
          "FL",
          "CA",
          "TN",
          "NE",
          "MN",
          "NM",
          "IN",
          "NV",
          "NV",
          "MO",
          "TX",
          "VA",
          "NC",
          "WV",
          "RI",
          "LA",
          "IL",
          "NY",
          "PA",
          "MN",
          "TX",
          "CA",
          "VA",
          "IL",
          "OH",
          "VA",
          "VA",
          "VA",
          "CA",
          "VA",
          "UT",
          "IN",
          "NJ",
          "AL",
          "TN",
          "PA",
          "NJ",
          "NJ",
          "NJ",
          "NJ",
          "NY",
          "KY",
          "CT",
          "RI",
          "TX",
          "NY",
          "CA",
          "NM",
          "SC",
          "CO",
          "IL",
          "PA",
          "TX",
          "PA",
          "MS",
          "IL",
          "IL",
          "VA",
          "AL",
          "AL",
          "NC",
          "VT",
          "LA",
          "FL",
          "PA",
          "WI",
          "FL",
          "FL",
          "OR",
          "OR",
          "WY",
          "CA",
          "ID",
          "OR",
          "ID",
          "MA",
          "IL",
          "NJ",
          "NJ",
          "TN",
          "OK",
          "OK",
          "OK",
          "OK",
          "CA",
          "MO",
          "CA",
          "IL",
          "KS",
          "KY",
          "CO",
          "KY",
          "KY",
          "MI",
          "KY",
          "IN",
          "IN",
          "GA",
          "KS",
          "MO",
          "KS",
          "MO",
          "NV",
          "CT",
          "NJ",
          "NJ",
          "NV",
          "NV",
          "TN",
          "TN",
          "TN",
          "TN",
          "TN",
          "PA",
          "CA",
          "OR",
          "NJ",
          "OH",
          "KS",
          "KS",
          "CA",
          "AR",
          "UT",
          "OR",
          "NY",
          "WA",
          "NY",
          "NC",
          "TX",
          "CA",
          "AZ",
          "CA",
          "CA",
          "CA",
          "CA",
          "NM",
          "CA",
          "CO",
          "CA",
          "CA",
          "SD",
          "MN",
          "ND",
          "ND",
          "MN",
          "SD",
          "CA",
          "CA",
          "AZ",
          "CA",
          "FL",
          "CA",
          "OR",
          "IL",
          "FL",
          "NY",
          "IA",
          "WI",
          "LA",
          "TX",
          "IN",
          "PA",
          "NC",
          "AZ",
          "AZ",
          "CA",
          "CA",
          "CA",
          "CA",
          "SC",
          "NC",
          "VA",
          "VA",
          "VA",
          "VA",
          "VA",
          "VA",
          "VA",
          "VA",
          "VA",
          "VA",
          "VA",
          "CA",
          "OK",
          "CA",
          "TX",
          "TX",
          "TX",
          "TX",
          "TX",
          "TX",
          "TX",
          "FL",
          "UT",
          "TX",
          "GA",
          "FL",
          "FL",
          "TX",
          "MS",
          "CT",
          "PA",
          "CA",
          "CA",
          "CA",
          "CA",
          "KS",
          "AL",
          "WY",
          "CA",
          "AL",
          "NJ",
          "DC",
          "CA",
          "CA",
          "CA",
          "MA",
          "AR",
          "IL",
          "CA",
          "MI",
          "MS",
          "SD",
          "NY",
          "WA",
          "IA",
          "OR",
          "CO",
          "LA",
          "VA",
          "OH",
          "CA",
          "CA",
          "AL",
          "FL",
          "KS",
          "MS",
          "CA",
          "RI",
          "FL",
          "GA",
          "FL",
          "FL",
          "NY",
          "OH",
          "IL",
          "MA",
          "MS",
          "TX",
          "TX",
          "TX",
          "VA",
          "MA",
          "AL",
          "GA",
          "GA",
          "KY",
          "OH",
          "GA",
          "NC",
          "MO",
          "MO",
          "CA",
          "NV",
          "IL",
          "ME",
          "NH",
          "NJ",
          "OH",
          "GA",
          "LA",
          "TN",
          "TN",
          "TN",
          "VA",
          "VA",
          "OH",
          "TX",
          "CA",
          "KS",
          "MS",
          "OK",
          "OK",
          "VT",
          "VA",
          "AR",
          "AR",
          "MI",
          "SC",
          "LA",
          "MI",
          "MI",
          "MI",
          "MI",
          "MI",
          "IA",
          "VA",
          "NV",
          "KY",
          "OH",
          "AL",
          "LA",
          "MO",
          "IL",
          "OK",
          "OK",
          "WI",
          "WI",
          "WI",
          "MO",
          "IL",
          "MO",
          "MO",
          "MO",
          "MO",
          "MO",
          "MO",
          "WI",
          "MO",
          "IL",
          "NY",
          "WA",
          "IA",
          "FL",
          "IL",
          "NY",
          "IL",
          "LA",
          "CA",
          "AR",
          "KS",
          "IN",
          "NY",
          "NY",
          "OR",
          "LA",
          "OR",
          "LA",
          "PA",
          "KY",
          "WA",
          "MN",
          "FL",
          "TX",
          "TX",
          "TX",
          "MS",
          "CA",
          "KY",
          "KY",
          "KY",
          "WI",
          "NY",
          "OH",
          "MA",
          "WA",
          "DE",
          "GA",
          "TN",
          "WV",
          "CT",
          "NY",
          "LA",
          "NJ",
          "MN",
          "SC",
          "MT",
          "NY",
          "OK",
          "OH",
          "OK",
          "OK",
          "NY",
          "NY",
          "IL",
          "WY",
          "CA",
          "CA",
          "CA",
          "IN",
          "ME",
          "NH",
          "WA",
          "IL",
          "MO",
          "PA",
          "TX",
          "WA",
          "MI",
          "MI",
          "MI",
          "ID",
          "AZ",
          "MN",
          "WI",
          "GA",
          "NJ",
          "NY",
          "NY",
          "NY",
          "CA",
          "WI",
          "FL",
          "IL",
          "CA",
          "MO",
          "CA",
          "FL",
          "NY",
          "MO",
          "OH",
          "PA",
          "PA",
          "TX",
          "PA",
          "PA",
          "AZ",
          "PA",
          "ID",
          "ID",
          "TX",
          "IA",
          "MN",
          "MO",
          "MO",
          "ID",
          "PA",
          "IA",
          "IL",
          "UT",
          "TX",
          "CO",
          "CA",
          "IL",
          "PA",
          "IN",
          "MI",
          "NJ",
          "NY",
          "GA",
          "WI",
          "CA",
          "FL",
          "WV",
          "MI",
          "ME",
          "OK",
          "IL",
          "CO",
          "MO",
          "AR",
          "WI",
          "WI",
          "NY",
          "MT",
          "FL",
          "NV",
          "CA",
          "LA",
          "TN",
          "OH",
          "IN",
          "MT",
          "IN",
          "MA",
          "WI",
          "AR",
          "AR",
          "AL",
          "AL",
          "FL",
          "FL",
          "AL",
          "FL",
          "CO",
          "IN",
          "AZ",
          "NJ",
          "IN",
          "AZ",
          "MT",
          "IN",
          "IN",
          "IN",
          "AL",
          "CT",
          "VA",
          "CT",
          "CA",
          "CA",
          "CA",
          "NC",
          "TX",
          "TN",
          "NY",
          "GA",
          "TX",
          "CO",
          "LA",
          "FL",
          "OK",
          "TN",
          "VA",
          "WV",
          "KS",
          "MI",
          "HI",
          "AL",
          "NY",
          "MA",
          "MI",
          "PA",
          "TX",
          "OH",
          "NV",
          "AZ",
          "OK",
          "KS",
          "KS",
          "TN",
          "PA",
          "NY",
          "NV",
          "NY",
          "NY",
          "MI",
          "OH",
          "OK",
          "PA",
          "PA",
          "LA",
          "KS",
          "CA",
          "CA",
          "CA",
          "CA",
          "CA",
          "CA",
          "CA",
          "CA",
          "CA",
          "CA",
          "CA",
          "CA",
          "IL",
          "IL",
          "WA",
          "WA",
          "WA",
          "WA",
          "TN",
          "TN",
          "KY",
          "WA",
          "TN",
          "FL",
          "FL",
          "GA",
          "GA",
          "MI",
          "GA",
          "KY",
          "LA",
          "CA",
          "PA",
          "TN",
          "TN",
          "TN",
          "TN",
          "TN",
          "TN",
          "IN",
          "LA",
          "MO",
          "TX",
          "TX",
          "TX",
          "TX",
          "TX",
          "TX",
          "TX",
          "TX",
          "TX",
          "TX",
          "TX",
          "TX",
          "TX",
          "TX",
          "TX",
          "TX",
          "TX",
          "TX",
          "TX",
          "TX",
          "TX",
          "TX",
          "IL",
          "AZ",
          "AL",
          "MT",
          "TX",
          "TX",
          "CT",
          "TX",
          "TX",
          "TX",
          "TX",
          "NC",
          "KY",
          "KY",
          "TX",
          "RI",
          "WI",
          "NE",
          "NE",
          "IN",
          "UT",
          "HI",
          "LA",
          "NJ",
          "IL",
          "TX",
          "WI",
          "WI",
          "LA",
          "AL",
          "PA",
          "WV",
          "IL",
          "MI",
          "KY",
          "SC",
          "SC",
          "GA",
          "UT",
          "MS",
          "TX",
          "KY",
          "WA",
          "TX",
          "CA",
          "IL",
          "LA",
          "MS",
          "ID",
          "CA",
          "SC",
          "OH",
          "NJ",
          "IA",
          "IL",
          "ND",
          "OH",
          "IA",
          "IA",
          "WA",
          "TN",
          "TN",
          "TN",
          "TN",
          "TN",
          "TN",
          "TN",
          "SC",
          "AL",
          "MO",
          "MO",
          "OH",
          "OR",
          "AZ",
          "AZ",
          "MA",
          "KY",
          "LA",
          "OK",
          "SC",
          "GA",
          "CA",
          "FL",
          "VA",
          "KY",
          "GA",
          "TX",
          "PA",
          "TX",
          "TX",
          "AR",
          "CA",
          "CO",
          "CO",
          "CO",
          "CA",
          "FL",
          "OH",
          "OH",
          "UT",
          "MA",
          "MA",
          "NC",
          "NC",
          "TN",
          "GA",
          "OH",
          "IN",
          "SC",
          "PA",
          "NY",
          "WV",
          "WI",
          "DC",
          "NY",
          "TX",
          "NY",
          "IN",
          "TN",
          "IA",
          "IA",
          "VT",
          "KS",
          "TX",
          "GA",
          "LA",
          "FL",
          "NY",
          "OH",
          "OH",
          "OH",
          "OH",
          "OH",
          "GA",
          "NV",
          "TX",
          "LA",
          "TX",
          "NJ",
          "MN",
          "AL",
          "CA",
          "CA",
          "OH",
          "CO",
          "IL",
          "IA",
          "KS",
          "KS",
          "KY",
          "KY",
          "MI",
          "MN",
          "MS",
          "MS",
          "MO",
          "NM",
          "NC",
          "AL",
          "TX",
          "TN",
          "OH",
          "UT",
          "VA",
          "WA",
          "WI",
          "NM",
          "MI",
          "PA",
          "PA",
          "NY",
          "PA",
          "PA",
          "PA",
          "PA",
          "PA",
          "PA",
          "PA",
          "PA",
          "PA",
          "PA",
          "PA",
          "OH",
          "GA",
          "CA",
          "TX",
          "TX",
          "TX",
          "TX",
          "TX",
          "UT",
          "CO",
          "TX",
          "TX",
          "PA",
          "NJ",
          "NV",
          "WA",
          "CA",
          "TX",
          "CO",
          "AZ",
          "OH",
          "TN",
          "NY",
          "AL",
          "FL",
          "CA",
          "AZ",
          "TX",
          "KS",
          "KS",
          "KS",
          "CA",
          "NC",
          "NC",
          "NC",
          "NC",
          "NC",
          "FL",
          "FL",
          "VA",
          "WA",
          "NJ",
          "NJ",
          "IL",
          "TN",
          "TX",
          "AR",
          "OK",
          "HI",
          "NC",
          "NC",
          "AL",
          "PA",
          "VA",
          "GA",
          "PA",
          "CA",
          "PA",
          "AR",
          "NC",
          "CT",
          "WI",
          "CA",
          "WI",
          "MS",
          "OH",
          "TN",
          "GA",
          "NC",
          "PA",
          "PA",
          "MS",
          "WV",
          "WV",
          "FL",
          "TN",
          "TN",
          "PA",
          "PA",
          "GA",
          "GA",
          "GA",
          "GA",
          "GA",
          "GA",
          "GA",
          "GA",
          "NH",
          "KS",
          "WI",
          "CA",
          "FL",
          "LA",
          "LA",
          "OH",
          "CA",
          "FL",
          "CA",
          "LA",
          "FL",
          "PA",
          "IL",
          "ID",
          "WV",
          "FL",
          "NY",
          "RI",
          "AZ",
          "MO",
          "KS",
          "OH",
          "IL",
          "FL",
          "WV",
          "WI",
          "WI",
          "WI",
          "WV",
          "AR",
          "CA",
          "NY",
          "AR",
          "AZ",
          "KY",
          "MS",
          "CA",
          "TX",
          "HI",
          "NC",
          "PA",
          "OR",
          "CT",
          "TN",
          "WV",
          "PA",
          "LA",
          "PA",
          "NC",
          "NC",
          "OH",
          "TX",
          "MA",
          "VA",
          "CT",
          "LA",
          "MN",
          "MS",
          "FL",
          "AL",
          "TX",
          "IN",
          "LA",
          "TX",
          "RI",
          "OH",
          "NY",
          "TX",
          "CA",
          "OH",
          "OH",
          "FL",
          "NY",
          "NY",
          "WY",
          "VA",
          "WA",
          "WA",
          "CT",
          "MS",
          "AZ",
          "ME",
          "PA",
          "AK",
          "AZ",
          "CA",
          "NM"
         ],
         "name": "",
         "type": "choropleth",
         "z": [
          2044.8636363636363,
          1912.4545454545455,
          2122.181818181818,
          1952,
          1952,
          1991.3181818181818,
          1991.3181818181818,
          1991.3181818181818,
          2044.8636363636363,
          1952,
          2122.181818181818,
          1890.090909090909,
          1994.6363636363637,
          1948.409090909091,
          1952,
          1998.7272727272727,
          1998.7272727272727,
          1998.7272727272727,
          1998.7272727272727,
          1906.9545454545455,
          1906.9545454545455,
          1998.7272727272727,
          1998.7272727272727,
          1998.7272727272727,
          1998.7272727272727,
          1998.7272727272727,
          1998.7272727272727,
          1998.7272727272727,
          1998.7272727272727,
          1980,
          1980,
          2027.6363636363637,
          2027.6363636363637,
          1914.7727272727273,
          2027.6363636363637,
          2027.6363636363637,
          2027.6363636363637,
          1851.0454545454545,
          2027.6363636363637,
          2027.6363636363637,
          2027.6363636363637,
          2027.6363636363637,
          2027.6363636363637,
          1980,
          1980,
          1980,
          1980,
          1980,
          1980,
          1980,
          1980,
          1980,
          1980,
          1980,
          1980,
          2027.6363636363637,
          1927.2272727272727,
          1994.6363636363637,
          1870.409090909091,
          2027.6363636363637,
          1896.4545454545455,
          1896.4545454545455,
          1948.409090909091,
          1948.409090909091,
          1952,
          1980,
          2027.6363636363637,
          1948.409090909091,
          1952,
          1952,
          1834.409090909091,
          2044.8636363636363,
          1994.6363636363637,
          1902.0454545454545,
          1902.0454545454545,
          1968.1818181818182,
          1968.1818181818182,
          1968.1818181818182,
          1968.1818181818182,
          1968.1818181818182,
          1912.4545454545455,
          1912.4545454545455,
          2027.6363636363637,
          2027.6363636363637,
          2085.409090909091,
          1851.8181818181818,
          1980,
          1949.7727272727273,
          2027.6363636363637,
          2085.409090909091,
          1980,
          2027.6363636363637,
          1888.9545454545455,
          1980,
          1902.0454545454545,
          2034.7272727272727,
          1927.2272727272727,
          1890.090909090909,
          2122.181818181818,
          2027.6363636363637,
          1906.9545454545455,
          1952,
          2122.181818181818,
          1991.3181818181818,
          1991.3181818181818,
          1942.8181818181818,
          1942.8181818181818,
          1942.8181818181818,
          1948.409090909091,
          1991.3181818181818,
          2027.6363636363637,
          1851.8181818181818,
          1851.0454545454545,
          1851.0454545454545,
          1851.0454545454545,
          1915.1818181818182,
          1876.409090909091,
          1915.1818181818182,
          1915.1818181818182,
          1915.1818181818182,
          1876.409090909091,
          1915.1818181818182,
          2085.409090909091,
          1994.6363636363637,
          1876.409090909091,
          1876.409090909091,
          1888.9545454545455,
          2060.5,
          1888.9545454545455,
          1870.409090909091,
          1870.409090909091,
          1870.409090909091,
          1870.409090909091,
          1994.6363636363637,
          1906.9545454545455,
          1948.409090909091,
          1879.7727272727273,
          1994.6363636363637,
          1948.409090909091,
          1876.409090909091,
          1876.409090909091,
          1876.409090909091,
          1876.409090909091,
          1876.409090909091,
          1876.409090909091,
          1876.409090909091,
          1876.409090909091,
          1876.409090909091,
          1876.409090909091,
          2034.7272727272727,
          1876.409090909091,
          2044.8636363636363,
          1998.7272727272727,
          1949.7727272727273,
          1949.7727272727273,
          1949.7727272727273,
          1949.7727272727273,
          1949.7727272727273,
          1949.7727272727273,
          1994.6363636363637,
          2044.8636363636363,
          1968.1818181818182,
          2027.6363636363637,
          2027.6363636363637,
          1991.3181818181818,
          1991.3181818181818,
          1991.3181818181818,
          1991.3181818181818,
          1991.3181818181818,
          1991.3181818181818,
          1991.3181818181818,
          1991.3181818181818,
          2034.7272727272727,
          1991.3181818181818,
          1991.3181818181818,
          1991.3181818181818,
          1991.3181818181818,
          1991.3181818181818,
          1991.3181818181818,
          2122.181818181818,
          2122.181818181818,
          1916.5,
          1980.3181818181818,
          1916.5,
          1916.5,
          1916.5,
          1916.5,
          1942.8181818181818,
          1942.8181818181818,
          1942.8181818181818,
          1942.8181818181818,
          1942.8181818181818,
          1916.5,
          1916.5,
          1998.7272727272727,
          1998.7272727272727,
          2122.181818181818,
          1998.7272727272727,
          1998.7272727272727,
          1888.9545454545455,
          1998.7272727272727,
          1888.9545454545455,
          1995.8636363636363,
          1995.8636363636363,
          1902.0454545454545,
          1902.0454545454545,
          1902.0454545454545,
          1902.0454545454545,
          1995.8636363636363,
          1995.8636363636363,
          1902.0454545454545,
          2122.181818181818,
          1938.1818181818182,
          1938.1818181818182,
          1938.1818181818182,
          1906.9545454545455,
          2027.6363636363637,
          1896.4545454545455,
          2027.6363636363637,
          1998.7272727272727,
          1948.409090909091,
          1938.1818181818182,
          2044.8636363636363,
          1942.8181818181818,
          1851.0454545454545,
          1876.409090909091,
          1998.7272727272727,
          1994.6363636363637,
          1998.7272727272727,
          1998.7272727272727,
          1998.7272727272727,
          1998.7272727272727,
          2064.409090909091,
          2064.409090909091,
          2122.181818181818,
          2122.181818181818,
          2122.181818181818,
          2122.181818181818,
          2122.181818181818,
          2122.181818181818,
          2122.181818181818,
          2122.181818181818,
          2122.181818181818,
          2122.181818181818,
          2122.181818181818,
          2122.181818181818,
          2122.181818181818,
          2122.181818181818,
          2122.181818181818,
          2122.181818181818,
          2122.181818181818,
          2122.181818181818,
          2122.181818181818,
          2122.181818181818,
          2122.181818181818,
          2122.181818181818,
          2122.181818181818,
          2122.181818181818,
          2122.181818181818,
          2122.181818181818,
          2122.181818181818,
          2122.181818181818,
          2122.181818181818,
          2122.181818181818,
          2122.181818181818,
          2060.5,
          2060.5,
          2122.181818181818,
          1890.090909090909,
          1890.090909090909,
          1890.090909090909,
          1890.090909090909,
          1902.0454545454545,
          2085.409090909091,
          1927.2272727272727,
          1915.1818181818182,
          1915.1818181818182,
          1915.1818181818182,
          1915.1818181818182,
          1915.1818181818182,
          1915.1818181818182,
          1915.1818181818182,
          1915.1818181818182,
          2044.8636363636363,
          1876.409090909091,
          1873.409090909091,
          2064.409090909091,
          1994.6363636363637,
          1948.409090909091,
          2006.4545454545455,
          1876.409090909091,
          2122.181818181818,
          1876.409090909091,
          1938.1818181818182,
          1867.409090909091,
          1994.6363636363637,
          1873.409090909091,
          1890.090909090909,
          1948.409090909091,
          1952,
          1890.090909090909,
          1890.090909090909,
          1890.090909090909,
          1890.090909090909,
          1998.7272727272727,
          1994.6363636363637,
          1870.409090909091,
          2027.6363636363637,
          1888.9545454545455,
          1995.8636363636363,
          1867.409090909091,
          1949.7727272727273,
          1938.1818181818182,
          1968.1818181818182,
          1998.7272727272727,
          1994.6363636363637,
          1980,
          1995.8636363636363,
          1873.409090909091,
          1980.3181818181818,
          1951.4545454545455,
          1998.7272727272727,
          1902.0454545454545,
          1948.409090909091,
          1879.7727272727273,
          1879.7727272727273,
          1879.7727272727273,
          1879.7727272727273,
          1879.7727272727273,
          1879.7727272727273,
          1879.7727272727273,
          1927.2272727272727,
          1938.1818181818182,
          1915.1818181818182,
          1890.090909090909,
          1938.1818181818182,
          2034.7272727272727,
          1916.5,
          1867.409090909091,
          1998.7272727272727,
          1952,
          1881.3181818181818,
          1971.8181818181818,
          1890.090909090909,
          2085.409090909091,
          1971.8181818181818,
          1968.1818181818182,
          1834.409090909091,
          1915.1818181818182,
          1915.1818181818182,
          1915.1818181818182,
          1948.409090909091,
          1948.409090909091,
          1949.7727272727273,
          1948.409090909091,
          1948.409090909091,
          1888.9545454545455,
          1998.7272727272727,
          1998.7272727272727,
          1998.7272727272727,
          1998.7272727272727,
          2122.181818181818,
          2122.181818181818,
          2006.4545454545455,
          1888.9545454545455,
          1952,
          1879.7727272727273,
          1912.4545454545455,
          1888.9545454545455,
          1906.9545454545455,
          1952,
          2044.8636363636363,
          1873.409090909091,
          2085.409090909091,
          1870.409090909091,
          2044.8636363636363,
          2027.6363636363637,
          2027.6363636363637,
          2027.6363636363637,
          2027.6363636363637,
          1888.9545454545455,
          1890.090909090909,
          1912.4545454545455,
          1873.409090909091,
          1938.1818181818182,
          1787.5454545454545,
          1906.9545454545455,
          1927.2272727272727,
          1952,
          1948.409090909091,
          1991.3181818181818,
          1998.7272727272727,
          1890.090909090909,
          1998.7272727272727,
          1870.409090909091,
          1870.409090909091,
          2060.5,
          2060.5,
          2060.5,
          1896.4545454545455,
          1938.1818181818182,
          1998.7272727272727,
          2060.5,
          1879.7727272727273,
          1879.7727272727273,
          1879.7727272727273,
          1879.7727272727273,
          1952,
          1851.8181818181818,
          1890.090909090909,
          1870.409090909091,
          1927.2272727272727,
          1870.409090909091,
          1870.409090909091,
          1927.2272727272727,
          1927.2272727272727,
          1870.409090909091,
          1870.409090909091,
          1870.409090909091,
          1870.409090909091,
          1870.409090909091,
          1912.4545454545455,
          2091.090909090909,
          1870.409090909091,
          1906.9545454545455,
          1878.5454545454545,
          2027.6363636363637,
          1896.4545454545455,
          2034.7272727272727,
          2085.409090909091,
          1870.409090909091,
          1881.3181818181818,
          1948.409090909091,
          1948.409090909091,
          2085.409090909091,
          2122.181818181818,
          2027.6363636363637,
          2027.6363636363637,
          1980,
          2091.090909090909,
          1938.1818181818182,
          2027.6363636363637,
          1879.7727272727273,
          1879.7727272727273,
          1879.7727272727273,
          1870.409090909091,
          1980,
          1998.7272727272727,
          2044.8636363636363,
          1878.5454545454545,
          1896.4545454545455,
          2122.181818181818,
          1881.3181818181818,
          1896.4545454545455,
          2060.5,
          2034.7272727272727,
          2034.7272727272727,
          2034.7272727272727,
          2034.7272727272727,
          2034.7272727272727,
          1980,
          1942.8181818181818,
          1952,
          1948.409090909091,
          1952,
          1991.3181818181818,
          2027.6363636363637,
          1873.409090909091,
          1873.409090909091,
          1971.8181818181818,
          1948.409090909091,
          1870.409090909091,
          1888.9545454545455,
          1927.2272727272727,
          1968.1818181818182,
          1879.7727272727273,
          1881.3181818181818,
          1952,
          1952,
          1787.5454545454545,
          2122.181818181818,
          2006.4545454545455,
          2006.4545454545455,
          2006.4545454545455,
          2006.4545454545455,
          1834.409090909091,
          2006.4545454545455,
          2006.4545454545455,
          2006.4545454545455,
          2006.4545454545455,
          1906.9545454545455,
          1949.7727272727273,
          2122.181818181818,
          2122.181818181818,
          2122.181818181818,
          2122.181818181818,
          2122.181818181818,
          2122.181818181818,
          1942.8181818181818,
          1968.1818181818182,
          2122.181818181818,
          2060.5,
          2027.6363636363637,
          1991.3181818181818,
          2027.6363636363637,
          1915.1818181818182,
          1968.1818181818182,
          1968.1818181818182,
          1994.6363636363637,
          1938.1818181818182,
          2064.409090909091,
          2044.8636363636363,
          2122.181818181818,
          2122.181818181818,
          2122.181818181818,
          2044.8636363636363,
          2044.8636363636363,
          2122.181818181818,
          2122.181818181818,
          2122.181818181818,
          2122.181818181818,
          2122.181818181818,
          2122.181818181818,
          2044.8636363636363,
          2122.181818181818,
          1851.8181818181818,
          1948.409090909091,
          1888.9545454545455,
          2044.8636363636363,
          2122.181818181818,
          1938.1818181818182,
          1998.7272727272727,
          1879.7727272727273,
          1995.8636363636363,
          2044.8636363636363,
          2060.5,
          1968.1818181818182,
          1952,
          1980.3181818181818,
          1916.5,
          1948.409090909091,
          1888.9545454545455,
          1902.0454545454545,
          1952,
          1906.9545454545455,
          1994.6363636363637,
          1994.6363636363637,
          1998.7272727272727,
          1948.409090909091,
          1879.7727272727273,
          1994.6363636363637,
          2027.6363636363637,
          2027.6363636363637,
          1927.2272727272727,
          1906.9545454545455,
          1951.4545454545455,
          1906.9545454545455,
          1906.9545454545455,
          2027.6363636363637,
          2027.6363636363637,
          2122.181818181818,
          1927.2272727272727,
          2034.7272727272727,
          1906.9545454545455,
          1948.409090909091,
          1876.409090909091,
          2006.4545454545455,
          2122.181818181818,
          1870.409090909091,
          1980.3181818181818,
          2027.6363636363637,
          1968.1818181818182,
          1980,
          2034.7272727272727,
          1980.3181818181818,
          1980.3181818181818,
          1888.9545454545455,
          1968.1818181818182,
          1980.3181818181818,
          1980.3181818181818,
          2027.6363636363637,
          2027.6363636363637,
          2027.6363636363637,
          1980.3181818181818,
          1994.6363636363637,
          1980.3181818181818,
          1867.409090909091,
          2060.5,
          1879.7727272727273,
          1876.409090909091,
          2027.6363636363637,
          2027.6363636363637,
          1881.3181818181818,
          1952,
          1952,
          1896.4545454545455,
          2122.181818181818,
          2027.6363636363637,
          1927.2272727272727,
          1942.8181818181818,
          1906.9545454545455,
          1995.8636363636363,
          1890.090909090909,
          1938.1818181818182,
          2060.5,
          1952,
          1888.9545454545455,
          1980,
          1998.7272727272727,
          2122.181818181818,
          1948.409090909091,
          2027.6363636363637,
          2122.181818181818,
          1948.409090909091,
          1994.6363636363637,
          2122.181818181818,
          2122.181818181818,
          1834.409090909091,
          1915.1818181818182,
          2122.181818181818,
          1938.1818181818182,
          1938.1818181818182,
          1888.9545454545455,
          2122.181818181818,
          1888.9545454545455,
          1906.9545454545455,
          1916.5,
          1915.1818181818182,
          1902.0454545454545,
          1980,
          1948.409090909091,
          1851.8181818181818,
          1952,
          1994.6363636363637,
          2122.181818181818,
          1888.9545454545455,
          1995.8636363636363,
          2122.181818181818,
          2044.8636363636363,
          1888.9545454545455,
          1888.9545454545455,
          1888.9545454545455,
          2122.181818181818,
          2122.181818181818,
          2027.6363636363637,
          1971.8181818181818,
          1870.409090909091,
          1980.3181818181818,
          2085.409090909091,
          1873.409090909091,
          1870.409090909091,
          1971.8181818181818,
          2122.181818181818,
          1980.3181818181818,
          1896.4545454545455,
          1980.3181818181818,
          2060.5,
          1995.8636363636363,
          1980,
          1888.9545454545455,
          1995.8636363636363,
          1980.3181818181818,
          1888.9545454545455,
          2027.6363636363637,
          1952,
          2122.181818181818,
          1980,
          1998.7272727272727,
          2034.7272727272727,
          1902.0454545454545,
          2034.7272727272727,
          2027.6363636363637,
          2091.090909090909,
          2027.6363636363637,
          1998.7272727272727,
          2044.8636363636363,
          1915.1818181818182,
          1915.1818181818182,
          1991.3181818181818,
          2091.090909090909,
          1912.4545454545455,
          1876.409090909091,
          2085.409090909091,
          1998.7272727272727,
          1906.9545454545455,
          1994.6363636363637,
          2122.181818181818,
          1951.4545454545455,
          2122.181818181818,
          2027.6363636363637,
          1998.7272727272727,
          2122.181818181818,
          2027.6363636363637,
          1998.7272727272727,
          1906.9545454545455,
          2027.6363636363637,
          1906.9545454545455,
          1906.9545454545455,
          1998.7272727272727,
          1952,
          1942.8181818181818,
          1994.6363636363637,
          1870.409090909091,
          1870.409090909091,
          1870.409090909091,
          1968.1818181818182,
          1949.7727272727273,
          1980.3181818181818,
          1995.8636363636363,
          1952,
          1888.9545454545455,
          2044.8636363636363,
          1927.2272727272727,
          1906.9545454545455,
          2044.8636363636363,
          1994.6363636363637,
          2027.6363636363637,
          1994.6363636363637,
          2060.5,
          2122.181818181818,
          1932.590909090909,
          1948.409090909091,
          1878.5454545454545,
          1851.8181818181818,
          1948.409090909091,
          1952,
          2122.181818181818,
          1952,
          1906.9545454545455,
          1998.7272727272727,
          2027.6363636363637,
          1980,
          1915.1818181818182,
          1952,
          2027.6363636363637,
          2027.6363636363637,
          2122.181818181818,
          2027.6363636363637,
          1906.9545454545455,
          1980.3181818181818,
          1968.1818181818182,
          1881.3181818181818,
          1948.409090909091,
          1952,
          1948.409090909091,
          1980,
          1888.9545454545455,
          2027.6363636363637,
          2027.6363636363637,
          2027.6363636363637,
          1906.9545454545455,
          1890.090909090909,
          1915.1818181818182,
          1906.9545454545455,
          1906.9545454545455,
          1906.9545454545455,
          1906.9545454545455,
          1906.9545454545455,
          2027.6363636363637,
          1998.7272727272727,
          2060.5,
          2027.6363636363637,
          2122.181818181818,
          1916.5,
          1948.409090909091,
          1995.8636363636363,
          1980.3181818181818,
          1949.7727272727273,
          1912.4545454545455,
          1912.4545454545455,
          1912.4545454545455,
          1912.4545454545455,
          1912.4545454545455,
          1994.6363636363637,
          1952,
          1906.9545454545455,
          1787.5454545454545,
          1888.9545454545455,
          1896.4545454545455,
          1896.4545454545455,
          1952,
          1952,
          1952,
          1881.3181818181818,
          1948.409090909091,
          1980.3181818181818,
          1896.4545454545455,
          1994.6363636363637,
          1873.409090909091,
          1994.6363636363637,
          1912.4545454545455,
          1912.4545454545455,
          1906.9545454545455,
          1912.4545454545455,
          1912.4545454545455,
          2122.181818181818,
          2006.4545454545455,
          2122.181818181818,
          1890.090909090909,
          1906.9545454545455,
          1890.090909090909,
          1879.7727272727273,
          1998.7272727272727,
          1948.409090909091,
          1888.9545454545455,
          1980.3181818181818,
          1980,
          1948.409090909091,
          1834.409090909091,
          1994.6363636363637,
          2122.181818181818,
          1870.409090909091,
          1994.6363636363637,
          1938.1818181818182,
          1942.8181818181818,
          1916.5,
          1998.7272727272727,
          1991.3181818181818,
          1916.5,
          1998.7272727272727,
          1998.7272727272727,
          1998.7272727272727,
          1888.9545454545455,
          1906.9545454545455,
          1948.409090909091,
          2027.6363636363637,
          1952,
          1915.1818181818182,
          1942.8181818181818,
          1902.0454545454545,
          1991.3181818181818,
          2122.181818181818,
          1994.6363636363637,
          1995.8636363636363,
          1834.409090909091,
          1876.409090909091,
          1995.8636363636363,
          1998.7272727272727,
          2122.181818181818,
          2122.181818181818,
          2027.6363636363637,
          1980.3181818181818,
          1980.3181818181818,
          1980.3181818181818,
          1980.3181818181818,
          1980.3181818181818,
          1980.3181818181818,
          1980,
          1980.3181818181818,
          1980.3181818181818,
          1980.3181818181818,
          1916.5,
          2044.8636363636363,
          1878.5454545454545,
          1995.8636363636363,
          1938.1818181818182,
          2122.181818181818,
          2027.6363636363637,
          2027.6363636363637,
          1881.3181818181818,
          1876.409090909091,
          1870.409090909091,
          1888.9545454545455,
          1980,
          1851.8181818181818,
          1915.1818181818182,
          2027.6363636363637,
          1902.0454545454545,
          2027.6363636363637,
          1980,
          1951.4545454545455,
          1952,
          1952,
          1952,
          1952,
          1952,
          1980,
          1994.6363636363637,
          1834.409090909091,
          1915.1818181818182,
          2027.6363636363637,
          1902.0454545454545,
          2064.409090909091,
          1916.5,
          1851.8181818181818,
          1952,
          1927.2272727272727,
          1927.2272727272727,
          1927.2272727272727,
          1927.2272727272727,
          1927.2272727272727,
          1927.2272727272727,
          1927.2272727272727,
          1851.8181818181818,
          2122.181818181818,
          1994.6363636363637,
          2027.6363636363637,
          2027.6363636363637,
          2027.6363636363637,
          1948.409090909091,
          2044.8636363636363,
          1938.1818181818182,
          2027.6363636363637,
          2027.6363636363637,
          1980.3181818181818,
          1994.6363636363637,
          1952,
          1948.409090909091,
          1948.409090909091,
          1998.7272727272727,
          1890.090909090909,
          2034.7272727272727,
          1851.0454545454545,
          2122.181818181818,
          1980.3181818181818,
          1980,
          2122.181818181818,
          1906.9545454545455,
          1906.9545454545455,
          1994.6363636363637,
          1968.1818181818182,
          1980,
          2122.181818181818,
          1912.4545454545455,
          1994.6363636363637,
          1927.2272727272727,
          1952,
          1994.6363636363637,
          1888.9545454545455,
          1994.6363636363637,
          1870.409090909091,
          1896.4545454545455,
          1867.409090909091,
          2006.4545454545455,
          1968.1818181818182,
          1942.8181818181818,
          1834.409090909091,
          2027.6363636363637,
          1873.409090909091,
          1888.9545454545455,
          1994.6363636363637,
          1916.5,
          1980,
          1971.8181818181818,
          1902.0454545454545,
          1971.8181818181818,
          1834.409090909091,
          2027.6363636363637,
          1952,
          1888.9545454545455,
          1851.8181818181818,
          2122.181818181818,
          1998.7272727272727,
          1998.7272727272727,
          1998.7272727272727,
          1876.409090909091,
          1952,
          1906.9545454545455,
          1906.9545454545455,
          2060.5,
          2060.5,
          2060.5,
          2060.5,
          2060.5,
          1952,
          1888.9545454545455,
          1998.7272727272727,
          1870.409090909091,
          1906.9545454545455,
          1927.2272727272727,
          1980.3181818181818,
          1938.1818181818182,
          1952,
          1896.4545454545455,
          1995.8636363636363,
          1916.5,
          1916.5,
          1948.409090909091,
          2122.181818181818,
          1915.1818181818182,
          1890.090909090909,
          2122.181818181818,
          1870.409090909091,
          1980,
          1896.4545454545455,
          1916.5,
          1971.8181818181818,
          1991.3181818181818,
          1995.8636363636363,
          1951.4545454545455,
          1870.409090909091,
          1916.5,
          2027.6363636363637,
          2122.181818181818,
          2122.181818181818,
          2122.181818181818,
          2122.181818181818,
          2122.181818181818,
          2122.181818181818,
          2122.181818181818,
          2034.7272727272727,
          1998.7272727272727,
          1948.409090909091,
          1948.409090909091,
          1890.090909090909,
          1912.4545454545455,
          1912.4545454545455,
          1998.7272727272727,
          1915.1818181818182,
          2044.8636363636363,
          1998.7272727272727,
          1952,
          1980,
          1888.9545454545455,
          1942.8181818181818,
          2027.6363636363637,
          2122.181818181818,
          1995.8636363636363,
          2091.090909090909,
          2122.181818181818,
          1980.3181818181818,
          1912.4545454545455,
          1879.7727272727273,
          1995.8636363636363,
          1980.3181818181818,
          1915.1818181818182,
          1915.1818181818182,
          1915.1818181818182,
          1915.1818181818182,
          1915.1818181818182,
          2027.6363636363637,
          2122.181818181818,
          1952,
          1952,
          1890.090909090909,
          2027.6363636363637,
          1998.7272727272727,
          1870.409090909091,
          1902.0454545454545,
          2027.6363636363637,
          1948.409090909091,
          1952,
          1888.9545454545455,
          1998.7272727272727,
          1916.5,
          1896.4545454545455,
          2122.181818181818,
          1888.9545454545455,
          2122.181818181818,
          1994.6363636363637,
          1968.1818181818182,
          1968.1818181818182,
          1968.1818181818182,
          1968.1818181818182,
          1968.1818181818182,
          1968.1818181818182,
          1915.1818181818182,
          1914.7727272727273,
          1927.2272727272727,
          1994.6363636363637,
          2027.6363636363637,
          2027.6363636363637,
          2060.5,
          1915.1818181818182,
          2027.6363636363637,
          1998.7272727272727,
          1998.7272727272727,
          1980,
          1890.090909090909,
          1876.409090909091,
          2060.5,
          1952,
          1952,
          1890.090909090909,
          1994.6363636363637,
          1998.7272727272727,
          1991.3181818181818,
          1991.3181818181818,
          1948.409090909091,
          1952,
          1906.9545454545455,
          2122.181818181818,
          2122.181818181818,
          2122.181818181818,
          2122.181818181818,
          2122.181818181818,
          2122.181818181818,
          2122.181818181818,
          2122.181818181818,
          2064.409090909091,
          1876.409090909091,
          1980,
          1980,
          2060.5,
          1870.409090909091,
          2122.181818181818,
          2060.5,
          2027.6363636363637,
          2027.6363636363637,
          1888.9545454545455,
          2122.181818181818,
          1915.1818181818182,
          1915.1818181818182,
          1912.4545454545455,
          1951.4545454545455,
          2044.8636363636363,
          1980,
          1995.8636363636363,
          1998.7272727272727,
          1980.3181818181818,
          1952,
          1980.3181818181818,
          1980.3181818181818,
          1980.3181818181818,
          1980.3181818181818,
          1980.3181818181818,
          1980.3181818181818,
          1980,
          1879.7727272727273,
          1879.7727272727273,
          1879.7727272727273,
          1879.7727272727273,
          1879.7727272727273,
          2060.5,
          2060.5,
          2060.5,
          1994.6363636363637,
          1968.1818181818182,
          1968.1818181818182,
          1968.1818181818182,
          1968.1818181818182,
          1968.1818181818182,
          1968.1818181818182,
          1968.1818181818182,
          1948.409090909091,
          2085.409090909091,
          1834.409090909091,
          1834.409090909091,
          1948.409090909091,
          1870.409090909091,
          1980,
          1906.9545454545455,
          1896.4545454545455,
          1980.3181818181818,
          1787.5454545454545,
          1952,
          1888.9545454545455,
          1888.9545454545455,
          1968.1818181818182,
          1998.7272727272727,
          1998.7272727272727,
          1888.9545454545455,
          1888.9545454545455,
          1980,
          1916.5,
          1995.8636363636363,
          1948.409090909091,
          1948.409090909091,
          1968.1818181818182,
          1998.7272727272727,
          1952,
          1902.0454545454545,
          1906.9545454545455,
          1952,
          1942.8181818181818,
          2060.5,
          1995.8636363636363,
          1952,
          1916.5,
          2044.8636363636363,
          2060.5,
          1980,
          2060.5,
          1916.5,
          1916.5,
          1994.6363636363637,
          1998.7272727272727,
          2060.5,
          1991.3181818181818,
          1906.9545454545455,
          1971.8181818181818,
          2027.6363636363637,
          1980,
          2027.6363636363637,
          2027.6363636363637,
          1879.7727272727273,
          1948.409090909091,
          1995.8636363636363,
          1971.8181818181818,
          1980.3181818181818,
          1942.8181818181818,
          1870.409090909091,
          1879.7727272727273,
          1948.409090909091,
          2085.409090909091,
          2122.181818181818,
          1998.7272727272727,
          1896.4545454545455,
          2027.6363636363637,
          1914.7727272727273,
          2027.6363636363637,
          2027.6363636363637,
          2027.6363636363637,
          2027.6363636363637,
          2027.6363636363637,
          2027.6363636363637,
          2027.6363636363637,
          2027.6363636363637,
          2027.6363636363637,
          2027.6363636363637,
          2027.6363636363637,
          2027.6363636363637,
          2027.6363636363637,
          2027.6363636363637,
          2027.6363636363637,
          2027.6363636363637,
          2027.6363636363637,
          2027.6363636363637,
          2027.6363636363637,
          2027.6363636363637,
          1851.0454545454545,
          2027.6363636363637,
          2027.6363636363637,
          2027.6363636363637,
          2027.6363636363637,
          2027.6363636363637,
          2027.6363636363637,
          2027.6363636363637,
          2027.6363636363637,
          2027.6363636363637,
          1851.0454545454545,
          1948.409090909091,
          1867.409090909091,
          1952,
          1951.4545454545455,
          1951.4545454545455,
          1951.4545454545455,
          1951.4545454545455,
          1951.4545454545455,
          1915.1818181818182,
          1980,
          2027.6363636363637,
          2006.4545454545455,
          2027.6363636363637,
          2122.181818181818,
          1998.7272727272727,
          1948.409090909091,
          1952,
          1879.409090909091,
          1916.5,
          2027.6363636363637,
          1927.2272727272727,
          1994.6363636363637,
          1994.6363636363637,
          1902.0454545454545,
          1980.3181818181818,
          1916.5,
          1991.3181818181818,
          1948.409090909091,
          1994.6363636363637,
          1948.409090909091,
          2122.181818181818,
          1980,
          2122.181818181818,
          1994.6363636363637,
          1914.7727272727273,
          1932.590909090909,
          1980.3181818181818,
          1914.7727272727273,
          2027.6363636363637,
          1980.3181818181818,
          1951.4545454545455,
          2027.6363636363637,
          2027.6363636363637,
          2027.6363636363637,
          2027.6363636363637,
          2044.8636363636363,
          2044.8636363636363,
          2044.8636363636363,
          1995.8636363636363,
          1890.090909090909,
          2044.8636363636363,
          1927.2272727272727,
          1998.7272727272727,
          1916.5,
          2122.181818181818,
          1994.6363636363637,
          1915.1818181818182,
          1888.9545454545455,
          1870.409090909091,
          1912.4545454545455,
          1938.1818181818182,
          1998.7272727272727,
          1888.9545454545455,
          1915.1818181818182,
          1915.1818181818182,
          1998.7272727272727,
          1881.3181818181818,
          1834.409090909091,
          1998.7272727272727,
          2085.409090909091,
          1876.409090909091,
          1912.4545454545455,
          1998.7272727272727,
          2027.6363636363637,
          2122.181818181818,
          1952,
          1879.409090909091,
          2044.8636363636363,
          2122.181818181818,
          1998.7272727272727,
          1998.7272727272727,
          1998.7272727272727,
          2122.181818181818,
          2044.8636363636363,
          1998.7272727272727,
          1971.8181818181818,
          1890.090909090909,
          1888.9545454545455,
          1951.4545454545455,
          1968.1818181818182,
          2085.409090909091,
          1851.8181818181818,
          1995.8636363636363,
          1998.7272727272727,
          1938.1818181818182,
          1998.7272727272727,
          1851.0454545454545,
          1851.0454545454545,
          1851.0454545454545,
          1851.0454545454545,
          1896.4545454545455,
          1851.0454545454545,
          1998.7272727272727,
          1952,
          1952,
          1952,
          1948.409090909091,
          2044.8636363636363,
          1879.7727272727273,
          1879.7727272727273,
          1879.7727272727273,
          1879.7727272727273,
          1927.2272727272727,
          1870.409090909091,
          1994.6363636363637,
          1994.6363636363637,
          1948.409090909091,
          1995.8636363636363,
          2006.4545454545455,
          1980,
          2034.7272727272727,
          1995.8636363636363,
          1952,
          1916.5,
          2085.409090909091,
          1873.409090909091,
          2027.6363636363637,
          2027.6363636363637,
          2027.6363636363637,
          2085.409090909091,
          1879.7727272727273,
          2027.6363636363637,
          1948.409090909091,
          2034.7272727272727,
          2034.7272727272727,
          2122.181818181818,
          1980,
          2027.6363636363637,
          1851.8181818181818,
          2027.6363636363637,
          2027.6363636363637,
          1980,
          1916.5,
          1948.409090909091,
          2060.5,
          1851.8181818181818,
          1851.8181818181818,
          1851.8181818181818,
          1851.8181818181818,
          1890.090909090909,
          1952,
          1998.7272727272727,
          1980,
          2122.181818181818,
          1994.6363636363637,
          1980.3181818181818,
          2034.7272727272727,
          1980,
          2027.6363636363637,
          2027.6363636363637,
          1994.6363636363637,
          1932.590909090909,
          1902.0454545454545,
          1952,
          1942.8181818181818,
          1902.0454545454545,
          1948.409090909091,
          1952,
          1878.5454545454545,
          1878.5454545454545,
          1980.3181818181818,
          1998.7272727272727,
          1971.8181818181818,
          1916.5,
          1951.4545454545455,
          1912.4545454545455,
          1870.409090909091,
          1870.409090909091,
          2027.6363636363637,
          1991.3181818181818,
          1994.6363636363637,
          2027.6363636363637,
          1998.7272727272727,
          1980.3181818181818,
          1902.0454545454545,
          1994.6363636363637,
          1888.9545454545455,
          1915.1818181818182,
          2027.6363636363637,
          1888.9545454545455,
          1876.409090909091,
          1870.409090909091,
          2027.6363636363637,
          1998.7272727272727,
          1834.409090909091,
          1881.3181818181818,
          2006.4545454545455,
          1994.6363636363637,
          1879.7727272727273,
          1994.6363636363637,
          1971.8181818181818,
          1890.090909090909,
          1890.090909090909,
          1948.409090909091,
          1896.4545454545455,
          2122.181818181818,
          1914.7727272727273,
          1995.8636363636363,
          1998.7272727272727,
          1912.4545454545455,
          1912.4545454545455,
          1912.4545454545455,
          1876.409090909091,
          1912.4545454545455,
          1906.9545454545455,
          1876.409090909091,
          1991.3181818181818,
          1912.4545454545455,
          1980,
          1968.1818181818182,
          1968.1818181818182,
          1994.6363636363637,
          2085.409090909091,
          2034.7272727272727,
          1851.0454545454545,
          1915.1818181818182,
          1915.1818181818182,
          1915.1818181818182,
          1915.1818181818182,
          1915.1818181818182,
          1915.1818181818182,
          1915.1818181818182,
          1915.1818181818182,
          1915.1818181818182,
          1915.1818181818182,
          1927.2272727272727,
          1927.2272727272727,
          1927.2272727272727,
          1927.2272727272727,
          1927.2272727272727,
          1951.4545454545455,
          1906.9545454545455,
          1916.5,
          1952,
          1998.7272727272727,
          2122.181818181818,
          1888.9545454545455,
          1888.9545454545455,
          2122.181818181818,
          1906.9545454545455,
          2122.181818181818,
          2122.181818181818,
          1942.8181818181818,
          2034.7272727272727,
          1998.7272727272727,
          2122.181818181818,
          2122.181818181818,
          2122.181818181818,
          2122.181818181818,
          2122.181818181818,
          2122.181818181818,
          2122.181818181818,
          2122.181818181818,
          2122.181818181818,
          1879.7727272727273,
          1888.9545454545455,
          1994.6363636363637,
          2064.409090909091,
          2064.409090909091,
          1998.7272727272727,
          1890.090909090909,
          1915.1818181818182,
          1995.8636363636363,
          2122.181818181818,
          2122.181818181818,
          2122.181818181818,
          2122.181818181818,
          2122.181818181818,
          2122.181818181818,
          2122.181818181818,
          1980,
          1980.3181818181818,
          1994.6363636363637,
          1968.1818181818182,
          1952,
          2122.181818181818,
          1980.3181818181818,
          1906.9545454545455,
          1902.0454545454545,
          1980,
          1998.7272727272727,
          2027.6363636363637,
          1998.7272727272727,
          1980,
          2027.6363636363637,
          1980.3181818181818,
          1998.7272727272727,
          1998.7272727272727,
          1787.5454545454545,
          1998.7272727272727,
          2027.6363636363637,
          1980,
          1851.8181818181818,
          2122.181818181818,
          1870.409090909091,
          1998.7272727272727,
          1906.9545454545455,
          2027.6363636363637,
          2027.6363636363637,
          1942.8181818181818,
          2027.6363636363637,
          2027.6363636363637,
          1951.4545454545455,
          1994.6363636363637,
          1952,
          2027.6363636363637,
          1991.3181818181818,
          1994.6363636363637,
          1994.6363636363637,
          1915.1818181818182,
          1915.1818181818182,
          1876.409090909091,
          1994.6363636363637,
          2027.6363636363637,
          1834.409090909091,
          1912.4545454545455,
          1968.1818181818182,
          1980,
          1994.6363636363637,
          1968.1818181818182,
          1994.6363636363637,
          1994.6363636363637,
          1942.8181818181818,
          1951.4545454545455,
          1938.1818181818182,
          1938.1818181818182,
          1938.1818181818182,
          1942.8181818181818,
          1948.409090909091,
          2027.6363636363637,
          1968.1818181818182,
          1938.1818181818182,
          1938.1818181818182,
          1938.1818181818182,
          1938.1818181818182,
          2027.6363636363637,
          1948.409090909091,
          1994.6363636363637,
          1851.0454545454545,
          1834.409090909091,
          2027.6363636363637,
          1834.409090909091,
          1834.409090909091,
          1834.409090909091,
          1834.409090909091,
          1834.409090909091,
          1890.090909090909,
          1951.4545454545455,
          2034.7272727272727,
          2044.8636363636363,
          1994.6363636363637,
          2027.6363636363637,
          1994.6363636363637,
          1994.6363636363637,
          1994.6363636363637,
          1994.6363636363637,
          1980,
          1902.0454545454545,
          1902.0454545454545,
          1902.0454545454545,
          1902.0454545454545,
          1902.0454545454545,
          1902.0454545454545,
          1902.0454545454545,
          1876.409090909091,
          2122.181818181818,
          2122.181818181818,
          2122.181818181818,
          2006.4545454545455,
          1902.0454545454545,
          1995.8636363636363,
          1916.5,
          2122.181818181818,
          2122.181818181818,
          1980,
          2027.6363636363637,
          2027.6363636363637,
          2122.181818181818,
          1980.3181818181818,
          1834.409090909091,
          2122.181818181818,
          2122.181818181818,
          1980,
          1995.8636363636363,
          2122.181818181818,
          2122.181818181818,
          1915.1818181818182,
          1995.8636363636363,
          1994.6363636363637,
          2122.181818181818,
          1948.409090909091,
          1980,
          1890.090909090909,
          1994.6363636363637,
          1951.4545454545455,
          1994.6363636363637,
          1878.5454545454545,
          1851.0454545454545,
          1916.5,
          1971.8181818181818,
          2122.181818181818,
          1915.1818181818182,
          1915.1818181818182,
          1915.1818181818182,
          1915.1818181818182,
          1915.1818181818182,
          1971.8181818181818,
          1876.409090909091,
          2006.4545454545455,
          1980,
          1995.8636363636363,
          1876.409090909091,
          1971.8181818181818,
          1890.090909090909,
          1952,
          1952,
          2044.8636363636363,
          1951.4545454545455,
          1876.409090909091,
          2027.6363636363637,
          2027.6363636363637,
          2027.6363636363637,
          2122.181818181818,
          1902.0454545454545,
          1938.1818181818182,
          1938.1818181818182,
          1888.9545454545455,
          1938.1818181818182,
          1888.9545454545455,
          2060.5,
          2060.5,
          1952,
          1873.409090909091,
          1888.9545454545455,
          1916.5,
          1980.3181818181818,
          2044.8636363636363,
          2027.6363636363637,
          1948.409090909091,
          1948.409090909091,
          1948.409090909091,
          2027.6363636363637,
          2034.7272727272727,
          2044.8636363636363,
          1980,
          1995.8636363636363,
          2060.5,
          1951.4545454545455,
          1890.090909090909,
          1998.7272727272727,
          1998.7272727272727,
          1998.7272727272727,
          1938.1818181818182,
          1870.409090909091,
          1952,
          1890.090909090909,
          1994.6363636363637,
          1994.6363636363637,
          1994.6363636363637,
          1952,
          1927.2272727272727,
          1948.409090909091,
          1948.409090909091,
          1998.7272727272727,
          1948.409090909091,
          1948.409090909091,
          1932.590909090909,
          2085.409090909091,
          1851.8181818181818,
          1991.3181818181818,
          2085.409090909091,
          2091.090909090909,
          2091.090909090909,
          1980,
          1991.3181818181818,
          1896.4545454545455,
          1896.4545454545455,
          1896.4545454545455,
          1896.4545454545455,
          1915.1818181818182,
          1915.1818181818182,
          1915.1818181818182,
          1915.1818181818182,
          1915.1818181818182,
          1916.5,
          1927.2272727272727,
          1927.2272727272727,
          1927.2272727272727,
          1968.1818181818182,
          2122.181818181818,
          2064.409090909091,
          1890.090909090909,
          1998.7272727272727,
          1870.409090909091,
          1890.090909090909,
          1952,
          1948.409090909091,
          2044.8636363636363,
          1948.409090909091,
          1942.8181818181818,
          2027.6363636363637,
          2122.181818181818,
          1906.9545454545455,
          1952,
          1942.8181818181818,
          2006.4545454545455,
          2006.4545454545455,
          1902.0454545454545,
          1938.1818181818182,
          2060.5,
          1890.090909090909,
          1870.409090909091,
          1938.1818181818182,
          2044.8636363636363,
          1948.409090909091,
          1948.409090909091,
          1948.409090909091,
          1948.409090909091,
          1948.409090909091,
          1948.409090909091,
          2060.5,
          1948.409090909091,
          1927.2272727272727,
          1879.409090909091,
          1995.8636363636363,
          1951.4545454545455,
          2060.5,
          1890.090909090909,
          1948.409090909091,
          1948.409090909091,
          2122.181818181818,
          2122.181818181818,
          1968.1818181818182,
          1888.9545454545455,
          1942.8181818181818,
          1888.9545454545455,
          1870.409090909091,
          1870.409090909091,
          1948.409090909091,
          2122.181818181818,
          2034.7272727272727,
          1998.7272727272727,
          1914.7727272727273,
          1938.1818181818182,
          1912.4545454545455,
          1942.8181818181818,
          1902.0454545454545,
          1902.0454545454545,
          1902.0454545454545,
          2044.8636363636363,
          1998.7272727272727,
          1915.1818181818182,
          1998.7272727272727,
          1890.090909090909,
          2034.7272727272727,
          2122.181818181818,
          2091.090909090909,
          2027.6363636363637,
          1995.8636363636363,
          1888.9545454545455,
          1906.9545454545455,
          1938.1818181818182,
          1968.1818181818182,
          2091.090909090909,
          1948.409090909091,
          1870.409090909091,
          1878.5454545454545,
          1878.5454545454545,
          1878.5454545454545,
          1878.5454545454545,
          2044.8636363636363,
          1878.5454545454545,
          1867.409090909091,
          1851.8181818181818,
          2091.090909090909,
          1948.409090909091,
          1890.090909090909,
          1912.4545454545455,
          2027.6363636363637,
          1906.9545454545455,
          1980,
          1998.7272727272727,
          1906.9545454545455,
          1906.9545454545455,
          1906.9545454545455,
          1948.409090909091,
          1980,
          2122.181818181818,
          1896.4545454545455,
          1888.9545454545455,
          1991.3181818181818,
          1998.7272727272727,
          1942.8181818181818,
          1902.0454545454545,
          1932.590909090909,
          2122.181818181818,
          1980,
          1881.3181818181818,
          1980,
          1879.7727272727273,
          1916.5,
          1971.8181818181818,
          1980,
          1890.090909090909,
          1870.409090909091,
          1870.409090909091,
          1870.409090909091,
          1870.409090909091,
          1870.409090909091,
          1870.409090909091,
          1870.409090909091,
          1870.409090909091,
          1879.7727272727273,
          1879.7727272727273,
          1879.7727272727273,
          2027.6363636363637,
          1948.409090909091,
          1948.409090909091,
          1948.409090909091,
          1948.409090909091,
          1948.409090909091,
          1948.409090909091,
          1948.409090909091,
          1968.1818181818182,
          2027.6363636363637,
          1991.3181818181818,
          1998.7272727272727,
          2027.6363636363637,
          2122.181818181818,
          2044.8636363636363,
          1915.1818181818182,
          1876.409090909091,
          2060.5,
          1902.0454545454545,
          2044.8636363636363,
          2044.8636363636363,
          2044.8636363636363,
          2044.8636363636363,
          2044.8636363636363,
          1902.0454545454545,
          2044.8636363636363,
          1876.409090909091,
          2122.181818181818,
          2085.409090909091,
          1994.6363636363637,
          1952,
          1873.409090909091,
          1994.6363636363637,
          1994.6363636363637,
          1994.6363636363637,
          1851.0454545454545,
          1968.1818181818182,
          1968.1818181818182,
          1968.1818181818182,
          1968.1818181818182,
          1968.1818181818182,
          1968.1818181818182,
          1951.4545454545455,
          1948.409090909091,
          1912.4545454545455,
          2027.6363636363637,
          1896.4545454545455,
          1968.1818181818182,
          1948.409090909091,
          1870.409090909091,
          2044.8636363636363,
          2027.6363636363637,
          1998.7272727272727,
          1948.409090909091,
          1998.7272727272727,
          1991.3181818181818,
          2027.6363636363637,
          2034.7272727272727,
          1980.3181818181818,
          1876.409090909091,
          1998.7272727272727,
          1980,
          1980,
          1980,
          1980,
          1980,
          1952,
          1948.409090909091,
          1980,
          1834.409090909091,
          1942.8181818181818,
          1916.5,
          1879.409090909091,
          2060.5,
          2044.8636363636363,
          2044.8636363636363,
          2044.8636363636363,
          1896.4545454545455,
          1951.4545454545455,
          2060.5,
          1998.7272727272727,
          1912.4545454545455,
          1916.5,
          1916.5,
          1938.1818181818182,
          1949.7727272727273,
          1867.409090909091,
          2027.6363636363637,
          2122.181818181818,
          1914.7727272727273,
          1998.7272727272727,
          1998.7272727272727,
          2027.6363636363637,
          1998.7272727272727,
          1927.2272727272727,
          1927.2272727272727,
          1927.2272727272727,
          1998.7272727272727,
          1998.7272727272727,
          2122.181818181818,
          2027.6363636363637,
          2027.6363636363637,
          1980,
          2122.181818181818,
          1902.0454545454545,
          1952,
          2027.6363636363637,
          2122.181818181818,
          2085.409090909091,
          1912.4545454545455,
          2044.8636363636363,
          1870.409090909091,
          2034.7272727272727,
          2122.181818181818,
          1938.1818181818182,
          1881.3181818181818,
          1995.8636363636363,
          2027.6363636363637,
          1980.3181818181818,
          2034.7272727272727,
          1980.3181818181818,
          2122.181818181818,
          1980.3181818181818,
          1980.3181818181818,
          1995.8636363636363,
          1994.6363636363637,
          1998.7272727272727,
          1980,
          2027.6363636363637,
          1916.5,
          1896.4545454545455,
          1896.4545454545455,
          1948.409090909091,
          1980,
          1927.2272727272727,
          1938.1818181818182,
          2027.6363636363637,
          1952,
          1952,
          1952,
          1878.5454545454545,
          2122.181818181818,
          1995.8636363636363,
          1906.9545454545455,
          1968.1818181818182,
          1870.409090909091,
          2027.6363636363637,
          2122.181818181818,
          1938.1818181818182,
          1948.409090909091,
          1906.9545454545455,
          1906.9545454545455,
          1991.3181818181818,
          1952,
          1949.7727272727273,
          1952,
          2122.181818181818,
          2044.8636363636363,
          1995.8636363636363,
          1998.7272727272727,
          2122.181818181818,
          1980.3181818181818,
          1942.8181818181818,
          1888.9545454545455,
          1906.9545454545455,
          1906.9545454545455,
          1906.9545454545455,
          1906.9545454545455,
          1906.9545454545455,
          1906.9545454545455,
          1927.2272727272727,
          1906.9545454545455,
          1906.9545454545455,
          1906.9545454545455,
          1906.9545454545455,
          2027.6363636363637,
          2027.6363636363637,
          1916.5,
          2122.181818181818,
          1952,
          1980.3181818181818,
          2027.6363636363637,
          2027.6363636363637,
          1851.8181818181818,
          1948.409090909091,
          1998.7272727272727,
          2034.7272727272727,
          1873.409090909091,
          1998.7272727272727,
          2027.6363636363637,
          1994.6363636363637,
          2027.6363636363637,
          1968.1818181818182,
          1915.1818181818182,
          1938.1818181818182,
          1980.3181818181818,
          1932.590909090909,
          1881.3181818181818,
          1952,
          2034.7272727272727,
          1949.7727272727273,
          1951.4545454545455,
          1888.9545454545455,
          1951.4545454545455,
          1851.8181818181818,
          1851.8181818181818,
          1851.8181818181818,
          2034.7272727272727,
          1980,
          1980,
          1980,
          1980,
          1980,
          1980,
          1980,
          1888.9545454545455,
          1873.409090909091,
          1980,
          1938.1818181818182,
          1915.1818181818182,
          1915.1818181818182,
          1994.6363636363637,
          1896.4545454545455,
          1896.4545454545455,
          1896.4545454545455,
          1927.2272727272727,
          2122.181818181818,
          2027.6363636363637,
          1896.4545454545455,
          1888.9545454545455,
          2122.181818181818,
          2027.6363636363637,
          2027.6363636363637,
          1851.0454545454545,
          1951.4545454545455,
          1851.0454545454545,
          1851.0454545454545,
          1851.0454545454545,
          1896.4545454545455,
          2027.6363636363637,
          2027.6363636363637,
          1896.4545454545455,
          1896.4545454545455,
          1851.0454545454545,
          2027.6363636363637,
          1851.0454545454545,
          1980,
          1952,
          1968.1818181818182,
          1968.1818181818182,
          1998.7272727272727,
          1948.409090909091,
          2027.6363636363637,
          1948.409090909091,
          1873.409090909091,
          1870.409090909091,
          1951.4545454545455,
          2044.8636363636363,
          2060.5,
          1998.7272727272727,
          1952,
          2027.6363636363637,
          1906.9545454545455,
          1912.4545454545455,
          1949.7727272727273,
          1949.7727272727273,
          1952,
          1998.7272727272727,
          2027.6363636363637,
          1995.8636363636363,
          2006.4545454545455,
          1912.4545454545455,
          1851.8181818181818,
          1980.3181818181818,
          2091.090909090909,
          2091.090909090909,
          1938.1818181818182,
          2122.181818181818,
          1879.7727272727273,
          1870.409090909091,
          1873.409090909091,
          1879.409090909091,
          2044.8636363636363,
          1980,
          1948.409090909091,
          1952,
          1912.4545454545455,
          2122.181818181818,
          2027.6363636363637,
          1879.7727272727273,
          1980,
          1994.6363636363637,
          1879.7727272727273,
          1879.7727272727273,
          1879.7727272727273,
          2027.6363636363637,
          1879.7727272727273,
          2085.409090909091,
          1980.3181818181818,
          2060.5,
          1888.9545454545455,
          1995.8636363636363,
          1952,
          2060.5,
          2060.5,
          2060.5,
          2060.5,
          1948.409090909091,
          1916.5,
          1971.8181818181818,
          1879.409090909091,
          2122.181818181818,
          1948.409090909091,
          2027.6363636363637,
          1851.8181818181818,
          1927.2272727272727,
          2034.7272727272727,
          1980,
          1952,
          2122.181818181818,
          1952,
          1902.0454545454545,
          1980,
          1980,
          1879.7727272727273,
          1888.9545454545455,
          1888.9545454545455,
          1870.409090909091,
          1881.3181818181818,
          2044.8636363636363,
          1998.7272727272727,
          1952,
          1876.409090909091,
          1998.7272727272727,
          1998.7272727272727,
          1851.0454545454545,
          1851.0454545454545,
          1787.5454545454545,
          2027.6363636363637,
          1932.590909090909,
          1851.0454545454545,
          1932.590909090909,
          1890.090909090909,
          1980,
          2060.5,
          2060.5,
          1995.8636363636363,
          1968.1818181818182,
          1968.1818181818182,
          1968.1818181818182,
          1968.1818181818182,
          2027.6363636363637,
          1938.1818181818182,
          2027.6363636363637,
          1980,
          1951.4545454545455,
          1916.5,
          2034.7272727272727,
          1916.5,
          1916.5,
          1915.1818181818182,
          1916.5,
          1980.3181818181818,
          1980.3181818181818,
          1906.9545454545455,
          1951.4545454545455,
          1938.1818181818182,
          1951.4545454545455,
          1938.1818181818182,
          2091.090909090909,
          1971.8181818181818,
          2060.5,
          2060.5,
          2091.090909090909,
          2091.090909090909,
          1995.8636363636363,
          1995.8636363636363,
          1995.8636363636363,
          1995.8636363636363,
          1995.8636363636363,
          1952,
          2027.6363636363637,
          1851.0454545454545,
          2060.5,
          1994.6363636363637,
          1951.4545454545455,
          1951.4545454545455,
          2027.6363636363637,
          1942.8181818181818,
          2085.409090909091,
          1851.0454545454545,
          1948.409090909091,
          1896.4545454545455,
          1948.409090909091,
          1870.409090909091,
          2122.181818181818,
          2027.6363636363637,
          1991.3181818181818,
          2027.6363636363637,
          2027.6363636363637,
          2027.6363636363637,
          2027.6363636363637,
          1851.8181818181818,
          2027.6363636363637,
          2034.7272727272727,
          2027.6363636363637,
          2027.6363636363637,
          1949.7727272727273,
          1912.4545454545455,
          1949.7727272727273,
          1949.7727272727273,
          1912.4545454545455,
          1949.7727272727273,
          2027.6363636363637,
          2027.6363636363637,
          1991.3181818181818,
          2027.6363636363637,
          1998.7272727272727,
          2027.6363636363637,
          1851.0454545454545,
          1980,
          1998.7272727272727,
          1948.409090909091,
          1834.409090909091,
          1876.409090909091,
          2044.8636363636363,
          2122.181818181818,
          1980.3181818181818,
          1952,
          1870.409090909091,
          1991.3181818181818,
          1991.3181818181818,
          2027.6363636363637,
          2027.6363636363637,
          2027.6363636363637,
          2027.6363636363637,
          1927.2272727272727,
          1870.409090909091,
          1879.7727272727273,
          1879.7727272727273,
          1879.7727272727273,
          1879.7727272727273,
          1879.7727272727273,
          1879.7727272727273,
          1879.7727272727273,
          1879.7727272727273,
          1879.7727272727273,
          1879.7727272727273,
          1879.7727272727273,
          2027.6363636363637,
          1968.1818181818182,
          2027.6363636363637,
          2122.181818181818,
          2122.181818181818,
          2122.181818181818,
          2122.181818181818,
          2122.181818181818,
          2122.181818181818,
          2122.181818181818,
          1998.7272727272727,
          2085.409090909091,
          2122.181818181818,
          1906.9545454545455,
          1998.7272727272727,
          1998.7272727272727,
          2122.181818181818,
          1902.0454545454545,
          1971.8181818181818,
          1952,
          2027.6363636363637,
          2027.6363636363637,
          2027.6363636363637,
          2027.6363636363637,
          1951.4545454545455,
          1888.9545454545455,
          1787.5454545454545,
          2027.6363636363637,
          1888.9545454545455,
          2060.5,
          2064.409090909091,
          2027.6363636363637,
          2027.6363636363637,
          2027.6363636363637,
          1890.090909090909,
          1942.8181818181818,
          1980,
          2027.6363636363637,
          1915.1818181818182,
          1902.0454545454545,
          1949.7727272727273,
          1948.409090909091,
          1896.4545454545455,
          1834.409090909091,
          1851.0454545454545,
          2034.7272727272727,
          2044.8636363636363,
          1879.7727272727273,
          1994.6363636363637,
          2027.6363636363637,
          2027.6363636363637,
          1888.9545454545455,
          1998.7272727272727,
          1951.4545454545455,
          1902.0454545454545,
          2027.6363636363637,
          1879.409090909091,
          1998.7272727272727,
          1906.9545454545455,
          1998.7272727272727,
          1998.7272727272727,
          1948.409090909091,
          1994.6363636363637,
          1980,
          1890.090909090909,
          1902.0454545454545,
          2122.181818181818,
          2122.181818181818,
          2122.181818181818,
          1879.7727272727273,
          1890.090909090909,
          1888.9545454545455,
          1906.9545454545455,
          1906.9545454545455,
          1916.5,
          1994.6363636363637,
          1906.9545454545455,
          1870.409090909091,
          1938.1818181818182,
          1938.1818181818182,
          2027.6363636363637,
          2091.090909090909,
          1980,
          1878.5454545454545,
          1881.3181818181818,
          2060.5,
          1994.6363636363637,
          1906.9545454545455,
          2044.8636363636363,
          1995.8636363636363,
          1995.8636363636363,
          1995.8636363636363,
          1879.7727272727273,
          1879.7727272727273,
          1994.6363636363637,
          2122.181818181818,
          2027.6363636363637,
          1951.4545454545455,
          1902.0454545454545,
          1968.1818181818182,
          1968.1818181818182,
          1881.3181818181818,
          1879.7727272727273,
          1942.8181818181818,
          1942.8181818181818,
          1915.1818181818182,
          1927.2272727272727,
          2044.8636363636363,
          1915.1818181818182,
          1915.1818181818182,
          1915.1818181818182,
          1915.1818181818182,
          1915.1818181818182,
          1834.409090909091,
          1879.7727272727273,
          2091.090909090909,
          1916.5,
          1994.6363636363637,
          1888.9545454545455,
          2044.8636363636363,
          1938.1818181818182,
          1980,
          1968.1818181818182,
          1968.1818181818182,
          1876.409090909091,
          1876.409090909091,
          1876.409090909091,
          1938.1818181818182,
          1980,
          1938.1818181818182,
          1938.1818181818182,
          1938.1818181818182,
          1938.1818181818182,
          1938.1818181818182,
          1938.1818181818182,
          1876.409090909091,
          1938.1818181818182,
          1980,
          1948.409090909091,
          1896.4545454545455,
          1834.409090909091,
          1998.7272727272727,
          1980,
          1948.409090909091,
          1980,
          2044.8636363636363,
          2027.6363636363637,
          1942.8181818181818,
          1951.4545454545455,
          1980.3181818181818,
          1948.409090909091,
          1948.409090909091,
          1851.0454545454545,
          2044.8636363636363,
          1851.0454545454545,
          2044.8636363636363,
          1952,
          1916.5,
          1896.4545454545455,
          1912.4545454545455,
          1998.7272727272727,
          2122.181818181818,
          2122.181818181818,
          2122.181818181818,
          1902.0454545454545,
          2027.6363636363637,
          1916.5,
          1916.5,
          1916.5,
          1876.409090909091,
          1948.409090909091,
          1994.6363636363637,
          1890.090909090909,
          1896.4545454545455,
          2064.409090909091,
          1906.9545454545455,
          1995.8636363636363,
          1873.409090909091,
          1971.8181818181818,
          1948.409090909091,
          2044.8636363636363,
          2060.5,
          1912.4545454545455,
          1927.2272727272727,
          1867.409090909091,
          1948.409090909091,
          1968.1818181818182,
          1994.6363636363637,
          1968.1818181818182,
          1968.1818181818182,
          1948.409090909091,
          1948.409090909091,
          1980,
          1787.5454545454545,
          2027.6363636363637,
          2027.6363636363637,
          2027.6363636363637,
          1980.3181818181818,
          1878.5454545454545,
          1881.3181818181818,
          1896.4545454545455,
          1980,
          1938.1818181818182,
          1952,
          2122.181818181818,
          1896.4545454545455,
          1915.1818181818182,
          1915.1818181818182,
          1915.1818181818182,
          1932.590909090909,
          1991.3181818181818,
          1912.4545454545455,
          1876.409090909091,
          1906.9545454545455,
          2060.5,
          1948.409090909091,
          1948.409090909091,
          1948.409090909091,
          2027.6363636363637,
          1876.409090909091,
          1998.7272727272727,
          1980,
          2027.6363636363637,
          1938.1818181818182,
          2027.6363636363637,
          1998.7272727272727,
          1948.409090909091,
          1938.1818181818182,
          1994.6363636363637,
          1952,
          1952,
          2122.181818181818,
          1952,
          1952,
          1991.3181818181818,
          1952,
          1932.590909090909,
          1932.590909090909,
          2122.181818181818,
          1834.409090909091,
          1912.4545454545455,
          1938.1818181818182,
          1938.1818181818182,
          1932.590909090909,
          1952,
          1834.409090909091,
          1980,
          2085.409090909091,
          2122.181818181818,
          2034.7272727272727,
          2027.6363636363637,
          1980,
          1952,
          1980.3181818181818,
          1915.1818181818182,
          2060.5,
          1948.409090909091,
          1906.9545454545455,
          1876.409090909091,
          2027.6363636363637,
          1998.7272727272727,
          1873.409090909091,
          1915.1818181818182,
          1878.5454545454545,
          1968.1818181818182,
          1980,
          2034.7272727272727,
          1938.1818181818182,
          1942.8181818181818,
          1876.409090909091,
          1876.409090909091,
          1948.409090909091,
          1867.409090909091,
          1998.7272727272727,
          2091.090909090909,
          2027.6363636363637,
          2044.8636363636363,
          1995.8636363636363,
          1994.6363636363637,
          1980.3181818181818,
          1867.409090909091,
          1980.3181818181818,
          1890.090909090909,
          1876.409090909091,
          1942.8181818181818,
          1942.8181818181818,
          1888.9545454545455,
          1888.9545454545455,
          1998.7272727272727,
          1998.7272727272727,
          1888.9545454545455,
          1998.7272727272727,
          2034.7272727272727,
          1980.3181818181818,
          1991.3181818181818,
          2060.5,
          1980.3181818181818,
          1991.3181818181818,
          1867.409090909091,
          1980.3181818181818,
          1980.3181818181818,
          1980.3181818181818,
          1888.9545454545455,
          1971.8181818181818,
          1879.7727272727273,
          1971.8181818181818,
          2027.6363636363637,
          2027.6363636363637,
          2027.6363636363637,
          1870.409090909091,
          2122.181818181818,
          1995.8636363636363,
          1948.409090909091,
          1906.9545454545455,
          2122.181818181818,
          2034.7272727272727,
          2044.8636363636363,
          1998.7272727272727,
          1968.1818181818182,
          1995.8636363636363,
          1879.7727272727273,
          1873.409090909091,
          1951.4545454545455,
          1915.1818181818182,
          1914.7727272727273,
          1888.9545454545455,
          1948.409090909091,
          1890.090909090909,
          1915.1818181818182,
          1952,
          2122.181818181818,
          1994.6363636363637,
          2091.090909090909,
          1991.3181818181818,
          1968.1818181818182,
          1951.4545454545455,
          1951.4545454545455,
          1995.8636363636363,
          1952,
          1948.409090909091,
          2091.090909090909,
          1948.409090909091,
          1948.409090909091,
          1915.1818181818182,
          1994.6363636363637,
          1968.1818181818182,
          1952,
          1952,
          2044.8636363636363,
          1951.4545454545455,
          2027.6363636363637,
          2027.6363636363637,
          2027.6363636363637,
          2027.6363636363637,
          2027.6363636363637,
          2027.6363636363637,
          2027.6363636363637,
          2027.6363636363637,
          2027.6363636363637,
          2027.6363636363637,
          2027.6363636363637,
          2027.6363636363637,
          1980,
          1980,
          1896.4545454545455,
          1896.4545454545455,
          1896.4545454545455,
          1896.4545454545455,
          1995.8636363636363,
          1995.8636363636363,
          1916.5,
          1896.4545454545455,
          1995.8636363636363,
          1998.7272727272727,
          1998.7272727272727,
          1906.9545454545455,
          1906.9545454545455,
          1915.1818181818182,
          1906.9545454545455,
          1916.5,
          2044.8636363636363,
          2027.6363636363637,
          1952,
          1995.8636363636363,
          1995.8636363636363,
          1995.8636363636363,
          1995.8636363636363,
          1995.8636363636363,
          1995.8636363636363,
          1980.3181818181818,
          2044.8636363636363,
          1938.1818181818182,
          2122.181818181818,
          2122.181818181818,
          2122.181818181818,
          2122.181818181818,
          2122.181818181818,
          2122.181818181818,
          2122.181818181818,
          2122.181818181818,
          2122.181818181818,
          2122.181818181818,
          2122.181818181818,
          2122.181818181818,
          2122.181818181818,
          2122.181818181818,
          2122.181818181818,
          2122.181818181818,
          2122.181818181818,
          2122.181818181818,
          2122.181818181818,
          2122.181818181818,
          2122.181818181818,
          2122.181818181818,
          1980,
          1991.3181818181818,
          1888.9545454545455,
          1867.409090909091,
          2122.181818181818,
          2122.181818181818,
          1971.8181818181818,
          2122.181818181818,
          2122.181818181818,
          2122.181818181818,
          2122.181818181818,
          1870.409090909091,
          1916.5,
          1916.5,
          2122.181818181818,
          1879.409090909091,
          1876.409090909091,
          2006.4545454545455,
          2006.4545454545455,
          1980.3181818181818,
          2085.409090909091,
          1914.7727272727273,
          2044.8636363636363,
          2060.5,
          1980,
          2122.181818181818,
          1876.409090909091,
          1876.409090909091,
          2044.8636363636363,
          1888.9545454545455,
          1952,
          1873.409090909091,
          1980,
          1915.1818181818182,
          1916.5,
          1927.2272727272727,
          1927.2272727272727,
          1906.9545454545455,
          2085.409090909091,
          1902.0454545454545,
          2122.181818181818,
          1916.5,
          1896.4545454545455,
          2122.181818181818,
          2027.6363636363637,
          1980,
          2044.8636363636363,
          1902.0454545454545,
          1932.590909090909,
          2027.6363636363637,
          1927.2272727272727,
          1994.6363636363637,
          2060.5,
          1834.409090909091,
          1980,
          1949.7727272727273,
          1994.6363636363637,
          1834.409090909091,
          1834.409090909091,
          1896.4545454545455,
          1995.8636363636363,
          1995.8636363636363,
          1995.8636363636363,
          1995.8636363636363,
          1995.8636363636363,
          1995.8636363636363,
          1995.8636363636363,
          1927.2272727272727,
          1888.9545454545455,
          1938.1818181818182,
          1938.1818181818182,
          1994.6363636363637,
          1851.0454545454545,
          1991.3181818181818,
          1991.3181818181818,
          1890.090909090909,
          1916.5,
          2044.8636363636363,
          1968.1818181818182,
          1927.2272727272727,
          1906.9545454545455,
          2027.6363636363637,
          1998.7272727272727,
          1879.7727272727273,
          1916.5,
          1906.9545454545455,
          2122.181818181818,
          1952,
          2122.181818181818,
          2122.181818181818,
          1942.8181818181818,
          2027.6363636363637,
          2034.7272727272727,
          2034.7272727272727,
          2034.7272727272727,
          2027.6363636363637,
          1998.7272727272727,
          1994.6363636363637,
          1994.6363636363637,
          2085.409090909091,
          1890.090909090909,
          1890.090909090909,
          1870.409090909091,
          1870.409090909091,
          1995.8636363636363,
          1906.9545454545455,
          1994.6363636363637,
          1980.3181818181818,
          1927.2272727272727,
          1952,
          1948.409090909091,
          1873.409090909091,
          1876.409090909091,
          2064.409090909091,
          1948.409090909091,
          2122.181818181818,
          1948.409090909091,
          1980.3181818181818,
          1995.8636363636363,
          1834.409090909091,
          1834.409090909091,
          1881.3181818181818,
          1951.4545454545455,
          2122.181818181818,
          1906.9545454545455,
          2044.8636363636363,
          1998.7272727272727,
          1948.409090909091,
          1994.6363636363637,
          1994.6363636363637,
          1994.6363636363637,
          1994.6363636363637,
          1994.6363636363637,
          1906.9545454545455,
          2091.090909090909,
          2122.181818181818,
          2044.8636363636363,
          2122.181818181818,
          2060.5,
          1912.4545454545455,
          1888.9545454545455,
          2027.6363636363637,
          2027.6363636363637,
          1994.6363636363637,
          2034.7272727272727,
          1980,
          1834.409090909091,
          1951.4545454545455,
          1951.4545454545455,
          1916.5,
          1916.5,
          1915.1818181818182,
          1912.4545454545455,
          1902.0454545454545,
          1902.0454545454545,
          1938.1818181818182,
          1851.8181818181818,
          1870.409090909091,
          1888.9545454545455,
          2122.181818181818,
          1995.8636363636363,
          1994.6363636363637,
          2085.409090909091,
          1879.7727272727273,
          1896.4545454545455,
          1876.409090909091,
          1851.8181818181818,
          1915.1818181818182,
          1952,
          1952,
          1948.409090909091,
          1952,
          1952,
          1952,
          1952,
          1952,
          1952,
          1952,
          1952,
          1952,
          1952,
          1952,
          1994.6363636363637,
          1906.9545454545455,
          2027.6363636363637,
          2122.181818181818,
          2122.181818181818,
          2122.181818181818,
          2122.181818181818,
          2122.181818181818,
          2085.409090909091,
          2034.7272727272727,
          2122.181818181818,
          2122.181818181818,
          1952,
          2060.5,
          2091.090909090909,
          1896.4545454545455,
          2027.6363636363637,
          2122.181818181818,
          2034.7272727272727,
          1991.3181818181818,
          1994.6363636363637,
          1995.8636363636363,
          1948.409090909091,
          1888.9545454545455,
          1998.7272727272727,
          2027.6363636363637,
          1991.3181818181818,
          2122.181818181818,
          1951.4545454545455,
          1951.4545454545455,
          1951.4545454545455,
          2027.6363636363637,
          1870.409090909091,
          1870.409090909091,
          1870.409090909091,
          1870.409090909091,
          1870.409090909091,
          1998.7272727272727,
          1998.7272727272727,
          1879.7727272727273,
          1896.4545454545455,
          2060.5,
          2060.5,
          1980,
          1995.8636363636363,
          2122.181818181818,
          1942.8181818181818,
          1968.1818181818182,
          1914.7727272727273,
          1870.409090909091,
          1870.409090909091,
          1888.9545454545455,
          1952,
          1879.7727272727273,
          1906.9545454545455,
          1952,
          2027.6363636363637,
          1952,
          1942.8181818181818,
          1870.409090909091,
          1971.8181818181818,
          1876.409090909091,
          2027.6363636363637,
          1876.409090909091,
          1902.0454545454545,
          1994.6363636363637,
          1995.8636363636363,
          1906.9545454545455,
          1870.409090909091,
          1952,
          1952,
          1902.0454545454545,
          1873.409090909091,
          1873.409090909091,
          1998.7272727272727,
          1995.8636363636363,
          1995.8636363636363,
          1952,
          1952,
          1906.9545454545455,
          1906.9545454545455,
          1906.9545454545455,
          1906.9545454545455,
          1906.9545454545455,
          1906.9545454545455,
          1906.9545454545455,
          1906.9545454545455,
          1881.3181818181818,
          1951.4545454545455,
          1876.409090909091,
          2027.6363636363637,
          1998.7272727272727,
          2044.8636363636363,
          2044.8636363636363,
          1994.6363636363637,
          2027.6363636363637,
          1998.7272727272727,
          2027.6363636363637,
          2044.8636363636363,
          1998.7272727272727,
          1952,
          1980,
          1932.590909090909,
          1873.409090909091,
          1998.7272727272727,
          1948.409090909091,
          1879.409090909091,
          1991.3181818181818,
          1938.1818181818182,
          1951.4545454545455,
          1994.6363636363637,
          1980,
          1998.7272727272727,
          1873.409090909091,
          1876.409090909091,
          1876.409090909091,
          1876.409090909091,
          1873.409090909091,
          1942.8181818181818,
          2027.6363636363637,
          1948.409090909091,
          1942.8181818181818,
          1991.3181818181818,
          1916.5,
          1902.0454545454545,
          2027.6363636363637,
          2122.181818181818,
          1914.7727272727273,
          1870.409090909091,
          1952,
          1851.0454545454545,
          1971.8181818181818,
          1995.8636363636363,
          1873.409090909091,
          1952,
          2044.8636363636363,
          1952,
          1870.409090909091,
          1870.409090909091,
          1994.6363636363637,
          2122.181818181818,
          1890.090909090909,
          1879.7727272727273,
          1971.8181818181818,
          2044.8636363636363,
          1912.4545454545455,
          1902.0454545454545,
          1998.7272727272727,
          1888.9545454545455,
          2122.181818181818,
          1980.3181818181818,
          2044.8636363636363,
          2122.181818181818,
          1879.409090909091,
          1994.6363636363637,
          1948.409090909091,
          2122.181818181818,
          2027.6363636363637,
          1994.6363636363637,
          1994.6363636363637,
          1998.7272727272727,
          1948.409090909091,
          1948.409090909091,
          1787.5454545454545,
          1879.7727272727273,
          1896.4545454545455,
          1896.4545454545455,
          1971.8181818181818,
          1902.0454545454545,
          1991.3181818181818,
          1878.5454545454545,
          1952,
          1896.4545454545455,
          1991.3181818181818,
          2027.6363636363637,
          1851.8181818181818
         ]
        }
       ],
       "layout": {
        "coloraxis": {
         "colorbar": {
          "title": {
           "text": "color"
          }
         },
         "colorscale": [
          [
           0,
           "#0d0887"
          ],
          [
           0.1111111111111111,
           "#46039f"
          ],
          [
           0.2222222222222222,
           "#7201a8"
          ],
          [
           0.3333333333333333,
           "#9c179e"
          ],
          [
           0.4444444444444444,
           "#bd3786"
          ],
          [
           0.5555555555555556,
           "#d8576b"
          ],
          [
           0.6666666666666666,
           "#ed7953"
          ],
          [
           0.7777777777777778,
           "#fb9f3a"
          ],
          [
           0.8888888888888888,
           "#fdca26"
          ],
          [
           1,
           "#f0f921"
          ]
         ]
        },
        "geo": {
         "center": {},
         "domain": {
          "x": [
           0,
           1
          ],
          "y": [
           0,
           1
          ]
         },
         "scope": "usa"
        },
        "legend": {
         "tracegroupgap": 0
        },
        "template": {
         "data": {
          "bar": [
           {
            "error_x": {
             "color": "#2a3f5f"
            },
            "error_y": {
             "color": "#2a3f5f"
            },
            "marker": {
             "line": {
              "color": "#E5ECF6",
              "width": 0.5
             }
            },
            "type": "bar"
           }
          ],
          "barpolar": [
           {
            "marker": {
             "line": {
              "color": "#E5ECF6",
              "width": 0.5
             }
            },
            "type": "barpolar"
           }
          ],
          "carpet": [
           {
            "aaxis": {
             "endlinecolor": "#2a3f5f",
             "gridcolor": "white",
             "linecolor": "white",
             "minorgridcolor": "white",
             "startlinecolor": "#2a3f5f"
            },
            "baxis": {
             "endlinecolor": "#2a3f5f",
             "gridcolor": "white",
             "linecolor": "white",
             "minorgridcolor": "white",
             "startlinecolor": "#2a3f5f"
            },
            "type": "carpet"
           }
          ],
          "choropleth": [
           {
            "colorbar": {
             "outlinewidth": 0,
             "ticks": ""
            },
            "type": "choropleth"
           }
          ],
          "contour": [
           {
            "colorbar": {
             "outlinewidth": 0,
             "ticks": ""
            },
            "colorscale": [
             [
              0,
              "#0d0887"
             ],
             [
              0.1111111111111111,
              "#46039f"
             ],
             [
              0.2222222222222222,
              "#7201a8"
             ],
             [
              0.3333333333333333,
              "#9c179e"
             ],
             [
              0.4444444444444444,
              "#bd3786"
             ],
             [
              0.5555555555555556,
              "#d8576b"
             ],
             [
              0.6666666666666666,
              "#ed7953"
             ],
             [
              0.7777777777777778,
              "#fb9f3a"
             ],
             [
              0.8888888888888888,
              "#fdca26"
             ],
             [
              1,
              "#f0f921"
             ]
            ],
            "type": "contour"
           }
          ],
          "contourcarpet": [
           {
            "colorbar": {
             "outlinewidth": 0,
             "ticks": ""
            },
            "type": "contourcarpet"
           }
          ],
          "heatmap": [
           {
            "colorbar": {
             "outlinewidth": 0,
             "ticks": ""
            },
            "colorscale": [
             [
              0,
              "#0d0887"
             ],
             [
              0.1111111111111111,
              "#46039f"
             ],
             [
              0.2222222222222222,
              "#7201a8"
             ],
             [
              0.3333333333333333,
              "#9c179e"
             ],
             [
              0.4444444444444444,
              "#bd3786"
             ],
             [
              0.5555555555555556,
              "#d8576b"
             ],
             [
              0.6666666666666666,
              "#ed7953"
             ],
             [
              0.7777777777777778,
              "#fb9f3a"
             ],
             [
              0.8888888888888888,
              "#fdca26"
             ],
             [
              1,
              "#f0f921"
             ]
            ],
            "type": "heatmap"
           }
          ],
          "heatmapgl": [
           {
            "colorbar": {
             "outlinewidth": 0,
             "ticks": ""
            },
            "colorscale": [
             [
              0,
              "#0d0887"
             ],
             [
              0.1111111111111111,
              "#46039f"
             ],
             [
              0.2222222222222222,
              "#7201a8"
             ],
             [
              0.3333333333333333,
              "#9c179e"
             ],
             [
              0.4444444444444444,
              "#bd3786"
             ],
             [
              0.5555555555555556,
              "#d8576b"
             ],
             [
              0.6666666666666666,
              "#ed7953"
             ],
             [
              0.7777777777777778,
              "#fb9f3a"
             ],
             [
              0.8888888888888888,
              "#fdca26"
             ],
             [
              1,
              "#f0f921"
             ]
            ],
            "type": "heatmapgl"
           }
          ],
          "histogram": [
           {
            "marker": {
             "colorbar": {
              "outlinewidth": 0,
              "ticks": ""
             }
            },
            "type": "histogram"
           }
          ],
          "histogram2d": [
           {
            "colorbar": {
             "outlinewidth": 0,
             "ticks": ""
            },
            "colorscale": [
             [
              0,
              "#0d0887"
             ],
             [
              0.1111111111111111,
              "#46039f"
             ],
             [
              0.2222222222222222,
              "#7201a8"
             ],
             [
              0.3333333333333333,
              "#9c179e"
             ],
             [
              0.4444444444444444,
              "#bd3786"
             ],
             [
              0.5555555555555556,
              "#d8576b"
             ],
             [
              0.6666666666666666,
              "#ed7953"
             ],
             [
              0.7777777777777778,
              "#fb9f3a"
             ],
             [
              0.8888888888888888,
              "#fdca26"
             ],
             [
              1,
              "#f0f921"
             ]
            ],
            "type": "histogram2d"
           }
          ],
          "histogram2dcontour": [
           {
            "colorbar": {
             "outlinewidth": 0,
             "ticks": ""
            },
            "colorscale": [
             [
              0,
              "#0d0887"
             ],
             [
              0.1111111111111111,
              "#46039f"
             ],
             [
              0.2222222222222222,
              "#7201a8"
             ],
             [
              0.3333333333333333,
              "#9c179e"
             ],
             [
              0.4444444444444444,
              "#bd3786"
             ],
             [
              0.5555555555555556,
              "#d8576b"
             ],
             [
              0.6666666666666666,
              "#ed7953"
             ],
             [
              0.7777777777777778,
              "#fb9f3a"
             ],
             [
              0.8888888888888888,
              "#fdca26"
             ],
             [
              1,
              "#f0f921"
             ]
            ],
            "type": "histogram2dcontour"
           }
          ],
          "mesh3d": [
           {
            "colorbar": {
             "outlinewidth": 0,
             "ticks": ""
            },
            "type": "mesh3d"
           }
          ],
          "parcoords": [
           {
            "line": {
             "colorbar": {
              "outlinewidth": 0,
              "ticks": ""
             }
            },
            "type": "parcoords"
           }
          ],
          "pie": [
           {
            "automargin": true,
            "type": "pie"
           }
          ],
          "scatter": [
           {
            "marker": {
             "colorbar": {
              "outlinewidth": 0,
              "ticks": ""
             }
            },
            "type": "scatter"
           }
          ],
          "scatter3d": [
           {
            "line": {
             "colorbar": {
              "outlinewidth": 0,
              "ticks": ""
             }
            },
            "marker": {
             "colorbar": {
              "outlinewidth": 0,
              "ticks": ""
             }
            },
            "type": "scatter3d"
           }
          ],
          "scattercarpet": [
           {
            "marker": {
             "colorbar": {
              "outlinewidth": 0,
              "ticks": ""
             }
            },
            "type": "scattercarpet"
           }
          ],
          "scattergeo": [
           {
            "marker": {
             "colorbar": {
              "outlinewidth": 0,
              "ticks": ""
             }
            },
            "type": "scattergeo"
           }
          ],
          "scattergl": [
           {
            "marker": {
             "colorbar": {
              "outlinewidth": 0,
              "ticks": ""
             }
            },
            "type": "scattergl"
           }
          ],
          "scattermapbox": [
           {
            "marker": {
             "colorbar": {
              "outlinewidth": 0,
              "ticks": ""
             }
            },
            "type": "scattermapbox"
           }
          ],
          "scatterpolar": [
           {
            "marker": {
             "colorbar": {
              "outlinewidth": 0,
              "ticks": ""
             }
            },
            "type": "scatterpolar"
           }
          ],
          "scatterpolargl": [
           {
            "marker": {
             "colorbar": {
              "outlinewidth": 0,
              "ticks": ""
             }
            },
            "type": "scatterpolargl"
           }
          ],
          "scatterternary": [
           {
            "marker": {
             "colorbar": {
              "outlinewidth": 0,
              "ticks": ""
             }
            },
            "type": "scatterternary"
           }
          ],
          "surface": [
           {
            "colorbar": {
             "outlinewidth": 0,
             "ticks": ""
            },
            "colorscale": [
             [
              0,
              "#0d0887"
             ],
             [
              0.1111111111111111,
              "#46039f"
             ],
             [
              0.2222222222222222,
              "#7201a8"
             ],
             [
              0.3333333333333333,
              "#9c179e"
             ],
             [
              0.4444444444444444,
              "#bd3786"
             ],
             [
              0.5555555555555556,
              "#d8576b"
             ],
             [
              0.6666666666666666,
              "#ed7953"
             ],
             [
              0.7777777777777778,
              "#fb9f3a"
             ],
             [
              0.8888888888888888,
              "#fdca26"
             ],
             [
              1,
              "#f0f921"
             ]
            ],
            "type": "surface"
           }
          ],
          "table": [
           {
            "cells": {
             "fill": {
              "color": "#EBF0F8"
             },
             "line": {
              "color": "white"
             }
            },
            "header": {
             "fill": {
              "color": "#C8D4E3"
             },
             "line": {
              "color": "white"
             }
            },
            "type": "table"
           }
          ]
         },
         "layout": {
          "annotationdefaults": {
           "arrowcolor": "#2a3f5f",
           "arrowhead": 0,
           "arrowwidth": 1
          },
          "coloraxis": {
           "colorbar": {
            "outlinewidth": 0,
            "ticks": ""
           }
          },
          "colorscale": {
           "diverging": [
            [
             0,
             "#8e0152"
            ],
            [
             0.1,
             "#c51b7d"
            ],
            [
             0.2,
             "#de77ae"
            ],
            [
             0.3,
             "#f1b6da"
            ],
            [
             0.4,
             "#fde0ef"
            ],
            [
             0.5,
             "#f7f7f7"
            ],
            [
             0.6,
             "#e6f5d0"
            ],
            [
             0.7,
             "#b8e186"
            ],
            [
             0.8,
             "#7fbc41"
            ],
            [
             0.9,
             "#4d9221"
            ],
            [
             1,
             "#276419"
            ]
           ],
           "sequential": [
            [
             0,
             "#0d0887"
            ],
            [
             0.1111111111111111,
             "#46039f"
            ],
            [
             0.2222222222222222,
             "#7201a8"
            ],
            [
             0.3333333333333333,
             "#9c179e"
            ],
            [
             0.4444444444444444,
             "#bd3786"
            ],
            [
             0.5555555555555556,
             "#d8576b"
            ],
            [
             0.6666666666666666,
             "#ed7953"
            ],
            [
             0.7777777777777778,
             "#fb9f3a"
            ],
            [
             0.8888888888888888,
             "#fdca26"
            ],
            [
             1,
             "#f0f921"
            ]
           ],
           "sequentialminus": [
            [
             0,
             "#0d0887"
            ],
            [
             0.1111111111111111,
             "#46039f"
            ],
            [
             0.2222222222222222,
             "#7201a8"
            ],
            [
             0.3333333333333333,
             "#9c179e"
            ],
            [
             0.4444444444444444,
             "#bd3786"
            ],
            [
             0.5555555555555556,
             "#d8576b"
            ],
            [
             0.6666666666666666,
             "#ed7953"
            ],
            [
             0.7777777777777778,
             "#fb9f3a"
            ],
            [
             0.8888888888888888,
             "#fdca26"
            ],
            [
             1,
             "#f0f921"
            ]
           ]
          },
          "colorway": [
           "#636efa",
           "#EF553B",
           "#00cc96",
           "#ab63fa",
           "#FFA15A",
           "#19d3f3",
           "#FF6692",
           "#B6E880",
           "#FF97FF",
           "#FECB52"
          ],
          "font": {
           "color": "#2a3f5f"
          },
          "geo": {
           "bgcolor": "white",
           "lakecolor": "white",
           "landcolor": "#E5ECF6",
           "showlakes": true,
           "showland": true,
           "subunitcolor": "white"
          },
          "hoverlabel": {
           "align": "left"
          },
          "hovermode": "closest",
          "mapbox": {
           "style": "light"
          },
          "paper_bgcolor": "white",
          "plot_bgcolor": "#E5ECF6",
          "polar": {
           "angularaxis": {
            "gridcolor": "white",
            "linecolor": "white",
            "ticks": ""
           },
           "bgcolor": "#E5ECF6",
           "radialaxis": {
            "gridcolor": "white",
            "linecolor": "white",
            "ticks": ""
           }
          },
          "scene": {
           "xaxis": {
            "backgroundcolor": "#E5ECF6",
            "gridcolor": "white",
            "gridwidth": 2,
            "linecolor": "white",
            "showbackground": true,
            "ticks": "",
            "zerolinecolor": "white"
           },
           "yaxis": {
            "backgroundcolor": "#E5ECF6",
            "gridcolor": "white",
            "gridwidth": 2,
            "linecolor": "white",
            "showbackground": true,
            "ticks": "",
            "zerolinecolor": "white"
           },
           "zaxis": {
            "backgroundcolor": "#E5ECF6",
            "gridcolor": "white",
            "gridwidth": 2,
            "linecolor": "white",
            "showbackground": true,
            "ticks": "",
            "zerolinecolor": "white"
           }
          },
          "shapedefaults": {
           "line": {
            "color": "#2a3f5f"
           }
          },
          "ternary": {
           "aaxis": {
            "gridcolor": "white",
            "linecolor": "white",
            "ticks": ""
           },
           "baxis": {
            "gridcolor": "white",
            "linecolor": "white",
            "ticks": ""
           },
           "bgcolor": "#E5ECF6",
           "caxis": {
            "gridcolor": "white",
            "linecolor": "white",
            "ticks": ""
           }
          },
          "title": {
           "x": 0.05
          },
          "xaxis": {
           "automargin": true,
           "gridcolor": "white",
           "linecolor": "white",
           "ticks": "",
           "title": {
            "standoff": 15
           },
           "zerolinecolor": "white",
           "zerolinewidth": 2
          },
          "yaxis": {
           "automargin": true,
           "gridcolor": "white",
           "linecolor": "white",
           "ticks": "",
           "title": {
            "standoff": 15
           },
           "zerolinecolor": "white",
           "zerolinewidth": 2
          }
         }
        },
        "title": {
         "text": "Statewise spending done on medical centers"
        }
       }
      },
      "text/html": [
       "<div>\n",
       "        \n",
       "        \n",
       "            <div id=\"51485307-b117-40ca-9532-ea13c51cf41e\" class=\"plotly-graph-div\" style=\"height:525px; width:100%;\"></div>\n",
       "            <script type=\"text/javascript\">\n",
       "                require([\"plotly\"], function(Plotly) {\n",
       "                    window.PLOTLYENV=window.PLOTLYENV || {};\n",
       "                    \n",
       "                if (document.getElementById(\"51485307-b117-40ca-9532-ea13c51cf41e\")) {\n",
       "                    Plotly.newPlot(\n",
       "                        '51485307-b117-40ca-9532-ea13c51cf41e',\n",
       "                        [{\"coloraxis\": \"coloraxis\", \"geo\": \"geo\", \"hovertemplate\": \"locations=%{location}<br>color=%{z}<extra></extra>\", \"locationmode\": \"USA-states\", \"locations\": [\"LA\", \"MN\", \"TX\", \"PA\", \"PA\", \"AZ\", \"AZ\", \"AZ\", \"LA\", \"PA\", \"TX\", \"MA\", \"OH\", \"NY\", \"PA\", \"FL\", \"FL\", \"FL\", \"FL\", \"GA\", \"GA\", \"FL\", \"FL\", \"FL\", \"FL\", \"FL\", \"FL\", \"FL\", \"FL\", \"IL\", \"IL\", \"CA\", \"CA\", \"HI\", \"CA\", \"CA\", \"CA\", \"OR\", \"CA\", \"CA\", \"CA\", \"CA\", \"CA\", \"IL\", \"IL\", \"IL\", \"IL\", \"IL\", \"IL\", \"IL\", \"IL\", \"IL\", \"IL\", \"IL\", \"IL\", \"CA\", \"SC\", \"OH\", \"NC\", \"CA\", \"AK\", \"AK\", \"NY\", \"NY\", \"PA\", \"IL\", \"CA\", \"NY\", \"PA\", \"PA\", \"IA\", \"LA\", \"OH\", \"MS\", \"MS\", \"OK\", \"OK\", \"OK\", \"OK\", \"OK\", \"MN\", \"MN\", \"CA\", \"CA\", \"UT\", \"NM\", \"IL\", \"ND\", \"CA\", \"UT\", \"IL\", \"CA\", \"AL\", \"IL\", \"MS\", \"CO\", \"SC\", \"MA\", \"TX\", \"CA\", \"GA\", \"PA\", \"TX\", \"AZ\", \"AZ\", \"AR\", \"AR\", \"AR\", \"NY\", \"AZ\", \"CA\", \"NM\", \"OR\", \"OR\", \"OR\", \"MI\", \"WI\", \"MI\", \"MI\", \"MI\", \"WI\", \"MI\", \"UT\", \"OH\", \"WI\", \"WI\", \"AL\", \"NJ\", \"AL\", \"NC\", \"NC\", \"NC\", \"NC\", \"OH\", \"GA\", \"NY\", \"VA\", \"OH\", \"NY\", \"WI\", \"WI\", \"WI\", \"WI\", \"WI\", \"WI\", \"WI\", \"WI\", \"WI\", \"WI\", \"CO\", \"WI\", \"LA\", \"FL\", \"SD\", \"SD\", \"SD\", \"SD\", \"SD\", \"SD\", \"OH\", \"LA\", \"OK\", \"CA\", \"CA\", \"AZ\", \"AZ\", \"AZ\", \"AZ\", \"AZ\", \"AZ\", \"AZ\", \"AZ\", \"CO\", \"AZ\", \"AZ\", \"AZ\", \"AZ\", \"AZ\", \"AZ\", \"TX\", \"TX\", \"KY\", \"IN\", \"KY\", \"KY\", \"KY\", \"KY\", \"AR\", \"AR\", \"AR\", \"AR\", \"AR\", \"KY\", \"KY\", \"FL\", \"FL\", \"TX\", \"FL\", \"FL\", \"AL\", \"FL\", \"AL\", \"TN\", \"TN\", \"MS\", \"MS\", \"MS\", \"MS\", \"TN\", \"TN\", \"MS\", \"TX\", \"MO\", \"MO\", \"MO\", \"GA\", \"CA\", \"AK\", \"CA\", \"FL\", \"NY\", \"MO\", \"LA\", \"AR\", \"OR\", \"WI\", \"FL\", \"OH\", \"FL\", \"FL\", \"FL\", \"FL\", \"DE\", \"DE\", \"TX\", \"TX\", \"TX\", \"TX\", \"TX\", \"TX\", \"TX\", \"TX\", \"TX\", \"TX\", \"TX\", \"TX\", \"TX\", \"TX\", \"TX\", \"TX\", \"TX\", \"TX\", \"TX\", \"TX\", \"TX\", \"TX\", \"TX\", \"TX\", \"TX\", \"TX\", \"TX\", \"TX\", \"TX\", \"TX\", \"TX\", \"NJ\", \"NJ\", \"TX\", \"MA\", \"MA\", \"MA\", \"MA\", \"MS\", \"UT\", \"SC\", \"MI\", \"MI\", \"MI\", \"MI\", \"MI\", \"MI\", \"MI\", \"MI\", \"LA\", \"WI\", \"WV\", \"DE\", \"OH\", \"NY\", \"NE\", \"WI\", \"TX\", \"WI\", \"MO\", \"MT\", \"OH\", \"WV\", \"MA\", \"NY\", \"PA\", \"MA\", \"MA\", \"MA\", \"MA\", \"FL\", \"OH\", \"NC\", \"CA\", \"AL\", \"TN\", \"MT\", \"SD\", \"MO\", \"OK\", \"FL\", \"OH\", \"IL\", \"TN\", \"WV\", \"IN\", \"KS\", \"FL\", \"MS\", \"NY\", \"VA\", \"VA\", \"VA\", \"VA\", \"VA\", \"VA\", \"VA\", \"SC\", \"MO\", \"MI\", \"MA\", \"MO\", \"CO\", \"KY\", \"MT\", \"FL\", \"PA\", \"VT\", \"CT\", \"MA\", \"UT\", \"CT\", \"OK\", \"IA\", \"MI\", \"MI\", \"MI\", \"NY\", \"NY\", \"SD\", \"NY\", \"NY\", \"AL\", \"FL\", \"FL\", \"FL\", \"FL\", \"TX\", \"TX\", \"NE\", \"AL\", \"PA\", \"VA\", \"MN\", \"AL\", \"GA\", \"PA\", \"LA\", \"WV\", \"UT\", \"NC\", \"LA\", \"CA\", \"CA\", \"CA\", \"CA\", \"AL\", \"MA\", \"MN\", \"WV\", \"MO\", \"WY\", \"GA\", \"SC\", \"PA\", \"NY\", \"AZ\", \"FL\", \"MA\", \"FL\", \"NC\", \"NC\", \"NJ\", \"NJ\", \"NJ\", \"WA\", \"MO\", \"FL\", \"NJ\", \"VA\", \"VA\", \"VA\", \"VA\", \"PA\", \"NM\", \"MA\", \"NC\", \"SC\", \"NC\", \"NC\", \"SC\", \"SC\", \"NC\", \"NC\", \"NC\", \"NC\", \"NC\", \"MN\", \"NV\", \"NC\", \"GA\", \"ME\", \"CA\", \"WA\", \"CO\", \"UT\", \"NC\", \"NH\", \"NY\", \"NY\", \"UT\", \"TX\", \"CA\", \"CA\", \"IL\", \"NV\", \"MO\", \"CA\", \"VA\", \"VA\", \"VA\", \"NC\", \"IL\", \"FL\", \"LA\", \"ME\", \"AK\", \"TX\", \"VT\", \"WA\", \"NJ\", \"CO\", \"CO\", \"CO\", \"CO\", \"CO\", \"IL\", \"AR\", \"PA\", \"NY\", \"PA\", \"AZ\", \"CA\", \"WV\", \"WV\", \"CT\", \"NY\", \"NC\", \"AL\", \"SC\", \"OK\", \"VA\", \"NH\", \"PA\", \"PA\", \"WY\", \"TX\", \"NE\", \"NE\", \"NE\", \"NE\", \"IA\", \"NE\", \"NE\", \"NE\", \"NE\", \"GA\", \"ND\", \"TX\", \"TX\", \"TX\", \"TX\", \"TX\", \"TX\", \"AR\", \"OK\", \"TX\", \"NJ\", \"CA\", \"AZ\", \"CA\", \"MI\", \"OK\", \"OK\", \"OH\", \"MO\", \"DE\", \"LA\", \"TX\", \"TX\", \"TX\", \"LA\", \"LA\", \"TX\", \"TX\", \"TX\", \"TX\", \"TX\", \"TX\", \"LA\", \"TX\", \"NM\", \"NY\", \"AL\", \"LA\", \"TX\", \"MO\", \"FL\", \"VA\", \"TN\", \"LA\", \"NJ\", \"OK\", \"PA\", \"IN\", \"KY\", \"NY\", \"AL\", \"MS\", \"PA\", \"GA\", \"OH\", \"OH\", \"FL\", \"NY\", \"VA\", \"OH\", \"CA\", \"CA\", \"SC\", \"GA\", \"KS\", \"GA\", \"GA\", \"CA\", \"CA\", \"TX\", \"SC\", \"CO\", \"GA\", \"NY\", \"WI\", \"NE\", \"TX\", \"NC\", \"IN\", \"CA\", \"OK\", \"IL\", \"CO\", \"IN\", \"IN\", \"AL\", \"OK\", \"IN\", \"IN\", \"CA\", \"CA\", \"CA\", \"IN\", \"OH\", \"IN\", \"MT\", \"NJ\", \"VA\", \"WI\", \"CA\", \"CA\", \"NH\", \"PA\", \"PA\", \"WA\", \"TX\", \"CA\", \"SC\", \"AR\", \"GA\", \"TN\", \"MA\", \"MO\", \"NJ\", \"PA\", \"AL\", \"IL\", \"FL\", \"TX\", \"NY\", \"CA\", \"TX\", \"NY\", \"OH\", \"TX\", \"TX\", \"IA\", \"MI\", \"TX\", \"MO\", \"MO\", \"AL\", \"TX\", \"AL\", \"GA\", \"KY\", \"MI\", \"MS\", \"IL\", \"NY\", \"NM\", \"PA\", \"OH\", \"TX\", \"AL\", \"TN\", \"TX\", \"LA\", \"AL\", \"AL\", \"AL\", \"TX\", \"TX\", \"CA\", \"CT\", \"NC\", \"IN\", \"UT\", \"WV\", \"NC\", \"CT\", \"TX\", \"IN\", \"WA\", \"IN\", \"NJ\", \"TN\", \"IL\", \"AL\", \"TN\", \"IN\", \"AL\", \"CA\", \"PA\", \"TX\", \"IL\", \"FL\", \"CO\", \"MS\", \"CO\", \"CA\", \"NV\", \"CA\", \"FL\", \"LA\", \"MI\", \"MI\", \"AZ\", \"NV\", \"MN\", \"WI\", \"UT\", \"FL\", \"GA\", \"OH\", \"TX\", \"KS\", \"TX\", \"CA\", \"FL\", \"TX\", \"CA\", \"FL\", \"GA\", \"CA\", \"GA\", \"GA\", \"FL\", \"PA\", \"AR\", \"OH\", \"NC\", \"NC\", \"NC\", \"OK\", \"SD\", \"IN\", \"TN\", \"PA\", \"AL\", \"LA\", \"SC\", \"GA\", \"LA\", \"OH\", \"CA\", \"OH\", \"NJ\", \"TX\", \"ID\", \"NY\", \"ME\", \"NM\", \"NY\", \"PA\", \"TX\", \"PA\", \"GA\", \"FL\", \"CA\", \"IL\", \"MI\", \"PA\", \"CA\", \"CA\", \"TX\", \"CA\", \"GA\", \"IN\", \"OK\", \"NH\", \"NY\", \"PA\", \"NY\", \"IL\", \"AL\", \"CA\", \"CA\", \"CA\", \"GA\", \"MA\", \"MI\", \"GA\", \"GA\", \"GA\", \"GA\", \"GA\", \"CA\", \"FL\", \"NJ\", \"CA\", \"TX\", \"KY\", \"NY\", \"TN\", \"IN\", \"ND\", \"MN\", \"MN\", \"MN\", \"MN\", \"MN\", \"OH\", \"PA\", \"GA\", \"WY\", \"AL\", \"WA\", \"WA\", \"PA\", \"PA\", \"PA\", \"NH\", \"NY\", \"IN\", \"AK\", \"OH\", \"WV\", \"OH\", \"MN\", \"MN\", \"GA\", \"MN\", \"MN\", \"TX\", \"NE\", \"TX\", \"MA\", \"GA\", \"MA\", \"VA\", \"FL\", \"NY\", \"AL\", \"IN\", \"IL\", \"NY\", \"IA\", \"OH\", \"TX\", \"NC\", \"OH\", \"MO\", \"AR\", \"KY\", \"FL\", \"AZ\", \"KY\", \"FL\", \"FL\", \"FL\", \"AL\", \"GA\", \"NY\", \"CA\", \"PA\", \"MI\", \"AR\", \"MS\", \"AZ\", \"TX\", \"OH\", \"TN\", \"IA\", \"WI\", \"TN\", \"FL\", \"TX\", \"TX\", \"CA\", \"IN\", \"IN\", \"IN\", \"IN\", \"IN\", \"IN\", \"IL\", \"IN\", \"IN\", \"IN\", \"KY\", \"LA\", \"ME\", \"TN\", \"MO\", \"TX\", \"CA\", \"CA\", \"NH\", \"WI\", \"NC\", \"AL\", \"IL\", \"NM\", \"MI\", \"CA\", \"MS\", \"CA\", \"IL\", \"KS\", \"PA\", \"PA\", \"PA\", \"PA\", \"PA\", \"IL\", \"OH\", \"IA\", \"MI\", \"CA\", \"MS\", \"DC\", \"KY\", \"NM\", \"PA\", \"SC\", \"SC\", \"SC\", \"SC\", \"SC\", \"SC\", \"SC\", \"NM\", \"TX\", \"OH\", \"CA\", \"CA\", \"CA\", \"NY\", \"LA\", \"MO\", \"CA\", \"CA\", \"IN\", \"OH\", \"PA\", \"NY\", \"NY\", \"FL\", \"MA\", \"CO\", \"OR\", \"TX\", \"IN\", \"IL\", \"TX\", \"GA\", \"GA\", \"OH\", \"OK\", \"IL\", \"TX\", \"MN\", \"OH\", \"SC\", \"PA\", \"OH\", \"AL\", \"OH\", \"NC\", \"WA\", \"MT\", \"NE\", \"OK\", \"AR\", \"IA\", \"CA\", \"WV\", \"AL\", \"OH\", \"KY\", \"IL\", \"CT\", \"MS\", \"CT\", \"IA\", \"CA\", \"PA\", \"AL\", \"NM\", \"TX\", \"FL\", \"FL\", \"FL\", \"WI\", \"PA\", \"GA\", \"GA\", \"NJ\", \"NJ\", \"NJ\", \"NJ\", \"NJ\", \"PA\", \"AL\", \"FL\", \"NC\", \"GA\", \"SC\", \"IN\", \"MO\", \"PA\", \"WA\", \"TN\", \"KY\", \"KY\", \"NY\", \"TX\", \"MI\", \"MA\", \"TX\", \"NC\", \"IL\", \"WA\", \"KY\", \"CT\", \"AZ\", \"TN\", \"KS\", \"NC\", \"KY\", \"CA\", \"TX\", \"TX\", \"TX\", \"TX\", \"TX\", \"TX\", \"TX\", \"CO\", \"FL\", \"NY\", \"NY\", \"MA\", \"MN\", \"MN\", \"FL\", \"MI\", \"LA\", \"FL\", \"PA\", \"IL\", \"AL\", \"AR\", \"CA\", \"TX\", \"TN\", \"NV\", \"TX\", \"IN\", \"MN\", \"VA\", \"TN\", \"IN\", \"MI\", \"MI\", \"MI\", \"MI\", \"MI\", \"CA\", \"TX\", \"PA\", \"PA\", \"MA\", \"CA\", \"FL\", \"NC\", \"MS\", \"CA\", \"NY\", \"PA\", \"AL\", \"FL\", \"KY\", \"WA\", \"TX\", \"AL\", \"TX\", \"OH\", \"OK\", \"OK\", \"OK\", \"OK\", \"OK\", \"OK\", \"MI\", \"HI\", \"SC\", \"OH\", \"CA\", \"CA\", \"NJ\", \"MI\", \"CA\", \"FL\", \"FL\", \"IL\", \"MA\", \"WI\", \"NJ\", \"PA\", \"PA\", \"MA\", \"OH\", \"FL\", \"AZ\", \"AZ\", \"NY\", \"PA\", \"GA\", \"TX\", \"TX\", \"TX\", \"TX\", \"TX\", \"TX\", \"TX\", \"TX\", \"DC\", \"WI\", \"IL\", \"IL\", \"NJ\", \"NC\", \"TX\", \"NJ\", \"CA\", \"CA\", \"AL\", \"TX\", \"MI\", \"MI\", \"MN\", \"KS\", \"LA\", \"IL\", \"TN\", \"FL\", \"IN\", \"PA\", \"IN\", \"IN\", \"IN\", \"IN\", \"IN\", \"IN\", \"IL\", \"VA\", \"VA\", \"VA\", \"VA\", \"VA\", \"NJ\", \"NJ\", \"NJ\", \"OH\", \"OK\", \"OK\", \"OK\", \"OK\", \"OK\", \"OK\", \"OK\", \"NY\", \"UT\", \"IA\", \"IA\", \"NY\", \"NC\", \"IL\", \"GA\", \"WA\", \"IN\", \"WY\", \"PA\", \"AL\", \"AL\", \"OK\", \"FL\", \"FL\", \"AL\", \"AL\", \"IL\", \"KY\", \"TN\", \"NY\", \"NY\", \"OK\", \"FL\", \"PA\", \"MS\", \"GA\", \"PA\", \"AR\", \"NJ\", \"TN\", \"PA\", \"KY\", \"LA\", \"NJ\", \"IL\", \"NJ\", \"KY\", \"KY\", \"OH\", \"FL\", \"NJ\", \"AZ\", \"GA\", \"CT\", \"CA\", \"IL\", \"CA\", \"CA\", \"VA\", \"NY\", \"TN\", \"CT\", \"IN\", \"AR\", \"NC\", \"VA\", \"NY\", \"UT\", \"TX\", \"FL\", \"WA\", \"CA\", \"HI\", \"CA\", \"CA\", \"CA\", \"CA\", \"CA\", \"CA\", \"CA\", \"CA\", \"CA\", \"CA\", \"CA\", \"CA\", \"CA\", \"CA\", \"CA\", \"CA\", \"CA\", \"CA\", \"CA\", \"CA\", \"OR\", \"CA\", \"CA\", \"CA\", \"CA\", \"CA\", \"CA\", \"CA\", \"CA\", \"CA\", \"OR\", \"NY\", \"MT\", \"PA\", \"KS\", \"KS\", \"KS\", \"KS\", \"KS\", \"MI\", \"IL\", \"CA\", \"NE\", \"CA\", \"TX\", \"FL\", \"NY\", \"PA\", \"RI\", \"KY\", \"CA\", \"SC\", \"OH\", \"OH\", \"MS\", \"IN\", \"KY\", \"AZ\", \"NY\", \"OH\", \"NY\", \"TX\", \"IL\", \"TX\", \"OH\", \"HI\", \"ID\", \"IN\", \"HI\", \"CA\", \"IN\", \"KS\", \"CA\", \"CA\", \"CA\", \"CA\", \"LA\", \"LA\", \"LA\", \"TN\", \"MA\", \"LA\", \"SC\", \"FL\", \"KY\", \"TX\", \"OH\", \"MI\", \"AL\", \"NC\", \"MN\", \"MO\", \"FL\", \"AL\", \"MI\", \"MI\", \"FL\", \"NH\", \"IA\", \"FL\", \"UT\", \"WI\", \"MN\", \"FL\", \"CA\", \"TX\", \"PA\", \"RI\", \"LA\", \"TX\", \"FL\", \"FL\", \"FL\", \"TX\", \"LA\", \"FL\", \"CT\", \"MA\", \"AL\", \"KS\", \"OK\", \"UT\", \"NM\", \"TN\", \"FL\", \"MO\", \"FL\", \"OR\", \"OR\", \"OR\", \"OR\", \"WA\", \"OR\", \"FL\", \"PA\", \"PA\", \"PA\", \"NY\", \"LA\", \"VA\", \"VA\", \"VA\", \"VA\", \"SC\", \"NC\", \"OH\", \"OH\", \"NY\", \"TN\", \"NE\", \"IL\", \"CO\", \"TN\", \"PA\", \"KY\", \"UT\", \"WV\", \"CA\", \"CA\", \"CA\", \"UT\", \"VA\", \"CA\", \"NY\", \"CO\", \"CO\", \"TX\", \"IL\", \"CA\", \"NM\", \"CA\", \"CA\", \"IL\", \"KY\", \"NY\", \"NJ\", \"NM\", \"NM\", \"NM\", \"NM\", \"MA\", \"PA\", \"FL\", \"IL\", \"TX\", \"OH\", \"IN\", \"CO\", \"IL\", \"CA\", \"CA\", \"OH\", \"ID\", \"MS\", \"PA\", \"AR\", \"MS\", \"NY\", \"PA\", \"ME\", \"ME\", \"IN\", \"FL\", \"CT\", \"KY\", \"KS\", \"MN\", \"NC\", \"NC\", \"CA\", \"AZ\", \"OH\", \"CA\", \"FL\", \"IN\", \"MS\", \"OH\", \"AL\", \"MI\", \"CA\", \"AL\", \"WI\", \"NC\", \"CA\", \"FL\", \"IA\", \"NH\", \"NE\", \"OH\", \"VA\", \"OH\", \"CT\", \"MA\", \"MA\", \"NY\", \"AK\", \"TX\", \"HI\", \"TN\", \"FL\", \"MN\", \"MN\", \"MN\", \"WI\", \"MN\", \"GA\", \"WI\", \"AZ\", \"MN\", \"IL\", \"OK\", \"OK\", \"OH\", \"UT\", \"CO\", \"OR\", \"MI\", \"MI\", \"MI\", \"MI\", \"MI\", \"MI\", \"MI\", \"MI\", \"MI\", \"MI\", \"SC\", \"SC\", \"SC\", \"SC\", \"SC\", \"KS\", \"GA\", \"KY\", \"PA\", \"FL\", \"TX\", \"AL\", \"AL\", \"TX\", \"GA\", \"TX\", \"TX\", \"AR\", \"CO\", \"FL\", \"TX\", \"TX\", \"TX\", \"TX\", \"TX\", \"TX\", \"TX\", \"TX\", \"TX\", \"VA\", \"AL\", \"OH\", \"DC\", \"DC\", \"FL\", \"MA\", \"MI\", \"TN\", \"TX\", \"TX\", \"TX\", \"TX\", \"TX\", \"TX\", \"TX\", \"IL\", \"IN\", \"OH\", \"OK\", \"PA\", \"TX\", \"IN\", \"GA\", \"MS\", \"IL\", \"FL\", \"CA\", \"FL\", \"IL\", \"CA\", \"IN\", \"FL\", \"FL\", \"WY\", \"FL\", \"CA\", \"IL\", \"NM\", \"TX\", \"NC\", \"FL\", \"GA\", \"CA\", \"CA\", \"AR\", \"CA\", \"CA\", \"KS\", \"OH\", \"PA\", \"CA\", \"AZ\", \"OH\", \"OH\", \"MI\", \"MI\", \"WI\", \"OH\", \"CA\", \"IA\", \"MN\", \"OK\", \"IL\", \"OH\", \"OK\", \"OH\", \"OH\", \"AR\", \"KS\", \"MO\", \"MO\", \"MO\", \"AR\", \"NY\", \"CA\", \"OK\", \"MO\", \"MO\", \"MO\", \"MO\", \"CA\", \"NY\", \"OH\", \"OR\", \"IA\", \"CA\", \"IA\", \"IA\", \"IA\", \"IA\", \"IA\", \"MA\", \"KS\", \"CO\", \"LA\", \"OH\", \"CA\", \"OH\", \"OH\", \"OH\", \"OH\", \"IL\", \"MS\", \"MS\", \"MS\", \"MS\", \"MS\", \"MS\", \"MS\", \"WI\", \"TX\", \"TX\", \"TX\", \"NE\", \"MS\", \"TN\", \"KY\", \"TX\", \"TX\", \"IL\", \"CA\", \"CA\", \"TX\", \"IN\", \"IA\", \"TX\", \"TX\", \"IL\", \"TN\", \"TX\", \"TX\", \"MI\", \"TN\", \"OH\", \"TX\", \"NY\", \"IL\", \"MA\", \"OH\", \"KS\", \"OH\", \"ME\", \"OR\", \"KY\", \"CT\", \"TX\", \"MI\", \"MI\", \"MI\", \"MI\", \"MI\", \"CT\", \"WI\", \"NE\", \"IL\", \"TN\", \"WI\", \"CT\", \"MA\", \"PA\", \"PA\", \"LA\", \"KS\", \"WI\", \"CA\", \"CA\", \"CA\", \"TX\", \"MS\", \"MO\", \"MO\", \"AL\", \"MO\", \"AL\", \"NJ\", \"NJ\", \"PA\", \"WV\", \"AL\", \"KY\", \"IN\", \"LA\", \"CA\", \"NY\", \"NY\", \"NY\", \"CA\", \"CO\", \"LA\", \"IL\", \"TN\", \"NJ\", \"KS\", \"MA\", \"FL\", \"FL\", \"FL\", \"MO\", \"NC\", \"PA\", \"MA\", \"OH\", \"OH\", \"OH\", \"PA\", \"SC\", \"NY\", \"NY\", \"FL\", \"NY\", \"NY\", \"ID\", \"UT\", \"NM\", \"AZ\", \"UT\", \"NV\", \"NV\", \"IL\", \"AZ\", \"WA\", \"WA\", \"WA\", \"WA\", \"MI\", \"MI\", \"MI\", \"MI\", \"MI\", \"KY\", \"SC\", \"SC\", \"SC\", \"OK\", \"TX\", \"DE\", \"MA\", \"FL\", \"NC\", \"MA\", \"PA\", \"NY\", \"LA\", \"NY\", \"AR\", \"CA\", \"TX\", \"GA\", \"PA\", \"AR\", \"NE\", \"NE\", \"MS\", \"MO\", \"NJ\", \"MA\", \"NC\", \"MO\", \"LA\", \"NY\", \"NY\", \"NY\", \"NY\", \"NY\", \"NY\", \"NJ\", \"NY\", \"SC\", \"RI\", \"TN\", \"KS\", \"NJ\", \"MA\", \"NY\", \"NY\", \"TX\", \"TX\", \"OK\", \"AL\", \"AR\", \"AL\", \"NC\", \"NC\", \"NY\", \"TX\", \"CO\", \"FL\", \"HI\", \"MO\", \"MN\", \"AR\", \"MS\", \"MS\", \"MS\", \"LA\", \"FL\", \"MI\", \"FL\", \"MA\", \"CO\", \"TX\", \"NV\", \"CA\", \"TN\", \"AL\", \"GA\", \"MO\", \"OK\", \"NV\", \"NY\", \"NC\", \"ME\", \"ME\", \"ME\", \"ME\", \"LA\", \"ME\", \"MT\", \"NM\", \"NV\", \"NY\", \"MA\", \"MN\", \"CA\", \"GA\", \"IL\", \"FL\", \"GA\", \"GA\", \"GA\", \"NY\", \"IL\", \"TX\", \"WA\", \"AL\", \"AZ\", \"FL\", \"AR\", \"MS\", \"ID\", \"TX\", \"IL\", \"VT\", \"IL\", \"VA\", \"KY\", \"CT\", \"IL\", \"MA\", \"NC\", \"NC\", \"NC\", \"NC\", \"NC\", \"NC\", \"NC\", \"NC\", \"VA\", \"VA\", \"VA\", \"CA\", \"NY\", \"NY\", \"NY\", \"NY\", \"NY\", \"NY\", \"NY\", \"OK\", \"CA\", \"AZ\", \"FL\", \"CA\", \"TX\", \"LA\", \"MI\", \"WI\", \"NJ\", \"MS\", \"LA\", \"LA\", \"LA\", \"LA\", \"LA\", \"MS\", \"LA\", \"WI\", \"TX\", \"UT\", \"OH\", \"PA\", \"WV\", \"OH\", \"OH\", \"OH\", \"OR\", \"OK\", \"OK\", \"OK\", \"OK\", \"OK\", \"OK\", \"KS\", \"NY\", \"MN\", \"CA\", \"WA\", \"OK\", \"NY\", \"NC\", \"LA\", \"CA\", \"FL\", \"NY\", \"FL\", \"AZ\", \"CA\", \"CO\", \"IN\", \"WI\", \"FL\", \"IL\", \"IL\", \"IL\", \"IL\", \"IL\", \"PA\", \"NY\", \"IL\", \"IA\", \"AR\", \"KY\", \"RI\", \"NJ\", \"LA\", \"LA\", \"LA\", \"WA\", \"KS\", \"NJ\", \"FL\", \"MN\", \"KY\", \"KY\", \"MO\", \"ND\", \"MT\", \"CA\", \"TX\", \"HI\", \"FL\", \"FL\", \"CA\", \"FL\", \"SC\", \"SC\", \"SC\", \"FL\", \"FL\", \"TX\", \"CA\", \"CA\", \"IL\", \"TX\", \"MS\", \"PA\", \"CA\", \"TX\", \"UT\", \"MN\", \"LA\", \"NC\", \"CO\", \"TX\", \"MO\", \"NH\", \"TN\", \"CA\", \"IN\", \"CO\", \"IN\", \"TX\", \"IN\", \"IN\", \"TN\", \"OH\", \"FL\", \"IL\", \"CA\", \"KY\", \"WA\", \"WA\", \"NY\", \"IL\", \"SC\", \"MO\", \"CA\", \"PA\", \"PA\", \"PA\", \"ME\", \"TX\", \"TN\", \"GA\", \"OK\", \"NC\", \"CA\", \"TX\", \"MO\", \"NY\", \"GA\", \"GA\", \"AZ\", \"PA\", \"SD\", \"PA\", \"TX\", \"LA\", \"TN\", \"FL\", \"TX\", \"IN\", \"AR\", \"AL\", \"GA\", \"GA\", \"GA\", \"GA\", \"GA\", \"GA\", \"SC\", \"GA\", \"GA\", \"GA\", \"GA\", \"CA\", \"CA\", \"KY\", \"TX\", \"PA\", \"IN\", \"CA\", \"CA\", \"NM\", \"NY\", \"FL\", \"CO\", \"WV\", \"FL\", \"CA\", \"OH\", \"CA\", \"OK\", \"MI\", \"MO\", \"IN\", \"ID\", \"NH\", \"PA\", \"CO\", \"SD\", \"KS\", \"AL\", \"KS\", \"NM\", \"NM\", \"NM\", \"CO\", \"IL\", \"IL\", \"IL\", \"IL\", \"IL\", \"IL\", \"IL\", \"AL\", \"WV\", \"IL\", \"MO\", \"MI\", \"MI\", \"OH\", \"WA\", \"AK\", \"WA\", \"SC\", \"TX\", \"CA\", \"WA\", \"AL\", \"TX\", \"CA\", \"CA\", \"OR\", \"KS\", \"OR\", \"OR\", \"OR\", \"WA\", \"CA\", \"CA\", \"WA\", \"WA\", \"OR\", \"CA\", \"OR\", \"IL\", \"PA\", \"OK\", \"OK\", \"FL\", \"NY\", \"CA\", \"NY\", \"WV\", \"NC\", \"KS\", \"LA\", \"NJ\", \"FL\", \"PA\", \"CA\", \"GA\", \"MN\", \"SD\", \"SD\", \"PA\", \"FL\", \"CA\", \"TN\", \"NE\", \"MN\", \"NM\", \"IN\", \"NV\", \"NV\", \"MO\", \"TX\", \"VA\", \"NC\", \"WV\", \"RI\", \"LA\", \"IL\", \"NY\", \"PA\", \"MN\", \"TX\", \"CA\", \"VA\", \"IL\", \"OH\", \"VA\", \"VA\", \"VA\", \"CA\", \"VA\", \"UT\", \"IN\", \"NJ\", \"AL\", \"TN\", \"PA\", \"NJ\", \"NJ\", \"NJ\", \"NJ\", \"NY\", \"KY\", \"CT\", \"RI\", \"TX\", \"NY\", \"CA\", \"NM\", \"SC\", \"CO\", \"IL\", \"PA\", \"TX\", \"PA\", \"MS\", \"IL\", \"IL\", \"VA\", \"AL\", \"AL\", \"NC\", \"VT\", \"LA\", \"FL\", \"PA\", \"WI\", \"FL\", \"FL\", \"OR\", \"OR\", \"WY\", \"CA\", \"ID\", \"OR\", \"ID\", \"MA\", \"IL\", \"NJ\", \"NJ\", \"TN\", \"OK\", \"OK\", \"OK\", \"OK\", \"CA\", \"MO\", \"CA\", \"IL\", \"KS\", \"KY\", \"CO\", \"KY\", \"KY\", \"MI\", \"KY\", \"IN\", \"IN\", \"GA\", \"KS\", \"MO\", \"KS\", \"MO\", \"NV\", \"CT\", \"NJ\", \"NJ\", \"NV\", \"NV\", \"TN\", \"TN\", \"TN\", \"TN\", \"TN\", \"PA\", \"CA\", \"OR\", \"NJ\", \"OH\", \"KS\", \"KS\", \"CA\", \"AR\", \"UT\", \"OR\", \"NY\", \"WA\", \"NY\", \"NC\", \"TX\", \"CA\", \"AZ\", \"CA\", \"CA\", \"CA\", \"CA\", \"NM\", \"CA\", \"CO\", \"CA\", \"CA\", \"SD\", \"MN\", \"ND\", \"ND\", \"MN\", \"SD\", \"CA\", \"CA\", \"AZ\", \"CA\", \"FL\", \"CA\", \"OR\", \"IL\", \"FL\", \"NY\", \"IA\", \"WI\", \"LA\", \"TX\", \"IN\", \"PA\", \"NC\", \"AZ\", \"AZ\", \"CA\", \"CA\", \"CA\", \"CA\", \"SC\", \"NC\", \"VA\", \"VA\", \"VA\", \"VA\", \"VA\", \"VA\", \"VA\", \"VA\", \"VA\", \"VA\", \"VA\", \"CA\", \"OK\", \"CA\", \"TX\", \"TX\", \"TX\", \"TX\", \"TX\", \"TX\", \"TX\", \"FL\", \"UT\", \"TX\", \"GA\", \"FL\", \"FL\", \"TX\", \"MS\", \"CT\", \"PA\", \"CA\", \"CA\", \"CA\", \"CA\", \"KS\", \"AL\", \"WY\", \"CA\", \"AL\", \"NJ\", \"DC\", \"CA\", \"CA\", \"CA\", \"MA\", \"AR\", \"IL\", \"CA\", \"MI\", \"MS\", \"SD\", \"NY\", \"WA\", \"IA\", \"OR\", \"CO\", \"LA\", \"VA\", \"OH\", \"CA\", \"CA\", \"AL\", \"FL\", \"KS\", \"MS\", \"CA\", \"RI\", \"FL\", \"GA\", \"FL\", \"FL\", \"NY\", \"OH\", \"IL\", \"MA\", \"MS\", \"TX\", \"TX\", \"TX\", \"VA\", \"MA\", \"AL\", \"GA\", \"GA\", \"KY\", \"OH\", \"GA\", \"NC\", \"MO\", \"MO\", \"CA\", \"NV\", \"IL\", \"ME\", \"NH\", \"NJ\", \"OH\", \"GA\", \"LA\", \"TN\", \"TN\", \"TN\", \"VA\", \"VA\", \"OH\", \"TX\", \"CA\", \"KS\", \"MS\", \"OK\", \"OK\", \"VT\", \"VA\", \"AR\", \"AR\", \"MI\", \"SC\", \"LA\", \"MI\", \"MI\", \"MI\", \"MI\", \"MI\", \"IA\", \"VA\", \"NV\", \"KY\", \"OH\", \"AL\", \"LA\", \"MO\", \"IL\", \"OK\", \"OK\", \"WI\", \"WI\", \"WI\", \"MO\", \"IL\", \"MO\", \"MO\", \"MO\", \"MO\", \"MO\", \"MO\", \"WI\", \"MO\", \"IL\", \"NY\", \"WA\", \"IA\", \"FL\", \"IL\", \"NY\", \"IL\", \"LA\", \"CA\", \"AR\", \"KS\", \"IN\", \"NY\", \"NY\", \"OR\", \"LA\", \"OR\", \"LA\", \"PA\", \"KY\", \"WA\", \"MN\", \"FL\", \"TX\", \"TX\", \"TX\", \"MS\", \"CA\", \"KY\", \"KY\", \"KY\", \"WI\", \"NY\", \"OH\", \"MA\", \"WA\", \"DE\", \"GA\", \"TN\", \"WV\", \"CT\", \"NY\", \"LA\", \"NJ\", \"MN\", \"SC\", \"MT\", \"NY\", \"OK\", \"OH\", \"OK\", \"OK\", \"NY\", \"NY\", \"IL\", \"WY\", \"CA\", \"CA\", \"CA\", \"IN\", \"ME\", \"NH\", \"WA\", \"IL\", \"MO\", \"PA\", \"TX\", \"WA\", \"MI\", \"MI\", \"MI\", \"ID\", \"AZ\", \"MN\", \"WI\", \"GA\", \"NJ\", \"NY\", \"NY\", \"NY\", \"CA\", \"WI\", \"FL\", \"IL\", \"CA\", \"MO\", \"CA\", \"FL\", \"NY\", \"MO\", \"OH\", \"PA\", \"PA\", \"TX\", \"PA\", \"PA\", \"AZ\", \"PA\", \"ID\", \"ID\", \"TX\", \"IA\", \"MN\", \"MO\", \"MO\", \"ID\", \"PA\", \"IA\", \"IL\", \"UT\", \"TX\", \"CO\", \"CA\", \"IL\", \"PA\", \"IN\", \"MI\", \"NJ\", \"NY\", \"GA\", \"WI\", \"CA\", \"FL\", \"WV\", \"MI\", \"ME\", \"OK\", \"IL\", \"CO\", \"MO\", \"AR\", \"WI\", \"WI\", \"NY\", \"MT\", \"FL\", \"NV\", \"CA\", \"LA\", \"TN\", \"OH\", \"IN\", \"MT\", \"IN\", \"MA\", \"WI\", \"AR\", \"AR\", \"AL\", \"AL\", \"FL\", \"FL\", \"AL\", \"FL\", \"CO\", \"IN\", \"AZ\", \"NJ\", \"IN\", \"AZ\", \"MT\", \"IN\", \"IN\", \"IN\", \"AL\", \"CT\", \"VA\", \"CT\", \"CA\", \"CA\", \"CA\", \"NC\", \"TX\", \"TN\", \"NY\", \"GA\", \"TX\", \"CO\", \"LA\", \"FL\", \"OK\", \"TN\", \"VA\", \"WV\", \"KS\", \"MI\", \"HI\", \"AL\", \"NY\", \"MA\", \"MI\", \"PA\", \"TX\", \"OH\", \"NV\", \"AZ\", \"OK\", \"KS\", \"KS\", \"TN\", \"PA\", \"NY\", \"NV\", \"NY\", \"NY\", \"MI\", \"OH\", \"OK\", \"PA\", \"PA\", \"LA\", \"KS\", \"CA\", \"CA\", \"CA\", \"CA\", \"CA\", \"CA\", \"CA\", \"CA\", \"CA\", \"CA\", \"CA\", \"CA\", \"IL\", \"IL\", \"WA\", \"WA\", \"WA\", \"WA\", \"TN\", \"TN\", \"KY\", \"WA\", \"TN\", \"FL\", \"FL\", \"GA\", \"GA\", \"MI\", \"GA\", \"KY\", \"LA\", \"CA\", \"PA\", \"TN\", \"TN\", \"TN\", \"TN\", \"TN\", \"TN\", \"IN\", \"LA\", \"MO\", \"TX\", \"TX\", \"TX\", \"TX\", \"TX\", \"TX\", \"TX\", \"TX\", \"TX\", \"TX\", \"TX\", \"TX\", \"TX\", \"TX\", \"TX\", \"TX\", \"TX\", \"TX\", \"TX\", \"TX\", \"TX\", \"TX\", \"IL\", \"AZ\", \"AL\", \"MT\", \"TX\", \"TX\", \"CT\", \"TX\", \"TX\", \"TX\", \"TX\", \"NC\", \"KY\", \"KY\", \"TX\", \"RI\", \"WI\", \"NE\", \"NE\", \"IN\", \"UT\", \"HI\", \"LA\", \"NJ\", \"IL\", \"TX\", \"WI\", \"WI\", \"LA\", \"AL\", \"PA\", \"WV\", \"IL\", \"MI\", \"KY\", \"SC\", \"SC\", \"GA\", \"UT\", \"MS\", \"TX\", \"KY\", \"WA\", \"TX\", \"CA\", \"IL\", \"LA\", \"MS\", \"ID\", \"CA\", \"SC\", \"OH\", \"NJ\", \"IA\", \"IL\", \"ND\", \"OH\", \"IA\", \"IA\", \"WA\", \"TN\", \"TN\", \"TN\", \"TN\", \"TN\", \"TN\", \"TN\", \"SC\", \"AL\", \"MO\", \"MO\", \"OH\", \"OR\", \"AZ\", \"AZ\", \"MA\", \"KY\", \"LA\", \"OK\", \"SC\", \"GA\", \"CA\", \"FL\", \"VA\", \"KY\", \"GA\", \"TX\", \"PA\", \"TX\", \"TX\", \"AR\", \"CA\", \"CO\", \"CO\", \"CO\", \"CA\", \"FL\", \"OH\", \"OH\", \"UT\", \"MA\", \"MA\", \"NC\", \"NC\", \"TN\", \"GA\", \"OH\", \"IN\", \"SC\", \"PA\", \"NY\", \"WV\", \"WI\", \"DC\", \"NY\", \"TX\", \"NY\", \"IN\", \"TN\", \"IA\", \"IA\", \"VT\", \"KS\", \"TX\", \"GA\", \"LA\", \"FL\", \"NY\", \"OH\", \"OH\", \"OH\", \"OH\", \"OH\", \"GA\", \"NV\", \"TX\", \"LA\", \"TX\", \"NJ\", \"MN\", \"AL\", \"CA\", \"CA\", \"OH\", \"CO\", \"IL\", \"IA\", \"KS\", \"KS\", \"KY\", \"KY\", \"MI\", \"MN\", \"MS\", \"MS\", \"MO\", \"NM\", \"NC\", \"AL\", \"TX\", \"TN\", \"OH\", \"UT\", \"VA\", \"WA\", \"WI\", \"NM\", \"MI\", \"PA\", \"PA\", \"NY\", \"PA\", \"PA\", \"PA\", \"PA\", \"PA\", \"PA\", \"PA\", \"PA\", \"PA\", \"PA\", \"PA\", \"OH\", \"GA\", \"CA\", \"TX\", \"TX\", \"TX\", \"TX\", \"TX\", \"UT\", \"CO\", \"TX\", \"TX\", \"PA\", \"NJ\", \"NV\", \"WA\", \"CA\", \"TX\", \"CO\", \"AZ\", \"OH\", \"TN\", \"NY\", \"AL\", \"FL\", \"CA\", \"AZ\", \"TX\", \"KS\", \"KS\", \"KS\", \"CA\", \"NC\", \"NC\", \"NC\", \"NC\", \"NC\", \"FL\", \"FL\", \"VA\", \"WA\", \"NJ\", \"NJ\", \"IL\", \"TN\", \"TX\", \"AR\", \"OK\", \"HI\", \"NC\", \"NC\", \"AL\", \"PA\", \"VA\", \"GA\", \"PA\", \"CA\", \"PA\", \"AR\", \"NC\", \"CT\", \"WI\", \"CA\", \"WI\", \"MS\", \"OH\", \"TN\", \"GA\", \"NC\", \"PA\", \"PA\", \"MS\", \"WV\", \"WV\", \"FL\", \"TN\", \"TN\", \"PA\", \"PA\", \"GA\", \"GA\", \"GA\", \"GA\", \"GA\", \"GA\", \"GA\", \"GA\", \"NH\", \"KS\", \"WI\", \"CA\", \"FL\", \"LA\", \"LA\", \"OH\", \"CA\", \"FL\", \"CA\", \"LA\", \"FL\", \"PA\", \"IL\", \"ID\", \"WV\", \"FL\", \"NY\", \"RI\", \"AZ\", \"MO\", \"KS\", \"OH\", \"IL\", \"FL\", \"WV\", \"WI\", \"WI\", \"WI\", \"WV\", \"AR\", \"CA\", \"NY\", \"AR\", \"AZ\", \"KY\", \"MS\", \"CA\", \"TX\", \"HI\", \"NC\", \"PA\", \"OR\", \"CT\", \"TN\", \"WV\", \"PA\", \"LA\", \"PA\", \"NC\", \"NC\", \"OH\", \"TX\", \"MA\", \"VA\", \"CT\", \"LA\", \"MN\", \"MS\", \"FL\", \"AL\", \"TX\", \"IN\", \"LA\", \"TX\", \"RI\", \"OH\", \"NY\", \"TX\", \"CA\", \"OH\", \"OH\", \"FL\", \"NY\", \"NY\", \"WY\", \"VA\", \"WA\", \"WA\", \"CT\", \"MS\", \"AZ\", \"ME\", \"PA\", \"AK\", \"AZ\", \"CA\", \"NM\"], \"name\": \"\", \"type\": \"choropleth\", \"z\": [2044.8636363636363, 1912.4545454545455, 2122.181818181818, 1952.0, 1952.0, 1991.3181818181818, 1991.3181818181818, 1991.3181818181818, 2044.8636363636363, 1952.0, 2122.181818181818, 1890.090909090909, 1994.6363636363637, 1948.409090909091, 1952.0, 1998.7272727272727, 1998.7272727272727, 1998.7272727272727, 1998.7272727272727, 1906.9545454545455, 1906.9545454545455, 1998.7272727272727, 1998.7272727272727, 1998.7272727272727, 1998.7272727272727, 1998.7272727272727, 1998.7272727272727, 1998.7272727272727, 1998.7272727272727, 1980.0, 1980.0, 2027.6363636363637, 2027.6363636363637, 1914.7727272727273, 2027.6363636363637, 2027.6363636363637, 2027.6363636363637, 1851.0454545454545, 2027.6363636363637, 2027.6363636363637, 2027.6363636363637, 2027.6363636363637, 2027.6363636363637, 1980.0, 1980.0, 1980.0, 1980.0, 1980.0, 1980.0, 1980.0, 1980.0, 1980.0, 1980.0, 1980.0, 1980.0, 2027.6363636363637, 1927.2272727272727, 1994.6363636363637, 1870.409090909091, 2027.6363636363637, 1896.4545454545455, 1896.4545454545455, 1948.409090909091, 1948.409090909091, 1952.0, 1980.0, 2027.6363636363637, 1948.409090909091, 1952.0, 1952.0, 1834.409090909091, 2044.8636363636363, 1994.6363636363637, 1902.0454545454545, 1902.0454545454545, 1968.1818181818182, 1968.1818181818182, 1968.1818181818182, 1968.1818181818182, 1968.1818181818182, 1912.4545454545455, 1912.4545454545455, 2027.6363636363637, 2027.6363636363637, 2085.409090909091, 1851.8181818181818, 1980.0, 1949.7727272727273, 2027.6363636363637, 2085.409090909091, 1980.0, 2027.6363636363637, 1888.9545454545455, 1980.0, 1902.0454545454545, 2034.7272727272727, 1927.2272727272727, 1890.090909090909, 2122.181818181818, 2027.6363636363637, 1906.9545454545455, 1952.0, 2122.181818181818, 1991.3181818181818, 1991.3181818181818, 1942.8181818181818, 1942.8181818181818, 1942.8181818181818, 1948.409090909091, 1991.3181818181818, 2027.6363636363637, 1851.8181818181818, 1851.0454545454545, 1851.0454545454545, 1851.0454545454545, 1915.1818181818182, 1876.409090909091, 1915.1818181818182, 1915.1818181818182, 1915.1818181818182, 1876.409090909091, 1915.1818181818182, 2085.409090909091, 1994.6363636363637, 1876.409090909091, 1876.409090909091, 1888.9545454545455, 2060.5, 1888.9545454545455, 1870.409090909091, 1870.409090909091, 1870.409090909091, 1870.409090909091, 1994.6363636363637, 1906.9545454545455, 1948.409090909091, 1879.7727272727273, 1994.6363636363637, 1948.409090909091, 1876.409090909091, 1876.409090909091, 1876.409090909091, 1876.409090909091, 1876.409090909091, 1876.409090909091, 1876.409090909091, 1876.409090909091, 1876.409090909091, 1876.409090909091, 2034.7272727272727, 1876.409090909091, 2044.8636363636363, 1998.7272727272727, 1949.7727272727273, 1949.7727272727273, 1949.7727272727273, 1949.7727272727273, 1949.7727272727273, 1949.7727272727273, 1994.6363636363637, 2044.8636363636363, 1968.1818181818182, 2027.6363636363637, 2027.6363636363637, 1991.3181818181818, 1991.3181818181818, 1991.3181818181818, 1991.3181818181818, 1991.3181818181818, 1991.3181818181818, 1991.3181818181818, 1991.3181818181818, 2034.7272727272727, 1991.3181818181818, 1991.3181818181818, 1991.3181818181818, 1991.3181818181818, 1991.3181818181818, 1991.3181818181818, 2122.181818181818, 2122.181818181818, 1916.5, 1980.3181818181818, 1916.5, 1916.5, 1916.5, 1916.5, 1942.8181818181818, 1942.8181818181818, 1942.8181818181818, 1942.8181818181818, 1942.8181818181818, 1916.5, 1916.5, 1998.7272727272727, 1998.7272727272727, 2122.181818181818, 1998.7272727272727, 1998.7272727272727, 1888.9545454545455, 1998.7272727272727, 1888.9545454545455, 1995.8636363636363, 1995.8636363636363, 1902.0454545454545, 1902.0454545454545, 1902.0454545454545, 1902.0454545454545, 1995.8636363636363, 1995.8636363636363, 1902.0454545454545, 2122.181818181818, 1938.1818181818182, 1938.1818181818182, 1938.1818181818182, 1906.9545454545455, 2027.6363636363637, 1896.4545454545455, 2027.6363636363637, 1998.7272727272727, 1948.409090909091, 1938.1818181818182, 2044.8636363636363, 1942.8181818181818, 1851.0454545454545, 1876.409090909091, 1998.7272727272727, 1994.6363636363637, 1998.7272727272727, 1998.7272727272727, 1998.7272727272727, 1998.7272727272727, 2064.409090909091, 2064.409090909091, 2122.181818181818, 2122.181818181818, 2122.181818181818, 2122.181818181818, 2122.181818181818, 2122.181818181818, 2122.181818181818, 2122.181818181818, 2122.181818181818, 2122.181818181818, 2122.181818181818, 2122.181818181818, 2122.181818181818, 2122.181818181818, 2122.181818181818, 2122.181818181818, 2122.181818181818, 2122.181818181818, 2122.181818181818, 2122.181818181818, 2122.181818181818, 2122.181818181818, 2122.181818181818, 2122.181818181818, 2122.181818181818, 2122.181818181818, 2122.181818181818, 2122.181818181818, 2122.181818181818, 2122.181818181818, 2122.181818181818, 2060.5, 2060.5, 2122.181818181818, 1890.090909090909, 1890.090909090909, 1890.090909090909, 1890.090909090909, 1902.0454545454545, 2085.409090909091, 1927.2272727272727, 1915.1818181818182, 1915.1818181818182, 1915.1818181818182, 1915.1818181818182, 1915.1818181818182, 1915.1818181818182, 1915.1818181818182, 1915.1818181818182, 2044.8636363636363, 1876.409090909091, 1873.409090909091, 2064.409090909091, 1994.6363636363637, 1948.409090909091, 2006.4545454545455, 1876.409090909091, 2122.181818181818, 1876.409090909091, 1938.1818181818182, 1867.409090909091, 1994.6363636363637, 1873.409090909091, 1890.090909090909, 1948.409090909091, 1952.0, 1890.090909090909, 1890.090909090909, 1890.090909090909, 1890.090909090909, 1998.7272727272727, 1994.6363636363637, 1870.409090909091, 2027.6363636363637, 1888.9545454545455, 1995.8636363636363, 1867.409090909091, 1949.7727272727273, 1938.1818181818182, 1968.1818181818182, 1998.7272727272727, 1994.6363636363637, 1980.0, 1995.8636363636363, 1873.409090909091, 1980.3181818181818, 1951.4545454545455, 1998.7272727272727, 1902.0454545454545, 1948.409090909091, 1879.7727272727273, 1879.7727272727273, 1879.7727272727273, 1879.7727272727273, 1879.7727272727273, 1879.7727272727273, 1879.7727272727273, 1927.2272727272727, 1938.1818181818182, 1915.1818181818182, 1890.090909090909, 1938.1818181818182, 2034.7272727272727, 1916.5, 1867.409090909091, 1998.7272727272727, 1952.0, 1881.3181818181818, 1971.8181818181818, 1890.090909090909, 2085.409090909091, 1971.8181818181818, 1968.1818181818182, 1834.409090909091, 1915.1818181818182, 1915.1818181818182, 1915.1818181818182, 1948.409090909091, 1948.409090909091, 1949.7727272727273, 1948.409090909091, 1948.409090909091, 1888.9545454545455, 1998.7272727272727, 1998.7272727272727, 1998.7272727272727, 1998.7272727272727, 2122.181818181818, 2122.181818181818, 2006.4545454545455, 1888.9545454545455, 1952.0, 1879.7727272727273, 1912.4545454545455, 1888.9545454545455, 1906.9545454545455, 1952.0, 2044.8636363636363, 1873.409090909091, 2085.409090909091, 1870.409090909091, 2044.8636363636363, 2027.6363636363637, 2027.6363636363637, 2027.6363636363637, 2027.6363636363637, 1888.9545454545455, 1890.090909090909, 1912.4545454545455, 1873.409090909091, 1938.1818181818182, 1787.5454545454545, 1906.9545454545455, 1927.2272727272727, 1952.0, 1948.409090909091, 1991.3181818181818, 1998.7272727272727, 1890.090909090909, 1998.7272727272727, 1870.409090909091, 1870.409090909091, 2060.5, 2060.5, 2060.5, 1896.4545454545455, 1938.1818181818182, 1998.7272727272727, 2060.5, 1879.7727272727273, 1879.7727272727273, 1879.7727272727273, 1879.7727272727273, 1952.0, 1851.8181818181818, 1890.090909090909, 1870.409090909091, 1927.2272727272727, 1870.409090909091, 1870.409090909091, 1927.2272727272727, 1927.2272727272727, 1870.409090909091, 1870.409090909091, 1870.409090909091, 1870.409090909091, 1870.409090909091, 1912.4545454545455, 2091.090909090909, 1870.409090909091, 1906.9545454545455, 1878.5454545454545, 2027.6363636363637, 1896.4545454545455, 2034.7272727272727, 2085.409090909091, 1870.409090909091, 1881.3181818181818, 1948.409090909091, 1948.409090909091, 2085.409090909091, 2122.181818181818, 2027.6363636363637, 2027.6363636363637, 1980.0, 2091.090909090909, 1938.1818181818182, 2027.6363636363637, 1879.7727272727273, 1879.7727272727273, 1879.7727272727273, 1870.409090909091, 1980.0, 1998.7272727272727, 2044.8636363636363, 1878.5454545454545, 1896.4545454545455, 2122.181818181818, 1881.3181818181818, 1896.4545454545455, 2060.5, 2034.7272727272727, 2034.7272727272727, 2034.7272727272727, 2034.7272727272727, 2034.7272727272727, 1980.0, 1942.8181818181818, 1952.0, 1948.409090909091, 1952.0, 1991.3181818181818, 2027.6363636363637, 1873.409090909091, 1873.409090909091, 1971.8181818181818, 1948.409090909091, 1870.409090909091, 1888.9545454545455, 1927.2272727272727, 1968.1818181818182, 1879.7727272727273, 1881.3181818181818, 1952.0, 1952.0, 1787.5454545454545, 2122.181818181818, 2006.4545454545455, 2006.4545454545455, 2006.4545454545455, 2006.4545454545455, 1834.409090909091, 2006.4545454545455, 2006.4545454545455, 2006.4545454545455, 2006.4545454545455, 1906.9545454545455, 1949.7727272727273, 2122.181818181818, 2122.181818181818, 2122.181818181818, 2122.181818181818, 2122.181818181818, 2122.181818181818, 1942.8181818181818, 1968.1818181818182, 2122.181818181818, 2060.5, 2027.6363636363637, 1991.3181818181818, 2027.6363636363637, 1915.1818181818182, 1968.1818181818182, 1968.1818181818182, 1994.6363636363637, 1938.1818181818182, 2064.409090909091, 2044.8636363636363, 2122.181818181818, 2122.181818181818, 2122.181818181818, 2044.8636363636363, 2044.8636363636363, 2122.181818181818, 2122.181818181818, 2122.181818181818, 2122.181818181818, 2122.181818181818, 2122.181818181818, 2044.8636363636363, 2122.181818181818, 1851.8181818181818, 1948.409090909091, 1888.9545454545455, 2044.8636363636363, 2122.181818181818, 1938.1818181818182, 1998.7272727272727, 1879.7727272727273, 1995.8636363636363, 2044.8636363636363, 2060.5, 1968.1818181818182, 1952.0, 1980.3181818181818, 1916.5, 1948.409090909091, 1888.9545454545455, 1902.0454545454545, 1952.0, 1906.9545454545455, 1994.6363636363637, 1994.6363636363637, 1998.7272727272727, 1948.409090909091, 1879.7727272727273, 1994.6363636363637, 2027.6363636363637, 2027.6363636363637, 1927.2272727272727, 1906.9545454545455, 1951.4545454545455, 1906.9545454545455, 1906.9545454545455, 2027.6363636363637, 2027.6363636363637, 2122.181818181818, 1927.2272727272727, 2034.7272727272727, 1906.9545454545455, 1948.409090909091, 1876.409090909091, 2006.4545454545455, 2122.181818181818, 1870.409090909091, 1980.3181818181818, 2027.6363636363637, 1968.1818181818182, 1980.0, 2034.7272727272727, 1980.3181818181818, 1980.3181818181818, 1888.9545454545455, 1968.1818181818182, 1980.3181818181818, 1980.3181818181818, 2027.6363636363637, 2027.6363636363637, 2027.6363636363637, 1980.3181818181818, 1994.6363636363637, 1980.3181818181818, 1867.409090909091, 2060.5, 1879.7727272727273, 1876.409090909091, 2027.6363636363637, 2027.6363636363637, 1881.3181818181818, 1952.0, 1952.0, 1896.4545454545455, 2122.181818181818, 2027.6363636363637, 1927.2272727272727, 1942.8181818181818, 1906.9545454545455, 1995.8636363636363, 1890.090909090909, 1938.1818181818182, 2060.5, 1952.0, 1888.9545454545455, 1980.0, 1998.7272727272727, 2122.181818181818, 1948.409090909091, 2027.6363636363637, 2122.181818181818, 1948.409090909091, 1994.6363636363637, 2122.181818181818, 2122.181818181818, 1834.409090909091, 1915.1818181818182, 2122.181818181818, 1938.1818181818182, 1938.1818181818182, 1888.9545454545455, 2122.181818181818, 1888.9545454545455, 1906.9545454545455, 1916.5, 1915.1818181818182, 1902.0454545454545, 1980.0, 1948.409090909091, 1851.8181818181818, 1952.0, 1994.6363636363637, 2122.181818181818, 1888.9545454545455, 1995.8636363636363, 2122.181818181818, 2044.8636363636363, 1888.9545454545455, 1888.9545454545455, 1888.9545454545455, 2122.181818181818, 2122.181818181818, 2027.6363636363637, 1971.8181818181818, 1870.409090909091, 1980.3181818181818, 2085.409090909091, 1873.409090909091, 1870.409090909091, 1971.8181818181818, 2122.181818181818, 1980.3181818181818, 1896.4545454545455, 1980.3181818181818, 2060.5, 1995.8636363636363, 1980.0, 1888.9545454545455, 1995.8636363636363, 1980.3181818181818, 1888.9545454545455, 2027.6363636363637, 1952.0, 2122.181818181818, 1980.0, 1998.7272727272727, 2034.7272727272727, 1902.0454545454545, 2034.7272727272727, 2027.6363636363637, 2091.090909090909, 2027.6363636363637, 1998.7272727272727, 2044.8636363636363, 1915.1818181818182, 1915.1818181818182, 1991.3181818181818, 2091.090909090909, 1912.4545454545455, 1876.409090909091, 2085.409090909091, 1998.7272727272727, 1906.9545454545455, 1994.6363636363637, 2122.181818181818, 1951.4545454545455, 2122.181818181818, 2027.6363636363637, 1998.7272727272727, 2122.181818181818, 2027.6363636363637, 1998.7272727272727, 1906.9545454545455, 2027.6363636363637, 1906.9545454545455, 1906.9545454545455, 1998.7272727272727, 1952.0, 1942.8181818181818, 1994.6363636363637, 1870.409090909091, 1870.409090909091, 1870.409090909091, 1968.1818181818182, 1949.7727272727273, 1980.3181818181818, 1995.8636363636363, 1952.0, 1888.9545454545455, 2044.8636363636363, 1927.2272727272727, 1906.9545454545455, 2044.8636363636363, 1994.6363636363637, 2027.6363636363637, 1994.6363636363637, 2060.5, 2122.181818181818, 1932.590909090909, 1948.409090909091, 1878.5454545454545, 1851.8181818181818, 1948.409090909091, 1952.0, 2122.181818181818, 1952.0, 1906.9545454545455, 1998.7272727272727, 2027.6363636363637, 1980.0, 1915.1818181818182, 1952.0, 2027.6363636363637, 2027.6363636363637, 2122.181818181818, 2027.6363636363637, 1906.9545454545455, 1980.3181818181818, 1968.1818181818182, 1881.3181818181818, 1948.409090909091, 1952.0, 1948.409090909091, 1980.0, 1888.9545454545455, 2027.6363636363637, 2027.6363636363637, 2027.6363636363637, 1906.9545454545455, 1890.090909090909, 1915.1818181818182, 1906.9545454545455, 1906.9545454545455, 1906.9545454545455, 1906.9545454545455, 1906.9545454545455, 2027.6363636363637, 1998.7272727272727, 2060.5, 2027.6363636363637, 2122.181818181818, 1916.5, 1948.409090909091, 1995.8636363636363, 1980.3181818181818, 1949.7727272727273, 1912.4545454545455, 1912.4545454545455, 1912.4545454545455, 1912.4545454545455, 1912.4545454545455, 1994.6363636363637, 1952.0, 1906.9545454545455, 1787.5454545454545, 1888.9545454545455, 1896.4545454545455, 1896.4545454545455, 1952.0, 1952.0, 1952.0, 1881.3181818181818, 1948.409090909091, 1980.3181818181818, 1896.4545454545455, 1994.6363636363637, 1873.409090909091, 1994.6363636363637, 1912.4545454545455, 1912.4545454545455, 1906.9545454545455, 1912.4545454545455, 1912.4545454545455, 2122.181818181818, 2006.4545454545455, 2122.181818181818, 1890.090909090909, 1906.9545454545455, 1890.090909090909, 1879.7727272727273, 1998.7272727272727, 1948.409090909091, 1888.9545454545455, 1980.3181818181818, 1980.0, 1948.409090909091, 1834.409090909091, 1994.6363636363637, 2122.181818181818, 1870.409090909091, 1994.6363636363637, 1938.1818181818182, 1942.8181818181818, 1916.5, 1998.7272727272727, 1991.3181818181818, 1916.5, 1998.7272727272727, 1998.7272727272727, 1998.7272727272727, 1888.9545454545455, 1906.9545454545455, 1948.409090909091, 2027.6363636363637, 1952.0, 1915.1818181818182, 1942.8181818181818, 1902.0454545454545, 1991.3181818181818, 2122.181818181818, 1994.6363636363637, 1995.8636363636363, 1834.409090909091, 1876.409090909091, 1995.8636363636363, 1998.7272727272727, 2122.181818181818, 2122.181818181818, 2027.6363636363637, 1980.3181818181818, 1980.3181818181818, 1980.3181818181818, 1980.3181818181818, 1980.3181818181818, 1980.3181818181818, 1980.0, 1980.3181818181818, 1980.3181818181818, 1980.3181818181818, 1916.5, 2044.8636363636363, 1878.5454545454545, 1995.8636363636363, 1938.1818181818182, 2122.181818181818, 2027.6363636363637, 2027.6363636363637, 1881.3181818181818, 1876.409090909091, 1870.409090909091, 1888.9545454545455, 1980.0, 1851.8181818181818, 1915.1818181818182, 2027.6363636363637, 1902.0454545454545, 2027.6363636363637, 1980.0, 1951.4545454545455, 1952.0, 1952.0, 1952.0, 1952.0, 1952.0, 1980.0, 1994.6363636363637, 1834.409090909091, 1915.1818181818182, 2027.6363636363637, 1902.0454545454545, 2064.409090909091, 1916.5, 1851.8181818181818, 1952.0, 1927.2272727272727, 1927.2272727272727, 1927.2272727272727, 1927.2272727272727, 1927.2272727272727, 1927.2272727272727, 1927.2272727272727, 1851.8181818181818, 2122.181818181818, 1994.6363636363637, 2027.6363636363637, 2027.6363636363637, 2027.6363636363637, 1948.409090909091, 2044.8636363636363, 1938.1818181818182, 2027.6363636363637, 2027.6363636363637, 1980.3181818181818, 1994.6363636363637, 1952.0, 1948.409090909091, 1948.409090909091, 1998.7272727272727, 1890.090909090909, 2034.7272727272727, 1851.0454545454545, 2122.181818181818, 1980.3181818181818, 1980.0, 2122.181818181818, 1906.9545454545455, 1906.9545454545455, 1994.6363636363637, 1968.1818181818182, 1980.0, 2122.181818181818, 1912.4545454545455, 1994.6363636363637, 1927.2272727272727, 1952.0, 1994.6363636363637, 1888.9545454545455, 1994.6363636363637, 1870.409090909091, 1896.4545454545455, 1867.409090909091, 2006.4545454545455, 1968.1818181818182, 1942.8181818181818, 1834.409090909091, 2027.6363636363637, 1873.409090909091, 1888.9545454545455, 1994.6363636363637, 1916.5, 1980.0, 1971.8181818181818, 1902.0454545454545, 1971.8181818181818, 1834.409090909091, 2027.6363636363637, 1952.0, 1888.9545454545455, 1851.8181818181818, 2122.181818181818, 1998.7272727272727, 1998.7272727272727, 1998.7272727272727, 1876.409090909091, 1952.0, 1906.9545454545455, 1906.9545454545455, 2060.5, 2060.5, 2060.5, 2060.5, 2060.5, 1952.0, 1888.9545454545455, 1998.7272727272727, 1870.409090909091, 1906.9545454545455, 1927.2272727272727, 1980.3181818181818, 1938.1818181818182, 1952.0, 1896.4545454545455, 1995.8636363636363, 1916.5, 1916.5, 1948.409090909091, 2122.181818181818, 1915.1818181818182, 1890.090909090909, 2122.181818181818, 1870.409090909091, 1980.0, 1896.4545454545455, 1916.5, 1971.8181818181818, 1991.3181818181818, 1995.8636363636363, 1951.4545454545455, 1870.409090909091, 1916.5, 2027.6363636363637, 2122.181818181818, 2122.181818181818, 2122.181818181818, 2122.181818181818, 2122.181818181818, 2122.181818181818, 2122.181818181818, 2034.7272727272727, 1998.7272727272727, 1948.409090909091, 1948.409090909091, 1890.090909090909, 1912.4545454545455, 1912.4545454545455, 1998.7272727272727, 1915.1818181818182, 2044.8636363636363, 1998.7272727272727, 1952.0, 1980.0, 1888.9545454545455, 1942.8181818181818, 2027.6363636363637, 2122.181818181818, 1995.8636363636363, 2091.090909090909, 2122.181818181818, 1980.3181818181818, 1912.4545454545455, 1879.7727272727273, 1995.8636363636363, 1980.3181818181818, 1915.1818181818182, 1915.1818181818182, 1915.1818181818182, 1915.1818181818182, 1915.1818181818182, 2027.6363636363637, 2122.181818181818, 1952.0, 1952.0, 1890.090909090909, 2027.6363636363637, 1998.7272727272727, 1870.409090909091, 1902.0454545454545, 2027.6363636363637, 1948.409090909091, 1952.0, 1888.9545454545455, 1998.7272727272727, 1916.5, 1896.4545454545455, 2122.181818181818, 1888.9545454545455, 2122.181818181818, 1994.6363636363637, 1968.1818181818182, 1968.1818181818182, 1968.1818181818182, 1968.1818181818182, 1968.1818181818182, 1968.1818181818182, 1915.1818181818182, 1914.7727272727273, 1927.2272727272727, 1994.6363636363637, 2027.6363636363637, 2027.6363636363637, 2060.5, 1915.1818181818182, 2027.6363636363637, 1998.7272727272727, 1998.7272727272727, 1980.0, 1890.090909090909, 1876.409090909091, 2060.5, 1952.0, 1952.0, 1890.090909090909, 1994.6363636363637, 1998.7272727272727, 1991.3181818181818, 1991.3181818181818, 1948.409090909091, 1952.0, 1906.9545454545455, 2122.181818181818, 2122.181818181818, 2122.181818181818, 2122.181818181818, 2122.181818181818, 2122.181818181818, 2122.181818181818, 2122.181818181818, 2064.409090909091, 1876.409090909091, 1980.0, 1980.0, 2060.5, 1870.409090909091, 2122.181818181818, 2060.5, 2027.6363636363637, 2027.6363636363637, 1888.9545454545455, 2122.181818181818, 1915.1818181818182, 1915.1818181818182, 1912.4545454545455, 1951.4545454545455, 2044.8636363636363, 1980.0, 1995.8636363636363, 1998.7272727272727, 1980.3181818181818, 1952.0, 1980.3181818181818, 1980.3181818181818, 1980.3181818181818, 1980.3181818181818, 1980.3181818181818, 1980.3181818181818, 1980.0, 1879.7727272727273, 1879.7727272727273, 1879.7727272727273, 1879.7727272727273, 1879.7727272727273, 2060.5, 2060.5, 2060.5, 1994.6363636363637, 1968.1818181818182, 1968.1818181818182, 1968.1818181818182, 1968.1818181818182, 1968.1818181818182, 1968.1818181818182, 1968.1818181818182, 1948.409090909091, 2085.409090909091, 1834.409090909091, 1834.409090909091, 1948.409090909091, 1870.409090909091, 1980.0, 1906.9545454545455, 1896.4545454545455, 1980.3181818181818, 1787.5454545454545, 1952.0, 1888.9545454545455, 1888.9545454545455, 1968.1818181818182, 1998.7272727272727, 1998.7272727272727, 1888.9545454545455, 1888.9545454545455, 1980.0, 1916.5, 1995.8636363636363, 1948.409090909091, 1948.409090909091, 1968.1818181818182, 1998.7272727272727, 1952.0, 1902.0454545454545, 1906.9545454545455, 1952.0, 1942.8181818181818, 2060.5, 1995.8636363636363, 1952.0, 1916.5, 2044.8636363636363, 2060.5, 1980.0, 2060.5, 1916.5, 1916.5, 1994.6363636363637, 1998.7272727272727, 2060.5, 1991.3181818181818, 1906.9545454545455, 1971.8181818181818, 2027.6363636363637, 1980.0, 2027.6363636363637, 2027.6363636363637, 1879.7727272727273, 1948.409090909091, 1995.8636363636363, 1971.8181818181818, 1980.3181818181818, 1942.8181818181818, 1870.409090909091, 1879.7727272727273, 1948.409090909091, 2085.409090909091, 2122.181818181818, 1998.7272727272727, 1896.4545454545455, 2027.6363636363637, 1914.7727272727273, 2027.6363636363637, 2027.6363636363637, 2027.6363636363637, 2027.6363636363637, 2027.6363636363637, 2027.6363636363637, 2027.6363636363637, 2027.6363636363637, 2027.6363636363637, 2027.6363636363637, 2027.6363636363637, 2027.6363636363637, 2027.6363636363637, 2027.6363636363637, 2027.6363636363637, 2027.6363636363637, 2027.6363636363637, 2027.6363636363637, 2027.6363636363637, 2027.6363636363637, 1851.0454545454545, 2027.6363636363637, 2027.6363636363637, 2027.6363636363637, 2027.6363636363637, 2027.6363636363637, 2027.6363636363637, 2027.6363636363637, 2027.6363636363637, 2027.6363636363637, 1851.0454545454545, 1948.409090909091, 1867.409090909091, 1952.0, 1951.4545454545455, 1951.4545454545455, 1951.4545454545455, 1951.4545454545455, 1951.4545454545455, 1915.1818181818182, 1980.0, 2027.6363636363637, 2006.4545454545455, 2027.6363636363637, 2122.181818181818, 1998.7272727272727, 1948.409090909091, 1952.0, 1879.409090909091, 1916.5, 2027.6363636363637, 1927.2272727272727, 1994.6363636363637, 1994.6363636363637, 1902.0454545454545, 1980.3181818181818, 1916.5, 1991.3181818181818, 1948.409090909091, 1994.6363636363637, 1948.409090909091, 2122.181818181818, 1980.0, 2122.181818181818, 1994.6363636363637, 1914.7727272727273, 1932.590909090909, 1980.3181818181818, 1914.7727272727273, 2027.6363636363637, 1980.3181818181818, 1951.4545454545455, 2027.6363636363637, 2027.6363636363637, 2027.6363636363637, 2027.6363636363637, 2044.8636363636363, 2044.8636363636363, 2044.8636363636363, 1995.8636363636363, 1890.090909090909, 2044.8636363636363, 1927.2272727272727, 1998.7272727272727, 1916.5, 2122.181818181818, 1994.6363636363637, 1915.1818181818182, 1888.9545454545455, 1870.409090909091, 1912.4545454545455, 1938.1818181818182, 1998.7272727272727, 1888.9545454545455, 1915.1818181818182, 1915.1818181818182, 1998.7272727272727, 1881.3181818181818, 1834.409090909091, 1998.7272727272727, 2085.409090909091, 1876.409090909091, 1912.4545454545455, 1998.7272727272727, 2027.6363636363637, 2122.181818181818, 1952.0, 1879.409090909091, 2044.8636363636363, 2122.181818181818, 1998.7272727272727, 1998.7272727272727, 1998.7272727272727, 2122.181818181818, 2044.8636363636363, 1998.7272727272727, 1971.8181818181818, 1890.090909090909, 1888.9545454545455, 1951.4545454545455, 1968.1818181818182, 2085.409090909091, 1851.8181818181818, 1995.8636363636363, 1998.7272727272727, 1938.1818181818182, 1998.7272727272727, 1851.0454545454545, 1851.0454545454545, 1851.0454545454545, 1851.0454545454545, 1896.4545454545455, 1851.0454545454545, 1998.7272727272727, 1952.0, 1952.0, 1952.0, 1948.409090909091, 2044.8636363636363, 1879.7727272727273, 1879.7727272727273, 1879.7727272727273, 1879.7727272727273, 1927.2272727272727, 1870.409090909091, 1994.6363636363637, 1994.6363636363637, 1948.409090909091, 1995.8636363636363, 2006.4545454545455, 1980.0, 2034.7272727272727, 1995.8636363636363, 1952.0, 1916.5, 2085.409090909091, 1873.409090909091, 2027.6363636363637, 2027.6363636363637, 2027.6363636363637, 2085.409090909091, 1879.7727272727273, 2027.6363636363637, 1948.409090909091, 2034.7272727272727, 2034.7272727272727, 2122.181818181818, 1980.0, 2027.6363636363637, 1851.8181818181818, 2027.6363636363637, 2027.6363636363637, 1980.0, 1916.5, 1948.409090909091, 2060.5, 1851.8181818181818, 1851.8181818181818, 1851.8181818181818, 1851.8181818181818, 1890.090909090909, 1952.0, 1998.7272727272727, 1980.0, 2122.181818181818, 1994.6363636363637, 1980.3181818181818, 2034.7272727272727, 1980.0, 2027.6363636363637, 2027.6363636363637, 1994.6363636363637, 1932.590909090909, 1902.0454545454545, 1952.0, 1942.8181818181818, 1902.0454545454545, 1948.409090909091, 1952.0, 1878.5454545454545, 1878.5454545454545, 1980.3181818181818, 1998.7272727272727, 1971.8181818181818, 1916.5, 1951.4545454545455, 1912.4545454545455, 1870.409090909091, 1870.409090909091, 2027.6363636363637, 1991.3181818181818, 1994.6363636363637, 2027.6363636363637, 1998.7272727272727, 1980.3181818181818, 1902.0454545454545, 1994.6363636363637, 1888.9545454545455, 1915.1818181818182, 2027.6363636363637, 1888.9545454545455, 1876.409090909091, 1870.409090909091, 2027.6363636363637, 1998.7272727272727, 1834.409090909091, 1881.3181818181818, 2006.4545454545455, 1994.6363636363637, 1879.7727272727273, 1994.6363636363637, 1971.8181818181818, 1890.090909090909, 1890.090909090909, 1948.409090909091, 1896.4545454545455, 2122.181818181818, 1914.7727272727273, 1995.8636363636363, 1998.7272727272727, 1912.4545454545455, 1912.4545454545455, 1912.4545454545455, 1876.409090909091, 1912.4545454545455, 1906.9545454545455, 1876.409090909091, 1991.3181818181818, 1912.4545454545455, 1980.0, 1968.1818181818182, 1968.1818181818182, 1994.6363636363637, 2085.409090909091, 2034.7272727272727, 1851.0454545454545, 1915.1818181818182, 1915.1818181818182, 1915.1818181818182, 1915.1818181818182, 1915.1818181818182, 1915.1818181818182, 1915.1818181818182, 1915.1818181818182, 1915.1818181818182, 1915.1818181818182, 1927.2272727272727, 1927.2272727272727, 1927.2272727272727, 1927.2272727272727, 1927.2272727272727, 1951.4545454545455, 1906.9545454545455, 1916.5, 1952.0, 1998.7272727272727, 2122.181818181818, 1888.9545454545455, 1888.9545454545455, 2122.181818181818, 1906.9545454545455, 2122.181818181818, 2122.181818181818, 1942.8181818181818, 2034.7272727272727, 1998.7272727272727, 2122.181818181818, 2122.181818181818, 2122.181818181818, 2122.181818181818, 2122.181818181818, 2122.181818181818, 2122.181818181818, 2122.181818181818, 2122.181818181818, 1879.7727272727273, 1888.9545454545455, 1994.6363636363637, 2064.409090909091, 2064.409090909091, 1998.7272727272727, 1890.090909090909, 1915.1818181818182, 1995.8636363636363, 2122.181818181818, 2122.181818181818, 2122.181818181818, 2122.181818181818, 2122.181818181818, 2122.181818181818, 2122.181818181818, 1980.0, 1980.3181818181818, 1994.6363636363637, 1968.1818181818182, 1952.0, 2122.181818181818, 1980.3181818181818, 1906.9545454545455, 1902.0454545454545, 1980.0, 1998.7272727272727, 2027.6363636363637, 1998.7272727272727, 1980.0, 2027.6363636363637, 1980.3181818181818, 1998.7272727272727, 1998.7272727272727, 1787.5454545454545, 1998.7272727272727, 2027.6363636363637, 1980.0, 1851.8181818181818, 2122.181818181818, 1870.409090909091, 1998.7272727272727, 1906.9545454545455, 2027.6363636363637, 2027.6363636363637, 1942.8181818181818, 2027.6363636363637, 2027.6363636363637, 1951.4545454545455, 1994.6363636363637, 1952.0, 2027.6363636363637, 1991.3181818181818, 1994.6363636363637, 1994.6363636363637, 1915.1818181818182, 1915.1818181818182, 1876.409090909091, 1994.6363636363637, 2027.6363636363637, 1834.409090909091, 1912.4545454545455, 1968.1818181818182, 1980.0, 1994.6363636363637, 1968.1818181818182, 1994.6363636363637, 1994.6363636363637, 1942.8181818181818, 1951.4545454545455, 1938.1818181818182, 1938.1818181818182, 1938.1818181818182, 1942.8181818181818, 1948.409090909091, 2027.6363636363637, 1968.1818181818182, 1938.1818181818182, 1938.1818181818182, 1938.1818181818182, 1938.1818181818182, 2027.6363636363637, 1948.409090909091, 1994.6363636363637, 1851.0454545454545, 1834.409090909091, 2027.6363636363637, 1834.409090909091, 1834.409090909091, 1834.409090909091, 1834.409090909091, 1834.409090909091, 1890.090909090909, 1951.4545454545455, 2034.7272727272727, 2044.8636363636363, 1994.6363636363637, 2027.6363636363637, 1994.6363636363637, 1994.6363636363637, 1994.6363636363637, 1994.6363636363637, 1980.0, 1902.0454545454545, 1902.0454545454545, 1902.0454545454545, 1902.0454545454545, 1902.0454545454545, 1902.0454545454545, 1902.0454545454545, 1876.409090909091, 2122.181818181818, 2122.181818181818, 2122.181818181818, 2006.4545454545455, 1902.0454545454545, 1995.8636363636363, 1916.5, 2122.181818181818, 2122.181818181818, 1980.0, 2027.6363636363637, 2027.6363636363637, 2122.181818181818, 1980.3181818181818, 1834.409090909091, 2122.181818181818, 2122.181818181818, 1980.0, 1995.8636363636363, 2122.181818181818, 2122.181818181818, 1915.1818181818182, 1995.8636363636363, 1994.6363636363637, 2122.181818181818, 1948.409090909091, 1980.0, 1890.090909090909, 1994.6363636363637, 1951.4545454545455, 1994.6363636363637, 1878.5454545454545, 1851.0454545454545, 1916.5, 1971.8181818181818, 2122.181818181818, 1915.1818181818182, 1915.1818181818182, 1915.1818181818182, 1915.1818181818182, 1915.1818181818182, 1971.8181818181818, 1876.409090909091, 2006.4545454545455, 1980.0, 1995.8636363636363, 1876.409090909091, 1971.8181818181818, 1890.090909090909, 1952.0, 1952.0, 2044.8636363636363, 1951.4545454545455, 1876.409090909091, 2027.6363636363637, 2027.6363636363637, 2027.6363636363637, 2122.181818181818, 1902.0454545454545, 1938.1818181818182, 1938.1818181818182, 1888.9545454545455, 1938.1818181818182, 1888.9545454545455, 2060.5, 2060.5, 1952.0, 1873.409090909091, 1888.9545454545455, 1916.5, 1980.3181818181818, 2044.8636363636363, 2027.6363636363637, 1948.409090909091, 1948.409090909091, 1948.409090909091, 2027.6363636363637, 2034.7272727272727, 2044.8636363636363, 1980.0, 1995.8636363636363, 2060.5, 1951.4545454545455, 1890.090909090909, 1998.7272727272727, 1998.7272727272727, 1998.7272727272727, 1938.1818181818182, 1870.409090909091, 1952.0, 1890.090909090909, 1994.6363636363637, 1994.6363636363637, 1994.6363636363637, 1952.0, 1927.2272727272727, 1948.409090909091, 1948.409090909091, 1998.7272727272727, 1948.409090909091, 1948.409090909091, 1932.590909090909, 2085.409090909091, 1851.8181818181818, 1991.3181818181818, 2085.409090909091, 2091.090909090909, 2091.090909090909, 1980.0, 1991.3181818181818, 1896.4545454545455, 1896.4545454545455, 1896.4545454545455, 1896.4545454545455, 1915.1818181818182, 1915.1818181818182, 1915.1818181818182, 1915.1818181818182, 1915.1818181818182, 1916.5, 1927.2272727272727, 1927.2272727272727, 1927.2272727272727, 1968.1818181818182, 2122.181818181818, 2064.409090909091, 1890.090909090909, 1998.7272727272727, 1870.409090909091, 1890.090909090909, 1952.0, 1948.409090909091, 2044.8636363636363, 1948.409090909091, 1942.8181818181818, 2027.6363636363637, 2122.181818181818, 1906.9545454545455, 1952.0, 1942.8181818181818, 2006.4545454545455, 2006.4545454545455, 1902.0454545454545, 1938.1818181818182, 2060.5, 1890.090909090909, 1870.409090909091, 1938.1818181818182, 2044.8636363636363, 1948.409090909091, 1948.409090909091, 1948.409090909091, 1948.409090909091, 1948.409090909091, 1948.409090909091, 2060.5, 1948.409090909091, 1927.2272727272727, 1879.409090909091, 1995.8636363636363, 1951.4545454545455, 2060.5, 1890.090909090909, 1948.409090909091, 1948.409090909091, 2122.181818181818, 2122.181818181818, 1968.1818181818182, 1888.9545454545455, 1942.8181818181818, 1888.9545454545455, 1870.409090909091, 1870.409090909091, 1948.409090909091, 2122.181818181818, 2034.7272727272727, 1998.7272727272727, 1914.7727272727273, 1938.1818181818182, 1912.4545454545455, 1942.8181818181818, 1902.0454545454545, 1902.0454545454545, 1902.0454545454545, 2044.8636363636363, 1998.7272727272727, 1915.1818181818182, 1998.7272727272727, 1890.090909090909, 2034.7272727272727, 2122.181818181818, 2091.090909090909, 2027.6363636363637, 1995.8636363636363, 1888.9545454545455, 1906.9545454545455, 1938.1818181818182, 1968.1818181818182, 2091.090909090909, 1948.409090909091, 1870.409090909091, 1878.5454545454545, 1878.5454545454545, 1878.5454545454545, 1878.5454545454545, 2044.8636363636363, 1878.5454545454545, 1867.409090909091, 1851.8181818181818, 2091.090909090909, 1948.409090909091, 1890.090909090909, 1912.4545454545455, 2027.6363636363637, 1906.9545454545455, 1980.0, 1998.7272727272727, 1906.9545454545455, 1906.9545454545455, 1906.9545454545455, 1948.409090909091, 1980.0, 2122.181818181818, 1896.4545454545455, 1888.9545454545455, 1991.3181818181818, 1998.7272727272727, 1942.8181818181818, 1902.0454545454545, 1932.590909090909, 2122.181818181818, 1980.0, 1881.3181818181818, 1980.0, 1879.7727272727273, 1916.5, 1971.8181818181818, 1980.0, 1890.090909090909, 1870.409090909091, 1870.409090909091, 1870.409090909091, 1870.409090909091, 1870.409090909091, 1870.409090909091, 1870.409090909091, 1870.409090909091, 1879.7727272727273, 1879.7727272727273, 1879.7727272727273, 2027.6363636363637, 1948.409090909091, 1948.409090909091, 1948.409090909091, 1948.409090909091, 1948.409090909091, 1948.409090909091, 1948.409090909091, 1968.1818181818182, 2027.6363636363637, 1991.3181818181818, 1998.7272727272727, 2027.6363636363637, 2122.181818181818, 2044.8636363636363, 1915.1818181818182, 1876.409090909091, 2060.5, 1902.0454545454545, 2044.8636363636363, 2044.8636363636363, 2044.8636363636363, 2044.8636363636363, 2044.8636363636363, 1902.0454545454545, 2044.8636363636363, 1876.409090909091, 2122.181818181818, 2085.409090909091, 1994.6363636363637, 1952.0, 1873.409090909091, 1994.6363636363637, 1994.6363636363637, 1994.6363636363637, 1851.0454545454545, 1968.1818181818182, 1968.1818181818182, 1968.1818181818182, 1968.1818181818182, 1968.1818181818182, 1968.1818181818182, 1951.4545454545455, 1948.409090909091, 1912.4545454545455, 2027.6363636363637, 1896.4545454545455, 1968.1818181818182, 1948.409090909091, 1870.409090909091, 2044.8636363636363, 2027.6363636363637, 1998.7272727272727, 1948.409090909091, 1998.7272727272727, 1991.3181818181818, 2027.6363636363637, 2034.7272727272727, 1980.3181818181818, 1876.409090909091, 1998.7272727272727, 1980.0, 1980.0, 1980.0, 1980.0, 1980.0, 1952.0, 1948.409090909091, 1980.0, 1834.409090909091, 1942.8181818181818, 1916.5, 1879.409090909091, 2060.5, 2044.8636363636363, 2044.8636363636363, 2044.8636363636363, 1896.4545454545455, 1951.4545454545455, 2060.5, 1998.7272727272727, 1912.4545454545455, 1916.5, 1916.5, 1938.1818181818182, 1949.7727272727273, 1867.409090909091, 2027.6363636363637, 2122.181818181818, 1914.7727272727273, 1998.7272727272727, 1998.7272727272727, 2027.6363636363637, 1998.7272727272727, 1927.2272727272727, 1927.2272727272727, 1927.2272727272727, 1998.7272727272727, 1998.7272727272727, 2122.181818181818, 2027.6363636363637, 2027.6363636363637, 1980.0, 2122.181818181818, 1902.0454545454545, 1952.0, 2027.6363636363637, 2122.181818181818, 2085.409090909091, 1912.4545454545455, 2044.8636363636363, 1870.409090909091, 2034.7272727272727, 2122.181818181818, 1938.1818181818182, 1881.3181818181818, 1995.8636363636363, 2027.6363636363637, 1980.3181818181818, 2034.7272727272727, 1980.3181818181818, 2122.181818181818, 1980.3181818181818, 1980.3181818181818, 1995.8636363636363, 1994.6363636363637, 1998.7272727272727, 1980.0, 2027.6363636363637, 1916.5, 1896.4545454545455, 1896.4545454545455, 1948.409090909091, 1980.0, 1927.2272727272727, 1938.1818181818182, 2027.6363636363637, 1952.0, 1952.0, 1952.0, 1878.5454545454545, 2122.181818181818, 1995.8636363636363, 1906.9545454545455, 1968.1818181818182, 1870.409090909091, 2027.6363636363637, 2122.181818181818, 1938.1818181818182, 1948.409090909091, 1906.9545454545455, 1906.9545454545455, 1991.3181818181818, 1952.0, 1949.7727272727273, 1952.0, 2122.181818181818, 2044.8636363636363, 1995.8636363636363, 1998.7272727272727, 2122.181818181818, 1980.3181818181818, 1942.8181818181818, 1888.9545454545455, 1906.9545454545455, 1906.9545454545455, 1906.9545454545455, 1906.9545454545455, 1906.9545454545455, 1906.9545454545455, 1927.2272727272727, 1906.9545454545455, 1906.9545454545455, 1906.9545454545455, 1906.9545454545455, 2027.6363636363637, 2027.6363636363637, 1916.5, 2122.181818181818, 1952.0, 1980.3181818181818, 2027.6363636363637, 2027.6363636363637, 1851.8181818181818, 1948.409090909091, 1998.7272727272727, 2034.7272727272727, 1873.409090909091, 1998.7272727272727, 2027.6363636363637, 1994.6363636363637, 2027.6363636363637, 1968.1818181818182, 1915.1818181818182, 1938.1818181818182, 1980.3181818181818, 1932.590909090909, 1881.3181818181818, 1952.0, 2034.7272727272727, 1949.7727272727273, 1951.4545454545455, 1888.9545454545455, 1951.4545454545455, 1851.8181818181818, 1851.8181818181818, 1851.8181818181818, 2034.7272727272727, 1980.0, 1980.0, 1980.0, 1980.0, 1980.0, 1980.0, 1980.0, 1888.9545454545455, 1873.409090909091, 1980.0, 1938.1818181818182, 1915.1818181818182, 1915.1818181818182, 1994.6363636363637, 1896.4545454545455, 1896.4545454545455, 1896.4545454545455, 1927.2272727272727, 2122.181818181818, 2027.6363636363637, 1896.4545454545455, 1888.9545454545455, 2122.181818181818, 2027.6363636363637, 2027.6363636363637, 1851.0454545454545, 1951.4545454545455, 1851.0454545454545, 1851.0454545454545, 1851.0454545454545, 1896.4545454545455, 2027.6363636363637, 2027.6363636363637, 1896.4545454545455, 1896.4545454545455, 1851.0454545454545, 2027.6363636363637, 1851.0454545454545, 1980.0, 1952.0, 1968.1818181818182, 1968.1818181818182, 1998.7272727272727, 1948.409090909091, 2027.6363636363637, 1948.409090909091, 1873.409090909091, 1870.409090909091, 1951.4545454545455, 2044.8636363636363, 2060.5, 1998.7272727272727, 1952.0, 2027.6363636363637, 1906.9545454545455, 1912.4545454545455, 1949.7727272727273, 1949.7727272727273, 1952.0, 1998.7272727272727, 2027.6363636363637, 1995.8636363636363, 2006.4545454545455, 1912.4545454545455, 1851.8181818181818, 1980.3181818181818, 2091.090909090909, 2091.090909090909, 1938.1818181818182, 2122.181818181818, 1879.7727272727273, 1870.409090909091, 1873.409090909091, 1879.409090909091, 2044.8636363636363, 1980.0, 1948.409090909091, 1952.0, 1912.4545454545455, 2122.181818181818, 2027.6363636363637, 1879.7727272727273, 1980.0, 1994.6363636363637, 1879.7727272727273, 1879.7727272727273, 1879.7727272727273, 2027.6363636363637, 1879.7727272727273, 2085.409090909091, 1980.3181818181818, 2060.5, 1888.9545454545455, 1995.8636363636363, 1952.0, 2060.5, 2060.5, 2060.5, 2060.5, 1948.409090909091, 1916.5, 1971.8181818181818, 1879.409090909091, 2122.181818181818, 1948.409090909091, 2027.6363636363637, 1851.8181818181818, 1927.2272727272727, 2034.7272727272727, 1980.0, 1952.0, 2122.181818181818, 1952.0, 1902.0454545454545, 1980.0, 1980.0, 1879.7727272727273, 1888.9545454545455, 1888.9545454545455, 1870.409090909091, 1881.3181818181818, 2044.8636363636363, 1998.7272727272727, 1952.0, 1876.409090909091, 1998.7272727272727, 1998.7272727272727, 1851.0454545454545, 1851.0454545454545, 1787.5454545454545, 2027.6363636363637, 1932.590909090909, 1851.0454545454545, 1932.590909090909, 1890.090909090909, 1980.0, 2060.5, 2060.5, 1995.8636363636363, 1968.1818181818182, 1968.1818181818182, 1968.1818181818182, 1968.1818181818182, 2027.6363636363637, 1938.1818181818182, 2027.6363636363637, 1980.0, 1951.4545454545455, 1916.5, 2034.7272727272727, 1916.5, 1916.5, 1915.1818181818182, 1916.5, 1980.3181818181818, 1980.3181818181818, 1906.9545454545455, 1951.4545454545455, 1938.1818181818182, 1951.4545454545455, 1938.1818181818182, 2091.090909090909, 1971.8181818181818, 2060.5, 2060.5, 2091.090909090909, 2091.090909090909, 1995.8636363636363, 1995.8636363636363, 1995.8636363636363, 1995.8636363636363, 1995.8636363636363, 1952.0, 2027.6363636363637, 1851.0454545454545, 2060.5, 1994.6363636363637, 1951.4545454545455, 1951.4545454545455, 2027.6363636363637, 1942.8181818181818, 2085.409090909091, 1851.0454545454545, 1948.409090909091, 1896.4545454545455, 1948.409090909091, 1870.409090909091, 2122.181818181818, 2027.6363636363637, 1991.3181818181818, 2027.6363636363637, 2027.6363636363637, 2027.6363636363637, 2027.6363636363637, 1851.8181818181818, 2027.6363636363637, 2034.7272727272727, 2027.6363636363637, 2027.6363636363637, 1949.7727272727273, 1912.4545454545455, 1949.7727272727273, 1949.7727272727273, 1912.4545454545455, 1949.7727272727273, 2027.6363636363637, 2027.6363636363637, 1991.3181818181818, 2027.6363636363637, 1998.7272727272727, 2027.6363636363637, 1851.0454545454545, 1980.0, 1998.7272727272727, 1948.409090909091, 1834.409090909091, 1876.409090909091, 2044.8636363636363, 2122.181818181818, 1980.3181818181818, 1952.0, 1870.409090909091, 1991.3181818181818, 1991.3181818181818, 2027.6363636363637, 2027.6363636363637, 2027.6363636363637, 2027.6363636363637, 1927.2272727272727, 1870.409090909091, 1879.7727272727273, 1879.7727272727273, 1879.7727272727273, 1879.7727272727273, 1879.7727272727273, 1879.7727272727273, 1879.7727272727273, 1879.7727272727273, 1879.7727272727273, 1879.7727272727273, 1879.7727272727273, 2027.6363636363637, 1968.1818181818182, 2027.6363636363637, 2122.181818181818, 2122.181818181818, 2122.181818181818, 2122.181818181818, 2122.181818181818, 2122.181818181818, 2122.181818181818, 1998.7272727272727, 2085.409090909091, 2122.181818181818, 1906.9545454545455, 1998.7272727272727, 1998.7272727272727, 2122.181818181818, 1902.0454545454545, 1971.8181818181818, 1952.0, 2027.6363636363637, 2027.6363636363637, 2027.6363636363637, 2027.6363636363637, 1951.4545454545455, 1888.9545454545455, 1787.5454545454545, 2027.6363636363637, 1888.9545454545455, 2060.5, 2064.409090909091, 2027.6363636363637, 2027.6363636363637, 2027.6363636363637, 1890.090909090909, 1942.8181818181818, 1980.0, 2027.6363636363637, 1915.1818181818182, 1902.0454545454545, 1949.7727272727273, 1948.409090909091, 1896.4545454545455, 1834.409090909091, 1851.0454545454545, 2034.7272727272727, 2044.8636363636363, 1879.7727272727273, 1994.6363636363637, 2027.6363636363637, 2027.6363636363637, 1888.9545454545455, 1998.7272727272727, 1951.4545454545455, 1902.0454545454545, 2027.6363636363637, 1879.409090909091, 1998.7272727272727, 1906.9545454545455, 1998.7272727272727, 1998.7272727272727, 1948.409090909091, 1994.6363636363637, 1980.0, 1890.090909090909, 1902.0454545454545, 2122.181818181818, 2122.181818181818, 2122.181818181818, 1879.7727272727273, 1890.090909090909, 1888.9545454545455, 1906.9545454545455, 1906.9545454545455, 1916.5, 1994.6363636363637, 1906.9545454545455, 1870.409090909091, 1938.1818181818182, 1938.1818181818182, 2027.6363636363637, 2091.090909090909, 1980.0, 1878.5454545454545, 1881.3181818181818, 2060.5, 1994.6363636363637, 1906.9545454545455, 2044.8636363636363, 1995.8636363636363, 1995.8636363636363, 1995.8636363636363, 1879.7727272727273, 1879.7727272727273, 1994.6363636363637, 2122.181818181818, 2027.6363636363637, 1951.4545454545455, 1902.0454545454545, 1968.1818181818182, 1968.1818181818182, 1881.3181818181818, 1879.7727272727273, 1942.8181818181818, 1942.8181818181818, 1915.1818181818182, 1927.2272727272727, 2044.8636363636363, 1915.1818181818182, 1915.1818181818182, 1915.1818181818182, 1915.1818181818182, 1915.1818181818182, 1834.409090909091, 1879.7727272727273, 2091.090909090909, 1916.5, 1994.6363636363637, 1888.9545454545455, 2044.8636363636363, 1938.1818181818182, 1980.0, 1968.1818181818182, 1968.1818181818182, 1876.409090909091, 1876.409090909091, 1876.409090909091, 1938.1818181818182, 1980.0, 1938.1818181818182, 1938.1818181818182, 1938.1818181818182, 1938.1818181818182, 1938.1818181818182, 1938.1818181818182, 1876.409090909091, 1938.1818181818182, 1980.0, 1948.409090909091, 1896.4545454545455, 1834.409090909091, 1998.7272727272727, 1980.0, 1948.409090909091, 1980.0, 2044.8636363636363, 2027.6363636363637, 1942.8181818181818, 1951.4545454545455, 1980.3181818181818, 1948.409090909091, 1948.409090909091, 1851.0454545454545, 2044.8636363636363, 1851.0454545454545, 2044.8636363636363, 1952.0, 1916.5, 1896.4545454545455, 1912.4545454545455, 1998.7272727272727, 2122.181818181818, 2122.181818181818, 2122.181818181818, 1902.0454545454545, 2027.6363636363637, 1916.5, 1916.5, 1916.5, 1876.409090909091, 1948.409090909091, 1994.6363636363637, 1890.090909090909, 1896.4545454545455, 2064.409090909091, 1906.9545454545455, 1995.8636363636363, 1873.409090909091, 1971.8181818181818, 1948.409090909091, 2044.8636363636363, 2060.5, 1912.4545454545455, 1927.2272727272727, 1867.409090909091, 1948.409090909091, 1968.1818181818182, 1994.6363636363637, 1968.1818181818182, 1968.1818181818182, 1948.409090909091, 1948.409090909091, 1980.0, 1787.5454545454545, 2027.6363636363637, 2027.6363636363637, 2027.6363636363637, 1980.3181818181818, 1878.5454545454545, 1881.3181818181818, 1896.4545454545455, 1980.0, 1938.1818181818182, 1952.0, 2122.181818181818, 1896.4545454545455, 1915.1818181818182, 1915.1818181818182, 1915.1818181818182, 1932.590909090909, 1991.3181818181818, 1912.4545454545455, 1876.409090909091, 1906.9545454545455, 2060.5, 1948.409090909091, 1948.409090909091, 1948.409090909091, 2027.6363636363637, 1876.409090909091, 1998.7272727272727, 1980.0, 2027.6363636363637, 1938.1818181818182, 2027.6363636363637, 1998.7272727272727, 1948.409090909091, 1938.1818181818182, 1994.6363636363637, 1952.0, 1952.0, 2122.181818181818, 1952.0, 1952.0, 1991.3181818181818, 1952.0, 1932.590909090909, 1932.590909090909, 2122.181818181818, 1834.409090909091, 1912.4545454545455, 1938.1818181818182, 1938.1818181818182, 1932.590909090909, 1952.0, 1834.409090909091, 1980.0, 2085.409090909091, 2122.181818181818, 2034.7272727272727, 2027.6363636363637, 1980.0, 1952.0, 1980.3181818181818, 1915.1818181818182, 2060.5, 1948.409090909091, 1906.9545454545455, 1876.409090909091, 2027.6363636363637, 1998.7272727272727, 1873.409090909091, 1915.1818181818182, 1878.5454545454545, 1968.1818181818182, 1980.0, 2034.7272727272727, 1938.1818181818182, 1942.8181818181818, 1876.409090909091, 1876.409090909091, 1948.409090909091, 1867.409090909091, 1998.7272727272727, 2091.090909090909, 2027.6363636363637, 2044.8636363636363, 1995.8636363636363, 1994.6363636363637, 1980.3181818181818, 1867.409090909091, 1980.3181818181818, 1890.090909090909, 1876.409090909091, 1942.8181818181818, 1942.8181818181818, 1888.9545454545455, 1888.9545454545455, 1998.7272727272727, 1998.7272727272727, 1888.9545454545455, 1998.7272727272727, 2034.7272727272727, 1980.3181818181818, 1991.3181818181818, 2060.5, 1980.3181818181818, 1991.3181818181818, 1867.409090909091, 1980.3181818181818, 1980.3181818181818, 1980.3181818181818, 1888.9545454545455, 1971.8181818181818, 1879.7727272727273, 1971.8181818181818, 2027.6363636363637, 2027.6363636363637, 2027.6363636363637, 1870.409090909091, 2122.181818181818, 1995.8636363636363, 1948.409090909091, 1906.9545454545455, 2122.181818181818, 2034.7272727272727, 2044.8636363636363, 1998.7272727272727, 1968.1818181818182, 1995.8636363636363, 1879.7727272727273, 1873.409090909091, 1951.4545454545455, 1915.1818181818182, 1914.7727272727273, 1888.9545454545455, 1948.409090909091, 1890.090909090909, 1915.1818181818182, 1952.0, 2122.181818181818, 1994.6363636363637, 2091.090909090909, 1991.3181818181818, 1968.1818181818182, 1951.4545454545455, 1951.4545454545455, 1995.8636363636363, 1952.0, 1948.409090909091, 2091.090909090909, 1948.409090909091, 1948.409090909091, 1915.1818181818182, 1994.6363636363637, 1968.1818181818182, 1952.0, 1952.0, 2044.8636363636363, 1951.4545454545455, 2027.6363636363637, 2027.6363636363637, 2027.6363636363637, 2027.6363636363637, 2027.6363636363637, 2027.6363636363637, 2027.6363636363637, 2027.6363636363637, 2027.6363636363637, 2027.6363636363637, 2027.6363636363637, 2027.6363636363637, 1980.0, 1980.0, 1896.4545454545455, 1896.4545454545455, 1896.4545454545455, 1896.4545454545455, 1995.8636363636363, 1995.8636363636363, 1916.5, 1896.4545454545455, 1995.8636363636363, 1998.7272727272727, 1998.7272727272727, 1906.9545454545455, 1906.9545454545455, 1915.1818181818182, 1906.9545454545455, 1916.5, 2044.8636363636363, 2027.6363636363637, 1952.0, 1995.8636363636363, 1995.8636363636363, 1995.8636363636363, 1995.8636363636363, 1995.8636363636363, 1995.8636363636363, 1980.3181818181818, 2044.8636363636363, 1938.1818181818182, 2122.181818181818, 2122.181818181818, 2122.181818181818, 2122.181818181818, 2122.181818181818, 2122.181818181818, 2122.181818181818, 2122.181818181818, 2122.181818181818, 2122.181818181818, 2122.181818181818, 2122.181818181818, 2122.181818181818, 2122.181818181818, 2122.181818181818, 2122.181818181818, 2122.181818181818, 2122.181818181818, 2122.181818181818, 2122.181818181818, 2122.181818181818, 2122.181818181818, 1980.0, 1991.3181818181818, 1888.9545454545455, 1867.409090909091, 2122.181818181818, 2122.181818181818, 1971.8181818181818, 2122.181818181818, 2122.181818181818, 2122.181818181818, 2122.181818181818, 1870.409090909091, 1916.5, 1916.5, 2122.181818181818, 1879.409090909091, 1876.409090909091, 2006.4545454545455, 2006.4545454545455, 1980.3181818181818, 2085.409090909091, 1914.7727272727273, 2044.8636363636363, 2060.5, 1980.0, 2122.181818181818, 1876.409090909091, 1876.409090909091, 2044.8636363636363, 1888.9545454545455, 1952.0, 1873.409090909091, 1980.0, 1915.1818181818182, 1916.5, 1927.2272727272727, 1927.2272727272727, 1906.9545454545455, 2085.409090909091, 1902.0454545454545, 2122.181818181818, 1916.5, 1896.4545454545455, 2122.181818181818, 2027.6363636363637, 1980.0, 2044.8636363636363, 1902.0454545454545, 1932.590909090909, 2027.6363636363637, 1927.2272727272727, 1994.6363636363637, 2060.5, 1834.409090909091, 1980.0, 1949.7727272727273, 1994.6363636363637, 1834.409090909091, 1834.409090909091, 1896.4545454545455, 1995.8636363636363, 1995.8636363636363, 1995.8636363636363, 1995.8636363636363, 1995.8636363636363, 1995.8636363636363, 1995.8636363636363, 1927.2272727272727, 1888.9545454545455, 1938.1818181818182, 1938.1818181818182, 1994.6363636363637, 1851.0454545454545, 1991.3181818181818, 1991.3181818181818, 1890.090909090909, 1916.5, 2044.8636363636363, 1968.1818181818182, 1927.2272727272727, 1906.9545454545455, 2027.6363636363637, 1998.7272727272727, 1879.7727272727273, 1916.5, 1906.9545454545455, 2122.181818181818, 1952.0, 2122.181818181818, 2122.181818181818, 1942.8181818181818, 2027.6363636363637, 2034.7272727272727, 2034.7272727272727, 2034.7272727272727, 2027.6363636363637, 1998.7272727272727, 1994.6363636363637, 1994.6363636363637, 2085.409090909091, 1890.090909090909, 1890.090909090909, 1870.409090909091, 1870.409090909091, 1995.8636363636363, 1906.9545454545455, 1994.6363636363637, 1980.3181818181818, 1927.2272727272727, 1952.0, 1948.409090909091, 1873.409090909091, 1876.409090909091, 2064.409090909091, 1948.409090909091, 2122.181818181818, 1948.409090909091, 1980.3181818181818, 1995.8636363636363, 1834.409090909091, 1834.409090909091, 1881.3181818181818, 1951.4545454545455, 2122.181818181818, 1906.9545454545455, 2044.8636363636363, 1998.7272727272727, 1948.409090909091, 1994.6363636363637, 1994.6363636363637, 1994.6363636363637, 1994.6363636363637, 1994.6363636363637, 1906.9545454545455, 2091.090909090909, 2122.181818181818, 2044.8636363636363, 2122.181818181818, 2060.5, 1912.4545454545455, 1888.9545454545455, 2027.6363636363637, 2027.6363636363637, 1994.6363636363637, 2034.7272727272727, 1980.0, 1834.409090909091, 1951.4545454545455, 1951.4545454545455, 1916.5, 1916.5, 1915.1818181818182, 1912.4545454545455, 1902.0454545454545, 1902.0454545454545, 1938.1818181818182, 1851.8181818181818, 1870.409090909091, 1888.9545454545455, 2122.181818181818, 1995.8636363636363, 1994.6363636363637, 2085.409090909091, 1879.7727272727273, 1896.4545454545455, 1876.409090909091, 1851.8181818181818, 1915.1818181818182, 1952.0, 1952.0, 1948.409090909091, 1952.0, 1952.0, 1952.0, 1952.0, 1952.0, 1952.0, 1952.0, 1952.0, 1952.0, 1952.0, 1952.0, 1994.6363636363637, 1906.9545454545455, 2027.6363636363637, 2122.181818181818, 2122.181818181818, 2122.181818181818, 2122.181818181818, 2122.181818181818, 2085.409090909091, 2034.7272727272727, 2122.181818181818, 2122.181818181818, 1952.0, 2060.5, 2091.090909090909, 1896.4545454545455, 2027.6363636363637, 2122.181818181818, 2034.7272727272727, 1991.3181818181818, 1994.6363636363637, 1995.8636363636363, 1948.409090909091, 1888.9545454545455, 1998.7272727272727, 2027.6363636363637, 1991.3181818181818, 2122.181818181818, 1951.4545454545455, 1951.4545454545455, 1951.4545454545455, 2027.6363636363637, 1870.409090909091, 1870.409090909091, 1870.409090909091, 1870.409090909091, 1870.409090909091, 1998.7272727272727, 1998.7272727272727, 1879.7727272727273, 1896.4545454545455, 2060.5, 2060.5, 1980.0, 1995.8636363636363, 2122.181818181818, 1942.8181818181818, 1968.1818181818182, 1914.7727272727273, 1870.409090909091, 1870.409090909091, 1888.9545454545455, 1952.0, 1879.7727272727273, 1906.9545454545455, 1952.0, 2027.6363636363637, 1952.0, 1942.8181818181818, 1870.409090909091, 1971.8181818181818, 1876.409090909091, 2027.6363636363637, 1876.409090909091, 1902.0454545454545, 1994.6363636363637, 1995.8636363636363, 1906.9545454545455, 1870.409090909091, 1952.0, 1952.0, 1902.0454545454545, 1873.409090909091, 1873.409090909091, 1998.7272727272727, 1995.8636363636363, 1995.8636363636363, 1952.0, 1952.0, 1906.9545454545455, 1906.9545454545455, 1906.9545454545455, 1906.9545454545455, 1906.9545454545455, 1906.9545454545455, 1906.9545454545455, 1906.9545454545455, 1881.3181818181818, 1951.4545454545455, 1876.409090909091, 2027.6363636363637, 1998.7272727272727, 2044.8636363636363, 2044.8636363636363, 1994.6363636363637, 2027.6363636363637, 1998.7272727272727, 2027.6363636363637, 2044.8636363636363, 1998.7272727272727, 1952.0, 1980.0, 1932.590909090909, 1873.409090909091, 1998.7272727272727, 1948.409090909091, 1879.409090909091, 1991.3181818181818, 1938.1818181818182, 1951.4545454545455, 1994.6363636363637, 1980.0, 1998.7272727272727, 1873.409090909091, 1876.409090909091, 1876.409090909091, 1876.409090909091, 1873.409090909091, 1942.8181818181818, 2027.6363636363637, 1948.409090909091, 1942.8181818181818, 1991.3181818181818, 1916.5, 1902.0454545454545, 2027.6363636363637, 2122.181818181818, 1914.7727272727273, 1870.409090909091, 1952.0, 1851.0454545454545, 1971.8181818181818, 1995.8636363636363, 1873.409090909091, 1952.0, 2044.8636363636363, 1952.0, 1870.409090909091, 1870.409090909091, 1994.6363636363637, 2122.181818181818, 1890.090909090909, 1879.7727272727273, 1971.8181818181818, 2044.8636363636363, 1912.4545454545455, 1902.0454545454545, 1998.7272727272727, 1888.9545454545455, 2122.181818181818, 1980.3181818181818, 2044.8636363636363, 2122.181818181818, 1879.409090909091, 1994.6363636363637, 1948.409090909091, 2122.181818181818, 2027.6363636363637, 1994.6363636363637, 1994.6363636363637, 1998.7272727272727, 1948.409090909091, 1948.409090909091, 1787.5454545454545, 1879.7727272727273, 1896.4545454545455, 1896.4545454545455, 1971.8181818181818, 1902.0454545454545, 1991.3181818181818, 1878.5454545454545, 1952.0, 1896.4545454545455, 1991.3181818181818, 2027.6363636363637, 1851.8181818181818]}],\n",
       "                        {\"coloraxis\": {\"colorbar\": {\"title\": {\"text\": \"color\"}}, \"colorscale\": [[0.0, \"#0d0887\"], [0.1111111111111111, \"#46039f\"], [0.2222222222222222, \"#7201a8\"], [0.3333333333333333, \"#9c179e\"], [0.4444444444444444, \"#bd3786\"], [0.5555555555555556, \"#d8576b\"], [0.6666666666666666, \"#ed7953\"], [0.7777777777777778, \"#fb9f3a\"], [0.8888888888888888, \"#fdca26\"], [1.0, \"#f0f921\"]]}, \"geo\": {\"center\": {}, \"domain\": {\"x\": [0.0, 1.0], \"y\": [0.0, 1.0]}, \"scope\": \"usa\"}, \"legend\": {\"tracegroupgap\": 0}, \"template\": {\"data\": {\"bar\": [{\"error_x\": {\"color\": \"#2a3f5f\"}, \"error_y\": {\"color\": \"#2a3f5f\"}, \"marker\": {\"line\": {\"color\": \"#E5ECF6\", \"width\": 0.5}}, \"type\": \"bar\"}], \"barpolar\": [{\"marker\": {\"line\": {\"color\": \"#E5ECF6\", \"width\": 0.5}}, \"type\": \"barpolar\"}], \"carpet\": [{\"aaxis\": {\"endlinecolor\": \"#2a3f5f\", \"gridcolor\": \"white\", \"linecolor\": \"white\", \"minorgridcolor\": \"white\", \"startlinecolor\": \"#2a3f5f\"}, \"baxis\": {\"endlinecolor\": \"#2a3f5f\", \"gridcolor\": \"white\", \"linecolor\": \"white\", \"minorgridcolor\": \"white\", \"startlinecolor\": \"#2a3f5f\"}, \"type\": \"carpet\"}], \"choropleth\": [{\"colorbar\": {\"outlinewidth\": 0, \"ticks\": \"\"}, \"type\": \"choropleth\"}], \"contour\": [{\"colorbar\": {\"outlinewidth\": 0, \"ticks\": \"\"}, \"colorscale\": [[0.0, \"#0d0887\"], [0.1111111111111111, \"#46039f\"], [0.2222222222222222, \"#7201a8\"], [0.3333333333333333, \"#9c179e\"], [0.4444444444444444, \"#bd3786\"], [0.5555555555555556, \"#d8576b\"], [0.6666666666666666, \"#ed7953\"], [0.7777777777777778, \"#fb9f3a\"], [0.8888888888888888, \"#fdca26\"], [1.0, \"#f0f921\"]], \"type\": \"contour\"}], \"contourcarpet\": [{\"colorbar\": {\"outlinewidth\": 0, \"ticks\": \"\"}, \"type\": \"contourcarpet\"}], \"heatmap\": [{\"colorbar\": {\"outlinewidth\": 0, \"ticks\": \"\"}, \"colorscale\": [[0.0, \"#0d0887\"], [0.1111111111111111, \"#46039f\"], [0.2222222222222222, \"#7201a8\"], [0.3333333333333333, \"#9c179e\"], [0.4444444444444444, \"#bd3786\"], [0.5555555555555556, \"#d8576b\"], [0.6666666666666666, \"#ed7953\"], [0.7777777777777778, \"#fb9f3a\"], [0.8888888888888888, \"#fdca26\"], [1.0, \"#f0f921\"]], \"type\": \"heatmap\"}], \"heatmapgl\": [{\"colorbar\": {\"outlinewidth\": 0, \"ticks\": \"\"}, \"colorscale\": [[0.0, \"#0d0887\"], [0.1111111111111111, \"#46039f\"], [0.2222222222222222, \"#7201a8\"], [0.3333333333333333, \"#9c179e\"], [0.4444444444444444, \"#bd3786\"], [0.5555555555555556, \"#d8576b\"], [0.6666666666666666, \"#ed7953\"], [0.7777777777777778, \"#fb9f3a\"], [0.8888888888888888, \"#fdca26\"], [1.0, \"#f0f921\"]], \"type\": \"heatmapgl\"}], \"histogram\": [{\"marker\": {\"colorbar\": {\"outlinewidth\": 0, \"ticks\": \"\"}}, \"type\": \"histogram\"}], \"histogram2d\": [{\"colorbar\": {\"outlinewidth\": 0, \"ticks\": \"\"}, \"colorscale\": [[0.0, \"#0d0887\"], [0.1111111111111111, \"#46039f\"], [0.2222222222222222, \"#7201a8\"], [0.3333333333333333, \"#9c179e\"], [0.4444444444444444, \"#bd3786\"], [0.5555555555555556, \"#d8576b\"], [0.6666666666666666, \"#ed7953\"], [0.7777777777777778, \"#fb9f3a\"], [0.8888888888888888, \"#fdca26\"], [1.0, \"#f0f921\"]], \"type\": \"histogram2d\"}], \"histogram2dcontour\": [{\"colorbar\": {\"outlinewidth\": 0, \"ticks\": \"\"}, \"colorscale\": [[0.0, \"#0d0887\"], [0.1111111111111111, \"#46039f\"], [0.2222222222222222, \"#7201a8\"], [0.3333333333333333, \"#9c179e\"], [0.4444444444444444, \"#bd3786\"], [0.5555555555555556, \"#d8576b\"], [0.6666666666666666, \"#ed7953\"], [0.7777777777777778, \"#fb9f3a\"], [0.8888888888888888, \"#fdca26\"], [1.0, \"#f0f921\"]], \"type\": \"histogram2dcontour\"}], \"mesh3d\": [{\"colorbar\": {\"outlinewidth\": 0, \"ticks\": \"\"}, \"type\": \"mesh3d\"}], \"parcoords\": [{\"line\": {\"colorbar\": {\"outlinewidth\": 0, \"ticks\": \"\"}}, \"type\": \"parcoords\"}], \"pie\": [{\"automargin\": true, \"type\": \"pie\"}], \"scatter\": [{\"marker\": {\"colorbar\": {\"outlinewidth\": 0, \"ticks\": \"\"}}, \"type\": \"scatter\"}], \"scatter3d\": [{\"line\": {\"colorbar\": {\"outlinewidth\": 0, \"ticks\": \"\"}}, \"marker\": {\"colorbar\": {\"outlinewidth\": 0, \"ticks\": \"\"}}, \"type\": \"scatter3d\"}], \"scattercarpet\": [{\"marker\": {\"colorbar\": {\"outlinewidth\": 0, \"ticks\": \"\"}}, \"type\": \"scattercarpet\"}], \"scattergeo\": [{\"marker\": {\"colorbar\": {\"outlinewidth\": 0, \"ticks\": \"\"}}, \"type\": \"scattergeo\"}], \"scattergl\": [{\"marker\": {\"colorbar\": {\"outlinewidth\": 0, \"ticks\": \"\"}}, \"type\": \"scattergl\"}], \"scattermapbox\": [{\"marker\": {\"colorbar\": {\"outlinewidth\": 0, \"ticks\": \"\"}}, \"type\": \"scattermapbox\"}], \"scatterpolar\": [{\"marker\": {\"colorbar\": {\"outlinewidth\": 0, \"ticks\": \"\"}}, \"type\": \"scatterpolar\"}], \"scatterpolargl\": [{\"marker\": {\"colorbar\": {\"outlinewidth\": 0, \"ticks\": \"\"}}, \"type\": \"scatterpolargl\"}], \"scatterternary\": [{\"marker\": {\"colorbar\": {\"outlinewidth\": 0, \"ticks\": \"\"}}, \"type\": \"scatterternary\"}], \"surface\": [{\"colorbar\": {\"outlinewidth\": 0, \"ticks\": \"\"}, \"colorscale\": [[0.0, \"#0d0887\"], [0.1111111111111111, \"#46039f\"], [0.2222222222222222, \"#7201a8\"], [0.3333333333333333, \"#9c179e\"], [0.4444444444444444, \"#bd3786\"], [0.5555555555555556, \"#d8576b\"], [0.6666666666666666, \"#ed7953\"], [0.7777777777777778, \"#fb9f3a\"], [0.8888888888888888, \"#fdca26\"], [1.0, \"#f0f921\"]], \"type\": \"surface\"}], \"table\": [{\"cells\": {\"fill\": {\"color\": \"#EBF0F8\"}, \"line\": {\"color\": \"white\"}}, \"header\": {\"fill\": {\"color\": \"#C8D4E3\"}, \"line\": {\"color\": \"white\"}}, \"type\": \"table\"}]}, \"layout\": {\"annotationdefaults\": {\"arrowcolor\": \"#2a3f5f\", \"arrowhead\": 0, \"arrowwidth\": 1}, \"coloraxis\": {\"colorbar\": {\"outlinewidth\": 0, \"ticks\": \"\"}}, \"colorscale\": {\"diverging\": [[0, \"#8e0152\"], [0.1, \"#c51b7d\"], [0.2, \"#de77ae\"], [0.3, \"#f1b6da\"], [0.4, \"#fde0ef\"], [0.5, \"#f7f7f7\"], [0.6, \"#e6f5d0\"], [0.7, \"#b8e186\"], [0.8, \"#7fbc41\"], [0.9, \"#4d9221\"], [1, \"#276419\"]], \"sequential\": [[0.0, \"#0d0887\"], [0.1111111111111111, \"#46039f\"], [0.2222222222222222, \"#7201a8\"], [0.3333333333333333, \"#9c179e\"], [0.4444444444444444, \"#bd3786\"], [0.5555555555555556, \"#d8576b\"], [0.6666666666666666, \"#ed7953\"], [0.7777777777777778, \"#fb9f3a\"], [0.8888888888888888, \"#fdca26\"], [1.0, \"#f0f921\"]], \"sequentialminus\": [[0.0, \"#0d0887\"], [0.1111111111111111, \"#46039f\"], [0.2222222222222222, \"#7201a8\"], [0.3333333333333333, \"#9c179e\"], [0.4444444444444444, \"#bd3786\"], [0.5555555555555556, \"#d8576b\"], [0.6666666666666666, \"#ed7953\"], [0.7777777777777778, \"#fb9f3a\"], [0.8888888888888888, \"#fdca26\"], [1.0, \"#f0f921\"]]}, \"colorway\": [\"#636efa\", \"#EF553B\", \"#00cc96\", \"#ab63fa\", \"#FFA15A\", \"#19d3f3\", \"#FF6692\", \"#B6E880\", \"#FF97FF\", \"#FECB52\"], \"font\": {\"color\": \"#2a3f5f\"}, \"geo\": {\"bgcolor\": \"white\", \"lakecolor\": \"white\", \"landcolor\": \"#E5ECF6\", \"showlakes\": true, \"showland\": true, \"subunitcolor\": \"white\"}, \"hoverlabel\": {\"align\": \"left\"}, \"hovermode\": \"closest\", \"mapbox\": {\"style\": \"light\"}, \"paper_bgcolor\": \"white\", \"plot_bgcolor\": \"#E5ECF6\", \"polar\": {\"angularaxis\": {\"gridcolor\": \"white\", \"linecolor\": \"white\", \"ticks\": \"\"}, \"bgcolor\": \"#E5ECF6\", \"radialaxis\": {\"gridcolor\": \"white\", \"linecolor\": \"white\", \"ticks\": \"\"}}, \"scene\": {\"xaxis\": {\"backgroundcolor\": \"#E5ECF6\", \"gridcolor\": \"white\", \"gridwidth\": 2, \"linecolor\": \"white\", \"showbackground\": true, \"ticks\": \"\", \"zerolinecolor\": \"white\"}, \"yaxis\": {\"backgroundcolor\": \"#E5ECF6\", \"gridcolor\": \"white\", \"gridwidth\": 2, \"linecolor\": \"white\", \"showbackground\": true, \"ticks\": \"\", \"zerolinecolor\": \"white\"}, \"zaxis\": {\"backgroundcolor\": \"#E5ECF6\", \"gridcolor\": \"white\", \"gridwidth\": 2, \"linecolor\": \"white\", \"showbackground\": true, \"ticks\": \"\", \"zerolinecolor\": \"white\"}}, \"shapedefaults\": {\"line\": {\"color\": \"#2a3f5f\"}}, \"ternary\": {\"aaxis\": {\"gridcolor\": \"white\", \"linecolor\": \"white\", \"ticks\": \"\"}, \"baxis\": {\"gridcolor\": \"white\", \"linecolor\": \"white\", \"ticks\": \"\"}, \"bgcolor\": \"#E5ECF6\", \"caxis\": {\"gridcolor\": \"white\", \"linecolor\": \"white\", \"ticks\": \"\"}}, \"title\": {\"x\": 0.05}, \"xaxis\": {\"automargin\": true, \"gridcolor\": \"white\", \"linecolor\": \"white\", \"ticks\": \"\", \"title\": {\"standoff\": 15}, \"zerolinecolor\": \"white\", \"zerolinewidth\": 2}, \"yaxis\": {\"automargin\": true, \"gridcolor\": \"white\", \"linecolor\": \"white\", \"ticks\": \"\", \"title\": {\"standoff\": 15}, \"zerolinecolor\": \"white\", \"zerolinewidth\": 2}}}, \"title\": {\"text\": \"Statewise spending done on medical centers\"}},\n",
       "                        {\"responsive\": true}\n",
       "                    ).then(function(){\n",
       "                            \n",
       "var gd = document.getElementById('51485307-b117-40ca-9532-ea13c51cf41e');\n",
       "var x = new MutationObserver(function (mutations, observer) {{\n",
       "        var display = window.getComputedStyle(gd).display;\n",
       "        if (!display || display === 'none') {{\n",
       "            console.log([gd, 'removed!']);\n",
       "            Plotly.purge(gd);\n",
       "            observer.disconnect();\n",
       "        }}\n",
       "}});\n",
       "\n",
       "// Listen for the removal of the full notebook cells\n",
       "var notebookContainer = gd.closest('#notebook-container');\n",
       "if (notebookContainer) {{\n",
       "    x.observe(notebookContainer, {childList: true});\n",
       "}}\n",
       "\n",
       "// Listen for the clearing of the current output cell\n",
       "var outputEl = gd.closest('.output');\n",
       "if (outputEl) {{\n",
       "    x.observe(outputEl, {childList: true});\n",
       "}}\n",
       "\n",
       "                        })\n",
       "                };\n",
       "                });\n",
       "            </script>\n",
       "        </div>"
      ]
     },
     "metadata": {},
     "output_type": "display_data"
    }
   ],
   "source": [
    "import plotly.express as px\n",
    "fig = px.choropleth(locations=medical_facility.State, title = 'Statewise spending done on medical centers',locationmode=\"USA-states\", color = medical_facility['Avg Spndg Per EP State'],scope=\"usa\")\n",
    "fig.show()"
   ]
  },
  {
   "cell_type": "markdown",
   "metadata": {},
   "source": [
    "#### For which period is the spending done more"
   ]
  },
  {
   "cell_type": "code",
   "execution_count": 50,
   "metadata": {},
   "outputs": [
    {
     "data": {
      "text/html": [
       "<div>\n",
       "<style scoped>\n",
       "    .dataframe tbody tr th:only-of-type {\n",
       "        vertical-align: middle;\n",
       "    }\n",
       "\n",
       "    .dataframe tbody tr th {\n",
       "        vertical-align: top;\n",
       "    }\n",
       "\n",
       "    .dataframe thead th {\n",
       "        text-align: right;\n",
       "    }\n",
       "</style>\n",
       "<table border=\"1\" class=\"dataframe\">\n",
       "  <thead>\n",
       "    <tr style=\"text-align: right;\">\n",
       "      <th></th>\n",
       "      <th>Avg Spndg Per EP Hospital</th>\n",
       "      <th>Avg Spndg Per EP National</th>\n",
       "      <th>Avg Spndg Per EP State</th>\n",
       "      <th>Facility ID</th>\n",
       "      <th>Percent of Spndg Hospital</th>\n",
       "      <th>Percent of Spndg National</th>\n",
       "      <th>Percent of Spndg State</th>\n",
       "    </tr>\n",
       "    <tr>\n",
       "      <th>Period</th>\n",
       "      <th></th>\n",
       "      <th></th>\n",
       "      <th></th>\n",
       "      <th></th>\n",
       "      <th></th>\n",
       "      <th></th>\n",
       "      <th></th>\n",
       "    </tr>\n",
       "  </thead>\n",
       "  <tbody>\n",
       "    <tr>\n",
       "      <th>After Discharge</th>\n",
       "      <td>1238.914925</td>\n",
       "      <td>1311.000000</td>\n",
       "      <td>1307.873407</td>\n",
       "      <td>260615.397665</td>\n",
       "      <td>6.201224</td>\n",
       "      <td>6.055714</td>\n",
       "      <td>6.025435</td>\n",
       "    </tr>\n",
       "    <tr>\n",
       "      <th>During Hospital Admission</th>\n",
       "      <td>1530.021686</td>\n",
       "      <td>1671.857143</td>\n",
       "      <td>1677.879709</td>\n",
       "      <td>260615.397665</td>\n",
       "      <td>7.602415</td>\n",
       "      <td>7.724286</td>\n",
       "      <td>7.747714</td>\n",
       "    </tr>\n",
       "    <tr>\n",
       "      <th>Overall</th>\n",
       "      <td>20059.366202</td>\n",
       "      <td>21646.000000</td>\n",
       "      <td>21676.427506</td>\n",
       "      <td>260615.397665</td>\n",
       "      <td>100.000000</td>\n",
       "      <td>100.000000</td>\n",
       "      <td>100.000000</td>\n",
       "    </tr>\n",
       "    <tr>\n",
       "      <th>Prior Hospital Admission</th>\n",
       "      <td>96.680645</td>\n",
       "      <td>109.714286</td>\n",
       "      <td>110.911218</td>\n",
       "      <td>260615.397665</td>\n",
       "      <td>0.481991</td>\n",
       "      <td>0.505714</td>\n",
       "      <td>0.512139</td>\n",
       "    </tr>\n",
       "  </tbody>\n",
       "</table>\n",
       "</div>"
      ],
      "text/plain": [
       "                           Avg Spndg Per EP Hospital  \\\n",
       "Period                                                 \n",
       "After Discharge                          1238.914925   \n",
       "During Hospital Admission                1530.021686   \n",
       "Overall                                 20059.366202   \n",
       "Prior Hospital Admission                   96.680645   \n",
       "\n",
       "                           Avg Spndg Per EP National  Avg Spndg Per EP State  \\\n",
       "Period                                                                         \n",
       "After Discharge                          1311.000000             1307.873407   \n",
       "During Hospital Admission                1671.857143             1677.879709   \n",
       "Overall                                 21646.000000            21676.427506   \n",
       "Prior Hospital Admission                  109.714286              110.911218   \n",
       "\n",
       "                             Facility ID  Percent of Spndg Hospital  \\\n",
       "Period                                                                \n",
       "After Discharge            260615.397665                   6.201224   \n",
       "During Hospital Admission  260615.397665                   7.602415   \n",
       "Overall                    260615.397665                 100.000000   \n",
       "Prior Hospital Admission   260615.397665                   0.481991   \n",
       "\n",
       "                           Percent of Spndg National  Percent of Spndg State  \n",
       "Period                                                                        \n",
       "After Discharge                             6.055714                6.025435  \n",
       "During Hospital Admission                   7.724286                7.747714  \n",
       "Overall                                   100.000000              100.000000  \n",
       "Prior Hospital Admission                    0.505714                0.512139  "
      ]
     },
     "execution_count": 50,
     "metadata": {},
     "output_type": "execute_result"
    }
   ],
   "source": [
    "pd.pivot_table(medicare, index = 'Period')"
   ]
  },
  {
   "cell_type": "markdown",
   "metadata": {},
   "source": [
    "#### Canada healthcare"
   ]
  },
  {
   "cell_type": "code",
   "execution_count": 51,
   "metadata": {},
   "outputs": [],
   "source": [
    "canada_medicare = pd.read_excel('Canada healthcare.xlsx', names = ['Province/State','Cause','Inpatient hospitalizations in 2018','Percent of spending inpatient 2018'])"
   ]
  },
  {
   "cell_type": "code",
   "execution_count": 52,
   "metadata": {},
   "outputs": [
    {
     "data": {
      "text/html": [
       "<div>\n",
       "<style scoped>\n",
       "    .dataframe tbody tr th:only-of-type {\n",
       "        vertical-align: middle;\n",
       "    }\n",
       "\n",
       "    .dataframe tbody tr th {\n",
       "        vertical-align: top;\n",
       "    }\n",
       "\n",
       "    .dataframe thead th {\n",
       "        text-align: right;\n",
       "    }\n",
       "</style>\n",
       "<table border=\"1\" class=\"dataframe\">\n",
       "  <thead>\n",
       "    <tr style=\"text-align: right;\">\n",
       "      <th></th>\n",
       "      <th>Province/State</th>\n",
       "      <th>Cause</th>\n",
       "      <th>Inpatient hospitalizations in 2018</th>\n",
       "      <th>Percent of spending inpatient 2018</th>\n",
       "    </tr>\n",
       "  </thead>\n",
       "  <tbody>\n",
       "    <tr>\n",
       "      <th>0</th>\n",
       "      <td>N.L.</td>\n",
       "      <td>Giving birth</td>\n",
       "      <td>3922</td>\n",
       "      <td>7.941683</td>\n",
       "    </tr>\n",
       "    <tr>\n",
       "      <th>1</th>\n",
       "      <td>N.L.</td>\n",
       "      <td>Acute myocardial infarction</td>\n",
       "      <td>1825</td>\n",
       "      <td>3.695454</td>\n",
       "    </tr>\n",
       "    <tr>\n",
       "      <th>2</th>\n",
       "      <td>N.L.</td>\n",
       "      <td>COPD and bronchitis</td>\n",
       "      <td>1777</td>\n",
       "      <td>3.598259</td>\n",
       "    </tr>\n",
       "    <tr>\n",
       "      <th>3</th>\n",
       "      <td>N.L.</td>\n",
       "      <td>Other medical care (e.g., palliative care, che...</td>\n",
       "      <td>1303</td>\n",
       "      <td>2.638453</td>\n",
       "    </tr>\n",
       "    <tr>\n",
       "      <th>4</th>\n",
       "      <td>N.L.</td>\n",
       "      <td>Pneumonia</td>\n",
       "      <td>1198</td>\n",
       "      <td>2.425838</td>\n",
       "    </tr>\n",
       "  </tbody>\n",
       "</table>\n",
       "</div>"
      ],
      "text/plain": [
       "  Province/State                                              Cause  \\\n",
       "0           N.L.                                       Giving birth   \n",
       "1           N.L.                        Acute myocardial infarction   \n",
       "2           N.L.                                COPD and bronchitis   \n",
       "3           N.L.  Other medical care (e.g., palliative care, che...   \n",
       "4           N.L.                                          Pneumonia   \n",
       "\n",
       "   Inpatient hospitalizations in 2018  Percent of spending inpatient 2018  \n",
       "0                                3922                            7.941683  \n",
       "1                                1825                            3.695454  \n",
       "2                                1777                            3.598259  \n",
       "3                                1303                            2.638453  \n",
       "4                                1198                            2.425838  "
      ]
     },
     "execution_count": 52,
     "metadata": {},
     "output_type": "execute_result"
    }
   ],
   "source": [
    "canada_medicare.head()"
   ]
  },
  {
   "cell_type": "markdown",
   "metadata": {},
   "source": [
    "#### Lets analyze Canada inpatient healthcare data"
   ]
  },
  {
   "cell_type": "code",
   "execution_count": 53,
   "metadata": {},
   "outputs": [
    {
     "data": {
      "text/plain": [
       "array(['N.L.', 'P.E.I.', 'N.S.', 'N.B.', 'Que.', 'Ont.', 'Man.', 'Sask.',\n",
       "       'Alta.', 'B.C.', 'Y.T.', 'N.W.T.', 'Nun.'], dtype=object)"
      ]
     },
     "execution_count": 53,
     "metadata": {},
     "output_type": "execute_result"
    }
   ],
   "source": [
    "canada_medicare['Province/State'].unique()"
   ]
  },
  {
   "cell_type": "code",
   "execution_count": 54,
   "metadata": {},
   "outputs": [
    {
     "name": "stdout",
     "output_type": "stream",
     "text": [
      "<class 'pandas.core.frame.DataFrame'>\n",
      "RangeIndex: 131 entries, 0 to 130\n",
      "Data columns (total 4 columns):\n",
      "Province/State                        131 non-null object\n",
      "Cause                                 131 non-null object\n",
      "Inpatient hospitalizations in 2018    131 non-null int64\n",
      "Percent of spending inpatient 2018    131 non-null float64\n",
      "dtypes: float64(1), int64(1), object(2)\n",
      "memory usage: 4.2+ KB\n"
     ]
    }
   ],
   "source": [
    "canada_medicare.info()"
   ]
  },
  {
   "cell_type": "markdown",
   "metadata": {},
   "source": [
    "#### The number of states we are looking at in Canada healthcare data"
   ]
  },
  {
   "cell_type": "code",
   "execution_count": 55,
   "metadata": {},
   "outputs": [
    {
     "data": {
      "text/plain": [
       "13"
      ]
     },
     "execution_count": 55,
     "metadata": {},
     "output_type": "execute_result"
    }
   ],
   "source": [
    "canada_medicare['Province/State'].nunique()"
   ]
  },
  {
   "cell_type": "code",
   "execution_count": 56,
   "metadata": {},
   "outputs": [],
   "source": [
    "canada_inpatient = canada_medicare[['Province/State','Percent of spending inpatient 2018']]"
   ]
  },
  {
   "cell_type": "code",
   "execution_count": 57,
   "metadata": {},
   "outputs": [
    {
     "data": {
      "text/html": [
       "<div>\n",
       "<style scoped>\n",
       "    .dataframe tbody tr th:only-of-type {\n",
       "        vertical-align: middle;\n",
       "    }\n",
       "\n",
       "    .dataframe tbody tr th {\n",
       "        vertical-align: top;\n",
       "    }\n",
       "\n",
       "    .dataframe thead th {\n",
       "        text-align: right;\n",
       "    }\n",
       "</style>\n",
       "<table border=\"1\" class=\"dataframe\">\n",
       "  <thead>\n",
       "    <tr style=\"text-align: right;\">\n",
       "      <th></th>\n",
       "      <th>Province/State</th>\n",
       "      <th>Percent of spending inpatient 2018</th>\n",
       "    </tr>\n",
       "  </thead>\n",
       "  <tbody>\n",
       "    <tr>\n",
       "      <th>0</th>\n",
       "      <td>N.L.</td>\n",
       "      <td>7.941683</td>\n",
       "    </tr>\n",
       "    <tr>\n",
       "      <th>1</th>\n",
       "      <td>N.L.</td>\n",
       "      <td>3.695454</td>\n",
       "    </tr>\n",
       "    <tr>\n",
       "      <th>2</th>\n",
       "      <td>N.L.</td>\n",
       "      <td>3.598259</td>\n",
       "    </tr>\n",
       "    <tr>\n",
       "      <th>3</th>\n",
       "      <td>N.L.</td>\n",
       "      <td>2.638453</td>\n",
       "    </tr>\n",
       "    <tr>\n",
       "      <th>4</th>\n",
       "      <td>N.L.</td>\n",
       "      <td>2.425838</td>\n",
       "    </tr>\n",
       "  </tbody>\n",
       "</table>\n",
       "</div>"
      ],
      "text/plain": [
       "  Province/State  Percent of spending inpatient 2018\n",
       "0           N.L.                            7.941683\n",
       "1           N.L.                            3.695454\n",
       "2           N.L.                            3.598259\n",
       "3           N.L.                            2.638453\n",
       "4           N.L.                            2.425838"
      ]
     },
     "execution_count": 57,
     "metadata": {},
     "output_type": "execute_result"
    }
   ],
   "source": [
    "canada_inpatient.head()"
   ]
  },
  {
   "cell_type": "code",
   "execution_count": 58,
   "metadata": {},
   "outputs": [],
   "source": [
    "usa_inpatient = medicare[['State','Percent of Spndg State','Claim Type']]"
   ]
  },
  {
   "cell_type": "code",
   "execution_count": 59,
   "metadata": {},
   "outputs": [],
   "source": [
    "usa_inpatient = usa_inpatient[usa_inpatient['Claim Type'] == 'Inpatient']"
   ]
  },
  {
   "cell_type": "code",
   "execution_count": 60,
   "metadata": {},
   "outputs": [
    {
     "data": {
      "text/html": [
       "<div>\n",
       "<style scoped>\n",
       "    .dataframe tbody tr th:only-of-type {\n",
       "        vertical-align: middle;\n",
       "    }\n",
       "\n",
       "    .dataframe tbody tr th {\n",
       "        vertical-align: top;\n",
       "    }\n",
       "\n",
       "    .dataframe thead th {\n",
       "        text-align: right;\n",
       "    }\n",
       "</style>\n",
       "<table border=\"1\" class=\"dataframe\">\n",
       "  <thead>\n",
       "    <tr style=\"text-align: right;\">\n",
       "      <th></th>\n",
       "      <th>State</th>\n",
       "      <th>Percent of Spndg State</th>\n",
       "      <th>Claim Type</th>\n",
       "    </tr>\n",
       "  </thead>\n",
       "  <tbody>\n",
       "    <tr>\n",
       "      <th>2</th>\n",
       "      <td>AL</td>\n",
       "      <td>0.04</td>\n",
       "      <td>Inpatient</td>\n",
       "    </tr>\n",
       "    <tr>\n",
       "      <th>9</th>\n",
       "      <td>AL</td>\n",
       "      <td>47.17</td>\n",
       "      <td>Inpatient</td>\n",
       "    </tr>\n",
       "    <tr>\n",
       "      <th>16</th>\n",
       "      <td>AL</td>\n",
       "      <td>14.46</td>\n",
       "      <td>Inpatient</td>\n",
       "    </tr>\n",
       "    <tr>\n",
       "      <th>24</th>\n",
       "      <td>AL</td>\n",
       "      <td>0.04</td>\n",
       "      <td>Inpatient</td>\n",
       "    </tr>\n",
       "    <tr>\n",
       "      <th>31</th>\n",
       "      <td>AL</td>\n",
       "      <td>47.17</td>\n",
       "      <td>Inpatient</td>\n",
       "    </tr>\n",
       "  </tbody>\n",
       "</table>\n",
       "</div>"
      ],
      "text/plain": [
       "   State  Percent of Spndg State Claim Type\n",
       "2     AL                    0.04  Inpatient\n",
       "9     AL                   47.17  Inpatient\n",
       "16    AL                   14.46  Inpatient\n",
       "24    AL                    0.04  Inpatient\n",
       "31    AL                   47.17  Inpatient"
      ]
     },
     "execution_count": 60,
     "metadata": {},
     "output_type": "execute_result"
    }
   ],
   "source": [
    "usa_inpatient.head()"
   ]
  },
  {
   "cell_type": "code",
   "execution_count": 61,
   "metadata": {},
   "outputs": [],
   "source": [
    "canada_states = canada_inpatient['Province/State'].unique()"
   ]
  },
  {
   "cell_type": "code",
   "execution_count": 62,
   "metadata": {},
   "outputs": [],
   "source": [
    "def calculate_per_inpatient_spending(dataset):\n",
    "    canada_states = dataset['Province/State'].unique()\n",
    "    total_percent_for_state = []\n",
    "    for i in canada_states:\n",
    "        total_percent = dataset[(dataset['Province/State'] == i)].agg({'Percent of spending inpatient 2018':sum})[0]\n",
    "        total_percent_for_state.append((i,total_percent))\n",
    "    return total_percent_for_state"
   ]
  },
  {
   "cell_type": "code",
   "execution_count": 63,
   "metadata": {},
   "outputs": [],
   "source": [
    "canada_inpatient_statewise = calculate_per_inpatient_spending(canada_inpatient)"
   ]
  },
  {
   "cell_type": "code",
   "execution_count": 64,
   "metadata": {},
   "outputs": [],
   "source": [
    "canada_inpatient_statewise = pd.DataFrame(canada_inpatient_statewise)"
   ]
  },
  {
   "cell_type": "code",
   "execution_count": 65,
   "metadata": {},
   "outputs": [],
   "source": [
    "canada_inpatient_statewise.columns = ['State','Percent of inpatient spending']"
   ]
  },
  {
   "cell_type": "code",
   "execution_count": 66,
   "metadata": {},
   "outputs": [
    {
     "data": {
      "text/html": [
       "<div>\n",
       "<style scoped>\n",
       "    .dataframe tbody tr th:only-of-type {\n",
       "        vertical-align: middle;\n",
       "    }\n",
       "\n",
       "    .dataframe tbody tr th {\n",
       "        vertical-align: top;\n",
       "    }\n",
       "\n",
       "    .dataframe thead th {\n",
       "        text-align: right;\n",
       "    }\n",
       "</style>\n",
       "<table border=\"1\" class=\"dataframe\">\n",
       "  <thead>\n",
       "    <tr style=\"text-align: right;\">\n",
       "      <th></th>\n",
       "      <th>State</th>\n",
       "      <th>Percent of inpatient spending</th>\n",
       "    </tr>\n",
       "  </thead>\n",
       "  <tbody>\n",
       "    <tr>\n",
       "      <th>12</th>\n",
       "      <td>Nun.</td>\n",
       "      <td>47.521717</td>\n",
       "    </tr>\n",
       "    <tr>\n",
       "      <th>11</th>\n",
       "      <td>N.W.T.</td>\n",
       "      <td>40.817223</td>\n",
       "    </tr>\n",
       "    <tr>\n",
       "      <th>10</th>\n",
       "      <td>Y.T.</td>\n",
       "      <td>34.789023</td>\n",
       "    </tr>\n",
       "    <tr>\n",
       "      <th>6</th>\n",
       "      <td>Man.</td>\n",
       "      <td>32.709960</td>\n",
       "    </tr>\n",
       "    <tr>\n",
       "      <th>1</th>\n",
       "      <td>P.E.I.</td>\n",
       "      <td>32.473478</td>\n",
       "    </tr>\n",
       "    <tr>\n",
       "      <th>2</th>\n",
       "      <td>N.S.</td>\n",
       "      <td>32.297881</td>\n",
       "    </tr>\n",
       "    <tr>\n",
       "      <th>7</th>\n",
       "      <td>Sask.</td>\n",
       "      <td>31.320033</td>\n",
       "    </tr>\n",
       "    <tr>\n",
       "      <th>3</th>\n",
       "      <td>N.B.</td>\n",
       "      <td>31.053128</td>\n",
       "    </tr>\n",
       "    <tr>\n",
       "      <th>5</th>\n",
       "      <td>Ont.</td>\n",
       "      <td>30.792452</td>\n",
       "    </tr>\n",
       "    <tr>\n",
       "      <th>8</th>\n",
       "      <td>Alta.</td>\n",
       "      <td>30.638236</td>\n",
       "    </tr>\n",
       "  </tbody>\n",
       "</table>\n",
       "</div>"
      ],
      "text/plain": [
       "     State  Percent of inpatient spending\n",
       "12    Nun.                      47.521717\n",
       "11  N.W.T.                      40.817223\n",
       "10    Y.T.                      34.789023\n",
       "6     Man.                      32.709960\n",
       "1   P.E.I.                      32.473478\n",
       "2     N.S.                      32.297881\n",
       "7    Sask.                      31.320033\n",
       "3     N.B.                      31.053128\n",
       "5     Ont.                      30.792452\n",
       "8    Alta.                      30.638236"
      ]
     },
     "execution_count": 66,
     "metadata": {},
     "output_type": "execute_result"
    }
   ],
   "source": [
    "canada_inpatient_statewise.sort_values(by ='Percent of inpatient spending', ascending = False)[:10]"
   ]
  },
  {
   "cell_type": "code",
   "execution_count": 67,
   "metadata": {},
   "outputs": [
    {
     "data": {
      "application/vnd.plotly.v1+json": {
       "config": {
        "plotlyServerURL": "https://plot.ly"
       },
       "data": [
        {
         "marker": {
          "color": "lightsalmon"
         },
         "type": "bar",
         "x": [
          "N.L.",
          "P.E.I.",
          "N.S.",
          "N.B.",
          "Que.",
          "Ont.",
          "Man.",
          "Sask.",
          "Alta.",
          "B.C.",
          "Y.T.",
          "N.W.T.",
          "Nun."
         ],
         "y": [
          29.60008099625392,
          32.4734776921959,
          32.29788085236566,
          31.053127700243515,
          29.028956214251693,
          30.792452492253688,
          32.70995997497364,
          31.320033468410085,
          30.638235998494647,
          29.571474202713382,
          34.78902331071112,
          40.81722319859402,
          47.52171691364333
         ]
        }
       ],
       "layout": {
        "template": {
         "data": {
          "bar": [
           {
            "error_x": {
             "color": "#2a3f5f"
            },
            "error_y": {
             "color": "#2a3f5f"
            },
            "marker": {
             "line": {
              "color": "#E5ECF6",
              "width": 0.5
             }
            },
            "type": "bar"
           }
          ],
          "barpolar": [
           {
            "marker": {
             "line": {
              "color": "#E5ECF6",
              "width": 0.5
             }
            },
            "type": "barpolar"
           }
          ],
          "carpet": [
           {
            "aaxis": {
             "endlinecolor": "#2a3f5f",
             "gridcolor": "white",
             "linecolor": "white",
             "minorgridcolor": "white",
             "startlinecolor": "#2a3f5f"
            },
            "baxis": {
             "endlinecolor": "#2a3f5f",
             "gridcolor": "white",
             "linecolor": "white",
             "minorgridcolor": "white",
             "startlinecolor": "#2a3f5f"
            },
            "type": "carpet"
           }
          ],
          "choropleth": [
           {
            "colorbar": {
             "outlinewidth": 0,
             "ticks": ""
            },
            "type": "choropleth"
           }
          ],
          "contour": [
           {
            "colorbar": {
             "outlinewidth": 0,
             "ticks": ""
            },
            "colorscale": [
             [
              0,
              "#0d0887"
             ],
             [
              0.1111111111111111,
              "#46039f"
             ],
             [
              0.2222222222222222,
              "#7201a8"
             ],
             [
              0.3333333333333333,
              "#9c179e"
             ],
             [
              0.4444444444444444,
              "#bd3786"
             ],
             [
              0.5555555555555556,
              "#d8576b"
             ],
             [
              0.6666666666666666,
              "#ed7953"
             ],
             [
              0.7777777777777778,
              "#fb9f3a"
             ],
             [
              0.8888888888888888,
              "#fdca26"
             ],
             [
              1,
              "#f0f921"
             ]
            ],
            "type": "contour"
           }
          ],
          "contourcarpet": [
           {
            "colorbar": {
             "outlinewidth": 0,
             "ticks": ""
            },
            "type": "contourcarpet"
           }
          ],
          "heatmap": [
           {
            "colorbar": {
             "outlinewidth": 0,
             "ticks": ""
            },
            "colorscale": [
             [
              0,
              "#0d0887"
             ],
             [
              0.1111111111111111,
              "#46039f"
             ],
             [
              0.2222222222222222,
              "#7201a8"
             ],
             [
              0.3333333333333333,
              "#9c179e"
             ],
             [
              0.4444444444444444,
              "#bd3786"
             ],
             [
              0.5555555555555556,
              "#d8576b"
             ],
             [
              0.6666666666666666,
              "#ed7953"
             ],
             [
              0.7777777777777778,
              "#fb9f3a"
             ],
             [
              0.8888888888888888,
              "#fdca26"
             ],
             [
              1,
              "#f0f921"
             ]
            ],
            "type": "heatmap"
           }
          ],
          "heatmapgl": [
           {
            "colorbar": {
             "outlinewidth": 0,
             "ticks": ""
            },
            "colorscale": [
             [
              0,
              "#0d0887"
             ],
             [
              0.1111111111111111,
              "#46039f"
             ],
             [
              0.2222222222222222,
              "#7201a8"
             ],
             [
              0.3333333333333333,
              "#9c179e"
             ],
             [
              0.4444444444444444,
              "#bd3786"
             ],
             [
              0.5555555555555556,
              "#d8576b"
             ],
             [
              0.6666666666666666,
              "#ed7953"
             ],
             [
              0.7777777777777778,
              "#fb9f3a"
             ],
             [
              0.8888888888888888,
              "#fdca26"
             ],
             [
              1,
              "#f0f921"
             ]
            ],
            "type": "heatmapgl"
           }
          ],
          "histogram": [
           {
            "marker": {
             "colorbar": {
              "outlinewidth": 0,
              "ticks": ""
             }
            },
            "type": "histogram"
           }
          ],
          "histogram2d": [
           {
            "colorbar": {
             "outlinewidth": 0,
             "ticks": ""
            },
            "colorscale": [
             [
              0,
              "#0d0887"
             ],
             [
              0.1111111111111111,
              "#46039f"
             ],
             [
              0.2222222222222222,
              "#7201a8"
             ],
             [
              0.3333333333333333,
              "#9c179e"
             ],
             [
              0.4444444444444444,
              "#bd3786"
             ],
             [
              0.5555555555555556,
              "#d8576b"
             ],
             [
              0.6666666666666666,
              "#ed7953"
             ],
             [
              0.7777777777777778,
              "#fb9f3a"
             ],
             [
              0.8888888888888888,
              "#fdca26"
             ],
             [
              1,
              "#f0f921"
             ]
            ],
            "type": "histogram2d"
           }
          ],
          "histogram2dcontour": [
           {
            "colorbar": {
             "outlinewidth": 0,
             "ticks": ""
            },
            "colorscale": [
             [
              0,
              "#0d0887"
             ],
             [
              0.1111111111111111,
              "#46039f"
             ],
             [
              0.2222222222222222,
              "#7201a8"
             ],
             [
              0.3333333333333333,
              "#9c179e"
             ],
             [
              0.4444444444444444,
              "#bd3786"
             ],
             [
              0.5555555555555556,
              "#d8576b"
             ],
             [
              0.6666666666666666,
              "#ed7953"
             ],
             [
              0.7777777777777778,
              "#fb9f3a"
             ],
             [
              0.8888888888888888,
              "#fdca26"
             ],
             [
              1,
              "#f0f921"
             ]
            ],
            "type": "histogram2dcontour"
           }
          ],
          "mesh3d": [
           {
            "colorbar": {
             "outlinewidth": 0,
             "ticks": ""
            },
            "type": "mesh3d"
           }
          ],
          "parcoords": [
           {
            "line": {
             "colorbar": {
              "outlinewidth": 0,
              "ticks": ""
             }
            },
            "type": "parcoords"
           }
          ],
          "pie": [
           {
            "automargin": true,
            "type": "pie"
           }
          ],
          "scatter": [
           {
            "marker": {
             "colorbar": {
              "outlinewidth": 0,
              "ticks": ""
             }
            },
            "type": "scatter"
           }
          ],
          "scatter3d": [
           {
            "line": {
             "colorbar": {
              "outlinewidth": 0,
              "ticks": ""
             }
            },
            "marker": {
             "colorbar": {
              "outlinewidth": 0,
              "ticks": ""
             }
            },
            "type": "scatter3d"
           }
          ],
          "scattercarpet": [
           {
            "marker": {
             "colorbar": {
              "outlinewidth": 0,
              "ticks": ""
             }
            },
            "type": "scattercarpet"
           }
          ],
          "scattergeo": [
           {
            "marker": {
             "colorbar": {
              "outlinewidth": 0,
              "ticks": ""
             }
            },
            "type": "scattergeo"
           }
          ],
          "scattergl": [
           {
            "marker": {
             "colorbar": {
              "outlinewidth": 0,
              "ticks": ""
             }
            },
            "type": "scattergl"
           }
          ],
          "scattermapbox": [
           {
            "marker": {
             "colorbar": {
              "outlinewidth": 0,
              "ticks": ""
             }
            },
            "type": "scattermapbox"
           }
          ],
          "scatterpolar": [
           {
            "marker": {
             "colorbar": {
              "outlinewidth": 0,
              "ticks": ""
             }
            },
            "type": "scatterpolar"
           }
          ],
          "scatterpolargl": [
           {
            "marker": {
             "colorbar": {
              "outlinewidth": 0,
              "ticks": ""
             }
            },
            "type": "scatterpolargl"
           }
          ],
          "scatterternary": [
           {
            "marker": {
             "colorbar": {
              "outlinewidth": 0,
              "ticks": ""
             }
            },
            "type": "scatterternary"
           }
          ],
          "surface": [
           {
            "colorbar": {
             "outlinewidth": 0,
             "ticks": ""
            },
            "colorscale": [
             [
              0,
              "#0d0887"
             ],
             [
              0.1111111111111111,
              "#46039f"
             ],
             [
              0.2222222222222222,
              "#7201a8"
             ],
             [
              0.3333333333333333,
              "#9c179e"
             ],
             [
              0.4444444444444444,
              "#bd3786"
             ],
             [
              0.5555555555555556,
              "#d8576b"
             ],
             [
              0.6666666666666666,
              "#ed7953"
             ],
             [
              0.7777777777777778,
              "#fb9f3a"
             ],
             [
              0.8888888888888888,
              "#fdca26"
             ],
             [
              1,
              "#f0f921"
             ]
            ],
            "type": "surface"
           }
          ],
          "table": [
           {
            "cells": {
             "fill": {
              "color": "#EBF0F8"
             },
             "line": {
              "color": "white"
             }
            },
            "header": {
             "fill": {
              "color": "#C8D4E3"
             },
             "line": {
              "color": "white"
             }
            },
            "type": "table"
           }
          ]
         },
         "layout": {
          "annotationdefaults": {
           "arrowcolor": "#2a3f5f",
           "arrowhead": 0,
           "arrowwidth": 1
          },
          "coloraxis": {
           "colorbar": {
            "outlinewidth": 0,
            "ticks": ""
           }
          },
          "colorscale": {
           "diverging": [
            [
             0,
             "#8e0152"
            ],
            [
             0.1,
             "#c51b7d"
            ],
            [
             0.2,
             "#de77ae"
            ],
            [
             0.3,
             "#f1b6da"
            ],
            [
             0.4,
             "#fde0ef"
            ],
            [
             0.5,
             "#f7f7f7"
            ],
            [
             0.6,
             "#e6f5d0"
            ],
            [
             0.7,
             "#b8e186"
            ],
            [
             0.8,
             "#7fbc41"
            ],
            [
             0.9,
             "#4d9221"
            ],
            [
             1,
             "#276419"
            ]
           ],
           "sequential": [
            [
             0,
             "#0d0887"
            ],
            [
             0.1111111111111111,
             "#46039f"
            ],
            [
             0.2222222222222222,
             "#7201a8"
            ],
            [
             0.3333333333333333,
             "#9c179e"
            ],
            [
             0.4444444444444444,
             "#bd3786"
            ],
            [
             0.5555555555555556,
             "#d8576b"
            ],
            [
             0.6666666666666666,
             "#ed7953"
            ],
            [
             0.7777777777777778,
             "#fb9f3a"
            ],
            [
             0.8888888888888888,
             "#fdca26"
            ],
            [
             1,
             "#f0f921"
            ]
           ],
           "sequentialminus": [
            [
             0,
             "#0d0887"
            ],
            [
             0.1111111111111111,
             "#46039f"
            ],
            [
             0.2222222222222222,
             "#7201a8"
            ],
            [
             0.3333333333333333,
             "#9c179e"
            ],
            [
             0.4444444444444444,
             "#bd3786"
            ],
            [
             0.5555555555555556,
             "#d8576b"
            ],
            [
             0.6666666666666666,
             "#ed7953"
            ],
            [
             0.7777777777777778,
             "#fb9f3a"
            ],
            [
             0.8888888888888888,
             "#fdca26"
            ],
            [
             1,
             "#f0f921"
            ]
           ]
          },
          "colorway": [
           "#636efa",
           "#EF553B",
           "#00cc96",
           "#ab63fa",
           "#FFA15A",
           "#19d3f3",
           "#FF6692",
           "#B6E880",
           "#FF97FF",
           "#FECB52"
          ],
          "font": {
           "color": "#2a3f5f"
          },
          "geo": {
           "bgcolor": "white",
           "lakecolor": "white",
           "landcolor": "#E5ECF6",
           "showlakes": true,
           "showland": true,
           "subunitcolor": "white"
          },
          "hoverlabel": {
           "align": "left"
          },
          "hovermode": "closest",
          "mapbox": {
           "style": "light"
          },
          "paper_bgcolor": "white",
          "plot_bgcolor": "#E5ECF6",
          "polar": {
           "angularaxis": {
            "gridcolor": "white",
            "linecolor": "white",
            "ticks": ""
           },
           "bgcolor": "#E5ECF6",
           "radialaxis": {
            "gridcolor": "white",
            "linecolor": "white",
            "ticks": ""
           }
          },
          "scene": {
           "xaxis": {
            "backgroundcolor": "#E5ECF6",
            "gridcolor": "white",
            "gridwidth": 2,
            "linecolor": "white",
            "showbackground": true,
            "ticks": "",
            "zerolinecolor": "white"
           },
           "yaxis": {
            "backgroundcolor": "#E5ECF6",
            "gridcolor": "white",
            "gridwidth": 2,
            "linecolor": "white",
            "showbackground": true,
            "ticks": "",
            "zerolinecolor": "white"
           },
           "zaxis": {
            "backgroundcolor": "#E5ECF6",
            "gridcolor": "white",
            "gridwidth": 2,
            "linecolor": "white",
            "showbackground": true,
            "ticks": "",
            "zerolinecolor": "white"
           }
          },
          "shapedefaults": {
           "line": {
            "color": "#2a3f5f"
           }
          },
          "ternary": {
           "aaxis": {
            "gridcolor": "white",
            "linecolor": "white",
            "ticks": ""
           },
           "baxis": {
            "gridcolor": "white",
            "linecolor": "white",
            "ticks": ""
           },
           "bgcolor": "#E5ECF6",
           "caxis": {
            "gridcolor": "white",
            "linecolor": "white",
            "ticks": ""
           }
          },
          "title": {
           "x": 0.05
          },
          "xaxis": {
           "automargin": true,
           "gridcolor": "white",
           "linecolor": "white",
           "ticks": "",
           "title": {
            "standoff": 15
           },
           "zerolinecolor": "white",
           "zerolinewidth": 2
          },
          "yaxis": {
           "automargin": true,
           "gridcolor": "white",
           "linecolor": "white",
           "ticks": "",
           "title": {
            "standoff": 15
           },
           "zerolinecolor": "white",
           "zerolinewidth": 2
          }
         }
        },
        "title": {
         "text": "Inpatient Spending % w.r.t State for Canada"
        }
       }
      },
      "text/html": [
       "<div>\n",
       "        \n",
       "        \n",
       "            <div id=\"c7d5bfeb-785e-47e8-b589-ff0e4c0ca73b\" class=\"plotly-graph-div\" style=\"height:525px; width:100%;\"></div>\n",
       "            <script type=\"text/javascript\">\n",
       "                require([\"plotly\"], function(Plotly) {\n",
       "                    window.PLOTLYENV=window.PLOTLYENV || {};\n",
       "                    \n",
       "                if (document.getElementById(\"c7d5bfeb-785e-47e8-b589-ff0e4c0ca73b\")) {\n",
       "                    Plotly.newPlot(\n",
       "                        'c7d5bfeb-785e-47e8-b589-ff0e4c0ca73b',\n",
       "                        [{\"marker\": {\"color\": \"lightsalmon\"}, \"type\": \"bar\", \"x\": [\"N.L.\", \"P.E.I.\", \"N.S.\", \"N.B.\", \"Que.\", \"Ont.\", \"Man.\", \"Sask.\", \"Alta.\", \"B.C.\", \"Y.T.\", \"N.W.T.\", \"Nun.\"], \"y\": [29.60008099625392, 32.4734776921959, 32.29788085236566, 31.053127700243515, 29.028956214251693, 30.792452492253688, 32.70995997497364, 31.320033468410085, 30.638235998494647, 29.571474202713382, 34.78902331071112, 40.81722319859402, 47.52171691364333]}],\n",
       "                        {\"template\": {\"data\": {\"bar\": [{\"error_x\": {\"color\": \"#2a3f5f\"}, \"error_y\": {\"color\": \"#2a3f5f\"}, \"marker\": {\"line\": {\"color\": \"#E5ECF6\", \"width\": 0.5}}, \"type\": \"bar\"}], \"barpolar\": [{\"marker\": {\"line\": {\"color\": \"#E5ECF6\", \"width\": 0.5}}, \"type\": \"barpolar\"}], \"carpet\": [{\"aaxis\": {\"endlinecolor\": \"#2a3f5f\", \"gridcolor\": \"white\", \"linecolor\": \"white\", \"minorgridcolor\": \"white\", \"startlinecolor\": \"#2a3f5f\"}, \"baxis\": {\"endlinecolor\": \"#2a3f5f\", \"gridcolor\": \"white\", \"linecolor\": \"white\", \"minorgridcolor\": \"white\", \"startlinecolor\": \"#2a3f5f\"}, \"type\": \"carpet\"}], \"choropleth\": [{\"colorbar\": {\"outlinewidth\": 0, \"ticks\": \"\"}, \"type\": \"choropleth\"}], \"contour\": [{\"colorbar\": {\"outlinewidth\": 0, \"ticks\": \"\"}, \"colorscale\": [[0.0, \"#0d0887\"], [0.1111111111111111, \"#46039f\"], [0.2222222222222222, \"#7201a8\"], [0.3333333333333333, \"#9c179e\"], [0.4444444444444444, \"#bd3786\"], [0.5555555555555556, \"#d8576b\"], [0.6666666666666666, \"#ed7953\"], [0.7777777777777778, \"#fb9f3a\"], [0.8888888888888888, \"#fdca26\"], [1.0, \"#f0f921\"]], \"type\": \"contour\"}], \"contourcarpet\": [{\"colorbar\": {\"outlinewidth\": 0, \"ticks\": \"\"}, \"type\": \"contourcarpet\"}], \"heatmap\": [{\"colorbar\": {\"outlinewidth\": 0, \"ticks\": \"\"}, \"colorscale\": [[0.0, \"#0d0887\"], [0.1111111111111111, \"#46039f\"], [0.2222222222222222, \"#7201a8\"], [0.3333333333333333, \"#9c179e\"], [0.4444444444444444, \"#bd3786\"], [0.5555555555555556, \"#d8576b\"], [0.6666666666666666, \"#ed7953\"], [0.7777777777777778, \"#fb9f3a\"], [0.8888888888888888, \"#fdca26\"], [1.0, \"#f0f921\"]], \"type\": \"heatmap\"}], \"heatmapgl\": [{\"colorbar\": {\"outlinewidth\": 0, \"ticks\": \"\"}, \"colorscale\": [[0.0, \"#0d0887\"], [0.1111111111111111, \"#46039f\"], [0.2222222222222222, \"#7201a8\"], [0.3333333333333333, \"#9c179e\"], [0.4444444444444444, \"#bd3786\"], [0.5555555555555556, \"#d8576b\"], [0.6666666666666666, \"#ed7953\"], [0.7777777777777778, \"#fb9f3a\"], [0.8888888888888888, \"#fdca26\"], [1.0, \"#f0f921\"]], \"type\": \"heatmapgl\"}], \"histogram\": [{\"marker\": {\"colorbar\": {\"outlinewidth\": 0, \"ticks\": \"\"}}, \"type\": \"histogram\"}], \"histogram2d\": [{\"colorbar\": {\"outlinewidth\": 0, \"ticks\": \"\"}, \"colorscale\": [[0.0, \"#0d0887\"], [0.1111111111111111, \"#46039f\"], [0.2222222222222222, \"#7201a8\"], [0.3333333333333333, \"#9c179e\"], [0.4444444444444444, \"#bd3786\"], [0.5555555555555556, \"#d8576b\"], [0.6666666666666666, \"#ed7953\"], [0.7777777777777778, \"#fb9f3a\"], [0.8888888888888888, \"#fdca26\"], [1.0, \"#f0f921\"]], \"type\": \"histogram2d\"}], \"histogram2dcontour\": [{\"colorbar\": {\"outlinewidth\": 0, \"ticks\": \"\"}, \"colorscale\": [[0.0, \"#0d0887\"], [0.1111111111111111, \"#46039f\"], [0.2222222222222222, \"#7201a8\"], [0.3333333333333333, \"#9c179e\"], [0.4444444444444444, \"#bd3786\"], [0.5555555555555556, \"#d8576b\"], [0.6666666666666666, \"#ed7953\"], [0.7777777777777778, \"#fb9f3a\"], [0.8888888888888888, \"#fdca26\"], [1.0, \"#f0f921\"]], \"type\": \"histogram2dcontour\"}], \"mesh3d\": [{\"colorbar\": {\"outlinewidth\": 0, \"ticks\": \"\"}, \"type\": \"mesh3d\"}], \"parcoords\": [{\"line\": {\"colorbar\": {\"outlinewidth\": 0, \"ticks\": \"\"}}, \"type\": \"parcoords\"}], \"pie\": [{\"automargin\": true, \"type\": \"pie\"}], \"scatter\": [{\"marker\": {\"colorbar\": {\"outlinewidth\": 0, \"ticks\": \"\"}}, \"type\": \"scatter\"}], \"scatter3d\": [{\"line\": {\"colorbar\": {\"outlinewidth\": 0, \"ticks\": \"\"}}, \"marker\": {\"colorbar\": {\"outlinewidth\": 0, \"ticks\": \"\"}}, \"type\": \"scatter3d\"}], \"scattercarpet\": [{\"marker\": {\"colorbar\": {\"outlinewidth\": 0, \"ticks\": \"\"}}, \"type\": \"scattercarpet\"}], \"scattergeo\": [{\"marker\": {\"colorbar\": {\"outlinewidth\": 0, \"ticks\": \"\"}}, \"type\": \"scattergeo\"}], \"scattergl\": [{\"marker\": {\"colorbar\": {\"outlinewidth\": 0, \"ticks\": \"\"}}, \"type\": \"scattergl\"}], \"scattermapbox\": [{\"marker\": {\"colorbar\": {\"outlinewidth\": 0, \"ticks\": \"\"}}, \"type\": \"scattermapbox\"}], \"scatterpolar\": [{\"marker\": {\"colorbar\": {\"outlinewidth\": 0, \"ticks\": \"\"}}, \"type\": \"scatterpolar\"}], \"scatterpolargl\": [{\"marker\": {\"colorbar\": {\"outlinewidth\": 0, \"ticks\": \"\"}}, \"type\": \"scatterpolargl\"}], \"scatterternary\": [{\"marker\": {\"colorbar\": {\"outlinewidth\": 0, \"ticks\": \"\"}}, \"type\": \"scatterternary\"}], \"surface\": [{\"colorbar\": {\"outlinewidth\": 0, \"ticks\": \"\"}, \"colorscale\": [[0.0, \"#0d0887\"], [0.1111111111111111, \"#46039f\"], [0.2222222222222222, \"#7201a8\"], [0.3333333333333333, \"#9c179e\"], [0.4444444444444444, \"#bd3786\"], [0.5555555555555556, \"#d8576b\"], [0.6666666666666666, \"#ed7953\"], [0.7777777777777778, \"#fb9f3a\"], [0.8888888888888888, \"#fdca26\"], [1.0, \"#f0f921\"]], \"type\": \"surface\"}], \"table\": [{\"cells\": {\"fill\": {\"color\": \"#EBF0F8\"}, \"line\": {\"color\": \"white\"}}, \"header\": {\"fill\": {\"color\": \"#C8D4E3\"}, \"line\": {\"color\": \"white\"}}, \"type\": \"table\"}]}, \"layout\": {\"annotationdefaults\": {\"arrowcolor\": \"#2a3f5f\", \"arrowhead\": 0, \"arrowwidth\": 1}, \"coloraxis\": {\"colorbar\": {\"outlinewidth\": 0, \"ticks\": \"\"}}, \"colorscale\": {\"diverging\": [[0, \"#8e0152\"], [0.1, \"#c51b7d\"], [0.2, \"#de77ae\"], [0.3, \"#f1b6da\"], [0.4, \"#fde0ef\"], [0.5, \"#f7f7f7\"], [0.6, \"#e6f5d0\"], [0.7, \"#b8e186\"], [0.8, \"#7fbc41\"], [0.9, \"#4d9221\"], [1, \"#276419\"]], \"sequential\": [[0.0, \"#0d0887\"], [0.1111111111111111, \"#46039f\"], [0.2222222222222222, \"#7201a8\"], [0.3333333333333333, \"#9c179e\"], [0.4444444444444444, \"#bd3786\"], [0.5555555555555556, \"#d8576b\"], [0.6666666666666666, \"#ed7953\"], [0.7777777777777778, \"#fb9f3a\"], [0.8888888888888888, \"#fdca26\"], [1.0, \"#f0f921\"]], \"sequentialminus\": [[0.0, \"#0d0887\"], [0.1111111111111111, \"#46039f\"], [0.2222222222222222, \"#7201a8\"], [0.3333333333333333, \"#9c179e\"], [0.4444444444444444, \"#bd3786\"], [0.5555555555555556, \"#d8576b\"], [0.6666666666666666, \"#ed7953\"], [0.7777777777777778, \"#fb9f3a\"], [0.8888888888888888, \"#fdca26\"], [1.0, \"#f0f921\"]]}, \"colorway\": [\"#636efa\", \"#EF553B\", \"#00cc96\", \"#ab63fa\", \"#FFA15A\", \"#19d3f3\", \"#FF6692\", \"#B6E880\", \"#FF97FF\", \"#FECB52\"], \"font\": {\"color\": \"#2a3f5f\"}, \"geo\": {\"bgcolor\": \"white\", \"lakecolor\": \"white\", \"landcolor\": \"#E5ECF6\", \"showlakes\": true, \"showland\": true, \"subunitcolor\": \"white\"}, \"hoverlabel\": {\"align\": \"left\"}, \"hovermode\": \"closest\", \"mapbox\": {\"style\": \"light\"}, \"paper_bgcolor\": \"white\", \"plot_bgcolor\": \"#E5ECF6\", \"polar\": {\"angularaxis\": {\"gridcolor\": \"white\", \"linecolor\": \"white\", \"ticks\": \"\"}, \"bgcolor\": \"#E5ECF6\", \"radialaxis\": {\"gridcolor\": \"white\", \"linecolor\": \"white\", \"ticks\": \"\"}}, \"scene\": {\"xaxis\": {\"backgroundcolor\": \"#E5ECF6\", \"gridcolor\": \"white\", \"gridwidth\": 2, \"linecolor\": \"white\", \"showbackground\": true, \"ticks\": \"\", \"zerolinecolor\": \"white\"}, \"yaxis\": {\"backgroundcolor\": \"#E5ECF6\", \"gridcolor\": \"white\", \"gridwidth\": 2, \"linecolor\": \"white\", \"showbackground\": true, \"ticks\": \"\", \"zerolinecolor\": \"white\"}, \"zaxis\": {\"backgroundcolor\": \"#E5ECF6\", \"gridcolor\": \"white\", \"gridwidth\": 2, \"linecolor\": \"white\", \"showbackground\": true, \"ticks\": \"\", \"zerolinecolor\": \"white\"}}, \"shapedefaults\": {\"line\": {\"color\": \"#2a3f5f\"}}, \"ternary\": {\"aaxis\": {\"gridcolor\": \"white\", \"linecolor\": \"white\", \"ticks\": \"\"}, \"baxis\": {\"gridcolor\": \"white\", \"linecolor\": \"white\", \"ticks\": \"\"}, \"bgcolor\": \"#E5ECF6\", \"caxis\": {\"gridcolor\": \"white\", \"linecolor\": \"white\", \"ticks\": \"\"}}, \"title\": {\"x\": 0.05}, \"xaxis\": {\"automargin\": true, \"gridcolor\": \"white\", \"linecolor\": \"white\", \"ticks\": \"\", \"title\": {\"standoff\": 15}, \"zerolinecolor\": \"white\", \"zerolinewidth\": 2}, \"yaxis\": {\"automargin\": true, \"gridcolor\": \"white\", \"linecolor\": \"white\", \"ticks\": \"\", \"title\": {\"standoff\": 15}, \"zerolinecolor\": \"white\", \"zerolinewidth\": 2}}}, \"title\": {\"text\": \"Inpatient Spending % w.r.t State for Canada\"}},\n",
       "                        {\"responsive\": true}\n",
       "                    ).then(function(){\n",
       "                            \n",
       "var gd = document.getElementById('c7d5bfeb-785e-47e8-b589-ff0e4c0ca73b');\n",
       "var x = new MutationObserver(function (mutations, observer) {{\n",
       "        var display = window.getComputedStyle(gd).display;\n",
       "        if (!display || display === 'none') {{\n",
       "            console.log([gd, 'removed!']);\n",
       "            Plotly.purge(gd);\n",
       "            observer.disconnect();\n",
       "        }}\n",
       "}});\n",
       "\n",
       "// Listen for the removal of the full notebook cells\n",
       "var notebookContainer = gd.closest('#notebook-container');\n",
       "if (notebookContainer) {{\n",
       "    x.observe(notebookContainer, {childList: true});\n",
       "}}\n",
       "\n",
       "// Listen for the clearing of the current output cell\n",
       "var outputEl = gd.closest('.output');\n",
       "if (outputEl) {{\n",
       "    x.observe(outputEl, {childList: true});\n",
       "}}\n",
       "\n",
       "                        })\n",
       "                };\n",
       "                });\n",
       "            </script>\n",
       "        </div>"
      ]
     },
     "metadata": {},
     "output_type": "display_data"
    }
   ],
   "source": [
    "# fig = px.bar(canada_inpatient_statewise,x = 'State', y=['Percent of inpatient spending'], title = 'Inpatient Spending w.r.t State for Canada',\n",
    "#       )\n",
    "# fig.show()\n",
    "\n",
    "import plotly.graph_objects as go\n",
    "fig = go.Figure(\n",
    "    go.Bar(x = canada_inpatient_statewise['State'],\n",
    "        y = canada_inpatient_statewise['Percent of inpatient spending'],\n",
    "        marker_color='lightsalmon'\n",
    "    )\n",
    "    )\n",
    "fig.update_layout(title_text='Inpatient Spending % w.r.t State for Canada')\n",
    "fig.show()"
   ]
  },
  {
   "cell_type": "code",
   "execution_count": null,
   "metadata": {},
   "outputs": [],
   "source": []
  },
  {
   "cell_type": "code",
   "execution_count": 68,
   "metadata": {},
   "outputs": [],
   "source": [
    "inpatient_cost_usa = medicare[medicare['Claim Type'] == 'Inpatient']"
   ]
  },
  {
   "cell_type": "code",
   "execution_count": 69,
   "metadata": {},
   "outputs": [],
   "source": [
    "inpatient_cost_usa.drop(columns = ['Facility Name','Facility ID','Period','Avg Spndg Per EP Hospital','Avg Spndg Per EP State','Avg Spndg Per EP National',\n",
    "                                  'Percent of Spndg Hospital','Percent of Spndg National','Start Date','End Date'], inplace  = True)"
   ]
  },
  {
   "cell_type": "code",
   "execution_count": 70,
   "metadata": {},
   "outputs": [],
   "source": [
    "inpatient_cost_usa_top_ten = pd.pivot_table(inpatient_cost_usa,index = 'State')"
   ]
  },
  {
   "cell_type": "code",
   "execution_count": 71,
   "metadata": {},
   "outputs": [],
   "source": [
    "inpatient_cost_usa_top_ten = inpatient_cost_usa_top_ten.sort_values(by = 'Percent of Spndg State', ascending = False)[:10]"
   ]
  },
  {
   "cell_type": "code",
   "execution_count": 72,
   "metadata": {},
   "outputs": [],
   "source": [
    "inpatient_cst_usa_top_ten = pd.DataFrame(inpatient_cost_usa_top_ten.to_records())"
   ]
  },
  {
   "cell_type": "code",
   "execution_count": 73,
   "metadata": {},
   "outputs": [
    {
     "data": {
      "text/html": [
       "<div>\n",
       "<style scoped>\n",
       "    .dataframe tbody tr th:only-of-type {\n",
       "        vertical-align: middle;\n",
       "    }\n",
       "\n",
       "    .dataframe tbody tr th {\n",
       "        vertical-align: top;\n",
       "    }\n",
       "\n",
       "    .dataframe thead th {\n",
       "        text-align: right;\n",
       "    }\n",
       "</style>\n",
       "<table border=\"1\" class=\"dataframe\">\n",
       "  <thead>\n",
       "    <tr style=\"text-align: right;\">\n",
       "      <th></th>\n",
       "      <th>State</th>\n",
       "      <th>Percent of Spndg State</th>\n",
       "    </tr>\n",
       "  </thead>\n",
       "  <tbody>\n",
       "    <tr>\n",
       "      <th>0</th>\n",
       "      <td>NV</td>\n",
       "      <td>21.643333</td>\n",
       "    </tr>\n",
       "    <tr>\n",
       "      <th>1</th>\n",
       "      <td>AR</td>\n",
       "      <td>21.606667</td>\n",
       "    </tr>\n",
       "    <tr>\n",
       "      <th>2</th>\n",
       "      <td>OR</td>\n",
       "      <td>21.186667</td>\n",
       "    </tr>\n",
       "    <tr>\n",
       "      <th>3</th>\n",
       "      <td>AZ</td>\n",
       "      <td>21.183333</td>\n",
       "    </tr>\n",
       "    <tr>\n",
       "      <th>4</th>\n",
       "      <td>MT</td>\n",
       "      <td>21.180000</td>\n",
       "    </tr>\n",
       "    <tr>\n",
       "      <th>5</th>\n",
       "      <td>LA</td>\n",
       "      <td>21.176667</td>\n",
       "    </tr>\n",
       "    <tr>\n",
       "      <th>6</th>\n",
       "      <td>NM</td>\n",
       "      <td>21.086667</td>\n",
       "    </tr>\n",
       "    <tr>\n",
       "      <th>7</th>\n",
       "      <td>WV</td>\n",
       "      <td>20.966667</td>\n",
       "    </tr>\n",
       "    <tr>\n",
       "      <th>8</th>\n",
       "      <td>OK</td>\n",
       "      <td>20.910000</td>\n",
       "    </tr>\n",
       "    <tr>\n",
       "      <th>9</th>\n",
       "      <td>WY</td>\n",
       "      <td>20.893333</td>\n",
       "    </tr>\n",
       "  </tbody>\n",
       "</table>\n",
       "</div>"
      ],
      "text/plain": [
       "  State  Percent of Spndg State\n",
       "0    NV               21.643333\n",
       "1    AR               21.606667\n",
       "2    OR               21.186667\n",
       "3    AZ               21.183333\n",
       "4    MT               21.180000\n",
       "5    LA               21.176667\n",
       "6    NM               21.086667\n",
       "7    WV               20.966667\n",
       "8    OK               20.910000\n",
       "9    WY               20.893333"
      ]
     },
     "execution_count": 73,
     "metadata": {},
     "output_type": "execute_result"
    }
   ],
   "source": [
    "inpatient_cst_usa_top_ten"
   ]
  },
  {
   "cell_type": "code",
   "execution_count": 74,
   "metadata": {},
   "outputs": [
    {
     "data": {
      "application/vnd.plotly.v1+json": {
       "config": {
        "plotlyServerURL": "https://plot.ly"
       },
       "data": [
        {
         "type": "bar",
         "x": [
          "NV",
          "AR",
          "OR",
          "AZ",
          "MT",
          "LA",
          "NM",
          "WV",
          "OK",
          "WY"
         ],
         "y": [
          21.643333333333324,
          21.60666666666665,
          21.18666666666666,
          21.183333333333287,
          21.179999999999993,
          21.17666666666667,
          21.086666666666666,
          20.966666666666633,
          20.909999999999986,
          20.893333333333334
         ]
        }
       ],
       "layout": {
        "template": {
         "data": {
          "bar": [
           {
            "error_x": {
             "color": "#2a3f5f"
            },
            "error_y": {
             "color": "#2a3f5f"
            },
            "marker": {
             "line": {
              "color": "#E5ECF6",
              "width": 0.5
             }
            },
            "type": "bar"
           }
          ],
          "barpolar": [
           {
            "marker": {
             "line": {
              "color": "#E5ECF6",
              "width": 0.5
             }
            },
            "type": "barpolar"
           }
          ],
          "carpet": [
           {
            "aaxis": {
             "endlinecolor": "#2a3f5f",
             "gridcolor": "white",
             "linecolor": "white",
             "minorgridcolor": "white",
             "startlinecolor": "#2a3f5f"
            },
            "baxis": {
             "endlinecolor": "#2a3f5f",
             "gridcolor": "white",
             "linecolor": "white",
             "minorgridcolor": "white",
             "startlinecolor": "#2a3f5f"
            },
            "type": "carpet"
           }
          ],
          "choropleth": [
           {
            "colorbar": {
             "outlinewidth": 0,
             "ticks": ""
            },
            "type": "choropleth"
           }
          ],
          "contour": [
           {
            "colorbar": {
             "outlinewidth": 0,
             "ticks": ""
            },
            "colorscale": [
             [
              0,
              "#0d0887"
             ],
             [
              0.1111111111111111,
              "#46039f"
             ],
             [
              0.2222222222222222,
              "#7201a8"
             ],
             [
              0.3333333333333333,
              "#9c179e"
             ],
             [
              0.4444444444444444,
              "#bd3786"
             ],
             [
              0.5555555555555556,
              "#d8576b"
             ],
             [
              0.6666666666666666,
              "#ed7953"
             ],
             [
              0.7777777777777778,
              "#fb9f3a"
             ],
             [
              0.8888888888888888,
              "#fdca26"
             ],
             [
              1,
              "#f0f921"
             ]
            ],
            "type": "contour"
           }
          ],
          "contourcarpet": [
           {
            "colorbar": {
             "outlinewidth": 0,
             "ticks": ""
            },
            "type": "contourcarpet"
           }
          ],
          "heatmap": [
           {
            "colorbar": {
             "outlinewidth": 0,
             "ticks": ""
            },
            "colorscale": [
             [
              0,
              "#0d0887"
             ],
             [
              0.1111111111111111,
              "#46039f"
             ],
             [
              0.2222222222222222,
              "#7201a8"
             ],
             [
              0.3333333333333333,
              "#9c179e"
             ],
             [
              0.4444444444444444,
              "#bd3786"
             ],
             [
              0.5555555555555556,
              "#d8576b"
             ],
             [
              0.6666666666666666,
              "#ed7953"
             ],
             [
              0.7777777777777778,
              "#fb9f3a"
             ],
             [
              0.8888888888888888,
              "#fdca26"
             ],
             [
              1,
              "#f0f921"
             ]
            ],
            "type": "heatmap"
           }
          ],
          "heatmapgl": [
           {
            "colorbar": {
             "outlinewidth": 0,
             "ticks": ""
            },
            "colorscale": [
             [
              0,
              "#0d0887"
             ],
             [
              0.1111111111111111,
              "#46039f"
             ],
             [
              0.2222222222222222,
              "#7201a8"
             ],
             [
              0.3333333333333333,
              "#9c179e"
             ],
             [
              0.4444444444444444,
              "#bd3786"
             ],
             [
              0.5555555555555556,
              "#d8576b"
             ],
             [
              0.6666666666666666,
              "#ed7953"
             ],
             [
              0.7777777777777778,
              "#fb9f3a"
             ],
             [
              0.8888888888888888,
              "#fdca26"
             ],
             [
              1,
              "#f0f921"
             ]
            ],
            "type": "heatmapgl"
           }
          ],
          "histogram": [
           {
            "marker": {
             "colorbar": {
              "outlinewidth": 0,
              "ticks": ""
             }
            },
            "type": "histogram"
           }
          ],
          "histogram2d": [
           {
            "colorbar": {
             "outlinewidth": 0,
             "ticks": ""
            },
            "colorscale": [
             [
              0,
              "#0d0887"
             ],
             [
              0.1111111111111111,
              "#46039f"
             ],
             [
              0.2222222222222222,
              "#7201a8"
             ],
             [
              0.3333333333333333,
              "#9c179e"
             ],
             [
              0.4444444444444444,
              "#bd3786"
             ],
             [
              0.5555555555555556,
              "#d8576b"
             ],
             [
              0.6666666666666666,
              "#ed7953"
             ],
             [
              0.7777777777777778,
              "#fb9f3a"
             ],
             [
              0.8888888888888888,
              "#fdca26"
             ],
             [
              1,
              "#f0f921"
             ]
            ],
            "type": "histogram2d"
           }
          ],
          "histogram2dcontour": [
           {
            "colorbar": {
             "outlinewidth": 0,
             "ticks": ""
            },
            "colorscale": [
             [
              0,
              "#0d0887"
             ],
             [
              0.1111111111111111,
              "#46039f"
             ],
             [
              0.2222222222222222,
              "#7201a8"
             ],
             [
              0.3333333333333333,
              "#9c179e"
             ],
             [
              0.4444444444444444,
              "#bd3786"
             ],
             [
              0.5555555555555556,
              "#d8576b"
             ],
             [
              0.6666666666666666,
              "#ed7953"
             ],
             [
              0.7777777777777778,
              "#fb9f3a"
             ],
             [
              0.8888888888888888,
              "#fdca26"
             ],
             [
              1,
              "#f0f921"
             ]
            ],
            "type": "histogram2dcontour"
           }
          ],
          "mesh3d": [
           {
            "colorbar": {
             "outlinewidth": 0,
             "ticks": ""
            },
            "type": "mesh3d"
           }
          ],
          "parcoords": [
           {
            "line": {
             "colorbar": {
              "outlinewidth": 0,
              "ticks": ""
             }
            },
            "type": "parcoords"
           }
          ],
          "pie": [
           {
            "automargin": true,
            "type": "pie"
           }
          ],
          "scatter": [
           {
            "marker": {
             "colorbar": {
              "outlinewidth": 0,
              "ticks": ""
             }
            },
            "type": "scatter"
           }
          ],
          "scatter3d": [
           {
            "line": {
             "colorbar": {
              "outlinewidth": 0,
              "ticks": ""
             }
            },
            "marker": {
             "colorbar": {
              "outlinewidth": 0,
              "ticks": ""
             }
            },
            "type": "scatter3d"
           }
          ],
          "scattercarpet": [
           {
            "marker": {
             "colorbar": {
              "outlinewidth": 0,
              "ticks": ""
             }
            },
            "type": "scattercarpet"
           }
          ],
          "scattergeo": [
           {
            "marker": {
             "colorbar": {
              "outlinewidth": 0,
              "ticks": ""
             }
            },
            "type": "scattergeo"
           }
          ],
          "scattergl": [
           {
            "marker": {
             "colorbar": {
              "outlinewidth": 0,
              "ticks": ""
             }
            },
            "type": "scattergl"
           }
          ],
          "scattermapbox": [
           {
            "marker": {
             "colorbar": {
              "outlinewidth": 0,
              "ticks": ""
             }
            },
            "type": "scattermapbox"
           }
          ],
          "scatterpolar": [
           {
            "marker": {
             "colorbar": {
              "outlinewidth": 0,
              "ticks": ""
             }
            },
            "type": "scatterpolar"
           }
          ],
          "scatterpolargl": [
           {
            "marker": {
             "colorbar": {
              "outlinewidth": 0,
              "ticks": ""
             }
            },
            "type": "scatterpolargl"
           }
          ],
          "scatterternary": [
           {
            "marker": {
             "colorbar": {
              "outlinewidth": 0,
              "ticks": ""
             }
            },
            "type": "scatterternary"
           }
          ],
          "surface": [
           {
            "colorbar": {
             "outlinewidth": 0,
             "ticks": ""
            },
            "colorscale": [
             [
              0,
              "#0d0887"
             ],
             [
              0.1111111111111111,
              "#46039f"
             ],
             [
              0.2222222222222222,
              "#7201a8"
             ],
             [
              0.3333333333333333,
              "#9c179e"
             ],
             [
              0.4444444444444444,
              "#bd3786"
             ],
             [
              0.5555555555555556,
              "#d8576b"
             ],
             [
              0.6666666666666666,
              "#ed7953"
             ],
             [
              0.7777777777777778,
              "#fb9f3a"
             ],
             [
              0.8888888888888888,
              "#fdca26"
             ],
             [
              1,
              "#f0f921"
             ]
            ],
            "type": "surface"
           }
          ],
          "table": [
           {
            "cells": {
             "fill": {
              "color": "#EBF0F8"
             },
             "line": {
              "color": "white"
             }
            },
            "header": {
             "fill": {
              "color": "#C8D4E3"
             },
             "line": {
              "color": "white"
             }
            },
            "type": "table"
           }
          ]
         },
         "layout": {
          "annotationdefaults": {
           "arrowcolor": "#2a3f5f",
           "arrowhead": 0,
           "arrowwidth": 1
          },
          "coloraxis": {
           "colorbar": {
            "outlinewidth": 0,
            "ticks": ""
           }
          },
          "colorscale": {
           "diverging": [
            [
             0,
             "#8e0152"
            ],
            [
             0.1,
             "#c51b7d"
            ],
            [
             0.2,
             "#de77ae"
            ],
            [
             0.3,
             "#f1b6da"
            ],
            [
             0.4,
             "#fde0ef"
            ],
            [
             0.5,
             "#f7f7f7"
            ],
            [
             0.6,
             "#e6f5d0"
            ],
            [
             0.7,
             "#b8e186"
            ],
            [
             0.8,
             "#7fbc41"
            ],
            [
             0.9,
             "#4d9221"
            ],
            [
             1,
             "#276419"
            ]
           ],
           "sequential": [
            [
             0,
             "#0d0887"
            ],
            [
             0.1111111111111111,
             "#46039f"
            ],
            [
             0.2222222222222222,
             "#7201a8"
            ],
            [
             0.3333333333333333,
             "#9c179e"
            ],
            [
             0.4444444444444444,
             "#bd3786"
            ],
            [
             0.5555555555555556,
             "#d8576b"
            ],
            [
             0.6666666666666666,
             "#ed7953"
            ],
            [
             0.7777777777777778,
             "#fb9f3a"
            ],
            [
             0.8888888888888888,
             "#fdca26"
            ],
            [
             1,
             "#f0f921"
            ]
           ],
           "sequentialminus": [
            [
             0,
             "#0d0887"
            ],
            [
             0.1111111111111111,
             "#46039f"
            ],
            [
             0.2222222222222222,
             "#7201a8"
            ],
            [
             0.3333333333333333,
             "#9c179e"
            ],
            [
             0.4444444444444444,
             "#bd3786"
            ],
            [
             0.5555555555555556,
             "#d8576b"
            ],
            [
             0.6666666666666666,
             "#ed7953"
            ],
            [
             0.7777777777777778,
             "#fb9f3a"
            ],
            [
             0.8888888888888888,
             "#fdca26"
            ],
            [
             1,
             "#f0f921"
            ]
           ]
          },
          "colorway": [
           "#636efa",
           "#EF553B",
           "#00cc96",
           "#ab63fa",
           "#FFA15A",
           "#19d3f3",
           "#FF6692",
           "#B6E880",
           "#FF97FF",
           "#FECB52"
          ],
          "font": {
           "color": "#2a3f5f"
          },
          "geo": {
           "bgcolor": "white",
           "lakecolor": "white",
           "landcolor": "#E5ECF6",
           "showlakes": true,
           "showland": true,
           "subunitcolor": "white"
          },
          "hoverlabel": {
           "align": "left"
          },
          "hovermode": "closest",
          "mapbox": {
           "style": "light"
          },
          "paper_bgcolor": "white",
          "plot_bgcolor": "#E5ECF6",
          "polar": {
           "angularaxis": {
            "gridcolor": "white",
            "linecolor": "white",
            "ticks": ""
           },
           "bgcolor": "#E5ECF6",
           "radialaxis": {
            "gridcolor": "white",
            "linecolor": "white",
            "ticks": ""
           }
          },
          "scene": {
           "xaxis": {
            "backgroundcolor": "#E5ECF6",
            "gridcolor": "white",
            "gridwidth": 2,
            "linecolor": "white",
            "showbackground": true,
            "ticks": "",
            "zerolinecolor": "white"
           },
           "yaxis": {
            "backgroundcolor": "#E5ECF6",
            "gridcolor": "white",
            "gridwidth": 2,
            "linecolor": "white",
            "showbackground": true,
            "ticks": "",
            "zerolinecolor": "white"
           },
           "zaxis": {
            "backgroundcolor": "#E5ECF6",
            "gridcolor": "white",
            "gridwidth": 2,
            "linecolor": "white",
            "showbackground": true,
            "ticks": "",
            "zerolinecolor": "white"
           }
          },
          "shapedefaults": {
           "line": {
            "color": "#2a3f5f"
           }
          },
          "ternary": {
           "aaxis": {
            "gridcolor": "white",
            "linecolor": "white",
            "ticks": ""
           },
           "baxis": {
            "gridcolor": "white",
            "linecolor": "white",
            "ticks": ""
           },
           "bgcolor": "#E5ECF6",
           "caxis": {
            "gridcolor": "white",
            "linecolor": "white",
            "ticks": ""
           }
          },
          "title": {
           "x": 0.05
          },
          "xaxis": {
           "automargin": true,
           "gridcolor": "white",
           "linecolor": "white",
           "ticks": "",
           "title": {
            "standoff": 15
           },
           "zerolinecolor": "white",
           "zerolinewidth": 2
          },
          "yaxis": {
           "automargin": true,
           "gridcolor": "white",
           "linecolor": "white",
           "ticks": "",
           "title": {
            "standoff": 15
           },
           "zerolinecolor": "white",
           "zerolinewidth": 2
          }
         }
        },
        "title": {
         "text": "Inpatient Spending % w.r.t State for USA"
        }
       }
      },
      "text/html": [
       "<div>\n",
       "        \n",
       "        \n",
       "            <div id=\"ae4bf091-b745-4e9f-9b37-4ffea0a18ff2\" class=\"plotly-graph-div\" style=\"height:525px; width:100%;\"></div>\n",
       "            <script type=\"text/javascript\">\n",
       "                require([\"plotly\"], function(Plotly) {\n",
       "                    window.PLOTLYENV=window.PLOTLYENV || {};\n",
       "                    \n",
       "                if (document.getElementById(\"ae4bf091-b745-4e9f-9b37-4ffea0a18ff2\")) {\n",
       "                    Plotly.newPlot(\n",
       "                        'ae4bf091-b745-4e9f-9b37-4ffea0a18ff2',\n",
       "                        [{\"type\": \"bar\", \"x\": [\"NV\", \"AR\", \"OR\", \"AZ\", \"MT\", \"LA\", \"NM\", \"WV\", \"OK\", \"WY\"], \"y\": [21.643333333333324, 21.60666666666665, 21.18666666666666, 21.183333333333287, 21.179999999999993, 21.17666666666667, 21.086666666666666, 20.966666666666633, 20.909999999999986, 20.893333333333334]}],\n",
       "                        {\"template\": {\"data\": {\"bar\": [{\"error_x\": {\"color\": \"#2a3f5f\"}, \"error_y\": {\"color\": \"#2a3f5f\"}, \"marker\": {\"line\": {\"color\": \"#E5ECF6\", \"width\": 0.5}}, \"type\": \"bar\"}], \"barpolar\": [{\"marker\": {\"line\": {\"color\": \"#E5ECF6\", \"width\": 0.5}}, \"type\": \"barpolar\"}], \"carpet\": [{\"aaxis\": {\"endlinecolor\": \"#2a3f5f\", \"gridcolor\": \"white\", \"linecolor\": \"white\", \"minorgridcolor\": \"white\", \"startlinecolor\": \"#2a3f5f\"}, \"baxis\": {\"endlinecolor\": \"#2a3f5f\", \"gridcolor\": \"white\", \"linecolor\": \"white\", \"minorgridcolor\": \"white\", \"startlinecolor\": \"#2a3f5f\"}, \"type\": \"carpet\"}], \"choropleth\": [{\"colorbar\": {\"outlinewidth\": 0, \"ticks\": \"\"}, \"type\": \"choropleth\"}], \"contour\": [{\"colorbar\": {\"outlinewidth\": 0, \"ticks\": \"\"}, \"colorscale\": [[0.0, \"#0d0887\"], [0.1111111111111111, \"#46039f\"], [0.2222222222222222, \"#7201a8\"], [0.3333333333333333, \"#9c179e\"], [0.4444444444444444, \"#bd3786\"], [0.5555555555555556, \"#d8576b\"], [0.6666666666666666, \"#ed7953\"], [0.7777777777777778, \"#fb9f3a\"], [0.8888888888888888, \"#fdca26\"], [1.0, \"#f0f921\"]], \"type\": \"contour\"}], \"contourcarpet\": [{\"colorbar\": {\"outlinewidth\": 0, \"ticks\": \"\"}, \"type\": \"contourcarpet\"}], \"heatmap\": [{\"colorbar\": {\"outlinewidth\": 0, \"ticks\": \"\"}, \"colorscale\": [[0.0, \"#0d0887\"], [0.1111111111111111, \"#46039f\"], [0.2222222222222222, \"#7201a8\"], [0.3333333333333333, \"#9c179e\"], [0.4444444444444444, \"#bd3786\"], [0.5555555555555556, \"#d8576b\"], [0.6666666666666666, \"#ed7953\"], [0.7777777777777778, \"#fb9f3a\"], [0.8888888888888888, \"#fdca26\"], [1.0, \"#f0f921\"]], \"type\": \"heatmap\"}], \"heatmapgl\": [{\"colorbar\": {\"outlinewidth\": 0, \"ticks\": \"\"}, \"colorscale\": [[0.0, \"#0d0887\"], [0.1111111111111111, \"#46039f\"], [0.2222222222222222, \"#7201a8\"], [0.3333333333333333, \"#9c179e\"], [0.4444444444444444, \"#bd3786\"], [0.5555555555555556, \"#d8576b\"], [0.6666666666666666, \"#ed7953\"], [0.7777777777777778, \"#fb9f3a\"], [0.8888888888888888, \"#fdca26\"], [1.0, \"#f0f921\"]], \"type\": \"heatmapgl\"}], \"histogram\": [{\"marker\": {\"colorbar\": {\"outlinewidth\": 0, \"ticks\": \"\"}}, \"type\": \"histogram\"}], \"histogram2d\": [{\"colorbar\": {\"outlinewidth\": 0, \"ticks\": \"\"}, \"colorscale\": [[0.0, \"#0d0887\"], [0.1111111111111111, \"#46039f\"], [0.2222222222222222, \"#7201a8\"], [0.3333333333333333, \"#9c179e\"], [0.4444444444444444, \"#bd3786\"], [0.5555555555555556, \"#d8576b\"], [0.6666666666666666, \"#ed7953\"], [0.7777777777777778, \"#fb9f3a\"], [0.8888888888888888, \"#fdca26\"], [1.0, \"#f0f921\"]], \"type\": \"histogram2d\"}], \"histogram2dcontour\": [{\"colorbar\": {\"outlinewidth\": 0, \"ticks\": \"\"}, \"colorscale\": [[0.0, \"#0d0887\"], [0.1111111111111111, \"#46039f\"], [0.2222222222222222, \"#7201a8\"], [0.3333333333333333, \"#9c179e\"], [0.4444444444444444, \"#bd3786\"], [0.5555555555555556, \"#d8576b\"], [0.6666666666666666, \"#ed7953\"], [0.7777777777777778, \"#fb9f3a\"], [0.8888888888888888, \"#fdca26\"], [1.0, \"#f0f921\"]], \"type\": \"histogram2dcontour\"}], \"mesh3d\": [{\"colorbar\": {\"outlinewidth\": 0, \"ticks\": \"\"}, \"type\": \"mesh3d\"}], \"parcoords\": [{\"line\": {\"colorbar\": {\"outlinewidth\": 0, \"ticks\": \"\"}}, \"type\": \"parcoords\"}], \"pie\": [{\"automargin\": true, \"type\": \"pie\"}], \"scatter\": [{\"marker\": {\"colorbar\": {\"outlinewidth\": 0, \"ticks\": \"\"}}, \"type\": \"scatter\"}], \"scatter3d\": [{\"line\": {\"colorbar\": {\"outlinewidth\": 0, \"ticks\": \"\"}}, \"marker\": {\"colorbar\": {\"outlinewidth\": 0, \"ticks\": \"\"}}, \"type\": \"scatter3d\"}], \"scattercarpet\": [{\"marker\": {\"colorbar\": {\"outlinewidth\": 0, \"ticks\": \"\"}}, \"type\": \"scattercarpet\"}], \"scattergeo\": [{\"marker\": {\"colorbar\": {\"outlinewidth\": 0, \"ticks\": \"\"}}, \"type\": \"scattergeo\"}], \"scattergl\": [{\"marker\": {\"colorbar\": {\"outlinewidth\": 0, \"ticks\": \"\"}}, \"type\": \"scattergl\"}], \"scattermapbox\": [{\"marker\": {\"colorbar\": {\"outlinewidth\": 0, \"ticks\": \"\"}}, \"type\": \"scattermapbox\"}], \"scatterpolar\": [{\"marker\": {\"colorbar\": {\"outlinewidth\": 0, \"ticks\": \"\"}}, \"type\": \"scatterpolar\"}], \"scatterpolargl\": [{\"marker\": {\"colorbar\": {\"outlinewidth\": 0, \"ticks\": \"\"}}, \"type\": \"scatterpolargl\"}], \"scatterternary\": [{\"marker\": {\"colorbar\": {\"outlinewidth\": 0, \"ticks\": \"\"}}, \"type\": \"scatterternary\"}], \"surface\": [{\"colorbar\": {\"outlinewidth\": 0, \"ticks\": \"\"}, \"colorscale\": [[0.0, \"#0d0887\"], [0.1111111111111111, \"#46039f\"], [0.2222222222222222, \"#7201a8\"], [0.3333333333333333, \"#9c179e\"], [0.4444444444444444, \"#bd3786\"], [0.5555555555555556, \"#d8576b\"], [0.6666666666666666, \"#ed7953\"], [0.7777777777777778, \"#fb9f3a\"], [0.8888888888888888, \"#fdca26\"], [1.0, \"#f0f921\"]], \"type\": \"surface\"}], \"table\": [{\"cells\": {\"fill\": {\"color\": \"#EBF0F8\"}, \"line\": {\"color\": \"white\"}}, \"header\": {\"fill\": {\"color\": \"#C8D4E3\"}, \"line\": {\"color\": \"white\"}}, \"type\": \"table\"}]}, \"layout\": {\"annotationdefaults\": {\"arrowcolor\": \"#2a3f5f\", \"arrowhead\": 0, \"arrowwidth\": 1}, \"coloraxis\": {\"colorbar\": {\"outlinewidth\": 0, \"ticks\": \"\"}}, \"colorscale\": {\"diverging\": [[0, \"#8e0152\"], [0.1, \"#c51b7d\"], [0.2, \"#de77ae\"], [0.3, \"#f1b6da\"], [0.4, \"#fde0ef\"], [0.5, \"#f7f7f7\"], [0.6, \"#e6f5d0\"], [0.7, \"#b8e186\"], [0.8, \"#7fbc41\"], [0.9, \"#4d9221\"], [1, \"#276419\"]], \"sequential\": [[0.0, \"#0d0887\"], [0.1111111111111111, \"#46039f\"], [0.2222222222222222, \"#7201a8\"], [0.3333333333333333, \"#9c179e\"], [0.4444444444444444, \"#bd3786\"], [0.5555555555555556, \"#d8576b\"], [0.6666666666666666, \"#ed7953\"], [0.7777777777777778, \"#fb9f3a\"], [0.8888888888888888, \"#fdca26\"], [1.0, \"#f0f921\"]], \"sequentialminus\": [[0.0, \"#0d0887\"], [0.1111111111111111, \"#46039f\"], [0.2222222222222222, \"#7201a8\"], [0.3333333333333333, \"#9c179e\"], [0.4444444444444444, \"#bd3786\"], [0.5555555555555556, \"#d8576b\"], [0.6666666666666666, \"#ed7953\"], [0.7777777777777778, \"#fb9f3a\"], [0.8888888888888888, \"#fdca26\"], [1.0, \"#f0f921\"]]}, \"colorway\": [\"#636efa\", \"#EF553B\", \"#00cc96\", \"#ab63fa\", \"#FFA15A\", \"#19d3f3\", \"#FF6692\", \"#B6E880\", \"#FF97FF\", \"#FECB52\"], \"font\": {\"color\": \"#2a3f5f\"}, \"geo\": {\"bgcolor\": \"white\", \"lakecolor\": \"white\", \"landcolor\": \"#E5ECF6\", \"showlakes\": true, \"showland\": true, \"subunitcolor\": \"white\"}, \"hoverlabel\": {\"align\": \"left\"}, \"hovermode\": \"closest\", \"mapbox\": {\"style\": \"light\"}, \"paper_bgcolor\": \"white\", \"plot_bgcolor\": \"#E5ECF6\", \"polar\": {\"angularaxis\": {\"gridcolor\": \"white\", \"linecolor\": \"white\", \"ticks\": \"\"}, \"bgcolor\": \"#E5ECF6\", \"radialaxis\": {\"gridcolor\": \"white\", \"linecolor\": \"white\", \"ticks\": \"\"}}, \"scene\": {\"xaxis\": {\"backgroundcolor\": \"#E5ECF6\", \"gridcolor\": \"white\", \"gridwidth\": 2, \"linecolor\": \"white\", \"showbackground\": true, \"ticks\": \"\", \"zerolinecolor\": \"white\"}, \"yaxis\": {\"backgroundcolor\": \"#E5ECF6\", \"gridcolor\": \"white\", \"gridwidth\": 2, \"linecolor\": \"white\", \"showbackground\": true, \"ticks\": \"\", \"zerolinecolor\": \"white\"}, \"zaxis\": {\"backgroundcolor\": \"#E5ECF6\", \"gridcolor\": \"white\", \"gridwidth\": 2, \"linecolor\": \"white\", \"showbackground\": true, \"ticks\": \"\", \"zerolinecolor\": \"white\"}}, \"shapedefaults\": {\"line\": {\"color\": \"#2a3f5f\"}}, \"ternary\": {\"aaxis\": {\"gridcolor\": \"white\", \"linecolor\": \"white\", \"ticks\": \"\"}, \"baxis\": {\"gridcolor\": \"white\", \"linecolor\": \"white\", \"ticks\": \"\"}, \"bgcolor\": \"#E5ECF6\", \"caxis\": {\"gridcolor\": \"white\", \"linecolor\": \"white\", \"ticks\": \"\"}}, \"title\": {\"x\": 0.05}, \"xaxis\": {\"automargin\": true, \"gridcolor\": \"white\", \"linecolor\": \"white\", \"ticks\": \"\", \"title\": {\"standoff\": 15}, \"zerolinecolor\": \"white\", \"zerolinewidth\": 2}, \"yaxis\": {\"automargin\": true, \"gridcolor\": \"white\", \"linecolor\": \"white\", \"ticks\": \"\", \"title\": {\"standoff\": 15}, \"zerolinecolor\": \"white\", \"zerolinewidth\": 2}}}, \"title\": {\"text\": \"Inpatient Spending % w.r.t State for USA\"}},\n",
       "                        {\"responsive\": true}\n",
       "                    ).then(function(){\n",
       "                            \n",
       "var gd = document.getElementById('ae4bf091-b745-4e9f-9b37-4ffea0a18ff2');\n",
       "var x = new MutationObserver(function (mutations, observer) {{\n",
       "        var display = window.getComputedStyle(gd).display;\n",
       "        if (!display || display === 'none') {{\n",
       "            console.log([gd, 'removed!']);\n",
       "            Plotly.purge(gd);\n",
       "            observer.disconnect();\n",
       "        }}\n",
       "}});\n",
       "\n",
       "// Listen for the removal of the full notebook cells\n",
       "var notebookContainer = gd.closest('#notebook-container');\n",
       "if (notebookContainer) {{\n",
       "    x.observe(notebookContainer, {childList: true});\n",
       "}}\n",
       "\n",
       "// Listen for the clearing of the current output cell\n",
       "var outputEl = gd.closest('.output');\n",
       "if (outputEl) {{\n",
       "    x.observe(outputEl, {childList: true});\n",
       "}}\n",
       "\n",
       "                        })\n",
       "                };\n",
       "                });\n",
       "            </script>\n",
       "        </div>"
      ]
     },
     "metadata": {},
     "output_type": "display_data"
    }
   ],
   "source": [
    "import plotly.graph_objects as go\n",
    "fig = go.Figure(\n",
    "    go.Bar(x = inpatient_cst_usa_top_ten['State'],\n",
    "        y = inpatient_cst_usa_top_ten['Percent of Spndg State'],\n",
    "        #marker_color='rgba(255, 255, 255, 0)'\n",
    "    )\n",
    "    )\n",
    "fig.update_layout(title_text='Inpatient Spending % w.r.t State for USA')\n",
    "fig.show()"
   ]
  },
  {
   "cell_type": "markdown",
   "metadata": {},
   "source": [
    "#### Percentage of spending is somewhat having a wider spread for Canada than compared to USA"
   ]
  }
 ],
 "metadata": {
  "kernelspec": {
   "display_name": "Python 3",
   "language": "python",
   "name": "python3"
  },
  "language_info": {
   "codemirror_mode": {
    "name": "ipython",
    "version": 3
   },
   "file_extension": ".py",
   "mimetype": "text/x-python",
   "name": "python",
   "nbconvert_exporter": "python",
   "pygments_lexer": "ipython3",
   "version": "3.7.1"
  }
 },
 "nbformat": 4,
 "nbformat_minor": 2
}
