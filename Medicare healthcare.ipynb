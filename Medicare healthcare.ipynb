{
 "cells": [
  {
   "cell_type": "markdown",
   "metadata": {},
   "source": [
    "### Medicare"
   ]
  },
  {
   "cell_type": "markdown",
   "metadata": {},
   "source": [
    "#### Medicare is the USA federal government program that provides health care coverage (health insurance) \n",
    "\n",
    "* If you are 65+ \n",
    "* Under 65 and receiving Social Security Disability Insurance (SSDI) for a certain amount of time\n",
    "* Under 65 and with End-Stage Renal Disease (ESRD)."
   ]
  },
  {
   "cell_type": "markdown",
   "metadata": {},
   "source": [
    "#### Who funds  Medicare ?\n",
    "* The US Hospital Insurance (HI) Trust Fund\n",
    "* Supplementary Medical Insurance (SMI) Trust Fund"
   ]
  },
  {
   "cell_type": "markdown",
   "metadata": {},
   "source": [
    "#### What does Medicare pay for?\n",
    "* Medicare Part A (Hospital Insurance)   benefits , \n",
    "    * like inpatient hospital care\n",
    "    * skilled nursing facility (snf) care \n",
    "    * home health care \n",
    "    * hospice care\n",
    "* Medicare Part B like benefits cover certain non-hospital medical expenses like doctors’ office visits,\n",
    "  * blood test\n",
    "  * X-rays\n",
    "  * diabetic screenings and supplies\n",
    "  * outpatient hospital care.\n",
    "* Medicare Part D for precription drugs"
   ]
  },
  {
   "cell_type": "markdown",
   "metadata": {},
   "source": [
    "#### Data Source\n",
    "* https://data.medicare.gov/"
   ]
  },
  {
   "cell_type": "markdown",
   "metadata": {},
   "source": [
    "#### Data"
   ]
  },
  {
   "cell_type": "code",
   "execution_count": 136,
   "metadata": {},
   "outputs": [],
   "source": [
    "import pandas as pd\n",
    "import matplotlib.pyplot as plt\n",
    "import seaborn as sns\n",
    "import numpy as np"
   ]
  },
  {
   "cell_type": "code",
   "execution_count": 30,
   "metadata": {},
   "outputs": [],
   "source": [
    "medicare = pd.read_csv('Medicare Hospital Spending by Claim.csv')"
   ]
  },
  {
   "cell_type": "code",
   "execution_count": 78,
   "metadata": {},
   "outputs": [
    {
     "data": {
      "text/html": [
       "<div>\n",
       "<style scoped>\n",
       "    .dataframe tbody tr th:only-of-type {\n",
       "        vertical-align: middle;\n",
       "    }\n",
       "\n",
       "    .dataframe tbody tr th {\n",
       "        vertical-align: top;\n",
       "    }\n",
       "\n",
       "    .dataframe thead th {\n",
       "        text-align: right;\n",
       "    }\n",
       "</style>\n",
       "<table border=\"1\" class=\"dataframe\">\n",
       "  <thead>\n",
       "    <tr style=\"text-align: right;\">\n",
       "      <th></th>\n",
       "      <th>Facility Name</th>\n",
       "      <th>Facility ID</th>\n",
       "      <th>State</th>\n",
       "      <th>Period</th>\n",
       "      <th>Claim Type</th>\n",
       "      <th>Avg Spndg Per EP Hospital</th>\n",
       "      <th>Avg Spndg Per EP State</th>\n",
       "      <th>Avg Spndg Per EP National</th>\n",
       "      <th>Percent of Spndg Hospital</th>\n",
       "      <th>Percent of Spndg State</th>\n",
       "      <th>Percent of Spndg National</th>\n",
       "      <th>Start Date</th>\n",
       "      <th>End Date</th>\n",
       "    </tr>\n",
       "  </thead>\n",
       "  <tbody>\n",
       "    <tr>\n",
       "      <th>0</th>\n",
       "      <td>SOUTHEAST ALABAMA MEDICAL CENTER</td>\n",
       "      <td>10001</td>\n",
       "      <td>AL</td>\n",
       "      <td>Prior Hospital Admission</td>\n",
       "      <td>Home Health Agency</td>\n",
       "      <td>21</td>\n",
       "      <td>16</td>\n",
       "      <td>13</td>\n",
       "      <td>0.09</td>\n",
       "      <td>0.08</td>\n",
       "      <td>0.06</td>\n",
       "      <td>01/01/2018</td>\n",
       "      <td>12/31/2018</td>\n",
       "    </tr>\n",
       "    <tr>\n",
       "      <th>1</th>\n",
       "      <td>SOUTHEAST ALABAMA MEDICAL CENTER</td>\n",
       "      <td>10001</td>\n",
       "      <td>AL</td>\n",
       "      <td>Prior Hospital Admission</td>\n",
       "      <td>Hospice</td>\n",
       "      <td>2</td>\n",
       "      <td>1</td>\n",
       "      <td>1</td>\n",
       "      <td>0.01</td>\n",
       "      <td>0.00</td>\n",
       "      <td>0.00</td>\n",
       "      <td>01/01/2018</td>\n",
       "      <td>12/31/2018</td>\n",
       "    </tr>\n",
       "    <tr>\n",
       "      <th>2</th>\n",
       "      <td>SOUTHEAST ALABAMA MEDICAL CENTER</td>\n",
       "      <td>10001</td>\n",
       "      <td>AL</td>\n",
       "      <td>Prior Hospital Admission</td>\n",
       "      <td>Inpatient</td>\n",
       "      <td>6</td>\n",
       "      <td>7</td>\n",
       "      <td>7</td>\n",
       "      <td>0.03</td>\n",
       "      <td>0.04</td>\n",
       "      <td>0.03</td>\n",
       "      <td>01/01/2018</td>\n",
       "      <td>12/31/2018</td>\n",
       "    </tr>\n",
       "    <tr>\n",
       "      <th>3</th>\n",
       "      <td>SOUTHEAST ALABAMA MEDICAL CENTER</td>\n",
       "      <td>10001</td>\n",
       "      <td>AL</td>\n",
       "      <td>Prior Hospital Admission</td>\n",
       "      <td>Outpatient</td>\n",
       "      <td>219</td>\n",
       "      <td>108</td>\n",
       "      <td>152</td>\n",
       "      <td>0.95</td>\n",
       "      <td>0.52</td>\n",
       "      <td>0.70</td>\n",
       "      <td>01/01/2018</td>\n",
       "      <td>12/31/2018</td>\n",
       "    </tr>\n",
       "    <tr>\n",
       "      <th>4</th>\n",
       "      <td>SOUTHEAST ALABAMA MEDICAL CENTER</td>\n",
       "      <td>10001</td>\n",
       "      <td>AL</td>\n",
       "      <td>Prior Hospital Admission</td>\n",
       "      <td>Skilled Nursing Facility</td>\n",
       "      <td>1</td>\n",
       "      <td>2</td>\n",
       "      <td>2</td>\n",
       "      <td>0.00</td>\n",
       "      <td>0.01</td>\n",
       "      <td>0.01</td>\n",
       "      <td>01/01/2018</td>\n",
       "      <td>12/31/2018</td>\n",
       "    </tr>\n",
       "  </tbody>\n",
       "</table>\n",
       "</div>"
      ],
      "text/plain": [
       "                      Facility Name  Facility ID State  \\\n",
       "0  SOUTHEAST ALABAMA MEDICAL CENTER        10001    AL   \n",
       "1  SOUTHEAST ALABAMA MEDICAL CENTER        10001    AL   \n",
       "2  SOUTHEAST ALABAMA MEDICAL CENTER        10001    AL   \n",
       "3  SOUTHEAST ALABAMA MEDICAL CENTER        10001    AL   \n",
       "4  SOUTHEAST ALABAMA MEDICAL CENTER        10001    AL   \n",
       "\n",
       "                     Period                Claim Type  \\\n",
       "0  Prior Hospital Admission        Home Health Agency   \n",
       "1  Prior Hospital Admission                   Hospice   \n",
       "2  Prior Hospital Admission                 Inpatient   \n",
       "3  Prior Hospital Admission                Outpatient   \n",
       "4  Prior Hospital Admission  Skilled Nursing Facility   \n",
       "\n",
       "   Avg Spndg Per EP Hospital  Avg Spndg Per EP State  \\\n",
       "0                         21                      16   \n",
       "1                          2                       1   \n",
       "2                          6                       7   \n",
       "3                        219                     108   \n",
       "4                          1                       2   \n",
       "\n",
       "   Avg Spndg Per EP National  Percent of Spndg Hospital  \\\n",
       "0                         13                       0.09   \n",
       "1                          1                       0.01   \n",
       "2                          7                       0.03   \n",
       "3                        152                       0.95   \n",
       "4                          2                       0.00   \n",
       "\n",
       "   Percent of Spndg State  Percent of Spndg National  Start Date    End Date  \n",
       "0                    0.08                       0.06  01/01/2018  12/31/2018  \n",
       "1                    0.00                       0.00  01/01/2018  12/31/2018  \n",
       "2                    0.04                       0.03  01/01/2018  12/31/2018  \n",
       "3                    0.52                       0.70  01/01/2018  12/31/2018  \n",
       "4                    0.01                       0.01  01/01/2018  12/31/2018  "
      ]
     },
     "execution_count": 78,
     "metadata": {},
     "output_type": "execute_result"
    }
   ],
   "source": [
    "medicare.head()"
   ]
  },
  {
   "cell_type": "markdown",
   "metadata": {},
   "source": [
    "#### Problem Statement Created by looking at the data\n",
    "* How much is spent over Inpatient and Outpatient services by the state , nation and hospital\n",
    "* Statewise spending done on Nursing facility\n",
    "* Analysis of spending done for medical facilities\n",
    "* For which period is the spending done more \n",
    "* Comparison of spending done for Inpatient VS Spending for Outpatient\n",
    "* Grouping the spending into buckets which will tell us which medical facility belongs to which bucket (need to look into it)\n",
    "\n",
    "These problem statements can help Medicare people to get an idea about how the spending is happening"
   ]
  },
  {
   "cell_type": "markdown",
   "metadata": {},
   "source": [
    "#### Data description"
   ]
  },
  {
   "cell_type": "code",
   "execution_count": 38,
   "metadata": {},
   "outputs": [
    {
     "name": "stdout",
     "output_type": "stream",
     "text": [
      "<class 'pandas.core.frame.DataFrame'>\n",
      "RangeIndex: 67826 entries, 0 to 67825\n",
      "Data columns (total 13 columns):\n",
      "Facility Name                67826 non-null object\n",
      "Facility ID                  67826 non-null int64\n",
      "State                        67826 non-null object\n",
      "Period                       67826 non-null object\n",
      "Claim Type                   67826 non-null object\n",
      "Avg Spndg Per EP Hospital    67826 non-null int64\n",
      "Avg Spndg Per EP State       67826 non-null int64\n",
      "Avg Spndg Per EP National    67826 non-null int64\n",
      "Percent of Spndg Hospital    67826 non-null float64\n",
      "Percent of Spndg State       67826 non-null float64\n",
      "Percent of Spndg National    67826 non-null float64\n",
      "Start Date                   67826 non-null object\n",
      "End Date                     67826 non-null object\n",
      "dtypes: float64(3), int64(4), object(6)\n",
      "memory usage: 6.7+ MB\n"
     ]
    }
   ],
   "source": [
    "medicare.info()"
   ]
  },
  {
   "cell_type": "code",
   "execution_count": 33,
   "metadata": {},
   "outputs": [
    {
     "data": {
      "text/html": [
       "<div>\n",
       "<style scoped>\n",
       "    .dataframe tbody tr th:only-of-type {\n",
       "        vertical-align: middle;\n",
       "    }\n",
       "\n",
       "    .dataframe tbody tr th {\n",
       "        vertical-align: top;\n",
       "    }\n",
       "\n",
       "    .dataframe thead th {\n",
       "        text-align: right;\n",
       "    }\n",
       "</style>\n",
       "<table border=\"1\" class=\"dataframe\">\n",
       "  <thead>\n",
       "    <tr style=\"text-align: right;\">\n",
       "      <th></th>\n",
       "      <th>Facility ID</th>\n",
       "      <th>Avg Spndg Per EP Hospital</th>\n",
       "      <th>Avg Spndg Per EP State</th>\n",
       "      <th>Avg Spndg Per EP National</th>\n",
       "    </tr>\n",
       "  </thead>\n",
       "  <tbody>\n",
       "    <tr>\n",
       "      <th>count</th>\n",
       "      <td>67826.000000</td>\n",
       "      <td>67826.000000</td>\n",
       "      <td>67826.000000</td>\n",
       "      <td>67826.000000</td>\n",
       "    </tr>\n",
       "    <tr>\n",
       "      <th>mean</th>\n",
       "      <td>260615.397665</td>\n",
       "      <td>1823.576682</td>\n",
       "      <td>1970.594448</td>\n",
       "      <td>1967.909091</td>\n",
       "    </tr>\n",
       "    <tr>\n",
       "      <th>std</th>\n",
       "      <td>161163.032969</td>\n",
       "      <td>4571.752066</td>\n",
       "      <td>4833.027866</td>\n",
       "      <td>4816.227247</td>\n",
       "    </tr>\n",
       "    <tr>\n",
       "      <th>min</th>\n",
       "      <td>10001.000000</td>\n",
       "      <td>0.000000</td>\n",
       "      <td>0.000000</td>\n",
       "      <td>0.000000</td>\n",
       "    </tr>\n",
       "    <tr>\n",
       "      <th>25%</th>\n",
       "      <td>110076.000000</td>\n",
       "      <td>0.000000</td>\n",
       "      <td>2.000000</td>\n",
       "      <td>2.000000</td>\n",
       "    </tr>\n",
       "    <tr>\n",
       "      <th>50%</th>\n",
       "      <td>250104.000000</td>\n",
       "      <td>68.000000</td>\n",
       "      <td>98.000000</td>\n",
       "      <td>119.000000</td>\n",
       "    </tr>\n",
       "    <tr>\n",
       "      <th>75%</th>\n",
       "      <td>390117.000000</td>\n",
       "      <td>1012.000000</td>\n",
       "      <td>1174.000000</td>\n",
       "      <td>1174.000000</td>\n",
       "    </tr>\n",
       "    <tr>\n",
       "      <th>max</th>\n",
       "      <td>670122.000000</td>\n",
       "      <td>41637.000000</td>\n",
       "      <td>23343.000000</td>\n",
       "      <td>21646.000000</td>\n",
       "    </tr>\n",
       "  </tbody>\n",
       "</table>\n",
       "</div>"
      ],
      "text/plain": [
       "         Facility ID  Avg Spndg Per EP Hospital  Avg Spndg Per EP State  \\\n",
       "count   67826.000000               67826.000000            67826.000000   \n",
       "mean   260615.397665                1823.576682             1970.594448   \n",
       "std    161163.032969                4571.752066             4833.027866   \n",
       "min     10001.000000                   0.000000                0.000000   \n",
       "25%    110076.000000                   0.000000                2.000000   \n",
       "50%    250104.000000                  68.000000               98.000000   \n",
       "75%    390117.000000                1012.000000             1174.000000   \n",
       "max    670122.000000               41637.000000            23343.000000   \n",
       "\n",
       "       Avg Spndg Per EP National  \n",
       "count               67826.000000  \n",
       "mean                 1967.909091  \n",
       "std                  4816.227247  \n",
       "min                     0.000000  \n",
       "25%                     2.000000  \n",
       "50%                   119.000000  \n",
       "75%                  1174.000000  \n",
       "max                 21646.000000  "
      ]
     },
     "execution_count": 33,
     "metadata": {},
     "output_type": "execute_result"
    }
   ],
   "source": [
    "medicare.describe()"
   ]
  },
  {
   "cell_type": "markdown",
   "metadata": {},
   "source": [
    "##### There are no null values"
   ]
  },
  {
   "cell_type": "markdown",
   "metadata": {},
   "source": [
    "#### What are the different claim periods  that we have in our data?"
   ]
  },
  {
   "cell_type": "code",
   "execution_count": 34,
   "metadata": {},
   "outputs": [
    {
     "data": {
      "text/plain": [
       "1 through 30 days After Discharge from Index Hospital Admission    21581\n",
       "During Index Hospital Admission                                    21581\n",
       "1 to 3 days Prior to Index Hospital Admission                      21581\n",
       "Complete Episode                                                    3083\n",
       "Name: Period, dtype: int64"
      ]
     },
     "execution_count": 34,
     "metadata": {},
     "output_type": "execute_result"
    }
   ],
   "source": [
    "medicare['Period'].value_counts()"
   ]
  },
  {
   "cell_type": "markdown",
   "metadata": {},
   "source": [
    "#### Let's give the claim periods some easy names"
   ]
  },
  {
   "cell_type": "code",
   "execution_count": 35,
   "metadata": {},
   "outputs": [],
   "source": [
    "def changing_period_names(previous_name):\n",
    "    if previous_name == '1 through 30 days After Discharge from Index Hospital Admission':\n",
    "        return 'After Discharge'\n",
    "    elif previous_name == 'During Index Hospital Admission':\n",
    "        return 'During Hospital Admission'\n",
    "    elif previous_name =='1 to 3 days Prior to Index Hospital Admission':\n",
    "        return 'Prior Hospital Admission'\n",
    "    elif previous_name == 'Complete Episode':\n",
    "        return 'Overall'\n",
    "    \n",
    "medicare['Period'] = medicare['Period'].map(changing_period_names)"
   ]
  },
  {
   "cell_type": "code",
   "execution_count": 8,
   "metadata": {},
   "outputs": [
    {
     "data": {
      "text/plain": [
       "Prior Hospital Admission     21581\n",
       "After Discharge              21581\n",
       "During Hospital Admission    21581\n",
       "Overall                       3083\n",
       "Name: Period, dtype: int64"
      ]
     },
     "execution_count": 8,
     "metadata": {},
     "output_type": "execute_result"
    }
   ],
   "source": [
    "medicare['Period'].value_counts()"
   ]
  },
  {
   "cell_type": "markdown",
   "metadata": {},
   "source": [
    "#### What kind of claims do we have for medicare?"
   ]
  },
  {
   "cell_type": "code",
   "execution_count": 9,
   "metadata": {},
   "outputs": [
    {
     "data": {
      "text/plain": [
       "Hospice                      9249\n",
       "Skilled Nursing Facility     9249\n",
       "Outpatient                   9249\n",
       "Durable Medical Equipment    9249\n",
       "Carrier                      9249\n",
       "Home Health Agency           9249\n",
       "Inpatient                    9249\n",
       "Total                        3083\n",
       "Name: Claim Type, dtype: int64"
      ]
     },
     "execution_count": 9,
     "metadata": {},
     "output_type": "execute_result"
    }
   ],
   "source": [
    "medicare['Claim Type'].value_counts()"
   ]
  },
  {
   "cell_type": "markdown",
   "metadata": {},
   "source": [
    "#### Excatly how many Facilty centers are we having in our data for medicare"
   ]
  },
  {
   "cell_type": "code",
   "execution_count": 10,
   "metadata": {},
   "outputs": [
    {
     "data": {
      "text/plain": [
       "3083"
      ]
     },
     "execution_count": 10,
     "metadata": {},
     "output_type": "execute_result"
    }
   ],
   "source": [
    "medicare['Facility ID'].nunique()"
   ]
  },
  {
   "cell_type": "markdown",
   "metadata": {},
   "source": [
    "#### Percent spnding hospital, Percent of Spndg State, Percent of Spndg National should be in a numerical format"
   ]
  },
  {
   "cell_type": "code",
   "execution_count": 36,
   "metadata": {},
   "outputs": [],
   "source": [
    "import re\n",
    "#Removing the % symbol\n",
    "medicare['Percent of Spndg Hospital'] = medicare['Percent of Spndg Hospital'].apply(lambda x: re.sub('%', '', x))\n",
    "medicare['Percent of Spndg State'] = medicare['Percent of Spndg State'].apply(lambda x: re.sub('%', '', x))\n",
    "medicare['Percent of Spndg National'] = medicare['Percent of Spndg National'].apply(lambda x: re.sub('%', '', x))"
   ]
  },
  {
   "cell_type": "code",
   "execution_count": 37,
   "metadata": {},
   "outputs": [],
   "source": [
    "#Converting into float\n",
    "medicare['Percent of Spndg Hospital'] = medicare['Percent of Spndg Hospital'].apply(lambda x: float(x))\n",
    "medicare['Percent of Spndg State'] = medicare['Percent of Spndg State'].apply(lambda x: float(x))\n",
    "medicare['Percent of Spndg National'] = medicare['Percent of Spndg National'].apply(lambda x: float(x))"
   ]
  },
  {
   "cell_type": "code",
   "execution_count": null,
   "metadata": {},
   "outputs": [],
   "source": [
    "south_alabama = medicare[(medicare['Facility Name'] == 'SOUTHEAST ALABAMA MEDICAL CENTER') &(medicare['Claim Type'] != 'Total')]"
   ]
  },
  {
   "cell_type": "markdown",
   "metadata": {},
   "source": [
    "#### State wise cost for Avg Spndg Per EP Hospital for all the claim types"
   ]
  },
  {
   "cell_type": "code",
   "execution_count": 87,
   "metadata": {},
   "outputs": [],
   "source": [
    "#Since we are looking for all claim types, the claim type will be total\n",
    "total = medicare[(medicare['Claim Type'] == 'Total')]"
   ]
  },
  {
   "cell_type": "code",
   "execution_count": 88,
   "metadata": {},
   "outputs": [],
   "source": [
    "#We are dropping the start date and end date as we dont need it.\n",
    "total.drop(columns = ['Start Date','End Date'], inplace = True)"
   ]
  },
  {
   "cell_type": "code",
   "execution_count": 152,
   "metadata": {},
   "outputs": [
    {
     "data": {
      "text/plain": [
       "50"
      ]
     },
     "execution_count": 152,
     "metadata": {},
     "output_type": "execute_result"
    }
   ],
   "source": [
    "#The total number of states that we have\n",
    "total['State'].nunique()"
   ]
  },
  {
   "cell_type": "code",
   "execution_count": 137,
   "metadata": {},
   "outputs": [],
   "source": [
    "All_States = total['State'].unique()"
   ]
  },
  {
   "cell_type": "code",
   "execution_count": 154,
   "metadata": {},
   "outputs": [
    {
     "name": "stdout",
     "output_type": "stream",
     "text": [
      "['AL' 'AK' 'AZ' 'AR' 'CA' 'CO' 'CT' 'DE' 'DC' 'FL' 'GA' 'HI' 'ID' 'IL'\n",
      " 'IN' 'IA' 'KS' 'KY' 'LA' 'ME' 'MA' 'MI' 'MN' 'MS' 'MO' 'MT' 'NE' 'NV'\n",
      " 'NH' 'NJ' 'NM' 'NY' 'NC' 'ND' 'OH' 'OK' 'OR' 'PA' 'RI' 'SC' 'SD' 'TN'\n",
      " 'TX' 'UT' 'VT' 'VA' 'WA' 'WV' 'WI' 'WY']\n"
     ]
    }
   ],
   "source": [
    "#These are all the states\n",
    "print(All_States)"
   ]
  },
  {
   "cell_type": "code",
   "execution_count": 323,
   "metadata": {},
   "outputs": [],
   "source": [
    "def data_avg_spend_hospital_statewise(df):\n",
    "    avg_per_hospital = [] #Captures sum of the avg spending for EACH state e.g for AL = 12000 for AK = 12333\n",
    "    \n",
    "    total_avg_spend_hospital = df.agg({'Avg Spndg Per EP Hospital':sum})#Captures sum of the avg spending for ALL state\n",
    "   \n",
    "    all_states = df['State'].unique()\n",
    "    \n",
    "    for i in all_states:\n",
    "        avg_per_hospital.append(df[(df['State'] == i)].agg({'Avg Spndg Per EP Hospital':sum})[0])\n",
    "    \n",
    "    new_dataframe = pd.DataFrame(list(zip(all_states, avg_per_hospital )),columns  = ['State','Spending'],index = [all_states])\n",
    "    return new_dataframe\n",
    "    "
   ]
  },
  {
   "cell_type": "code",
   "execution_count": 324,
   "metadata": {},
   "outputs": [],
   "source": [
    "Statewise_Hosital_spending = data_avg_spend_hospital_statewise(total)"
   ]
  },
  {
   "cell_type": "markdown",
   "metadata": {},
   "source": [
    "#### Lets see the top 10 states where hospital wise spending is more"
   ]
  },
  {
   "cell_type": "code",
   "execution_count": 335,
   "metadata": {},
   "outputs": [],
   "source": [
    "top_ten_spending = Statewise_Hosital_spending.Spending.sort_values(ascending=False)[:10]"
   ]
  },
  {
   "cell_type": "code",
   "execution_count": null,
   "metadata": {},
   "outputs": [],
   "source": []
  },
  {
   "cell_type": "code",
   "execution_count": null,
   "metadata": {},
   "outputs": [],
   "source": []
  },
  {
   "cell_type": "code",
   "execution_count": 320,
   "metadata": {},
   "outputs": [
    {
     "data": {
      "image/png": "[encoded data removed]",
      "text/plain": [
       "<Figure size 800x1100 with 1 Axes>"
      ]
     },
     "metadata": {},
     "output_type": "display_data"
    }
   ],
   "source": [
    "#Avg_Per_EP_Hospital_Spending.plot(kind='barh')\n",
    "ax = Avg_Per_EP_Hospital_Spending['Total'].plot(kind='bar',color ='#86bf91', figsize=(8, 11), zorder=2, width=0.95)\n",
    "ax.spines['right'].set_visible(False)\n",
    "ax.spines['top'].set_visible(False)\n",
    "ax.spines['left'].set_visible(False)\n",
    "ax.spines['bottom'].set_visible(False)"
   ]
  },
  {
   "cell_type": "code",
   "execution_count": null,
   "metadata": {},
   "outputs": [],
   "source": []
  },
  {
   "cell_type": "code",
   "execution_count": null,
   "metadata": {},
   "outputs": [],
   "source": []
  },
  {
   "cell_type": "code",
   "execution_count": null,
   "metadata": {},
   "outputs": [],
   "source": []
  },
  {
   "cell_type": "code",
   "execution_count": null,
   "metadata": {},
   "outputs": [],
   "source": []
  },
  {
   "cell_type": "code",
   "execution_count": null,
   "metadata": {},
   "outputs": [],
   "source": [
    "all"
   ]
  },
  {
   "cell_type": "code",
   "execution_count": null,
   "metadata": {},
   "outputs": [],
   "source": []
  },
  {
   "cell_type": "code",
   "execution_count": null,
   "metadata": {},
   "outputs": [],
   "source": []
  }
 ],
 "metadata": {
  "kernelspec": {
   "display_name": "Python 3",
   "language": "python",
   "name": "python3"
  },
  "language_info": {
   "codemirror_mode": {
    "name": "ipython",
    "version": 3
   },
   "file_extension": ".py",
   "mimetype": "text/x-python",
   "name": "python",
   "nbconvert_exporter": "python",
   "pygments_lexer": "ipython3",
   "version": "3.7.1"
  }
 },
 "nbformat": 4,
 "nbformat_minor": 2
}
